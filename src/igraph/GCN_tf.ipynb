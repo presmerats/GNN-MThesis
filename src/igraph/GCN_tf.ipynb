{
 "cells": [
  {
   "cell_type": "markdown",
   "metadata": {
    "colab_type": "text",
    "id": "_Tzjuqjp1Xtf"
   },
   "source": [
    "# **GCN Kipf Tf version**"
   ]
  },
  {
   "cell_type": "markdown",
   "metadata": {
    "colab_type": "text",
    "id": "pierhA4qRnRh"
   },
   "source": [
    "## Environment Setup"
   ]
  },
  {
   "cell_type": "code",
   "execution_count": 0,
   "metadata": {
    "colab": {},
    "colab_type": "code",
    "id": "GUm1dUBuoT-S"
   },
   "outputs": [],
   "source": [
    "# PENDING\n",
    "!sudo apt-get install libcairo2-dev"
   ]
  },
  {
   "cell_type": "markdown",
   "metadata": {
    "colab_type": "text",
    "id": "9_MN_gBvoRPe"
   },
   "source": [
    "**Cairo lib for plotting**"
   ]
  },
  {
   "cell_type": "code",
   "execution_count": 0,
   "metadata": {
    "colab": {},
    "colab_type": "code",
    "id": "keMnvuG2ggVh"
   },
   "outputs": [],
   "source": [
    "!sudo pip install cairocffi"
   ]
  },
  {
   "cell_type": "code",
   "execution_count": 0,
   "metadata": {
    "colab": {},
    "colab_type": "code",
    "id": "nfv_0GJAPrf5"
   },
   "outputs": [],
   "source": [
    "!pip install pycairo networkx\n",
    "#!pip install cairocffi networkx"
   ]
  },
  {
   "cell_type": "markdown",
   "metadata": {
    "colab_type": "text",
    "id": "YQ5SUX_mRcZe"
   },
   "source": [
    "**igraph for Python**"
   ]
  },
  {
   "cell_type": "code",
   "execution_count": 0,
   "metadata": {
    "colab": {},
    "colab_type": "code",
    "id": "IR3oRhSibY51"
   },
   "outputs": [],
   "source": [
    "!pip install python-igraph "
   ]
  },
  {
   "cell_type": "markdown",
   "metadata": {
    "colab_type": "text",
    "id": "mBtUfnrsRzVn"
   },
   "source": [
    "##  **Download code from github repo**"
   ]
  },
  {
   "cell_type": "code",
   "execution_count": 113,
   "metadata": {
    "colab": {
     "base_uri": "https://localhost:8080/",
     "height": 53
    },
    "colab_type": "code",
    "id": "F3Od-AwHlDC0",
    "outputId": "294ed352-278e-4a91-a8d2-c57436e7fa0c"
   },
   "outputs": [
    {
     "name": "stdout",
     "output_type": "stream",
     "text": [
      "rm: cannot remove './csn-project': No such file or directory\n",
      "rm: cannot remove './*.pyc': No such file or directory\n"
     ]
    }
   ],
   "source": [
    "!rm -r ./csn-project\n",
    "!rm ./*.py\n",
    "!rm ./*.pyc"
   ]
  },
  {
   "cell_type": "code",
   "execution_count": 114,
   "metadata": {
    "colab": {
     "base_uri": "https://localhost:8080/",
     "height": 413
    },
    "colab_type": "code",
    "id": "JV1s2XIZWQ1f",
    "outputId": "ca363490-38c7-4f4d-c559-901afe882ae9"
   },
   "outputs": [
    {
     "name": "stdout",
     "output_type": "stream",
     "text": [
      "Cloning into 'csn-project'...\n",
      "remote: Enumerating objects: 254, done.\u001b[K\n",
      "remote: Counting objects:   0% (1/254)   \u001b[K\r",
      "remote: Counting objects:   1% (3/254)   \u001b[K\r",
      "remote: Counting objects:   2% (6/254)   \u001b[K\r",
      "remote: Counting objects:   3% (8/254)   \u001b[K\r",
      "remote: Counting objects:   4% (11/254)   \u001b[K\r",
      "remote: Counting objects:   5% (13/254)   \u001b[K\r",
      "remote: Counting objects:   6% (16/254)   \u001b[K\r",
      "remote: Counting objects:   7% (18/254)   \u001b[K\r",
      "remote: Counting objects:   8% (21/254)   \u001b[K\r",
      "remote: Counting objects:   9% (23/254)   \u001b[K\r",
      "remote: Counting objects:  10% (26/254)   \u001b[K\r",
      "remote: Counting objects:  11% (28/254)   \u001b[K\r",
      "remote: Counting objects:  12% (31/254)   \u001b[K\r",
      "remote: Counting objects:  13% (34/254)   \u001b[K\r",
      "remote: Counting objects:  14% (36/254)   \u001b[K\r",
      "remote: Counting objects:  15% (39/254)   \u001b[K\r",
      "remote: Counting objects:  16% (41/254)   \u001b[K\r",
      "remote: Counting objects:  17% (44/254)   \u001b[K\r",
      "remote: Counting objects:  18% (46/254)   \u001b[K\r",
      "remote: Counting objects:  19% (49/254)   \u001b[K\r",
      "remote: Counting objects:  20% (51/254)   \u001b[K\r",
      "remote: Counting objects:  21% (54/254)   \u001b[K\r",
      "remote: Counting objects:  22% (56/254)   \r",
      "remote: Counting objects:  23% (59/254)   \u001b[K\r",
      "remote: Counting objects:  24% (61/254)   \u001b[K\r",
      "remote: Counting objects:  25% (64/254)   \u001b[K\r",
      "remote: Counting objects:  26% (67/254)   \u001b[K\r",
      "remote: Counting objects:  27% (69/254)   \u001b[K\r",
      "remote: Counting objects:  28% (72/254)   \u001b[K\r",
      "remote: Counting objects:  29% (74/254)   \u001b[K\r",
      "remote: Counting objects:  30% (77/254)   \u001b[K\r",
      "remote: Counting objects:  31% (79/254)   \u001b[K\r",
      "remote: Counting objects:  32% (82/254)   \u001b[K\r",
      "remote: Counting objects:  33% (84/254)   \u001b[K\r",
      "remote: Counting objects:  34% (87/254)   \u001b[K\r",
      "remote: Counting objects:  35% (89/254)   \u001b[K\r",
      "remote: Counting objects:  36% (92/254)   \u001b[K\r",
      "remote: Counting objects:  37% (94/254)   \u001b[K\r",
      "remote: Counting objects:  38% (97/254)   \u001b[K\r",
      "remote: Counting objects:  39% (100/254)   \u001b[K\r",
      "remote: Counting objects:  40% (102/254)   \u001b[K\r",
      "remote: Counting objects:  41% (105/254)   \u001b[K\r",
      "remote: Counting objects:  42% (107/254)   \u001b[K\r",
      "remote: Counting objects:  43% (110/254)   \u001b[K\r",
      "remote: Counting objects:  44% (112/254)   \u001b[K\r",
      "remote: Counting objects:  45% (115/254)   \u001b[K\r",
      "remote: Counting objects:  46% (117/254)   \u001b[K\r",
      "remote: Counting objects:  47% (120/254)   \u001b[K\r",
      "remote: Counting objects:  48% (122/254)   \u001b[K\r",
      "remote: Counting objects:  49% (125/254)   \u001b[K\r",
      "remote: Counting objects:  50% (127/254)   \u001b[K\r",
      "remote: Counting objects:  51% (130/254)   \u001b[K\r",
      "remote: Counting objects:  52% (133/254)   \u001b[K\r",
      "remote: Counting objects:  53% (135/254)   \u001b[K\r",
      "remote: Counting objects:  54% (138/254)   \u001b[K\r",
      "remote: Counting objects:  55% (140/254)   \u001b[K\r",
      "remote: Counting objects:  56% (143/254)   \u001b[K\r",
      "remote: Counting objects:  57% (145/254)   \u001b[K\r",
      "remote: Counting objects:  58% (148/254)   \u001b[K\r",
      "remote: Counting objects:  59% (150/254)   \u001b[K\r",
      "remote: Counting objects:  60% (153/254)   \r",
      "remote: Counting objects:  61% (155/254)   \u001b[K\r",
      "remote: Counting objects:  62% (158/254)   \u001b[K\r",
      "remote: Counting objects:  63% (161/254)   \u001b[K\r",
      "remote: Counting objects:  64% (163/254)   \u001b[K\r",
      "remote: Counting objects:  65% (166/254)   \u001b[K\r",
      "remote: Counting objects:  66% (168/254)   \u001b[K\r",
      "remote: Counting objects:  67% (171/254)   \u001b[K\r",
      "remote: Counting objects:  68% (173/254)   \u001b[K\r",
      "remote: Counting objects:  69% (176/254)   \u001b[K\r",
      "remote: Counting objects:  70% (178/254)   \u001b[K\r",
      "remote: Counting objects:  71% (181/254)   \u001b[K\r",
      "remote: Counting objects:  72% (183/254)   \u001b[K\r",
      "remote: Counting objects:  73% (186/254)   \u001b[K\r",
      "remote: Counting objects:  74% (188/254)   \u001b[K\r",
      "remote: Counting objects:  75% (191/254)   \u001b[K\r",
      "remote: Counting objects:  76% (194/254)   \u001b[K\r",
      "remote: Counting objects:  77% (196/254)   \u001b[K\r",
      "remote: Counting objects:  78% (199/254)   \u001b[K\r",
      "remote: Counting objects:  79% (201/254)   \u001b[K\r",
      "remote: Counting objects:  80% (204/254)   \u001b[K\r",
      "remote: Counting objects:  81% (206/254)   \u001b[K\r",
      "remote: Counting objects:  82% (209/254)   \u001b[K\r",
      "remote: Counting objects:  83% (211/254)   \u001b[K\r",
      "remote: Counting objects:  84% (214/254)   \u001b[K\r",
      "remote: Counting objects:  85% (216/254)   \u001b[K\r",
      "remote: Counting objects:  86% (219/254)   \u001b[K\r",
      "remote: Counting objects:  87% (221/254)   \u001b[K\r",
      "remote: Counting objects:  88% (224/254)   \u001b[K\r",
      "remote: Counting objects:  89% (227/254)   \u001b[K\r",
      "remote: Counting objects:  90% (229/254)   \u001b[K\r",
      "remote: Counting objects:  91% (232/254)   \u001b[K\r",
      "remote: Counting objects:  92% (234/254)   \u001b[K\r",
      "remote: Counting objects:  93% (237/254)   \u001b[K\r",
      "remote: Counting objects:  94% (239/254)   \u001b[K\r",
      "remote: Counting objects:  95% (242/254)   \u001b[K\r",
      "remote: Counting objects:  96% (244/254)   \u001b[K\r",
      "remote: Counting objects:  97% (247/254)   \u001b[K\r",
      "remote: Counting objects:  98% (249/254)   \u001b[K\r",
      "remote: Counting objects:  99% (252/254)   \u001b[K\r",
      "remote: Counting objects: 100% (254/254)   \u001b[K\r",
      "remote: Counting objects: 100% (254/254), done.\u001b[K\n",
      "remote: Compressing objects: 100% (175/175), done.\u001b[K\n",
      "remote: Total 254 (delta 83), reused 232 (delta 64), pack-reused 0\u001b[K\n",
      "Receiving objects: 100% (254/254), 7.26 MiB | 27.45 MiB/s, done.\n",
      "Resolving deltas: 100% (83/83), done.\n",
      "total 1964\n",
      "drwxr-xr-x 1 root root    4096 Jan 22 18:15  .\n",
      "drwxr-xr-x 1 root root    4096 Jan 22 16:51  ..\n",
      "drwxr-xr-x 1 root root    4096 Jan  8 17:14  .config\n",
      "drwxr-xr-x 5 root root    4096 Jan 22 18:15  csn-project\n",
      "drwxr-xr-x 2 root root    4096 Jan 22 18:11  data\n",
      "-rw-r--r-- 1 root root  201029 Jan 22 18:12  embedding\n",
      "-rw-r--r-- 1 root root   78532 Jan 22 18:12  embedding_labels\n",
      "-rw-r--r-- 1 root root   12448 Jan 22 18:11  index.html\n",
      "-rw-r--r-- 1 root root    9162 Jan 22 18:11  InputTest-py2.ipynb\n",
      "-rw-r--r-- 1 root root  249215 Jan 22 18:11  InputTest-Py3.ipynb\n",
      "-rw-r--r-- 1 root root  121663 Jan 22 18:11 'PageRank Embedding Experiment.ipynb'\n",
      "drwxr-xr-x 2 root root    4096 Jan 22 17:02  __pycache__\n",
      "drwxr-xr-x 1 root root    4096 Jan  8 17:15  sample_data\n",
      "-rw-r--r-- 1 root root 1293462 Jan 22 18:11 'Tf Tutorial Traffic Signs.ipynb'\n"
     ]
    }
   ],
   "source": [
    "#from getpass import getpass\n",
    "#import os\n",
    "\n",
    "#user = getpass('Github user')\n",
    "#password = getpass('Github password')\n",
    "#os.environ['GIT_AUTH'] = user + ':' + password\n",
    "#!git clone https://$GIT_AUTH@github.com/presmerats/csn-project.git\n",
    "!git clone https://github.com/presmerats/csn-project.git\n",
    "!ls -la"
   ]
  },
  {
   "cell_type": "code",
   "execution_count": 0,
   "metadata": {
    "colab": {},
    "colab_type": "code",
    "id": "-n9L0dufXINJ"
   },
   "outputs": [],
   "source": [
    "!cp -r ./csn-project/src/gcn/gcn_mod/gcn/* .\n"
   ]
  },
  {
   "cell_type": "code",
   "execution_count": 117,
   "metadata": {
    "colab": {
     "base_uri": "https://localhost:8080/",
     "height": 197
    },
    "colab_type": "code",
    "id": "sZopxMQCaWXd",
    "outputId": "e4d2eb15-4c00-4d96-d9fb-96a718bdcc8e"
   },
   "outputs": [
    {
     "name": "stdout",
     "output_type": "stream",
     "text": [
      " csn-project\t       layers.py\n",
      " data\t\t       metrics.py\n",
      " embedding\t       models.py\n",
      " embedding_labels     'PageRank Embedding Experiment.ipynb'\n",
      " gcn_tests_input.py    __pycache__\n",
      " index.html\t       sample_data\n",
      " __init__.py\t      'Tf Tutorial Traffic Signs.ipynb'\n",
      " inits.py\t       train.py\n",
      " InputTest-py2.ipynb   utils.py\n",
      " InputTest-Py3.ipynb   utils.pyc\n"
     ]
    }
   ],
   "source": [
    "!ls"
   ]
  },
  {
   "cell_type": "markdown",
   "metadata": {
    "colab_type": "text",
    "id": "hhU0xyw2bZyE"
   },
   "source": [
    "## Generating a graph and training a GCN"
   ]
  },
  {
   "cell_type": "markdown",
   "metadata": {
    "colab_type": "text",
    "id": "WK5MBIpkhH2-"
   },
   "source": [
    "### Prepare graph files functions"
   ]
  },
  {
   "cell_type": "code",
   "execution_count": 0,
   "metadata": {
    "colab": {},
    "colab_type": "code",
    "id": "p4iRXuqegLDW"
   },
   "outputs": [],
   "source": [
    "# local python tests\n",
    "from pprint import pprint\n",
    "from igraph import *\n",
    "import igraph.test\n",
    "import pickle\n",
    "import os\n",
    "import numpy as np\n",
    "from scipy.sparse import csr_matrix\n",
    "import collections\n",
    "import copy\n",
    "from random import randint\n",
    "\n",
    "\n",
    "def pickleToDisk(myobj, filepath):\n",
    "    pickle.dump(myobj, open(filepath, \"wb\"))\n",
    "\n",
    "\n",
    "def printGraphObject(filepath):\n",
    "\n",
    "\n",
    "    myobject = os.path.basename(filepath)\n",
    "    print(\"\\n\\n*************** \"+myobject+\" ********************\")\n",
    "    y = pickle.load(open(filepath,'rb'))\n",
    "    print(type(y))\n",
    "    if type(y) ==  type([]) or type(y) == type(np.ndarray([])):\n",
    "        \n",
    "        print(len(y))\n",
    "        pprint(y[:min(3,len(y)-1)])\n",
    "    elif type(y) == type({}) or type(y)==type(collections.defaultdict()):\n",
    "        pprint(y.keys()[:min(3,len(y)-1)])\n",
    "        pprint(y[y.keys()[0]])\n",
    "        pprint(y[y.keys()[1]])\n",
    "        pprint(y[y.keys()[20]])\n",
    "        pprint(y[y.keys()[3000]])\n",
    "\n",
    "    else:\n",
    "        \n",
    "        pprint(y.shape)\n",
    "        pprint(y[0,:min(3,y.shape[1]-1)].toarray())\n",
    "        pprint(y[0,0].shape)\n",
    "        pprint(type(y[0,0]))\n",
    "        pprint(y[0,0])\n",
    "\n",
    "def readListFile(filepath):\n",
    "    myobject = os.path.basename(filepath)\n",
    "    print(\"\\n\\n*************** \"+myobject+\" ********************\")\n",
    "    \n",
    "\n",
    "    testInstances =[]\n",
    "    with open(filepath, 'rb') as f:\n",
    "        for line in f.readlines():\n",
    "            testInstances.append(int(line))\n",
    "\n",
    "    pprint(testInstances[:min(3,len(testInstances)-1)])\n",
    "\n",
    "\n",
    "def inspectData():\n",
    "\n",
    "    printGraphObject('../gcn/gcn/gcn/data/ind.citeseer.y')\n",
    "    printGraphObject('../gcn/gcn/gcn/data/ind.citeseer.ty')\n",
    "    printGraphObject('../gcn/gcn/gcn/data/ind.citeseer.x')\n",
    "    printGraphObject('../gcn/gcn/gcn/data/ind.citeseer.tx')\n",
    "    printGraphObject('../gcn/gcn/gcn/data/ind.citeseer.graph')\n",
    "    readListFile('../gcn/gcn/gcn/data/ind.citeseer.test.index')\n",
    "    printGraphObject('../gcn/gcn/gcn/data/ind.citeseer.allx')\n",
    "    printGraphObject('../gcn/gcn/gcn/data/ind.citeseer.ally')\n",
    "\n",
    "\n",
    "def discretize(elements):\n",
    "    \"\"\" create a binary array for each of the 10 ranges of values between 0 and 1\"\"\"\n",
    "    orig = np.array(elements)\n",
    "    results = []\n",
    "    \n",
    "    themax = np.amax(orig)\n",
    "    themin = np.amin(orig)\n",
    "    step = (themax - themin )/ 40.0\n",
    "    \n",
    "    for i in range(10):\n",
    "        print(i) \n",
    "        if i<9:\n",
    "            print(orig)\n",
    "            print(themin + step*i)\n",
    "            print(themin + step*(i+1))\n",
    "            range1 = np.bitwise_and(orig >= themin + step*i , orig <= themin + step*(i+1))\n",
    "        else:\n",
    "            range1 = orig >= themin + step*i\n",
    "        print(range1)\n",
    "        results.append(range1) \n",
    "        \n",
    "    result = np.transpose(np.asarray(results))\n",
    "    print(result.shape)\n",
    "    pprint(result)\n",
    "    return result\n",
    "\n",
    "\n",
    "def generateData(suffix, n_node=1000, n_test=200, n_train=300 ):\n",
    "    \n",
    "    #igraph.test.run_tests()\n",
    "\n",
    "    # generation\n",
    "    #g = Graph.Tree(127, 2)\n",
    "    #g = Graph.GRG(100, 0.2)\n",
    "    #g = Graph.Erdos_Renyi(100, 0.2)\n",
    "    #g = Graph.Watts_Strogatz(1, 100, 4, 0.5 )\n",
    "    g = Graph.Barabasi(n_node)\n",
    "    summary(g)\n",
    "\n",
    "    # graph metrics\n",
    "    # pprint(g.degree([2,3,6,99]))\n",
    "    # pprint(g.edge_betweenness())\n",
    "    # pprint(g.pagerank())\n",
    "    #pprint(g.get_adjacency())\n",
    "    #pprint(dir(g))\n",
    "    \n",
    "\n",
    "\n",
    "    # test.index\n",
    "    testList = [] \n",
    "    with open(suffix+'.test.index','wb') as f:\n",
    "        while len(testList) < n_test:\n",
    "            j = randint(0, n_node-1)\n",
    "            #verify it is not alerady there\n",
    "            try:\n",
    "                pos = testList.index(j)\n",
    "            except:\n",
    "                testList.append(j)\n",
    "            f.write(str.encode(str(j)+\"\\n\"))\n",
    "\n",
    "\n",
    "    # adjacency dict (graph)\n",
    "    i = 0\n",
    "    A = g.get_adjlist()\n",
    "    graphAdj = {}\n",
    "    for node in A:\n",
    "        graphAdj[i] = node\n",
    "        i+=1\n",
    "    pickleToDisk(graphAdj, suffix+\".graph\")\n",
    "\n",
    "    \n",
    "    xFeatures = np.ones(n_node)\n",
    "    # allx is for labeled and unlabeled training samples\n",
    "    allx  = copy.deepcopy([xFeatures[i] for i in range(n_node) if i not in testList])\n",
    "    # x is for labeled training samples only\n",
    "    x = copy.deepcopy(allx[:-500])\n",
    "    #tx = copy.deepcopy(xFeatures[range(n_node-n_test, n_node)])\n",
    "    tx = [xFeatures[i] for i in testList]\n",
    "    \n",
    "\n",
    "    \n",
    "    allx = csr_matrix(allx)\n",
    "    allx = np.transpose(allx)\n",
    "    pickleToDisk(allx, suffix+\".allx\")\n",
    "    x = csr_matrix(x)\n",
    "    x = np.transpose(x)\n",
    "    pickleToDisk(x, suffix+\".x\")\n",
    "    tx = csr_matrix(tx)\n",
    "    tx = np.transpose(tx)\n",
    "    pickleToDisk(tx, suffix+\".tx\")\n",
    "\n",
    "    print(x.shape)\n",
    "    print(tx.shape)\n",
    "    print(allx.shape)\n",
    "    \n",
    "\n",
    "\n",
    "    # labels (ally,y , ty)\n",
    "    prs = discretize(g.pagerank())\n",
    "\n",
    "    \n",
    "\n",
    "    # labels of x, and empty labels of unlabeled training samples\n",
    "    prs_all = copy.deepcopy([prs[i] for i in range(n_node) if i not in testList])\n",
    "    # labels of the labeled training samples\n",
    "    prs_train = copy.deepcopy(prs_all[:-500])\n",
    "    prs_test = copy.deepcopy([prs[i] for i in testList])\n",
    "    #testList.extend(validationList)\n",
    "    #finalList = testList\n",
    "    #prs_train = [ prs[i] for i in range(prs.shape[0]) if i not in finalList ]\n",
    "\n",
    "    ally = np.array(prs_all)\n",
    "    y = np.array(prs_train)  \n",
    "    ty = np.array(prs_test)\n",
    "\n",
    "\n",
    "    pickleToDisk(ally, suffix+\".ally\")\n",
    "    pickleToDisk(y, suffix+\".y\")\n",
    "    pickleToDisk(ty, suffix+\".ty\")\n",
    "    \n",
    "    print(y.shape)\n",
    "    print(ty.shape)\n",
    "    print(ally.shape)\n",
    "    pprint(ally)\n",
    "    \n",
    "\n",
    "    # run training on those files"
   ]
  },
  {
   "cell_type": "code",
   "execution_count": 0,
   "metadata": {
    "colab": {},
    "colab_type": "code",
    "id": "hCVzfOvEgULO"
   },
   "outputs": [],
   "source": [
    "\n",
    "def plot2DEmbedding(filepath, labelspath):\n",
    "    import matplotlib.pyplot as plt\n",
    "    import matplotlib.patches as mpatches\n",
    "    import matplotlib.lines as mlines\n",
    "    import matplotlib.cm as cm\n",
    "    %matplotlib inline\n",
    "\n",
    "    # read embedding labels file\n",
    "    labels = np.zeros((1,1))\n",
    "    with open(labelspath,\"r\") as f:\n",
    "        size = len(f.readlines())\n",
    "        labels = np.zeros((size,1))\n",
    "\n",
    "    # read embedding file\n",
    "    with open(filepath,\"r\") as f:\n",
    "        size = len(f.readlines())\n",
    "\n",
    "        \n",
    "    # read embedding labels file\n",
    "    embeddings = {}\n",
    "    with open(labelspath,\"r\") as f:\n",
    "        i=0\n",
    "        for label in f.readlines():\n",
    "            #print(line)\n",
    "            vals = label.split()\n",
    "            label_int = 0\n",
    "            for j in range(len(vals)):\n",
    "                label_int += float(vals[j])*j\n",
    "            labels[i]=int(label_int)\n",
    "            i=i+1\n",
    "            \n",
    "        labels_list = [ lab[0] for lab in labels.tolist()]\n",
    "        for j in set(labels_list):\n",
    "            embeddings[j]=np.empty((0,2))\n",
    "            \n",
    "        with open(filepath,\"r\") as f2:\n",
    "            i = 0\n",
    "            for line in f2.readlines():\n",
    "                #print(line)\n",
    "                lineSplit = line.split()\n",
    "                d1 = lineSplit[0]\n",
    "                d2 = lineSplit[1]\n",
    "                key = int(labels_list[i])\n",
    "                embedding = embeddings[key]\n",
    "                \n",
    "                embeddings[key] = np.append(embedding, [[float(d1), float(d2)]], axis=0)\n",
    "                #embedding[i,0]=float(d1)\n",
    "                #embedding[i,1]=float(d2)\n",
    "                i=i+1\n",
    "        \n",
    "        # separate embedding by label\n",
    "        \n",
    "        plt.subplot(1, 2, 1)\n",
    "        color_labels = [int(k % 23) for k in set(labels_list) ]\n",
    "        colors = cm.rainbow(np.linspace(0, 1, len(color_labels)))\n",
    "        for colref,col in zip(colors, color_labels) :\n",
    "            #print(col)\n",
    "            #print([[col]*embeddings[col].shape[0]])\n",
    "            #print(embeddings[col].shape[0])\n",
    "            plt.scatter(embeddings[col][:,0], embeddings[col][:,1], c=[colref]*embeddings[col].shape[0], label=str(col))\n",
    "        #col=0\n",
    "        #plt.scatter(embeddings[col][:,0], embeddings[col][:,1], c=str(col), label=str(col))\n",
    "        plt.suptitle('Embedding')\n",
    "        plt.xlabel('dim 1')\n",
    "        plt.ylabel('dim 2')\n",
    "        plt.legend()\n",
    "        \n",
    "        \n",
    "        # histogram of labels\n",
    "        plt.subplot(1, 2, 2)\n",
    "        plt.hist(labels_list,bins=list(set(labels_list)), color='blue')\n",
    "        plt.xlabel('classes')\n",
    "        plt.ylabel('counts')\n",
    "        plt.subplots_adjust(wspace=0.5)\n",
    "        \n",
    "        plt.show()\n",
    "        \n",
    "   "
   ]
  },
  {
   "cell_type": "markdown",
   "metadata": {
    "colab_type": "text",
    "id": "7J4aH8gpxLsO"
   },
   "source": [
    "### Prepare graph files"
   ]
  },
  {
   "cell_type": "code",
   "execution_count": 119,
   "metadata": {
    "colab": {
     "base_uri": "https://localhost:8080/",
     "height": 1259
    },
    "colab_type": "code",
    "id": "Ownf-hMsgOch",
    "outputId": "ccd4575f-83df-46f8-d9e2-75972fca5232"
   },
   "outputs": [
    {
     "name": "stdout",
     "output_type": "stream",
     "text": [
      "IGRAPH U--- 4000 3999 -- \n",
      "(3200, 1)\n",
      "(300, 1)\n",
      "(3700, 1)\n",
      "0\n",
      "[0.01462406 0.00022912 0.00161926 ... 0.00012504 0.00015288 0.00012713]\n",
      "0.00012357224025180992\n",
      "0.00048608432193450837\n",
      "[False  True False ...  True  True  True]\n",
      "1\n",
      "[0.01462406 0.00022912 0.00161926 ... 0.00012504 0.00015288 0.00012713]\n",
      "0.00048608432193450837\n",
      "0.0008485964036172068\n",
      "[False False False ... False False False]\n",
      "2\n",
      "[0.01462406 0.00022912 0.00161926 ... 0.00012504 0.00015288 0.00012713]\n",
      "0.0008485964036172068\n",
      "0.001211108485299905\n",
      "[False False False ... False False False]\n",
      "3\n",
      "[0.01462406 0.00022912 0.00161926 ... 0.00012504 0.00015288 0.00012713]\n",
      "0.001211108485299905\n",
      "0.0015736205669826036\n",
      "[False False False ... False False False]\n",
      "4\n",
      "[0.01462406 0.00022912 0.00161926 ... 0.00012504 0.00015288 0.00012713]\n",
      "0.0015736205669826036\n",
      "0.0019361326486653022\n",
      "[False False  True ... False False False]\n",
      "5\n",
      "[0.01462406 0.00022912 0.00161926 ... 0.00012504 0.00015288 0.00012713]\n",
      "0.0019361326486653022\n",
      "0.0022986447303480003\n",
      "[False False False ... False False False]\n",
      "6\n",
      "[0.01462406 0.00022912 0.00161926 ... 0.00012504 0.00015288 0.00012713]\n",
      "0.0022986447303480003\n",
      "0.002661156812030699\n",
      "[False False False ... False False False]\n",
      "7\n",
      "[0.01462406 0.00022912 0.00161926 ... 0.00012504 0.00015288 0.00012713]\n",
      "0.002661156812030699\n",
      "0.0030236688937133973\n",
      "[False False False ... False False False]\n",
      "8\n",
      "[0.01462406 0.00022912 0.00161926 ... 0.00012504 0.00015288 0.00012713]\n",
      "0.0030236688937133973\n",
      "0.003386180975396096\n",
      "[False False False ... False False False]\n",
      "9\n",
      "[ True False False ... False False False]\n",
      "(4000, 10)\n",
      "array([[False, False, False, ..., False, False,  True],\n",
      "       [ True, False, False, ..., False, False, False],\n",
      "       [False, False, False, ..., False, False, False],\n",
      "       ...,\n",
      "       [ True, False, False, ..., False, False, False],\n",
      "       [ True, False, False, ..., False, False, False],\n",
      "       [ True, False, False, ..., False, False, False]])\n",
      "(3200, 10)\n",
      "(300, 10)\n",
      "(3700, 10)\n",
      "array([[False, False, False, ..., False, False,  True],\n",
      "       [ True, False, False, ..., False, False, False],\n",
      "       [False,  True, False, ..., False, False, False],\n",
      "       ...,\n",
      "       [ True, False, False, ..., False, False, False],\n",
      "       [ True, False, False, ..., False, False, False],\n",
      "       [ True, False, False, ..., False, False, False]])\n"
     ]
    }
   ],
   "source": [
    "generateData(suffix=\"ind.t3\",n_node=4000, n_train=700, n_test=300)\n",
    "!mv ind.* ./data/\n"
   ]
  },
  {
   "cell_type": "markdown",
   "metadata": {
    "colab_type": "text",
    "id": "RGoAq3d5hUEi"
   },
   "source": [
    "### Training GCN on this graph"
   ]
  },
  {
   "cell_type": "markdown",
   "metadata": {
    "colab_type": "text",
    "id": "AedfLAl6se4W"
   },
   "source": [
    "### train.py code with modifications\n",
    "Output:\n",
    "* model. output from test\n",
    "* model. output from training\n",
    "* model.embedding from test (modification of the gcn)\n",
    "* model.embedding from training (modification of the gcn)\n"
   ]
  },
  {
   "cell_type": "code",
   "execution_count": 0,
   "metadata": {
    "colab": {},
    "colab_type": "code",
    "id": "JM1WAg3Im1pK"
   },
   "outputs": [],
   "source": [
    "from __future__ import division\n",
    "from __future__ import print_function\n",
    "\n",
    "import time\n",
    "import tensorflow as tf\n",
    "\n",
    "from utils import *\n",
    "from models import GCN, GCN2,  MLP\n",
    "\n",
    "from pprint import pprint \n",
    "    \n",
    "def mytrain(mydataset, printEmbedding):\n",
    "    \n",
    "\n",
    "\n",
    "    def del_all_flags(FLAGS):\n",
    "        flags_dict = FLAGS._flags()    \n",
    "        keys_list = [keys for keys in flags_dict]    \n",
    "        for keys in keys_list:\n",
    "            FLAGS.__delattr__(keys)\n",
    "\n",
    "    del_all_flags(tf.flags.FLAGS)\n",
    "\n",
    "\n",
    "    # Set random seed\n",
    "    seed = 123\n",
    "    np.random.seed(seed)\n",
    "    tf.set_random_seed(seed)\n",
    "\n",
    "    # Settings\n",
    "    flags = tf.app.flags\n",
    "    FLAGS = flags.FLAGS\n",
    "    flags.DEFINE_string('dataset', mydataset, 'Dataset string.')  # 'cora', 'citeseer', 'pubmed'\n",
    "    flags.DEFINE_string('model', 'gcn2', 'Model string.')  # 'gcn', 'gcn_cheby', 'dense'\n",
    "    flags.DEFINE_float('learning_rate', 0.01, 'Initial learning rate.')\n",
    "    flags.DEFINE_integer('epochs', 200, 'Number of epochs to train.')\n",
    "    flags.DEFINE_integer('hidden1', 16, 'Number of units in hidden layer 1.')\n",
    "    flags.DEFINE_float('dropout', 0.5, 'Dropout rate (1 - keep probability).')\n",
    "    flags.DEFINE_float('weight_decay', 5e-4, 'Weight for L2 loss on embedding matrix.')\n",
    "    flags.DEFINE_integer('early_stopping', 10, 'Tolerance for early stopping (# of epochs).')\n",
    "    flags.DEFINE_integer('max_degree', 3, 'Maximum Chebyshev polynomial degree.')\n",
    "    tf.app.flags.DEFINE_string('f', '', 'kernel')\n",
    "\n",
    "    #dataset =  mydataset\n",
    "    #model = 'gcn2'  # 'gcn', 'gcn_cheby', 'dense'\n",
    "    #learning_rate =  0.01\n",
    "    #epochs =  200\n",
    "    #hidden1 = 16\n",
    "    #dropout = 0.5\n",
    "    #weight_decay =  5e-4\n",
    "    #early_stopping =  10\n",
    "    #max_degree =  3\n",
    "\n",
    "    # Load data\n",
    "    adj, features, y_train, y_val, y_test, train_mask, val_mask, test_mask = load_data(mydataset)\n",
    "\n",
    "    # Some preprocessing\n",
    "    features = preprocess_features(features)\n",
    "    \"\"\"Row-normalize feature matrix and convert to tuple representation\"\"\"\n",
    "    \n",
    "    if FLAGS.model == 'gcn':\n",
    "        support = [preprocess_adj(adj)]\n",
    "        num_supports = 1\n",
    "        model_func = GCN\n",
    "    elif FLAGS.model == 'gcn2':\n",
    "        support = [preprocess_adj(adj)]\n",
    "        num_supports = 1\n",
    "        model_func = GCN2\n",
    "    elif FLAGS.model == 'gcn_cheby':\n",
    "        support = chebyshev_polynomials(adj, FLAGS.max_degree)\n",
    "        num_supports = 1 + FLAGS.max_degree\n",
    "        model_func = GCN\n",
    "    elif FLAGS.model == 'dense':\n",
    "        support = [preprocess_adj(adj)]  # Not used\n",
    "        num_supports = 1\n",
    "        model_func = MLP\n",
    "    else:\n",
    "        raise ValueError('Invalid argument for model: ' + str(FLAGS.model))\n",
    "\n",
    "    # Define placeholders\n",
    "    placeholders = {\n",
    "        'support': [tf.sparse_placeholder(tf.float32) for _ in range(num_supports)],\n",
    "        'features': tf.sparse_placeholder(tf.float32, shape=tf.constant(features[2], dtype=tf.int64)),\n",
    "        'labels': tf.placeholder(tf.float32, shape=(None, y_train.shape[1])),\n",
    "        'labels_mask': tf.placeholder(tf.int32),\n",
    "        'dropout': tf.placeholder_with_default(0., shape=()),\n",
    "        'num_features_nonzero': tf.placeholder(tf.int32)  # helper variable for sparse dropout\n",
    "    }\n",
    "\n",
    "    # Create model\n",
    "    model = model_func(placeholders, input_dim=features[2][1], logging=True)\n",
    "\n",
    "\n",
    "    # Initialize session\n",
    "    sess = tf.Session()\n",
    "\n",
    "    # result variables\n",
    "    global result_embedding\n",
    "\n",
    "    # Define model evaluation function\n",
    "    def evaluate(features, support, labels, mask, placeholders):\n",
    "        t_test = time.time()\n",
    "        feed_dict_val = construct_feed_dict(features, support, labels, mask, placeholders)\n",
    "        outs_val = sess.run([model.loss, model.accuracy, model.outputs, model.embedding, model.vars], feed_dict=feed_dict_val)\n",
    "\n",
    "        global result_embedding\n",
    "        if printEmbedding == \"result_test\":\n",
    "          result_embedding = outs_val[2]\n",
    "          #print(outs_val[4])\n",
    "        elif printEmbedding == \"modification_test\":\n",
    "          result_embedding = outs_val[3]\n",
    "\n",
    "        return outs_val[0], outs_val[1], (time.time() - t_test)\n",
    "\n",
    "\n",
    "    # Init variables\n",
    "    sess.run(tf.global_variables_initializer())\n",
    "\n",
    "    cost_val = []\n",
    "\n",
    "    # Train model\n",
    "    for epoch in range(FLAGS.epochs):\n",
    "        t = time.time()\n",
    "        # Construct feed dictionary\n",
    "        feed_dict = construct_feed_dict(features, support, y_train, train_mask, placeholders)\n",
    "        feed_dict.update({placeholders['dropout']: FLAGS.dropout})\n",
    "\n",
    "        #print(feed_dict)\n",
    "        # Training step\n",
    "        outs = sess.run([model.opt_op, model.loss, model.accuracy, model.outputs, model.embedding], feed_dict=feed_dict)\n",
    "\n",
    "        if printEmbedding == \"result_train\":\n",
    "          result_embedding = outs[3]\n",
    "        elif printEmbedding == \"modification_train\":\n",
    "          result_embedding = outs[4]\n",
    "\n",
    "        # Validation\n",
    "        cost, acc, duration = evaluate(features, support, y_val, val_mask, placeholders)\n",
    "        cost_val.append(cost)\n",
    "\n",
    "        # Print results\n",
    "        if epoch % 50 == 0:\n",
    "            print(\"Epoch:\", '%04d' % (epoch + 1), \"train_loss=\", \"{:.5f}\".format(outs[1]),\n",
    "              \"train_acc=\", \"{:.5f}\".format(outs[2]), \"val_loss=\", \"{:.5f}\".format(cost),\n",
    "              \"val_acc=\", \"{:.5f}\".format(acc), \"time=\", \"{:.5f}\".format(time.time() - t))\n",
    "\n",
    "        if epoch > FLAGS.early_stopping and cost_val[-1] > np.mean(cost_val[-(FLAGS.early_stopping+1):-1]):\n",
    "            print(\"Early stopping...\")\n",
    "            break\n",
    "\n",
    "    print(\"Optimization Finished!\")\n",
    "\n",
    "    # Testing\n",
    "    test_cost, test_acc, test_duration = evaluate(features, support, y_test, test_mask, placeholders)\n",
    "    print(\"Test set results:\", \"cost=\", \"{:.5f}\".format(test_cost),\n",
    "          \"accuracy=\", \"{:.5f}\".format(test_acc), \"time=\", \"{:.5f}\".format(test_duration))\n",
    "\n",
    "\n",
    "\n",
    "    def writeEmbeddingToDisk(result_embedding, labels, mask):\n",
    "        #pprint(result_embedding)\n",
    "\n",
    "        with open(\"embedding\",\"w\") as f:\n",
    "            count = 0\n",
    "            for elem in result_embedding:\n",
    "\n",
    "                for e in elem:\n",
    "                    f.write(str(e))\n",
    "                    f.write(\" \")\n",
    "\n",
    "                f.write(\"\\n\")\n",
    "                count += 1\n",
    "            \n",
    "        with open(\"embedding_labels\",\"w\") as f:\n",
    "            for elem in labels:\n",
    "\n",
    "                for e in elem:\n",
    "                    f.write(str(e))\n",
    "                    f.write(\" \")\n",
    "\n",
    "                f.write(\"\\n\")\n",
    "\n",
    "    writeEmbeddingToDisk(result_embedding, y_test, test_mask)"
   ]
  },
  {
   "cell_type": "markdown",
   "metadata": {
    "colab_type": "text",
    "id": "n_aAcXFgsxB7"
   },
   "source": [
    "### train.py results"
   ]
  },
  {
   "cell_type": "markdown",
   "metadata": {
    "colab_type": "text",
    "id": "v4VxfIl4z9uq"
   },
   "source": [
    "#### Experiment: output embedding  \n",
    "\n",
    "The GCN network has a last layer with as mani units as labels/classes the target can have. This outputs are used in the softmax computation to decide the class. We extract those values before the softmax computation. Basically, this is the embedding that the GCN is computing. This embedding is optimized to have as many dimensions as classes the target can have.\n",
    "\n",
    "We show the resulting embedding with the values extracted from the training and later from the testing dataset."
   ]
  },
  {
   "cell_type": "code",
   "execution_count": 131,
   "metadata": {
    "colab": {
     "base_uri": "https://localhost:8080/",
     "height": 704
    },
    "colab_type": "code",
    "id": "Cmnp1XURgdxT",
    "outputId": "df955b09-1cec-405a-c6cb-0b33c09d6e96"
   },
   "outputs": [
    {
     "name": "stdout",
     "output_type": "stream",
     "text": [
      "\n",
      "len(y): 140\n",
      "labels shape:\n",
      "(2708, 7)\n",
      "len(idx_train) 140\n",
      "len(idx_val) 500\n",
      "len(idx_test) 1000\n",
      "Epoch: 0001 train_loss= 1.95422 train_acc= 0.14286 val_loss= 1.95024 val_acc= 0.19800 time= 0.25402\n",
      "Epoch: 0051 train_loss= 1.26457 train_acc= 0.40714 val_loss= 1.43454 val_acc= 0.47400 time= 0.02617\n",
      "Early stopping...\n",
      "Optimization Finished!\n",
      "Test set results: cost= 1.09309 accuracy= 0.68700 time= 0.03026\n"
     ]
    },
    {
     "data": {
      "image/png": "[encoded data removed]",
      "text/plain": [
       "<Figure size 432x288 with 2 Axes>"
      ]
     },
     "metadata": {
      "tags": []
     },
     "output_type": "display_data"
    },
    {
     "name": "stdout",
     "output_type": "stream",
     "text": [
      "-3.921404 2.3059585 3.4431725 5.406965 -0.62931156 -5.0656075 -2.363378 \n",
      "1.1714827 -5.2578306 -5.4527335 -2.3398986 5.7612514 3.4511454 6.398634 \n",
      "-1.0277705 -1.6135563 -1.2451955 1.0653692 2.5405173 -0.38695967 2.1439664 \n",
      "4.519724 -6.9653444 -8.139528 -6.9151096 5.979723 7.665482 8.090888 \n",
      "-2.0058486 1.0540334 1.6397109 2.7458293 -0.16882175 -2.537897 -1.052541 \n",
      "0.4160614 3.2890835 3.0564098 -0.013240337 -4.2437305 -0.96131766 -4.1520514 \n",
      "2.5661247 1.1290311 0.30122852 -3.1198783 -2.806077 2.1960049 -1.7402307 \n",
      "-4.36191 6.151705 7.3029723 6.583188 -5.075111 -7.1558886 -7.09766 \n",
      "-5.7234206 -0.04607743 1.721871 7.3505635 3.2431283 -5.9464083 0.80131763 \n",
      "-1.4119813 3.8682127 4.181392 2.4286885 -3.9322658 -3.112452 -4.6360054 \n"
     ]
    }
   ],
   "source": [
    "mydataset=\"cora\"\n",
    "printEmbedding = \"result_train\" # \"result_train\" \"result_test\" \"modification_train\" \" modification_test\"\n",
    "mytrain(mydataset, printEmbedding)\n",
    "plot2DEmbedding(\"embedding\",\"embedding_labels\")\n",
    "!head ./embedding"
   ]
  },
  {
   "cell_type": "code",
   "execution_count": 130,
   "metadata": {
    "colab": {
     "base_uri": "https://localhost:8080/",
     "height": 704
    },
    "colab_type": "code",
    "id": "GVEoug50vFwZ",
    "outputId": "61472c64-288c-4e30-ee38-b1581e314562"
   },
   "outputs": [
    {
     "name": "stdout",
     "output_type": "stream",
     "text": [
      "\n",
      "len(y): 140\n",
      "labels shape:\n",
      "(2708, 7)\n",
      "len(idx_train) 140\n",
      "len(idx_val) 500\n",
      "len(idx_test) 1000\n",
      "Epoch: 0001 train_loss= 1.95370 train_acc= 0.12143 val_loss= 1.95064 val_acc= 0.22000 time= 0.24185\n",
      "Epoch: 0051 train_loss= 1.15721 train_acc= 0.56429 val_loss= 1.32579 val_acc= 0.47400 time= 0.03019\n",
      "Early stopping...\n",
      "Optimization Finished!\n",
      "Test set results: cost= 1.28859 accuracy= 0.52400 time= 0.02323\n"
     ]
    },
    {
     "data": {
      "image/png": "[encoded data removed]",
      "text/plain": [
       "<Figure size 432x288 with 2 Axes>"
      ]
     },
     "metadata": {
      "tags": []
     },
     "output_type": "display_data"
    },
    {
     "name": "stdout",
     "output_type": "stream",
     "text": [
      "0.2168192 2.577123 0.63610595 2.2211442 -1.8616164 -2.1298335 -1.3539732 \n",
      "3.1051836 -6.1332207 -4.7139874 -5.053936 5.272733 4.105011 1.2184668 \n",
      "2.0678995 -3.4101143 -2.9227104 -2.7881427 3.0110893 2.1915588 0.4885621 \n",
      "5.366349 -0.79077244 -4.9963627 -0.33332035 1.8349693 -0.79234487 -2.5908742 \n",
      "-0.9615947 1.9463977 1.4749264 1.6054116 -1.6677725 -1.3090849 -0.39987946 \n",
      "-3.9888396 1.1711987 3.9012055 0.7474389 -1.7967964 0.11986272 1.6464587 \n",
      "3.528521 -0.71929514 -3.3492682 -0.3898981 1.3544395 -0.36070892 -1.6081208 \n",
      "0.44081843 2.7703004 0.5001963 2.4009535 -1.9528364 -2.344771 -1.5704235 \n",
      "-0.01516239 2.3989887 0.7839014 2.0537074 -1.7834141 -1.9248668 -1.1403086 \n",
      "-5.700713 0.91254514 5.3309593 0.41618484 -2.0030928 0.78341913 2.7175891 \n"
     ]
    }
   ],
   "source": [
    "mydataset=\"cora\"\n",
    "printEmbedding = \"result_test\" # \"result_train\" \"result_test\" \"modification_train\" \" modification_test\"\n",
    "mytrain(mydataset, printEmbedding)\n",
    "plot2DEmbedding(\"embedding\",\"embedding_labels\")\n",
    "!head ./embedding"
   ]
  },
  {
   "cell_type": "markdown",
   "metadata": {
    "colab_type": "text",
    "id": "DDTv9Xrhz5LK"
   },
   "source": [
    "#### Experiment: 2 unit layer embedding  \n",
    "\n",
    "We add a 2 unit layer after the first 2 GCN layers, and a  in order to have a 2 dimension embedding. We add after that 2d embedding layer, a 6 unit output layer  as it will be necessary for the training to used the 6 possible target labels. In summary, the GCN has been augmented with a 2 unit layer and a 6 unit layer, the training is based on the output of the last 6 units layer but we extract also the values of the 2 unit layer in order to see a 2 dimension embedding trained with the data.\n",
    "\n",
    "We show the result of the embedding with the training data and later with the testing data."
   ]
  },
  {
   "cell_type": "code",
   "execution_count": 132,
   "metadata": {
    "colab": {
     "base_uri": "https://localhost:8080/",
     "height": 704
    },
    "colab_type": "code",
    "id": "sBscTELQvJKm",
    "outputId": "164ccd06-51f6-47ed-851e-bc3006fe5b2a"
   },
   "outputs": [
    {
     "name": "stdout",
     "output_type": "stream",
     "text": [
      "\n",
      "len(y): 140\n",
      "labels shape:\n",
      "(2708, 7)\n",
      "len(idx_train) 140\n",
      "len(idx_val) 500\n",
      "len(idx_test) 1000\n",
      "Epoch: 0001 train_loss= 1.95396 train_acc= 0.15000 val_loss= 1.95092 val_acc= 0.23600 time= 0.24009\n",
      "Epoch: 0051 train_loss= 1.35504 train_acc= 0.37143 val_loss= 1.51659 val_acc= 0.44000 time= 0.03652\n",
      "Early stopping...\n",
      "Optimization Finished!\n",
      "Test set results: cost= 1.32138 accuracy= 0.59500 time= 0.01995\n"
     ]
    },
    {
     "data": {
      "image/png": "[encoded data removed]",
      "text/plain": [
       "<Figure size 432x288 with 2 Axes>"
      ]
     },
     "metadata": {
      "tags": []
     },
     "output_type": "display_data"
    },
    {
     "name": "stdout",
     "output_type": "stream",
     "text": [
      "0.107231006 -2.60083 \n",
      "1.0039409 -3.6626256 \n",
      "-0.16873932 -2.3423953 \n",
      "1.9562244 1.773262 \n",
      "-1.3655217 -2.3514683 \n",
      "1.1870661 1.0676303 \n",
      "1.2633357 1.5384977 \n",
      "-3.1902995 -4.420764 \n",
      "-0.6364649 -0.93485636 \n",
      "0.91467124 0.16247842 \n"
     ]
    }
   ],
   "source": [
    "mydataset=\"cora\"\n",
    "printEmbedding = \"modification_train\" # \"result_train\" \"result_test\" \"modification_train\" \" modification_test\"\n",
    "mytrain(mydataset, printEmbedding)\n",
    "plot2DEmbedding(\"embedding\",\"embedding_labels\")\n",
    "!head ./embedding"
   ]
  },
  {
   "cell_type": "code",
   "execution_count": 133,
   "metadata": {
    "colab": {
     "base_uri": "https://localhost:8080/",
     "height": 704
    },
    "colab_type": "code",
    "id": "FdcywJqYx_JX",
    "outputId": "c1d4823e-ed7d-486b-d023-ea6a88be156c"
   },
   "outputs": [
    {
     "name": "stdout",
     "output_type": "stream",
     "text": [
      "\n",
      "len(y): 140\n",
      "labels shape:\n",
      "(2708, 7)\n",
      "len(idx_train) 140\n",
      "len(idx_val) 500\n",
      "len(idx_test) 1000\n",
      "Epoch: 0001 train_loss= 1.95402 train_acc= 0.13571 val_loss= 1.95046 val_acc= 0.20400 time= 0.28783\n",
      "Epoch: 0051 train_loss= 1.10390 train_acc= 0.57143 val_loss= 1.34135 val_acc= 0.55400 time= 0.03091\n",
      "Early stopping...\n",
      "Optimization Finished!\n",
      "Test set results: cost= 1.21537 accuracy= 0.62000 time= 0.02355\n"
     ]
    },
    {
     "data": {
      "image/png": "[encoded data removed]",
      "text/plain": [
       "<Figure size 432x288 with 2 Axes>"
      ]
     },
     "metadata": {
      "tags": []
     },
     "output_type": "display_data"
    },
    {
     "name": "stdout",
     "output_type": "stream",
     "text": [
      "3.0450497 -0.21963781 \n",
      "2.4253645 1.6885917 \n",
      "2.7779772 1.235755 \n",
      "-2.8504817 -2.085433 \n",
      "2.6604943 0.13665597 \n",
      "1.8448231 -3.2048783 \n",
      "-1.3598872 -1.6384299 \n",
      "3.3900056 0.24097641 \n",
      "2.1302187 -0.4767413 \n",
      "2.8974967 -3.2450302 \n"
     ]
    }
   ],
   "source": [
    "mydataset=\"cora\"\n",
    "printEmbedding = \"modification_test\" # \"result_train\" \"result_test\" \"modification_train\" \" modification_test\"\n",
    "mytrain(mydataset, printEmbedding)\n",
    "plot2DEmbedding(\"embedding\",\"embedding_labels\")\n",
    "!head ./embedding"
   ]
  }
 ],
 "metadata": {
  "accelerator": "GPU",
  "colab": {
   "collapsed_sections": [
    "WK5MBIpkhH2-"
   ],
   "name": "GCN_tf.ipynb",
   "provenance": [],
   "toc_visible": true,
   "version": "0.3.2"
  },
  "kernelspec": {
   "display_name": "Python 3",
   "language": "python",
   "name": "python3"
  },
  "language_info": {
   "codemirror_mode": {
    "name": "ipython",
    "version": 3
   },
   "file_extension": ".py",
   "mimetype": "text/x-python",
   "name": "python",
   "nbconvert_exporter": "python",
   "pygments_lexer": "ipython3",
   "version": "3.6.4"
  }
 },
 "nbformat": 4,
 "nbformat_minor": 1
}
