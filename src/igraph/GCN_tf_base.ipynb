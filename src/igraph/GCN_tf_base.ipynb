{
  "nbformat": 4,
  "nbformat_minor": 0,
  "metadata": {
    "colab": {
      "name": "GCN_tf.ipynb",
      "version": "0.3.2",
      "provenance": [],
      "collapsed_sections": [],
      "toc_visible": true
    },
    "kernelspec": {
      "name": "python3",
      "display_name": "Python 3"
    },
    "accelerator": "GPU"
  },
  "cells": [
    {
      "metadata": {
        "id": "_Tzjuqjp1Xtf",
        "colab_type": "text"
      },
      "cell_type": "markdown",
      "source": [
        "# **GCN Kipf Tf version**"
      ]
    },
    {
      "metadata": {
        "id": "pierhA4qRnRh",
        "colab_type": "text"
      },
      "cell_type": "markdown",
      "source": [
        "## Environment Setup"
      ]
    },
    {
      "metadata": {
        "id": "GUm1dUBuoT-S",
        "colab_type": "code",
        "outputId": "5cfac9cd-809b-49c1-d39c-b22ccb5c3525",
        "colab": {
          "base_uri": "https://localhost:8080/",
          "height": 746
        }
      },
      "cell_type": "code",
      "source": [
        "# PENDING\n",
        "!sudo apt-get install libcairo2-dev"
      ],
      "execution_count": 0,
      "outputs": [
        {
          "output_type": "stream",
          "text": [
            "Reading package lists... Done\n",
            "Building dependency tree       \n",
            "Reading state information... Done\n",
            "The following additional packages will be installed:\n",
            "  libcairo-script-interpreter2 libpixman-1-dev libxcb-shm0-dev\n",
            "Suggested packages:\n",
            "  libcairo2-doc\n",
            "The following NEW packages will be installed:\n",
            "  libcairo-script-interpreter2 libcairo2-dev libpixman-1-dev libxcb-shm0-dev\n",
            "0 upgraded, 4 newly installed, 0 to remove and 13 not upgraded.\n",
            "Need to get 930 kB of archives.\n",
            "After this operation, 3,985 kB of additional disk space will be used.\n",
            "Get:1 http://archive.ubuntu.com/ubuntu bionic/main amd64 libcairo-script-interpreter2 amd64 1.15.10-2 [53.4 kB]\n",
            "Get:2 http://archive.ubuntu.com/ubuntu bionic/main amd64 libpixman-1-dev amd64 0.34.0-2 [244 kB]\n",
            "Get:3 http://archive.ubuntu.com/ubuntu bionic/main amd64 libxcb-shm0-dev amd64 1.13-1 [6,676 B]\n",
            "Get:4 http://archive.ubuntu.com/ubuntu bionic/main amd64 libcairo2-dev amd64 1.15.10-2 [626 kB]\n",
            "Fetched 930 kB in 0s (8,186 kB/s)\n",
            "debconf: unable to initialize frontend: Dialog\n",
            "debconf: (No usable dialog-like program is installed, so the dialog based frontend cannot be used. at /usr/share/perl5/Debconf/FrontEnd/Dialog.pm line 76, <> line 4.)\n",
            "debconf: falling back to frontend: Readline\n",
            "debconf: unable to initialize frontend: Readline\n",
            "debconf: (This frontend requires a controlling tty.)\n",
            "debconf: falling back to frontend: Teletype\n",
            "dpkg-preconfigure: unable to re-open stdin: \n",
            "Selecting previously unselected package libcairo-script-interpreter2:amd64.\n",
            "(Reading database ... 110851 files and directories currently installed.)\n",
            "Preparing to unpack .../libcairo-script-interpreter2_1.15.10-2_amd64.deb ...\n",
            "Unpacking libcairo-script-interpreter2:amd64 (1.15.10-2) ...\n",
            "Selecting previously unselected package libpixman-1-dev:amd64.\n",
            "Preparing to unpack .../libpixman-1-dev_0.34.0-2_amd64.deb ...\n",
            "Unpacking libpixman-1-dev:amd64 (0.34.0-2) ...\n",
            "Selecting previously unselected package libxcb-shm0-dev:amd64.\n",
            "Preparing to unpack .../libxcb-shm0-dev_1.13-1_amd64.deb ...\n",
            "Unpacking libxcb-shm0-dev:amd64 (1.13-1) ...\n",
            "Selecting previously unselected package libcairo2-dev:amd64.\n",
            "Preparing to unpack .../libcairo2-dev_1.15.10-2_amd64.deb ...\n",
            "Unpacking libcairo2-dev:amd64 (1.15.10-2) ...\n",
            "Setting up libcairo-script-interpreter2:amd64 (1.15.10-2) ...\n",
            "Setting up libxcb-shm0-dev:amd64 (1.13-1) ...\n",
            "Processing triggers for libc-bin (2.27-3ubuntu1) ...\n",
            "Setting up libpixman-1-dev:amd64 (0.34.0-2) ...\n",
            "Setting up libcairo2-dev:amd64 (1.15.10-2) ...\n"
          ],
          "name": "stdout"
        }
      ]
    },
    {
      "metadata": {
        "id": "9_MN_gBvoRPe",
        "colab_type": "text"
      },
      "cell_type": "markdown",
      "source": [
        "**Cairo lib for plotting**"
      ]
    },
    {
      "metadata": {
        "id": "keMnvuG2ggVh",
        "colab_type": "code",
        "outputId": "bf43bf37-2185-44e3-b51c-a50b46efa551",
        "colab": {
          "base_uri": "https://localhost:8080/",
          "height": 208
        }
      },
      "cell_type": "code",
      "source": [
        "!sudo pip install cairocffi"
      ],
      "execution_count": 0,
      "outputs": [
        {
          "output_type": "stream",
          "text": [
            "Collecting cairocffi\n",
            "\u001b[?25l  Downloading https://files.pythonhosted.org/packages/62/be/ad4d422b6f38d99b09ad6d046ab725e8ccac5fefd9ca256ca35a80dbf3c6/cairocffi-0.9.0.tar.gz (84kB)\n",
            "\r\u001b[K    12% |███▉                            | 10kB 6.1MB/s eta 0:00:01\r\u001b[K    24% |███████▊                        | 20kB 3.3MB/s eta 0:00:01\r\u001b[K    36% |███████████▋                    | 30kB 4.4MB/s eta 0:00:01\r\u001b[K    48% |███████████████▌                | 40kB 3.5MB/s eta 0:00:01\r\u001b[K    60% |███████████████████▍            | 51kB 4.3MB/s eta 0:00:01\r\u001b[K    72% |███████████████████████▎        | 61kB 5.1MB/s eta 0:00:01\r\u001b[K    84% |███████████████████████████     | 71kB 5.4MB/s eta 0:00:01\r\u001b[K    96% |███████████████████████████████ | 81kB 6.1MB/s eta 0:00:01\r\u001b[K    100% |████████████████████████████████| 92kB 5.5MB/s \n",
            "\u001b[?25hRequirement already satisfied: cffi>=1.1.0 in /usr/local/lib/python3.6/dist-packages (from cairocffi) (1.11.5)\n",
            "Requirement already satisfied: pycparser in /usr/local/lib/python3.6/dist-packages (from cffi>=1.1.0->cairocffi) (2.19)\n",
            "Building wheels for collected packages: cairocffi\n",
            "  Running setup.py bdist_wheel for cairocffi ... \u001b[?25l-\b \b\\\b \bdone\n",
            "\u001b[?25h  Stored in directory: /root/.cache/pip/wheels/3a/2e/92/89e9dcce600a1a78bebe571fdd096669cba354b29c5e1140b9\n",
            "Successfully built cairocffi\n",
            "Installing collected packages: cairocffi\n",
            "Successfully installed cairocffi-0.9.0\n"
          ],
          "name": "stdout"
        }
      ]
    },
    {
      "metadata": {
        "id": "nfv_0GJAPrf5",
        "colab_type": "code",
        "outputId": "015ebfcd-1967-4f1e-aef3-d08bdac7c3aa",
        "colab": {
          "base_uri": "https://localhost:8080/",
          "height": 208
        }
      },
      "cell_type": "code",
      "source": [
        "!pip install pycairo networkx\n",
        "#!pip install cairocffi networkx"
      ],
      "execution_count": 0,
      "outputs": [
        {
          "output_type": "stream",
          "text": [
            "Collecting pycairo\n",
            "\u001b[?25l  Downloading https://files.pythonhosted.org/packages/a6/54/23d6cf3e8d8f1eb30e0e58f171b6f62b2ea75c024935492373639a1a08e4/pycairo-1.18.0.tar.gz (202kB)\n",
            "\r\u001b[K    5% |█▋                              | 10kB 24.7MB/s eta 0:00:01\r\u001b[K    10% |███▎                            | 20kB 2.0MB/s eta 0:00:01\r\u001b[K    15% |████▉                           | 30kB 3.0MB/s eta 0:00:01\r\u001b[K    20% |██████▌                         | 40kB 3.9MB/s eta 0:00:01\r\u001b[K    25% |████████                        | 51kB 4.8MB/s eta 0:00:01\r\u001b[K    30% |█████████▊                      | 61kB 5.6MB/s eta 0:00:01\r\u001b[K    35% |███████████▍                    | 71kB 6.4MB/s eta 0:00:01\r\u001b[K    40% |█████████████                   | 81kB 7.2MB/s eta 0:00:01\r\u001b[K    45% |██████████████▋                 | 92kB 8.0MB/s eta 0:00:01\r\u001b[K    50% |████████████████▏               | 102kB 7.0MB/s eta 0:00:01\r\u001b[K    55% |█████████████████▉              | 112kB 7.0MB/s eta 0:00:01\r\u001b[K    60% |███████████████████▌            | 122kB 19.8MB/s eta 0:00:01\r\u001b[K    65% |█████████████████████           | 133kB 19.6MB/s eta 0:00:01\r\u001b[K    70% |██████████████████████▊         | 143kB 19.8MB/s eta 0:00:01\r\u001b[K    75% |████████████████████████▎       | 153kB 19.9MB/s eta 0:00:01\r\u001b[K    81% |██████████████████████████      | 163kB 19.9MB/s eta 0:00:01\r\u001b[K    86% |███████████████████████████▋    | 174kB 19.7MB/s eta 0:00:01\r\u001b[K    91% |█████████████████████████████▏  | 184kB 19.9MB/s eta 0:00:01\r\u001b[K    96% |██████████████████████████████▉ | 194kB 19.9MB/s eta 0:00:01\r\u001b[K    100% |████████████████████████████████| 204kB 25.6MB/s \n",
            "\u001b[?25hRequirement already satisfied: networkx in /usr/local/lib/python3.6/dist-packages (2.2)\n",
            "Requirement already satisfied: decorator>=4.3.0 in /usr/local/lib/python3.6/dist-packages (from networkx) (4.3.0)\n",
            "Building wheels for collected packages: pycairo\n",
            "  Running setup.py bdist_wheel for pycairo ... \u001b[?25l-\b \b\\\b \b|\b \b/\b \b-\b \b\\\b \b|\b \b/\b \b-\b \b\\\b \b|\b \b/\b \b-\b \b\\\b \b|\b \b/\b \b-\b \b\\\b \b|\b \bdone\n",
            "\u001b[?25h  Stored in directory: /root/.cache/pip/wheels/e6/bb/aa/7b71758ea95e5ae6f1aef55bbc34cc4dd236383dc6554af0c5\n",
            "Successfully built pycairo\n",
            "Installing collected packages: pycairo\n",
            "Successfully installed pycairo-1.18.0\n"
          ],
          "name": "stdout"
        }
      ]
    },
    {
      "metadata": {
        "id": "YQ5SUX_mRcZe",
        "colab_type": "text"
      },
      "cell_type": "markdown",
      "source": [
        "**igraph for Python**"
      ]
    },
    {
      "metadata": {
        "id": "IR3oRhSibY51",
        "colab_type": "code",
        "outputId": "4f9ea572-e7f4-41b9-8856-fcde9d2238c5",
        "colab": {
          "base_uri": "https://localhost:8080/",
          "height": 173
        }
      },
      "cell_type": "code",
      "source": [
        "!pip install python-igraph "
      ],
      "execution_count": 0,
      "outputs": [
        {
          "output_type": "stream",
          "text": [
            "Collecting python-igraph\n",
            "\u001b[?25l  Downloading https://files.pythonhosted.org/packages/0f/a0/4e7134f803737aa6eebb4e5250565ace0e2599659e22be7f7eba520ff017/python-igraph-0.7.1.post6.tar.gz (377kB)\n",
            "\u001b[K    100% |████████████████████████████████| 378kB 26.4MB/s \n",
            "\u001b[?25hBuilding wheels for collected packages: python-igraph\n",
            "  Running setup.py bdist_wheel for python-igraph ... \u001b[?25l-\b \b\\\b \b|\b \b/\b \b-\b \b\\\b \b|\b \b/\b \b-\b \b\\\b \b|\b \b/\b \b-\b \b\\\b \b|\b \b/\b \b-\b \b\\\b \b|\b \b/\b \b-\b \b\\\b \b|\b \b/\b \b-\b \b\\\b \b|\b \b/\b \b-\b \b\\\b \b|\b \b/\b \b-\b \b\\\b \b|\b \b/\b \b-\b \b\\\b \b|\b \b/\b \b-\b \b\\\b \b|\b \b/\b \b-\b \b\\\b \b|\b \b/\b \b-\b \b\\\b \b|\b \b/\b \b-\b \b\\\b \b|\b \b/\b \b-\b \b\\\b \b|\b \b/\b \b-\b \b\\\b \b|\b \b/\b \b-\b \b\\\b \b|\b \b/\b \b-\b \b\\\b \b|\b \b/\b \b-\b \b\\\b \b|\b \b/\b \b-\b \b\\\b \b|\b \b/\b \b-\b \b\\\b \b|\b \b/\b \b-\b \b\\\b \b|\b \b/\b \b-\b \b\\\b \b|\b \b/\b \b-\b \b\\\b \b|\b \b/\b \b-\b \b\\\b \b|\b \b/\b \b-\b \b\\\b \b|\b \b/\b \b-\b \b\\\b \b|\b \b/\b \b-\b \b\\\b \b|\b \b/\b \b-\b \b\\\b \b|\b \b/\b \b-\b \b\\\b \b|\b \b/\b \b-\b \b\\\b \b|\b \b/\b \b-\b \b\\\b \b|\b \b/\b \b-\b \b\\\b \b|\b \b/\b \b-\b \b\\\b \b|\b \b/\b \b-\b \b\\\b \b|\b \b/\b \b-\b \b\\\b \b|\b \b/\b \b-\b \b\\\b \b|\b \b/\b \b-\b \b\\\b \b|\b \b/\b \b-\b \b\\\b \b|\b \b/\b \b-\b \b\\\b \b|\b \b/\b \b-\b \b\\\b \b|\b \b/\b \b-\b \b\\\b \b|\b \b/\b \b-\b \b\\\b \b|\b \b/\b \b-\b \b\\\b \b|\b \b/\b \b-\b \b\\\b \b|\b \b/\b \b-\b \b\\\b \b|\b \b/\b \b-\b \b\\\b \b|\b \b/\b \b-\b \b\\\b \b|\b \b/\b \b-\b \b\\\b \b|\b \b/\b \b-\b \b\\\b \b|\b \b/\b \b-\b \b\\\b \b|\b \b/\b \b-\b \b\\\b \b|\b \b/\b \b-\b \b\\\b \b|\b \b/\b \b-\b \b\\\b \b|\b \b/\b \b-\b \b\\\b \b|\b \b/\b \b-\b \b\\\b \b|\b \b/\b \b-\b \b\\\b \b|\b \b/\b \b-\b \b\\\b \b|\b \b/\b \b-\b \b\\\b \b|\b \b/\b \b-\b \b\\\b \b|\b \b/\b \b-\b \b\\\b \b|\b \b/\b \b-\b \b\\\b \b|\b \b/\b \b-\b \b\\\b \b|\b \b/\b \b-\b \b\\\b \b|\b \b/\b \b-\b \b\\\b \b|\b \b/\b \b-\b \b\\\b \b|\b \b/\b \b-\b \b\\\b \b|\b \b/\b \b-\b \b\\\b \b|\b \b/\b \b-\b \b\\\b \b|\b \b/\b \b-\b \b\\\b \b|\b \b/\b \b-\b \b\\\b \b|\b \b/\b \b-\b \b\\\b \b|\b \b/\b \b-\b \b\\\b \b|\b \b/\b \b-\b \b\\\b \b|\b \b/\b \b-\b \b\\\b \b|\b \b/\b \b-\b \b\\\b \b|\b \b/\b \b-\b \b\\\b \b|\b \b/\b \b-\b \b\\\b \b|\b \b/\b \b-\b \b\\\b \b|\b \b/\b \b-\b \b\\\b \b|\b \b/\b \b-\b \b\\\b \b|\b \b/\b \b-\b \b\\\b \b|\b \b/\b \b-\b \b\\\b \b|\b \b/\b \b-\b \b\\\b \b|\b \b/\b \b-\b \b\\\b \b|\b \b/\b \b-\b \b\\\b \b|\b \b/\b \b-\b \b\\\b \b|\b \b/\b \b-\b \b\\\b \b|\b \b/\b \b-\b \b\\\b \b|\b \b/\b \b-\b \b\\\b \b|\b \b/\b \b-\b \b\\\b \b|\b \b/\b \b-\b \b\\\b \b|\b \b/\b \b-\b \b\\\b \b|\b \b/\b \b-\b \b\\\b \b|\b \b/\b \b-\b \b\\\b \b|\b \b/\b \b-\b \b\\\b \b|\b \b/\b \b-\b \b\\\b \b|\b \b/\b \b-\b \b\\\b \b|\b \b/\b \b-\b \b\\\b \b|\b \b/\b \b-\b \b\\\b \b|\b \b/\b \b-\b \b\\\b \b|\b \b/\b \b-\b \b\\\b \b|\b \b/\b \b-\b \b\\\b \b|\b \b/\b \b-\b \b\\\b \b|\b \b/\b \b-\b \b\\\b \b|\b \b/\b \b-\b \b\\\b \b|\b \b/\b \b-\b \b\\\b \b|\b \b/\b \b-\b \b\\\b \b|\b \b/\b \b-\b \b\\\b \b|\b \b/\b \b-\b \b\\\b \b|\b \b/\b \b-\b \b\\\b \b|\b \b/\b \b-\b \b\\\b \b|\b \b/\b \b-\b \b\\\b \b|\b \b/\b \b-\b \b\\\b \b|\b \b/\b \b-\b \b\\\b \b|\b \b/\b \b-\b \b\\\b \b|\b \b/\b \b-\b \b\\\b \b|\b \b/\b \b-\b \b\\\b \b|\b \b/\b \b-\b \b\\\b \b|\b \b/\b \b-\b \b\\\b \b|\b \b/\b \b-\b \b\\\b \b|\b \b/\b \b-\b \b\\\b \b|\b \b/\b \b-\b \b\\\b \b|\b \b/\b \b-\b \b\\\b \b|\b \b/\b \b-\b \b\\\b \b|\b \b/\b \b-\b \b\\\b \b|\b \b/\b \b-\b \b\\\b \b|\b \b/\b \b-\b \b\\\b \b|\b \b/\b \b-\b \b\\\b \b|\b \b/\b \b-\b \b\\\b \b|\b \b/\b \b-\b \b\\\b \b|\b \b/\b \b-\b \b\\\b \b|\b \b/\b \b-\b \b\\\b \b|\b \b/\b \b-\b \b\\\b \b|\b \b/\b \b-\b \b\\\b \b|\b \b/\b \b-\b \b\\\b \b|\b \b/\b \b-\b \b\\\b \b|\b \b/\b \b-\b \b\\\b \b|\b \b/\b \b-\b \b\\\b \b|\b \b/\b \b-\b \b\\\b \b|\b \b/\b \b-\b \b\\\b \b|\b \b/\b \b-\b \b\\\b \b|\b \b/\b \b-\b \b\\\b \b|\b \b/\b \b-\b \b\\\b \b|\b \b/\b \b-\b \b\\\b \b|\b \b/\b \b-\b \b\\\b \b|\b \b/\b \b-\b \b\\\b \b|\b \b/\b \b-\b \b\\\b \b|\b \b/\b \b-\b \b\\\b \b|\b \b/\b \b-\b \b\\\b \b|\b \b/\b \b-\b \b\\\b \b|\b \b/\b \b-\b \b\\\b \b|\b \b/\b \b-\b \b\\\b \b|\b \b/\b \b-\b \b\\\b \b|\b \b/\b \b-\b \b\\\b \b|\b \b/\b \b-\b \b\\\b \b|\b \b/\b \b-\b \b\\\b \b|\b \b/\b \b-\b \b\\\b \b|\b \b/\b \b-\b \b\\\b \b|\b \b/\b \b-\b \b\\\b \b|\b \b/\b \b-\b \b\\\b \b|\b \b/\b \b-\b \b\\\b \b|\b \b/\b \b-\b \b\\\b \b|\b \b/\b \b-\b \b\\\b \b|\b \b/\b \b-\b \b\\\b \b|\b \b/\b \b-\b \b\\\b \b|\b \b/\b \b-\b \b\\\b \b|\b \b/\b \b-\b \b\\\b \b|\b \b/\b \b-\b \b\\\b \b|\b \b/\b \b-\b \b\\\b \b|\b \b/\b \b-\b \b\\\b \b|\b \b/\b \b-\b \b\\\b \b|\b \b/\b \b-\b \b\\\b \b|\b \b/\b \b-\b \b\\\b \b|\b \b/\b \b-\b \b\\\b \b|\b \b/\b \b-\b \b\\\b \b|\b \b/\b \b-\b \b\\\b \b|\b \b/\b \b-\b \b\\\b \b|\b \b/\b \b-\b \b\\\b \b|\b \b/\b \b-\b \b\\\b \b|\b \b/\b \b-\b \b\\\b \b|\b \b/\b \b-\b \b\\\b \b|\b \b/\b \b-\b \b\\\b \b|\b \b/\b \b-\b \b\\\b \b|\b \b/\b \b-\b \b\\\b \b|\b \b/\b \b-\b \b\\\b \b|\b \b/\b \b-\b \b\\\b \b|\b \b/\b \b-\b \b\\\b \b|\b \b/\b \b-\b \b\\\b \b|\b \b/\b \b-\b \b\\\b \b|\b \b/\b \b-\b \b\\\b \b|\b \b/\b \b-\b \b\\\b \b|\b \b/\b \b-\b \b\\\b \b|\b \b/\b \b-\b \b\\\b \b|\b \b/\b \b-\b \b\\\b \b|\b \b/\b \b-\b \b\\\b \b|\b \b/\b \b-\b \b\\\b \b|\b \b/\b \b-\b \b\\\b \b|\b \b/\b \b-\b \b\\\b \b|\b \b/\b \b-\b \b\\\b \b|\b \b/\b \b-\b \b\\\b \b|\b \b/\b \b-\b \b\\\b \b|\b \b/\b \b-\b \b\\\b \b|\b \b/\b \b-\b \b\\\b \b|\b \b/\b \b-\b \b\\\b \b|\b \b/\b \b-\b \b\\\b \b|\b \b/\b \b-\b \b\\\b \b|\b \b/\b \b-\b \b\\\b \b|\b \b/\b \b-\b \b\\\b \b|\b \b/\b \b-\b \b\\\b \b|\b \b/\b \b-\b \b\\\b \b|\b \b/\b \b-\b \bdone\n",
            "\u001b[?25h  Stored in directory: /root/.cache/pip/wheels/41/d6/02/34eebae97e25f5b87d60f4c0687e00523e3f244fa41bc3f4a7\n",
            "Successfully built python-igraph\n",
            "Installing collected packages: python-igraph\n",
            "Successfully installed python-igraph-0.7.1.post6\n"
          ],
          "name": "stdout"
        }
      ]
    },
    {
      "metadata": {
        "id": "mBtUfnrsRzVn",
        "colab_type": "text"
      },
      "cell_type": "markdown",
      "source": [
        "##  **Download code from github repo**"
      ]
    },
    {
      "metadata": {
        "id": "F3Od-AwHlDC0",
        "colab_type": "code",
        "outputId": "d659a66b-6b2e-45a2-c763-cafbaa9f4848",
        "colab": {
          "base_uri": "https://localhost:8080/",
          "height": 69
        }
      },
      "cell_type": "code",
      "source": [
        "!rm -r ./csn-project\n",
        "!rm ./*.py\n",
        "!rm ./*.pyc"
      ],
      "execution_count": 0,
      "outputs": [
        {
          "output_type": "stream",
          "text": [
            "rm: cannot remove './csn-project': No such file or directory\n",
            "rm: cannot remove './*.py': No such file or directory\n",
            "rm: cannot remove './*.pyc': No such file or directory\n"
          ],
          "name": "stdout"
        }
      ]
    },
    {
      "metadata": {
        "id": "JV1s2XIZWQ1f",
        "colab_type": "code",
        "outputId": "3224536b-6a91-48dc-bd7c-aaf0bc458f23",
        "colab": {
          "base_uri": "https://localhost:8080/",
          "height": 243
        }
      },
      "cell_type": "code",
      "source": [
        "#from getpass import getpass\n",
        "#import os\n",
        "\n",
        "#user = getpass('Github user')\n",
        "#password = getpass('Github password')\n",
        "#os.environ['GIT_AUTH'] = user + ':' + password\n",
        "#!git clone https://$GIT_AUTH@github.com/presmerats/csn-project.git\n",
        "!git clone https://github.com/presmerats/csn-project.git\n",
        "!ls -la"
      ],
      "execution_count": 0,
      "outputs": [
        {
          "output_type": "stream",
          "text": [
            "Cloning into 'csn-project'...\n",
            "remote: Enumerating objects: 254, done.\u001b[K\n",
            "remote: Counting objects: 100% (254/254), done.\u001b[K\n",
            "remote: Compressing objects: 100% (175/175), done.\u001b[K\n",
            "remote: Total 254 (delta 83), reused 232 (delta 64), pack-reused 0\u001b[K\n",
            "Receiving objects: 100% (254/254), 7.26 MiB | 11.15 MiB/s, done.\n",
            "Resolving deltas: 100% (83/83), done.\n",
            "total 20\n",
            "drwxr-xr-x 1 root root 4096 Jan 22 18:59 .\n",
            "drwxr-xr-x 1 root root 4096 Jan 22 18:54 ..\n",
            "drwxr-xr-x 1 root root 4096 Jan  8 17:14 .config\n",
            "drwxr-xr-x 5 root root 4096 Jan 22 18:59 csn-project\n",
            "drwxr-xr-x 1 root root 4096 Jan  8 17:15 sample_data\n"
          ],
          "name": "stdout"
        }
      ]
    },
    {
      "metadata": {
        "id": "-n9L0dufXINJ",
        "colab_type": "code",
        "colab": {}
      },
      "cell_type": "code",
      "source": [
        "!cp -r ./csn-project/src/gcn/gcn_mod/gcn/* .\n"
      ],
      "execution_count": 0,
      "outputs": []
    },
    {
      "metadata": {
        "id": "sZopxMQCaWXd",
        "colab_type": "code",
        "outputId": "f97d1c46-5b29-4f45-ebe2-1868c805db1f",
        "colab": {
          "base_uri": "https://localhost:8080/",
          "height": 191
        }
      },
      "cell_type": "code",
      "source": [
        "!ls"
      ],
      "execution_count": 0,
      "outputs": [
        {
          "output_type": "stream",
          "text": [
            " csn-project\t       layers.py\n",
            " data\t\t       metrics.py\n",
            " embedding\t       models.py\n",
            " embedding_labels     'PageRank Embedding Experiment.ipynb'\n",
            " gcn_tests_input.py    __pycache__\n",
            " index.html\t       sample_data\n",
            " __init__.py\t      'Tf Tutorial Traffic Signs.ipynb'\n",
            " inits.py\t       train.py\n",
            " InputTest-py2.ipynb   utils.py\n",
            " InputTest-Py3.ipynb   utils.pyc\n"
          ],
          "name": "stdout"
        }
      ]
    },
    {
      "metadata": {
        "id": "hhU0xyw2bZyE",
        "colab_type": "text"
      },
      "cell_type": "markdown",
      "source": [
        "## Generating a graph and training a GCN"
      ]
    },
    {
      "metadata": {
        "id": "WK5MBIpkhH2-",
        "colab_type": "text"
      },
      "cell_type": "markdown",
      "source": [
        "### Prepare graph files functions"
      ]
    },
    {
      "metadata": {
        "id": "p4iRXuqegLDW",
        "colab_type": "code",
        "colab": {}
      },
      "cell_type": "code",
      "source": [
        "# local python tests\n",
        "from pprint import pprint\n",
        "from igraph import *\n",
        "import igraph.test\n",
        "import pickle\n",
        "import os\n",
        "import numpy as np\n",
        "from scipy.sparse import csr_matrix\n",
        "import collections\n",
        "import copy\n",
        "from random import randint\n",
        "\n",
        "\n",
        "def pickleToDisk(myobj, filepath):\n",
        "    pickle.dump(myobj, open(filepath, \"wb\"))\n",
        "\n",
        "\n",
        "def printGraphObject(filepath):\n",
        "\n",
        "\n",
        "    myobject = os.path.basename(filepath)\n",
        "    print(\"\\n\\n*************** \"+myobject+\" ********************\")\n",
        "    y = pickle.load(open(filepath,'rb'))\n",
        "    print(type(y))\n",
        "    if type(y) ==  type([]) or type(y) == type(np.ndarray([])):\n",
        "        \n",
        "        print(len(y))\n",
        "        pprint(y[:min(3,len(y)-1)])\n",
        "    elif type(y) == type({}) or type(y)==type(collections.defaultdict()):\n",
        "        pprint(y.keys()[:min(3,len(y)-1)])\n",
        "        pprint(y[y.keys()[0]])\n",
        "        pprint(y[y.keys()[1]])\n",
        "        pprint(y[y.keys()[20]])\n",
        "        pprint(y[y.keys()[3000]])\n",
        "\n",
        "    else:\n",
        "        \n",
        "        pprint(y.shape)\n",
        "        pprint(y[0,:min(3,y.shape[1]-1)].toarray())\n",
        "        pprint(y[0,0].shape)\n",
        "        pprint(type(y[0,0]))\n",
        "        pprint(y[0,0])\n",
        "\n",
        "def readListFile(filepath):\n",
        "    myobject = os.path.basename(filepath)\n",
        "    print(\"\\n\\n*************** \"+myobject+\" ********************\")\n",
        "    \n",
        "\n",
        "    testInstances =[]\n",
        "    with open(filepath, 'rb') as f:\n",
        "        for line in f.readlines():\n",
        "            testInstances.append(int(line))\n",
        "\n",
        "    pprint(testInstances[:min(3,len(testInstances)-1)])\n",
        "\n",
        "\n",
        "def inspectData():\n",
        "\n",
        "    printGraphObject('../gcn/gcn/gcn/data/ind.citeseer.y')\n",
        "    printGraphObject('../gcn/gcn/gcn/data/ind.citeseer.ty')\n",
        "    printGraphObject('../gcn/gcn/gcn/data/ind.citeseer.x')\n",
        "    printGraphObject('../gcn/gcn/gcn/data/ind.citeseer.tx')\n",
        "    printGraphObject('../gcn/gcn/gcn/data/ind.citeseer.graph')\n",
        "    readListFile('../gcn/gcn/gcn/data/ind.citeseer.test.index')\n",
        "    printGraphObject('../gcn/gcn/gcn/data/ind.citeseer.allx')\n",
        "    printGraphObject('../gcn/gcn/gcn/data/ind.citeseer.ally')\n",
        "\n",
        "\n",
        "def discretize(elements):\n",
        "    \"\"\" create a binary array for each of the 10 ranges of values between 0 and 1\"\"\"\n",
        "    orig = np.array(elements)\n",
        "    results = []\n",
        "    \n",
        "    themax = np.amax(orig)\n",
        "    themin = np.amin(orig)\n",
        "    step = (themax - themin )/ 40.0\n",
        "    \n",
        "    for i in range(10):\n",
        "        print(i) \n",
        "        if i<9:\n",
        "            print(orig)\n",
        "            print(themin + step*i)\n",
        "            print(themin + step*(i+1))\n",
        "            range1 = np.bitwise_and(orig >= themin + step*i , orig <= themin + step*(i+1))\n",
        "        else:\n",
        "            range1 = orig >= themin + step*i\n",
        "        print(range1)\n",
        "        results.append(range1) \n",
        "        \n",
        "    result = np.transpose(np.asarray(results))\n",
        "    print(result.shape)\n",
        "    pprint(result)\n",
        "    return result\n",
        "\n",
        "\n",
        "def generateData(suffix, n_node=1000, n_test=200, n_train=300 ):\n",
        "    \n",
        "    #igraph.test.run_tests()\n",
        "\n",
        "    # generation\n",
        "    #g = Graph.Tree(127, 2)\n",
        "    #g = Graph.GRG(100, 0.2)\n",
        "    #g = Graph.Erdos_Renyi(100, 0.2)\n",
        "    #g = Graph.Watts_Strogatz(1, 100, 4, 0.5 )\n",
        "    g = Graph.Barabasi(n_node)\n",
        "    summary(g)\n",
        "\n",
        "    # graph metrics\n",
        "    # pprint(g.degree([2,3,6,99]))\n",
        "    # pprint(g.edge_betweenness())\n",
        "    # pprint(g.pagerank())\n",
        "    #pprint(g.get_adjacency())\n",
        "    #pprint(dir(g))\n",
        "    \n",
        "\n",
        "\n",
        "    # test.index\n",
        "    testList = [] \n",
        "    with open(suffix+'.test.index','wb') as f:\n",
        "        while len(testList) < n_test:\n",
        "            j = randint(0, n_node-1)\n",
        "            #verify it is not alerady there\n",
        "            try:\n",
        "                pos = testList.index(j)\n",
        "            except:\n",
        "                testList.append(j)\n",
        "            f.write(str.encode(str(j)+\"\\n\"))\n",
        "\n",
        "\n",
        "    # adjacency dict (graph)\n",
        "    i = 0\n",
        "    A = g.get_adjlist()\n",
        "    graphAdj = {}\n",
        "    for node in A:\n",
        "        graphAdj[i] = node\n",
        "        i+=1\n",
        "    pickleToDisk(graphAdj, suffix+\".graph\")\n",
        "\n",
        "    \n",
        "    xFeatures = np.ones(n_node)\n",
        "    # allx is for labeled and unlabeled training samples\n",
        "    allx  = copy.deepcopy([xFeatures[i] for i in range(n_node) if i not in testList])\n",
        "    # x is for labeled training samples only\n",
        "    x = copy.deepcopy(allx[:-500])\n",
        "    #tx = copy.deepcopy(xFeatures[range(n_node-n_test, n_node)])\n",
        "    tx = [xFeatures[i] for i in testList]\n",
        "    \n",
        "\n",
        "    \n",
        "    allx = csr_matrix(allx)\n",
        "    allx = np.transpose(allx)\n",
        "    pickleToDisk(allx, suffix+\".allx\")\n",
        "    x = csr_matrix(x)\n",
        "    x = np.transpose(x)\n",
        "    pickleToDisk(x, suffix+\".x\")\n",
        "    tx = csr_matrix(tx)\n",
        "    tx = np.transpose(tx)\n",
        "    pickleToDisk(tx, suffix+\".tx\")\n",
        "\n",
        "    print(x.shape)\n",
        "    print(tx.shape)\n",
        "    print(allx.shape)\n",
        "    \n",
        "\n",
        "\n",
        "    # labels (ally,y , ty)\n",
        "    prs = discretize(g.pagerank())\n",
        "\n",
        "    \n",
        "\n",
        "    # labels of x, and empty labels of unlabeled training samples\n",
        "    prs_all = copy.deepcopy([prs[i] for i in range(n_node) if i not in testList])\n",
        "    # labels of the labeled training samples\n",
        "    prs_train = copy.deepcopy(prs_all[:-500])\n",
        "    prs_test = copy.deepcopy([prs[i] for i in testList])\n",
        "    #testList.extend(validationList)\n",
        "    #finalList = testList\n",
        "    #prs_train = [ prs[i] for i in range(prs.shape[0]) if i not in finalList ]\n",
        "\n",
        "    ally = np.array(prs_all)\n",
        "    y = np.array(prs_train)  \n",
        "    ty = np.array(prs_test)\n",
        "\n",
        "\n",
        "    pickleToDisk(ally, suffix+\".ally\")\n",
        "    pickleToDisk(y, suffix+\".y\")\n",
        "    pickleToDisk(ty, suffix+\".ty\")\n",
        "    \n",
        "    print(y.shape)\n",
        "    print(ty.shape)\n",
        "    print(ally.shape)\n",
        "    pprint(ally)\n",
        "    \n",
        "\n",
        "    # run training on those files\n",
        "  \n",
        "def generateData2(suffix, n_node=1000, n_test=200, n_train=300):\n",
        "    # generation\n",
        "    #g = Graph.Tree(127, 2)\n",
        "    #g = Graph.GRG(100, 0.2)\n",
        "    #g = Graph.Erdos_Renyi(100, 0.2)\n",
        "    #g = Graph.Watts_Strogatz(1, 100, 4, 0.5 )\n",
        "    g = Graph.Barabasi(n_node)\n",
        "    g2 = Graph.Watts_Strogatz(1, n_node, 4, 0.5 )\n",
        "    total_node = 2*n_node\n",
        "    # graph metrics\n",
        "    # pprint(g.degree([2,3,6,99]))\n",
        "    # pprint(g.edge_betweenness())\n",
        "    # pprint(g.pagerank())\n",
        "    #pprint(g.get_adjacency())\n",
        "    #pprint(dir(g))\n",
        "    \n",
        "\n",
        "\n",
        "    # test.index\n",
        "    testList = [] \n",
        "    \n",
        "    while len(testList) < n_test:\n",
        "        j = randint(n_node, total_node-1)\n",
        "        #verify it is not alerady there\n",
        "        try:\n",
        "            pos = testList.index(j)\n",
        "        except:\n",
        "            testList.append(j)\n",
        "            #f.write(str.encode(str(j)+\"\\n\"))\n",
        "    with open(suffix+'.test.index','wb') as f:\n",
        "        for i in testList:\n",
        "            f.write(str.encode(str(i)+\"\\n\"))\n",
        "\n",
        "    # adjacency dict (graph)\n",
        "    i = 0\n",
        "    A = g.get_adjlist()\n",
        "    graphAdj = {}\n",
        "    for node in A:\n",
        "        graphAdj[i] = node\n",
        "        i+=1\n",
        "    A = g2.get_adjlist()\n",
        "    for node in A:\n",
        "        graphAdj[i] = node\n",
        "        i+=1\n",
        "    pickleToDisk(graphAdj, suffix+\".graph\")\n",
        "\n",
        "    \n",
        "    xFeatures = np.ones(total_node)\n",
        "    # allx is for labeled and unlabeled training samples\n",
        "    allx  = copy.deepcopy([xFeatures[i] for i in range(total_node) if i not in testList])\n",
        "    # x is for labeled training samples only\n",
        "    x = copy.deepcopy(allx[:n_train])\n",
        "    #tx = copy.deepcopy(xFeatures[range(n_node-n_test, n_node)])\n",
        "    tx = [xFeatures[i] for i in testList]\n",
        "    \n",
        "\n",
        "    \n",
        "    allx = csr_matrix(allx)\n",
        "    allx = np.transpose(allx)\n",
        "    pickleToDisk(allx, suffix+\".allx\")\n",
        "    x = csr_matrix(x)\n",
        "    x = np.transpose(x)\n",
        "    pickleToDisk(x, suffix+\".x\")\n",
        "    tx = csr_matrix(tx)\n",
        "    tx = np.transpose(tx)\n",
        "    pickleToDisk(tx, suffix+\".tx\")\n",
        "\n",
        "    print(x.shape)\n",
        "    print(tx.shape)\n",
        "    print(allx.shape)\n",
        "    \n",
        "\n",
        "\n",
        "    # labels (ally,y , ty)\n",
        "    aux = g.pagerank()\n",
        "    aux = aux + g2.pagerank()\n",
        "    prs = discretize(aux)\n",
        "\n",
        "    \n",
        "\n",
        "    # labels of x, and empty labels of unlabeled training samples\n",
        "    prs_all = copy.deepcopy([prs[i] for i in range(total_node) if i not in testList])\n",
        "    # labels of the labeled training samples\n",
        "    prs_train = copy.deepcopy(prs_all[:n_train])\n",
        "    prs_test = copy.deepcopy([prs[i] for i in testList])\n",
        "    #testList.extend(validationList)\n",
        "    #finalList = testList\n",
        "    #prs_train = [ prs[i] for i in range(prs.shape[0]) if i not in finalList ]\n",
        "\n",
        "    ally = np.array(prs_all)\n",
        "    y = np.array(prs_train)  \n",
        "    ty = np.array(prs_test)\n",
        "\n",
        "\n",
        "    pickleToDisk(ally, suffix+\".ally\")\n",
        "    pickleToDisk(y, suffix+\".y\")\n",
        "    pickleToDisk(ty, suffix+\".ty\")\n",
        "    \n",
        "    print(y.shape)\n",
        "    print(ty.shape)\n",
        "    print(ally.shape)\n",
        "    pprint(ally)"
      ],
      "execution_count": 0,
      "outputs": []
    },
    {
      "metadata": {
        "id": "hCVzfOvEgULO",
        "colab_type": "code",
        "colab": {}
      },
      "cell_type": "code",
      "source": [
        "\n",
        "def plot2DEmbedding(filepath, labelspath):\n",
        "    import matplotlib.pyplot as plt\n",
        "    import matplotlib.patches as mpatches\n",
        "    import matplotlib.lines as mlines\n",
        "    import matplotlib.cm as cm\n",
        "    %matplotlib inline\n",
        "\n",
        "    # read embedding labels file\n",
        "    labels = np.zeros((1,1))\n",
        "    with open(labelspath,\"r\") as f:\n",
        "        size = len(f.readlines())\n",
        "        labels = np.zeros((size,1))\n",
        "\n",
        "    # read embedding file\n",
        "    with open(filepath,\"r\") as f:\n",
        "        size = len(f.readlines())\n",
        "\n",
        "        \n",
        "    # read embedding labels file\n",
        "    embeddings = {}\n",
        "    with open(labelspath,\"r\") as f:\n",
        "        i=0\n",
        "        for label in f.readlines():\n",
        "            #print(line)\n",
        "            vals = label.split()\n",
        "            label_int = 0\n",
        "            for j in range(len(vals)):\n",
        "                label_int += float(vals[j])*j\n",
        "            labels[i]=int(label_int)\n",
        "            i=i+1\n",
        "            \n",
        "        labels_list = [ lab[0] for lab in labels.tolist()]\n",
        "        for j in set(labels_list):\n",
        "            embeddings[j]=np.empty((0,2))\n",
        "            \n",
        "        with open(filepath,\"r\") as f2:\n",
        "            i = 0\n",
        "            for line in f2.readlines():\n",
        "                #print(line)\n",
        "                lineSplit = line.split()\n",
        "                d1 = lineSplit[0]\n",
        "                d2 = lineSplit[1]\n",
        "                key = int(labels_list[i])\n",
        "                embedding = embeddings[key]\n",
        "                \n",
        "                embeddings[key] = np.append(embedding, [[float(d1), float(d2)]], axis=0)\n",
        "                #embedding[i,0]=float(d1)\n",
        "                #embedding[i,1]=float(d2)\n",
        "                i=i+1\n",
        "        \n",
        "        # separate embedding by label\n",
        "        \n",
        "        plt.subplot(1, 2, 1)\n",
        "        color_labels = [int(k % 23) for k in set(labels_list) ]\n",
        "        colors = cm.rainbow(np.linspace(0, 1, len(color_labels)))\n",
        "        for colref,col in zip(colors, color_labels) :\n",
        "            #print(col)\n",
        "            #print([[col]*embeddings[col].shape[0]])\n",
        "            #print(embeddings[col].shape[0])\n",
        "            plt.scatter(embeddings[col][:,0], embeddings[col][:,1], c=[colref]*embeddings[col].shape[0], label=str(col))\n",
        "        #col=0\n",
        "        #plt.scatter(embeddings[col][:,0], embeddings[col][:,1], c=str(col), label=str(col))\n",
        "        plt.suptitle('Embedding')\n",
        "        plt.xlabel('dim 1')\n",
        "        plt.ylabel('dim 2')\n",
        "        plt.legend()\n",
        "        \n",
        "        \n",
        "        # histogram of labels\n",
        "        plt.subplot(1, 2, 2)\n",
        "        plt.hist(labels_list,bins=list(set(labels_list)), color='blue')\n",
        "        plt.xlabel('classes')\n",
        "        plt.ylabel('counts')\n",
        "        plt.subplots_adjust(wspace=0.5)\n",
        "        \n",
        "        plt.show()\n",
        "        \n",
        "   "
      ],
      "execution_count": 0,
      "outputs": []
    },
    {
      "metadata": {
        "id": "7J4aH8gpxLsO",
        "colab_type": "text"
      },
      "cell_type": "markdown",
      "source": [
        "### Prepare graph files"
      ]
    },
    {
      "metadata": {
        "id": "Ownf-hMsgOch",
        "colab_type": "code",
        "outputId": "20aec2f8-5f99-497d-ce5e-61c5fca945eb",
        "colab": {
          "base_uri": "https://localhost:8080/",
          "height": 1215
        }
      },
      "cell_type": "code",
      "source": [
        "generateData(suffix=\"ind.t3\",n_node=4000, n_train=700, n_test=300)\n",
        "!mv ind.* ./data/\n"
      ],
      "execution_count": 0,
      "outputs": [
        {
          "output_type": "stream",
          "text": [
            "IGRAPH U--- 4000 3999 -- \n",
            "(3200, 1)\n",
            "(300, 1)\n",
            "(3700, 1)\n",
            "0\n",
            "[0.00236378 0.01208523 0.00116741 ... 0.00013411 0.00014657 0.00012794]\n",
            "0.00012121738168149547\n",
            "0.00042031760505756944\n",
            "[False False False ...  True  True  True]\n",
            "1\n",
            "[0.00236378 0.01208523 0.00116741 ... 0.00013411 0.00014657 0.00012794]\n",
            "0.00042031760505756944\n",
            "0.0007194178284336435\n",
            "[False False False ... False False False]\n",
            "2\n",
            "[0.00236378 0.01208523 0.00116741 ... 0.00013411 0.00014657 0.00012794]\n",
            "0.0007194178284336435\n",
            "0.0010185180518097175\n",
            "[False False False ... False False False]\n",
            "3\n",
            "[0.00236378 0.01208523 0.00116741 ... 0.00013411 0.00014657 0.00012794]\n",
            "0.0010185180518097175\n",
            "0.0013176182751857915\n",
            "[False False  True ... False False False]\n",
            "4\n",
            "[0.00236378 0.01208523 0.00116741 ... 0.00013411 0.00014657 0.00012794]\n",
            "0.0013176182751857915\n",
            "0.0016167184985618655\n",
            "[False False False ... False False False]\n",
            "5\n",
            "[0.00236378 0.01208523 0.00116741 ... 0.00013411 0.00014657 0.00012794]\n",
            "0.0016167184985618655\n",
            "0.0019158187219379395\n",
            "[False False False ... False False False]\n",
            "6\n",
            "[0.00236378 0.01208523 0.00116741 ... 0.00013411 0.00014657 0.00012794]\n",
            "0.0019158187219379395\n",
            "0.0022149189453140134\n",
            "[False False False ... False False False]\n",
            "7\n",
            "[0.00236378 0.01208523 0.00116741 ... 0.00013411 0.00014657 0.00012794]\n",
            "0.0022149189453140134\n",
            "0.0025140191686900872\n",
            "[ True False False ... False False False]\n",
            "8\n",
            "[0.00236378 0.01208523 0.00116741 ... 0.00013411 0.00014657 0.00012794]\n",
            "0.0025140191686900872\n",
            "0.002813119392066161\n",
            "[False False False ... False False False]\n",
            "9\n",
            "[False  True False ... False False False]\n",
            "(4000, 10)\n",
            "array([[False, False, False, ...,  True, False, False],\n",
            "       [False, False, False, ..., False, False,  True],\n",
            "       [False, False, False, ..., False, False, False],\n",
            "       ...,\n",
            "       [ True, False, False, ..., False, False, False],\n",
            "       [ True, False, False, ..., False, False, False],\n",
            "       [ True, False, False, ..., False, False, False]])\n",
            "(3200, 10)\n",
            "(300, 10)\n",
            "(3700, 10)\n",
            "array([[False, False, False, ...,  True, False, False],\n",
            "       [False, False, False, ..., False, False,  True],\n",
            "       [False, False, False, ..., False, False, False],\n",
            "       ...,\n",
            "       [ True, False, False, ..., False, False, False],\n",
            "       [ True, False, False, ..., False, False, False],\n",
            "       [ True, False, False, ..., False, False, False]])\n"
          ],
          "name": "stdout"
        }
      ]
    },
    {
      "metadata": {
        "id": "RGoAq3d5hUEi",
        "colab_type": "text"
      },
      "cell_type": "markdown",
      "source": [
        "### Training GCN on this graph\n"
      ]
    },
    {
      "metadata": {
        "id": "AedfLAl6se4W",
        "colab_type": "text"
      },
      "cell_type": "markdown",
      "source": [
        "### train.py code with modifications\n",
        "Output:\n",
        "* model. output from test\n",
        "* model. output from training\n",
        "* model.embedding from test (modification of the gcn)\n",
        "* model.embedding from training (modification of the gcn)\n"
      ]
    },
    {
      "metadata": {
        "id": "JM1WAg3Im1pK",
        "colab_type": "code",
        "colab": {}
      },
      "cell_type": "code",
      "source": [
        "from __future__ import division\n",
        "from __future__ import print_function\n",
        "\n",
        "import time\n",
        "import tensorflow as tf\n",
        "\n",
        "from utils import *\n",
        "from models import GCN, GCN2,  MLP\n",
        "\n",
        "from pprint import pprint \n",
        "    \n",
        "def mytrain(mydataset, printEmbeddingModif, network):\n",
        "    \n",
        "    \n",
        "\n",
        "    def del_all_flags(FLAGS):\n",
        "        flags_dict = FLAGS._flags()    \n",
        "        keys_list = [keys for keys in flags_dict]    \n",
        "        for keys in keys_list:\n",
        "            FLAGS.__delattr__(keys)\n",
        "\n",
        "    del_all_flags(tf.flags.FLAGS)\n",
        "\n",
        "\n",
        "    # Set random seed\n",
        "    seed = 123\n",
        "    np.random.seed(seed)\n",
        "    tf.set_random_seed(seed)\n",
        "\n",
        "    # Settings\n",
        "    flags = tf.app.flags\n",
        "    FLAGS = flags.FLAGS\n",
        "    flags.DEFINE_string('dataset', mydataset, 'Dataset string.')  # 'cora', 'citeseer', 'pubmed'\n",
        "    flags.DEFINE_string('model', network, 'Model string.')  # 'gcn', 'gcn2', gcn_cheby', 'dense'\n",
        "    flags.DEFINE_float('learning_rate', 0.01, 'Initial learning rate.')\n",
        "    flags.DEFINE_integer('epochs', 200, 'Number of epochs to train.')\n",
        "    flags.DEFINE_integer('hidden1', 16, 'Number of units in hidden layer 1.')\n",
        "    flags.DEFINE_float('dropout', 0.5, 'Dropout rate (1 - keep probability).')\n",
        "    flags.DEFINE_float('weight_decay', 5e-4, 'Weight for L2 loss on embedding matrix.')\n",
        "    flags.DEFINE_integer('early_stopping', 10, 'Tolerance for early stopping (# of epochs).')\n",
        "    flags.DEFINE_integer('max_degree', 3, 'Maximum Chebyshev polynomial degree.')\n",
        "    tf.app.flags.DEFINE_string('f', '', 'kernel')\n",
        "\n",
        "    #dataset =  mydataset\n",
        "    #model = 'gcn2'  # 'gcn', 'gcn_cheby', 'dense'\n",
        "    #learning_rate =  0.01\n",
        "    #epochs =  200\n",
        "    #hidden1 = 16\n",
        "    #dropout = 0.5\n",
        "    #weight_decay =  5e-4\n",
        "    #early_stopping =  10\n",
        "    #max_degree =  3\n",
        "\n",
        "    # Load data\n",
        "    adj, features, y_train, y_val, y_test, train_mask, val_mask, test_mask = load_data(mydataset)\n",
        "\n",
        "    # Some preprocessing\n",
        "    features = preprocess_features(features)\n",
        "    \"\"\"Row-normalize feature matrix and convert to tuple representation\"\"\"\n",
        "    \n",
        "    if FLAGS.model == 'gcn':\n",
        "        support = [preprocess_adj(adj)]\n",
        "        num_supports = 1\n",
        "        model_func = GCN\n",
        "    elif FLAGS.model == 'gcn2':\n",
        "        support = [preprocess_adj(adj)]\n",
        "        num_supports = 1\n",
        "        model_func = GCN2\n",
        "    elif FLAGS.model == 'gcn_cheby':\n",
        "        support = chebyshev_polynomials(adj, FLAGS.max_degree)\n",
        "        num_supports = 1 + FLAGS.max_degree\n",
        "        model_func = GCN\n",
        "    elif FLAGS.model == 'dense':\n",
        "        support = [preprocess_adj(adj)]  # Not used\n",
        "        num_supports = 1\n",
        "        model_func = MLP\n",
        "    else:\n",
        "        raise ValueError('Invalid argument for model: ' + str(FLAGS.model))\n",
        "\n",
        "    # Define placeholders\n",
        "    placeholders = {\n",
        "        'support': [tf.sparse_placeholder(tf.float32) for _ in range(num_supports)],\n",
        "        'features': tf.sparse_placeholder(tf.float32, shape=tf.constant(features[2], dtype=tf.int64)),\n",
        "        'labels': tf.placeholder(tf.float32, shape=(None, y_train.shape[1])),\n",
        "        'labels_mask': tf.placeholder(tf.int32),\n",
        "        'dropout': tf.placeholder_with_default(0., shape=()),\n",
        "        'num_features_nonzero': tf.placeholder(tf.int32)  # helper variable for sparse dropout\n",
        "    }\n",
        "\n",
        "    # Create model\n",
        "    model = model_func(placeholders, input_dim=features[2][1], logging=True)\n",
        "\n",
        "\n",
        "    # Initialize session\n",
        "    sess = tf.Session()\n",
        "\n",
        "    # result variables\n",
        "    global result_embedding\n",
        "\n",
        "    # Define model evaluation function\n",
        "    def evaluate(features, support, labels, mask, placeholders):\n",
        "        t_test = time.time()\n",
        "        feed_dict_val = construct_feed_dict(features, support, labels, mask, placeholders)\n",
        "        \n",
        "        outs_val = []\n",
        "        global result_embedding\n",
        "        global printEmbedding\n",
        "        if printEmbedding == \"result_test\":\n",
        "            outs_val = sess.run([model.loss, model.accuracy, model.outputs, model.vars], feed_dict=feed_dict_val)\n",
        "            result_embedding = outs_val[2]\n",
        "            #print(outs_val[4])\n",
        "        elif printEmbedding == \"modification_test\":\n",
        "            outs_val = sess.run([model.loss, model.accuracy, model.outputs, model.embedding, model.vars], feed_dict=feed_dict_val)\n",
        "            result_embedding = outs_val[3]\n",
        "        else:\n",
        "            outs_val = sess.run([model.loss, model.accuracy, model.outputs, model.vars], feed_dict=feed_dict_val)\n",
        "            \n",
        "\n",
        "        return outs_val[0], outs_val[1], (time.time() - t_test)\n",
        "\n",
        "\n",
        "    # Init variables\n",
        "    sess.run(tf.global_variables_initializer())\n",
        "\n",
        "    cost_val = []\n",
        "\n",
        "    # Train model\n",
        "    for epoch in range(FLAGS.epochs):\n",
        "        t = time.time()\n",
        "        # Construct feed dictionary\n",
        "        feed_dict = construct_feed_dict(features, support, y_train, train_mask, placeholders)\n",
        "        feed_dict.update({placeholders['dropout']: FLAGS.dropout})\n",
        "\n",
        "        #print(feed_dict)\n",
        "        # Training step\n",
        "\n",
        "        outs = []\n",
        "        if printEmbedding == \"result_train\":\n",
        "            outs = sess.run([model.opt_op, model.loss, model.accuracy, model.outputs], feed_dict=feed_dict)\n",
        "            result_embedding = outs[3]\n",
        "        elif printEmbedding == \"modification_train\":\n",
        "            outs = sess.run([model.opt_op, model.loss, model.accuracy, model.outputs, model.embedding], feed_dict=feed_dict)\n",
        "            result_embedding = outs[4]\n",
        "        else:\n",
        "            outs = sess.run([model.opt_op, model.loss, model.accuracy, model.outputs], feed_dict=feed_dict)\n",
        "            \n",
        "\n",
        "        # Validation\n",
        "        cost, acc, duration = evaluate(features, support, y_val, val_mask, placeholders)\n",
        "        cost_val.append(cost)\n",
        "\n",
        "        # Print results\n",
        "        if epoch % 50 == 0:\n",
        "            print(\"Epoch:\", '%04d' % (epoch + 1), \"train_loss=\", \"{:.5f}\".format(outs[1]),\n",
        "              \"train_acc=\", \"{:.5f}\".format(outs[2]), \"val_loss=\", \"{:.5f}\".format(cost),\n",
        "              \"val_acc=\", \"{:.5f}\".format(acc), \"time=\", \"{:.5f}\".format(time.time() - t))\n",
        "\n",
        "        if epoch > FLAGS.early_stopping and cost_val[-1] > np.mean(cost_val[-(FLAGS.early_stopping+1):-1]):\n",
        "            print(\"Early stopping...\")\n",
        "            break\n",
        "\n",
        "    print(\"Optimization Finished!\")\n",
        "\n",
        "    # Testing\n",
        "    test_cost, test_acc, test_duration = evaluate(features, support, y_test, test_mask, placeholders)\n",
        "    print(\"Test set results:\", \"cost=\", \"{:.5f}\".format(test_cost),\n",
        "          \"accuracy=\", \"{:.5f}\".format(test_acc), \"time=\", \"{:.5f}\".format(test_duration))\n",
        "\n",
        "\n",
        "\n",
        "    def writeEmbeddingToDisk(result_embedding, labels, mask):\n",
        "        #pprint(result_embedding)\n",
        "\n",
        "        with open(\"embedding\",\"w\") as f:\n",
        "            count = 0\n",
        "            for elem in result_embedding:\n",
        "\n",
        "                for e in elem:\n",
        "                    f.write(str(e))\n",
        "                    f.write(\" \")\n",
        "\n",
        "                f.write(\"\\n\")\n",
        "                count += 1\n",
        "            \n",
        "        with open(\"embedding_labels\",\"w\") as f:\n",
        "            for elem in labels:\n",
        "\n",
        "                for e in elem:\n",
        "                    f.write(str(e))\n",
        "                    f.write(\" \")\n",
        "\n",
        "                f.write(\"\\n\")\n",
        "\n",
        "    writeEmbeddingToDisk(result_embedding, y_test, test_mask)"
      ],
      "execution_count": 0,
      "outputs": []
    },
    {
      "metadata": {
        "id": "n_aAcXFgsxB7",
        "colab_type": "text"
      },
      "cell_type": "markdown",
      "source": [
        "### train.py results"
      ]
    },
    {
      "metadata": {
        "id": "v4VxfIl4z9uq",
        "colab_type": "text"
      },
      "cell_type": "markdown",
      "source": [
        "#### Experiment: output embedding  \n",
        "\n",
        "The GCN network has a last layer with as mani units as labels/classes the target can have. This outputs are used in the softmax computation to decide the class. We extract those values before the softmax computation. Basically, this is the embedding that the GCN is computing. This embedding is optimized to have as many dimensions as classes the target can have.\n",
        "\n",
        "We show the resulting embedding with the values extracted from the training and later from the testing dataset."
      ]
    },
    {
      "metadata": {
        "id": "Cmnp1XURgdxT",
        "colab_type": "code",
        "outputId": "92b5a1e5-26d9-4bc9-dac8-9d06279f8ccc",
        "colab": {
          "base_uri": "https://localhost:8080/",
          "height": 722
        }
      },
      "cell_type": "code",
      "source": [
        "mydataset=\"cora\"\n",
        "printEmbedding = \"result_train\" # \"result_train\" \"result_test\" \"modification_train\" \" modification_test\"\n",
        "mytrain(mydataset, printEmbedding, network='gcn')\n",
        "plot2DEmbedding(\"embedding\",\"embedding_labels\")\n",
        "!head ./embedding"
      ],
      "execution_count": 155,
      "outputs": [
        {
          "output_type": "stream",
          "text": [
            "\n",
            "len(y): 140\n",
            "labels shape:\n",
            "(2708, 7)\n",
            "len(idx_train) 140\n",
            "len(idx_val) 500\n",
            "len(idx_test) 1000\n",
            "Epoch: 0001 train_loss= 1.95406 train_acc= 0.13571 val_loss= 1.94949 val_acc= 0.36000 time= 0.35764\n",
            "Epoch: 0051 train_loss= 1.37194 train_acc= 0.83571 val_loss= 1.60018 val_acc= 0.75400 time= 0.03328\n",
            "Epoch: 0101 train_loss= 0.89020 train_acc= 0.92857 val_loss= 1.28638 val_acc= 0.80200 time= 0.03756\n",
            "Epoch: 0151 train_loss= 0.69855 train_acc= 0.97143 val_loss= 1.14358 val_acc= 0.79200 time= 0.04146\n",
            "Optimization Finished!\n",
            "Test set results: cost= 1.01775 accuracy= 0.81900 time= 0.02634\n"
          ],
          "name": "stdout"
        },
        {
          "output_type": "display_data",
          "data": {
            "image/png": "[encoded data removed]",
            "text/plain": [
              "<Figure size 432x288 with 2 Axes>"
            ]
          },
          "metadata": {
            "tags": []
          }
        },
        {
          "output_type": "stream",
          "text": [
            "-1.2229844 -0.5873866 -1.2464259 3.0763156 0.82525754 -1.6185627 -1.6686032 \n",
            "-1.5846869 -0.062884405 -1.2516755 -1.3893322 2.4340835 0.22444254 -2.9097261 \n",
            "-0.7584899 -1.0336748 -1.356188 0.36021525 1.9467452 -0.89017123 -2.9825988 \n",
            "1.4914434 -0.8147376 1.0307419 -0.937256 -0.1691544 -0.90700793 -0.5274707 \n",
            "-1.0578581 -0.30353177 0.3959809 0.83994627 -0.66093624 -0.57803774 -1.9720855 \n",
            "-1.1241167 -1.9359748 1.8381685 -0.6886954 -1.1839195 -0.29947782 -1.6913953 \n",
            "2.8278742 -0.6487229 0.31273252 -0.05875264 -0.7253766 -1.8193429 -1.6189976 \n",
            "2.5136294 -1.428425 -2.0506034 1.9501373 1.3583612 -1.5675211 -1.7705953 \n",
            "-0.43696782 -0.7498271 1.7136335e-05 1.7842519 -1.1148859 -0.9478092 -1.5501037 \n",
            "-2.367876 -4.139574 4.1988616 -0.6748329 -3.3001573 -0.733629 -1.8048666 \n"
          ],
          "name": "stdout"
        }
      ]
    },
    {
      "metadata": {
        "id": "GVEoug50vFwZ",
        "colab_type": "code",
        "outputId": "c796daac-26a4-48a5-f730-736a1cccd2eb",
        "colab": {
          "base_uri": "https://localhost:8080/",
          "height": 722
        }
      },
      "cell_type": "code",
      "source": [
        "mydataset=\"cora\"\n",
        "printEmbedding = \"result_test\" # \"result_train\" \"result_test\" \"modification_train\" \" modification_test\"\n",
        "mytrain(mydataset, printEmbedding, network='gcn')\n",
        "plot2DEmbedding(\"embedding\",\"embedding_labels\")\n",
        "!head ./embedding"
      ],
      "execution_count": 156,
      "outputs": [
        {
          "output_type": "stream",
          "text": [
            "\n",
            "len(y): 140\n",
            "labels shape:\n",
            "(2708, 7)\n",
            "len(idx_train) 140\n",
            "len(idx_val) 500\n",
            "len(idx_test) 1000\n",
            "Epoch: 0001 train_loss= 1.95367 train_acc= 0.14286 val_loss= 1.95043 val_acc= 0.31400 time= 0.35115\n",
            "Epoch: 0051 train_loss= 1.32031 train_acc= 0.87857 val_loss= 1.66394 val_acc= 0.71800 time= 0.03462\n",
            "Epoch: 0101 train_loss= 0.85302 train_acc= 0.95000 val_loss= 1.32124 val_acc= 0.79000 time= 0.03880\n",
            "Epoch: 0151 train_loss= 0.73921 train_acc= 0.93571 val_loss= 1.16544 val_acc= 0.78400 time= 0.03434\n",
            "Optimization Finished!\n",
            "Test set results: cost= 1.02718 accuracy= 0.81400 time= 0.02769\n"
          ],
          "name": "stdout"
        },
        {
          "output_type": "display_data",
          "data": {
            "image/png": "[encoded data removed]",
            "text/plain": [
              "<Figure size 432x288 with 2 Axes>"
            ]
          },
          "metadata": {
            "tags": []
          }
        },
        {
          "output_type": "stream",
          "text": [
            "-0.9901217 -0.4440422 -0.61710787 3.568172 -0.37448168 -1.5405627 -1.0764587 \n",
            "0.27882275 -0.90072185 -0.3963626 -0.82714355 4.2022195 -2.363381 -0.404191 \n",
            "0.0871855 -0.8431799 -0.3931434 0.5368236 3.1200461 -2.4968176 -0.77415043 \n",
            "3.9004712 -0.058711834 -1.3016859 -0.7843592 -0.081725694 -1.7392418 -1.8651125 \n",
            "-0.78073585 -0.73276144 -0.19383246 2.0989566 -0.3344005 -1.1477451 -0.58860826 \n",
            "-0.8005869 -0.92458963 3.1363173 -1.2628515 -0.562976 -1.6590149 -1.4201376 \n",
            "2.4093428 -0.071483105 -0.58828545 -0.3897509 -0.20345981 -1.205401 -1.4599359 \n",
            "-0.915315 -0.7061206 -0.8556427 4.5436068 -0.99199706 -1.2583698 -1.5721928 \n",
            "-0.53831625 -0.60269624 -0.07707283 2.4166527 -0.3629625 -1.075829 -1.1361754 \n",
            "-2.1185114 -1.613065 3.970171 -1.8412335 -1.1133223 -0.83281004 -0.4498076 \n"
          ],
          "name": "stdout"
        }
      ]
    },
    {
      "metadata": {
        "id": "DDTv9Xrhz5LK",
        "colab_type": "text"
      },
      "cell_type": "markdown",
      "source": [
        "#### Experiment: 2 unit layer embedding  \n",
        "\n",
        "We add a 2 unit layer after the first 2 GCN layers, and a  in order to have a 2 dimension embedding. We add after that 2nd embedding layer, a 6 unit output layer  as it will be necessary for the training to used the 6 possible target labels. In summary, the GCN has been augmented with a 2 unit layer and a 6 unit layer, the training is based on the output of the last 6 units layer but we extract also the values of the 2 unit layer in order to see a 2 dimension embedding trained with the data.\n",
        "\n",
        "We show the result of the embedding with the training data and later with the testing data."
      ]
    },
    {
      "metadata": {
        "id": "sBscTELQvJKm",
        "colab_type": "code",
        "outputId": "5e2c1e08-a9bf-48be-ddfa-9825f8e72ed0",
        "colab": {
          "base_uri": "https://localhost:8080/",
          "height": 704
        }
      },
      "cell_type": "code",
      "source": [
        "mydataset=\"cora\"\n",
        "printEmbedding = \"modification_train\" # \"result_train\" \"result_test\" \"modification_train\" \" modification_test\"\n",
        "mytrain(mydataset, printEmbedding, network='gcn2')\n",
        "plot2DEmbedding(\"embedding\",\"embedding_labels\")\n",
        "!head ./embedding"
      ],
      "execution_count": 157,
      "outputs": [
        {
          "output_type": "stream",
          "text": [
            "\n",
            "len(y): 140\n",
            "labels shape:\n",
            "(2708, 7)\n",
            "len(idx_train) 140\n",
            "len(idx_val) 500\n",
            "len(idx_test) 1000\n",
            "Epoch: 0001 train_loss= 1.95370 train_acc= 0.06429 val_loss= 1.95027 val_acc= 0.34000 time= 0.33882\n",
            "Epoch: 0051 train_loss= 1.27582 train_acc= 0.45714 val_loss= 1.49299 val_acc= 0.44600 time= 0.03162\n",
            "Early stopping...\n",
            "Optimization Finished!\n",
            "Test set results: cost= 1.16521 accuracy= 0.68900 time= 0.02207\n"
          ],
          "name": "stdout"
        },
        {
          "output_type": "display_data",
          "data": {
            "image/png": "[encoded data removed]",
            "text/plain": [
              "<Figure size 432x288 with 2 Axes>"
            ]
          },
          "metadata": {
            "tags": []
          }
        },
        {
          "output_type": "stream",
          "text": [
            "-3.0989983 -4.30705 \n",
            "2.8319666 0.8490275 \n",
            "0.31825712 -3.664248 \n",
            "-4.7285986 5.904292 \n",
            "-1.9485499 -4.440044 \n",
            "-4.643675 -1.5445495 \n",
            "-2.8013644 1.8278186 \n",
            "0.81947356 -3.874083 \n",
            "-2.5594933 -3.02136 \n",
            "-2.7564392 -0.7446099 \n"
          ],
          "name": "stdout"
        }
      ]
    },
    {
      "metadata": {
        "id": "WWW9Ulfr41fF",
        "colab_type": "text"
      },
      "cell_type": "markdown",
      "source": [
        "PageRank em# New Section"
      ]
    },
    {
      "metadata": {
        "id": "FdcywJqYx_JX",
        "colab_type": "code",
        "outputId": "3bcee479-31d2-4c68-ee52-d408725ae976",
        "colab": {
          "base_uri": "https://localhost:8080/",
          "height": 704
        }
      },
      "cell_type": "code",
      "source": [
        "mydataset=\"cora\"\n",
        "printEmbedding = \"modification_test\" # \"result_train\" \"result_test\" \"modification_train\" \" modification_test\"\n",
        "mytrain(mydataset, printEmbedding, network='gcn2')\n",
        "plot2DEmbedding(\"embedding\",\"embedding_labels\")\n",
        "!head ./embedding"
      ],
      "execution_count": 158,
      "outputs": [
        {
          "output_type": "stream",
          "text": [
            "\n",
            "len(y): 140\n",
            "labels shape:\n",
            "(2708, 7)\n",
            "len(idx_train) 140\n",
            "len(idx_val) 500\n",
            "len(idx_test) 1000\n",
            "Epoch: 0001 train_loss= 1.95322 train_acc= 0.15000 val_loss= 1.94832 val_acc= 0.24800 time= 0.34065\n",
            "Epoch: 0051 train_loss= 1.06713 train_acc= 0.57143 val_loss= 1.36955 val_acc= 0.41800 time= 0.03482\n",
            "Early stopping...\n",
            "Optimization Finished!\n",
            "Test set results: cost= 1.21362 accuracy= 0.58000 time= 0.02718\n"
          ],
          "name": "stdout"
        },
        {
          "output_type": "display_data",
          "data": {
            "image/png": "[encoded data removed]",
            "text/plain": [
              "<Figure size 432x288 with 2 Axes>"
            ]
          },
          "metadata": {
            "tags": []
          }
        },
        {
          "output_type": "stream",
          "text": [
            "-0.3011194 -3.2915723 \n",
            "1.5796647 -1.5156155 \n",
            "1.4819946 -1.8602312 \n",
            "-2.8195186 -3.1034327 \n",
            "0.047308445 -2.4446037 \n",
            "3.1924512 2.714775 \n",
            "-2.0471494 -2.2916794 \n",
            "-0.6713967 -3.049977 \n",
            "-0.019603282 -2.0541291 \n",
            "3.1696277 4.123169 \n"
          ],
          "name": "stdout"
        }
      ]
    },
    {
      "metadata": {
        "id": "rMP13gFZ5YZH",
        "colab_type": "text"
      },
      "cell_type": "markdown",
      "source": [
        "#### Experiment: embedding for new graph"
      ]
    },
    {
      "metadata": {
        "id": "DmMSAK9S8Za8",
        "colab_type": "code",
        "colab": {}
      },
      "cell_type": "code",
      "source": [
        "genera"
      ],
      "execution_count": 0,
      "outputs": []
    }
  ]
}