{
 "cells": [
  {
   "cell_type": "markdown",
   "metadata": {},
   "source": [
    "# Function Renaming\n",
    "## Dataset preparation\n",
    "\n",
    "The goal of this task is to train a model that is able to classify a function in assembler language into several general purpose categories, for example networking, cryptography, control-loop, disk-read-write, computation.\n",
    "\n",
    "In this notebook, the different graphs extracted from different binaries , classified in several categories (network, cryptography, disk, packer) will be imported into a PyG dataset. The dataset will be verified and a model will be trained\n",
    "\n",
    "The new changes from partII are that the dataset is considered to big to fit in memory, and a so the import function and class of the dataset must take this into account. Now it imports from Dataset and not InMemoryDataset.\n",
    "\n",
    "**Topics to take care of:**\n",
    "- multi-label+multi-class vs only multi-class\n",
    "\n",
    "\n",
    "**Notebook index**:\n",
    "- importing the graph \n",
    "- plotting the imported graphs to verify\n",
    "- training a toy model\n",
    "    "
   ]
  },
  {
   "cell_type": "markdown",
   "metadata": {},
   "source": [
    "##  PyTorch Geometric Dataset"
   ]
  },
  {
   "cell_type": "code",
   "execution_count": 336,
   "metadata": {},
   "outputs": [
    {
     "name": "stdout",
     "output_type": "stream",
     "text": [
      "The autoreload extension is already loaded. To reload it, use:\n",
      "  %reload_ext autoreload\n"
     ]
    }
   ],
   "source": [
    "%load_ext autoreload\n",
    "%autoreload 2\n",
    "\n",
    "import importlib\n",
    "import time\n",
    "import pickle\n",
    "import traceback\n",
    "import random\n",
    "import os\n",
    "import re\n",
    "import sys\n",
    "import json\n",
    "from pprint import pprint\n",
    "import numpy as np\n",
    "from numpy.random import choice\n",
    "import pandas as pd\n",
    "import networkx as nx\n",
    "import matplotlib.pyplot as plt\n",
    "\n",
    "import torch\n",
    "from torch_geometric.data import Dataset\n",
    "from torch_geometric.data import Data\n",
    "from torch_geometric.data import DataLoader\n",
    "\n",
    "from TFM_function_renaming_dataset_creation import *\n",
    "from TFM_function_renaming_dataset_creation import FunctionsDataset\n",
    "\n",
    "\n"
   ]
  },
  {
   "cell_type": "code",
   "execution_count": 274,
   "metadata": {
    "scrolled": true
   },
   "outputs": [
    {
     "name": "stdout",
     "output_type": "stream",
     "text": [
      "processed_path tmp/noisy_fixed01/processed\n",
      " end of __init__()\n",
      "126983\n",
      "4\n",
      "801\n"
     ]
    }
   ],
   "source": [
    "dataset = FunctionsDataset(root='./tmp/noisy_fixed01')\n",
    "print(len(dataset))\n",
    "print(dataset.num_classes)\n",
    "print(dataset.num_features)"
   ]
  },
  {
   "cell_type": "code",
   "execution_count": 109,
   "metadata": {
    "scrolled": true
   },
   "outputs": [
    {
     "name": "stdout",
     "output_type": "stream",
     "text": [
      "Processing...\n",
      " FunctionsDataset: process()\n",
      "self.processed_paths ['tmp/noisy_fixed02/processed/data_0.pt', 'tmp/noisy_fixed02/processed/data_1.pt', 'tmp/noisy_fixed02/processed/data_2.pt', 'tmp/noisy_fixed02/processed/data_3.pt', 'tmp/noisy_fixed02/processed/data_4.pt']\n",
      "self.root tmp/noisy_fixed02\n",
      "self.raw_dir tmp/n\n",
      "self.raw_file_names ['graphs01']\n",
      "self.raw_paths ['tmp/noisy_fixed02/raw/graphs01']\n",
      "\n",
      "\n",
      "tmp/noisy_fixed02/raw/graphs01/Network/ApacheCore_dll/sub_6FF81C50_edges.txt\n"
     ]
    },
    {
     "name": "stderr",
     "output_type": "stream",
     "text": [
      "Traceback (most recent call last):\n",
      "  File \"/home/pau/.pyenv/versions/3.6.7/envs/gnn-pytorch/lib/python3.6/site-packages/networkx/readwrite/edgelist.py\", line 277, in parse_edgelist\n",
      "    edgedata = dict(literal_eval(' '.join(d)))\n",
      "  File \"/home/pau/.pyenv/versions/3.6.7/lib/python3.6/ast.py\", line 48, in literal_eval\n",
      "    node_or_string = parse(node_or_string, mode='eval')\n",
      "  File \"/home/pau/.pyenv/versions/3.6.7/lib/python3.6/ast.py\", line 35, in parse\n",
      "    return compile(source, filename, mode, PyCF_ONLY_AST)\n",
      "  File \"<unknown>\", line 1\n",
      "    \" { \"type\": \"phrase\" }\n",
      "            ^\n",
      "SyntaxError: invalid syntax\n",
      "\n",
      "During handling of the above exception, another exception occurred:\n",
      "\n",
      "Traceback (most recent call last):\n",
      "  File \"/media/disk/home/pau/Projectes/GNN-MThesis/src/function_renaming/TFM_function_renaming_dataset_creation.py\", line 260, in parseGraph\n",
      "    g = readGraph('',filename)\n",
      "  File \"/media/disk/home/pau/Projectes/GNN-MThesis/src/function_renaming/TFM_function_renaming_dataset_creation.py\", line 66, in readGraph\n",
      "    g = nx.read_edgelist(folder+filename)\n",
      "  File \"</home/pau/.pyenv/versions/3.6.7/envs/gnn-pytorch/lib/python3.6/site-packages/decorator.py:decorator-gen-707>\", line 2, in read_edgelist\n",
      "  File \"/home/pau/.pyenv/versions/3.6.7/envs/gnn-pytorch/lib/python3.6/site-packages/networkx/utils/decorators.py\", line 240, in _open_file\n",
      "    result = func_to_be_decorated(*new_args, **kwargs)\n",
      "  File \"/home/pau/.pyenv/versions/3.6.7/envs/gnn-pytorch/lib/python3.6/site-packages/networkx/readwrite/edgelist.py\", line 369, in read_edgelist\n",
      "    data=data)\n",
      "  File \"/home/pau/.pyenv/versions/3.6.7/envs/gnn-pytorch/lib/python3.6/site-packages/networkx/readwrite/edgelist.py\", line 280, in parse_edgelist\n",
      "    \"Failed to convert edge data (%s) to dictionary.\" % (d))\n",
      "TypeError: Failed to convert edge data (['\"', '{', '\"type\":', '\"phrase\"', '}']) to dictionary.\n"
     ]
    },
    {
     "name": "stdout",
     "output_type": "stream",
     "text": [
      "tmp/noisy_fixed02/raw/graphs01/Network/libgnutls-30_dll/sub_6489CA90_edges.txt\n"
     ]
    },
    {
     "name": "stderr",
     "output_type": "stream",
     "text": [
      "Traceback (most recent call last):\n",
      "  File \"/media/disk/home/pau/Projectes/GNN-MThesis/src/function_renaming/TFM_function_renaming_dataset_creation.py\", line 262, in parseGraph\n",
      "    data = self.createGraphFromNXwithTarget(g,y,xlen,undirected=True)\n",
      "  File \"/media/disk/home/pau/Projectes/GNN-MThesis/src/function_renaming/TFM_function_renaming_dataset_creation.py\", line 512, in createGraphFromNXwithTarget\n",
      "    dataset =  self.createGraphFromNX(g,xlen, undirected)\n",
      "  File \"/media/disk/home/pau/Projectes/GNN-MThesis/src/function_renaming/TFM_function_renaming_dataset_creation.py\", line 498, in createGraphFromNX\n",
      "    x = torch.tensor(x, dtype=torch.float)\n",
      "RuntimeError: Precision loss when unpacking double\n"
     ]
    },
    {
     "name": "stdout",
     "output_type": "stream",
     "text": [
      "tmp/noisy_fixed02/raw/graphs01/Network/libgnutls-30_dll/_gnutls_pkcs12_string_to_key_edges.txt\n"
     ]
    },
    {
     "name": "stderr",
     "output_type": "stream",
     "text": [
      "Traceback (most recent call last):\n",
      "  File \"/media/disk/home/pau/Projectes/GNN-MThesis/src/function_renaming/TFM_function_renaming_dataset_creation.py\", line 262, in parseGraph\n",
      "    data = self.createGraphFromNXwithTarget(g,y,xlen,undirected=True)\n",
      "  File \"/media/disk/home/pau/Projectes/GNN-MThesis/src/function_renaming/TFM_function_renaming_dataset_creation.py\", line 512, in createGraphFromNXwithTarget\n",
      "    dataset =  self.createGraphFromNX(g,xlen, undirected)\n",
      "  File \"/media/disk/home/pau/Projectes/GNN-MThesis/src/function_renaming/TFM_function_renaming_dataset_creation.py\", line 498, in createGraphFromNX\n",
      "    x = torch.tensor(x, dtype=torch.float)\n",
      "RuntimeError: Precision loss when unpacking double\n"
     ]
    },
    {
     "name": "stdout",
     "output_type": "stream",
     "text": [
      "tmp/noisy_fixed02/raw/graphs01/Network/libgnutls-30_dll/sub_648979A0_edges.txt\n"
     ]
    },
    {
     "name": "stderr",
     "output_type": "stream",
     "text": [
      "Traceback (most recent call last):\n",
      "  File \"/media/disk/home/pau/Projectes/GNN-MThesis/src/function_renaming/TFM_function_renaming_dataset_creation.py\", line 262, in parseGraph\n",
      "    data = self.createGraphFromNXwithTarget(g,y,xlen,undirected=True)\n",
      "  File \"/media/disk/home/pau/Projectes/GNN-MThesis/src/function_renaming/TFM_function_renaming_dataset_creation.py\", line 512, in createGraphFromNXwithTarget\n",
      "    dataset =  self.createGraphFromNX(g,xlen, undirected)\n",
      "  File \"/media/disk/home/pau/Projectes/GNN-MThesis/src/function_renaming/TFM_function_renaming_dataset_creation.py\", line 498, in createGraphFromNX\n",
      "    x = torch.tensor(x, dtype=torch.float)\n",
      "RuntimeError: Precision loss when unpacking double\n"
     ]
    },
    {
     "name": "stdout",
     "output_type": "stream",
     "text": [
      "tmp/noisy_fixed02/raw/graphs01/Network/libgnutls-30_dll/sub_64925D10_edges.txt\n"
     ]
    },
    {
     "name": "stderr",
     "output_type": "stream",
     "text": [
      "Traceback (most recent call last):\n",
      "  File \"/media/disk/home/pau/Projectes/GNN-MThesis/src/function_renaming/TFM_function_renaming_dataset_creation.py\", line 262, in parseGraph\n",
      "    data = self.createGraphFromNXwithTarget(g,y,xlen,undirected=True)\n",
      "  File \"/media/disk/home/pau/Projectes/GNN-MThesis/src/function_renaming/TFM_function_renaming_dataset_creation.py\", line 512, in createGraphFromNXwithTarget\n",
      "    dataset =  self.createGraphFromNX(g,xlen, undirected)\n",
      "  File \"/media/disk/home/pau/Projectes/GNN-MThesis/src/function_renaming/TFM_function_renaming_dataset_creation.py\", line 498, in createGraphFromNX\n",
      "    x = torch.tensor(x, dtype=torch.float)\n",
      "RuntimeError: Precision loss when unpacking double\n"
     ]
    },
    {
     "name": "stdout",
     "output_type": "stream",
     "text": [
      "tmp/noisy_fixed02/raw/graphs01/Network/libgnutls-30_dll/sub_64898B10_edges.txt\n"
     ]
    },
    {
     "name": "stderr",
     "output_type": "stream",
     "text": [
      "Traceback (most recent call last):\n",
      "  File \"/media/disk/home/pau/Projectes/GNN-MThesis/src/function_renaming/TFM_function_renaming_dataset_creation.py\", line 262, in parseGraph\n",
      "    data = self.createGraphFromNXwithTarget(g,y,xlen,undirected=True)\n",
      "  File \"/media/disk/home/pau/Projectes/GNN-MThesis/src/function_renaming/TFM_function_renaming_dataset_creation.py\", line 512, in createGraphFromNXwithTarget\n",
      "    dataset =  self.createGraphFromNX(g,xlen, undirected)\n",
      "  File \"/media/disk/home/pau/Projectes/GNN-MThesis/src/function_renaming/TFM_function_renaming_dataset_creation.py\", line 498, in createGraphFromNX\n",
      "    x = torch.tensor(x, dtype=torch.float)\n",
      "RuntimeError: Precision loss when unpacking double\n"
     ]
    },
    {
     "name": "stdout",
     "output_type": "stream",
     "text": [
      "{ \"type\":_\"phrase\",_\"content\":_\"[rcx]      ; lpCriticalSection\"}\n",
      "{ \"type\":_\"phrase\",_\"content\":_\"[rdi]      ; Str2\"}\n",
      "{ \"type\":_\"phrase\",_\"content\":_\"[rbx]      ; File\"}\n",
      "{ \"type\":_\"phrase\",_\"content\":_\"[rax]      ; Filename\"}\n",
      "{ \"type\":_\"phrase\",_\"content\":_\"[rbx]      ; Str2\"}\n",
      "tmp/noisy_fixed02/raw/graphs01/Network/libgnutls-30_dll/sub_64897AC0_edges.txt\n"
     ]
    },
    {
     "name": "stderr",
     "output_type": "stream",
     "text": [
      "Traceback (most recent call last):\n",
      "  File \"/media/disk/home/pau/Projectes/GNN-MThesis/src/function_renaming/TFM_function_renaming_dataset_creation.py\", line 262, in parseGraph\n",
      "    data = self.createGraphFromNXwithTarget(g,y,xlen,undirected=True)\n",
      "  File \"/media/disk/home/pau/Projectes/GNN-MThesis/src/function_renaming/TFM_function_renaming_dataset_creation.py\", line 512, in createGraphFromNXwithTarget\n",
      "    dataset =  self.createGraphFromNX(g,xlen, undirected)\n",
      "  File \"/media/disk/home/pau/Projectes/GNN-MThesis/src/function_renaming/TFM_function_renaming_dataset_creation.py\", line 498, in createGraphFromNX\n",
      "    x = torch.tensor(x, dtype=torch.float)\n",
      "RuntimeError: Precision loss when unpacking double\n"
     ]
    },
    {
     "name": "stdout",
     "output_type": "stream",
     "text": [
      "{ \"type\":_\"phrase\",_\"content\":_\"[rax+rbx]  ; flNewProtect\"}\n",
      "{ \"type\":_\"phrase\",_\"content\":_\"[rcx]      ; lpCriticalSection\"}\n",
      "tmp/noisy_fixed02/raw/graphs01/Network/libgnutls-30_dll/sub_6484DE90_edges.txt\n"
     ]
    },
    {
     "name": "stderr",
     "output_type": "stream",
     "text": [
      "Traceback (most recent call last):\n",
      "  File \"/media/disk/home/pau/Projectes/GNN-MThesis/src/function_renaming/TFM_function_renaming_dataset_creation.py\", line 262, in parseGraph\n",
      "    data = self.createGraphFromNXwithTarget(g,y,xlen,undirected=True)\n",
      "  File \"/media/disk/home/pau/Projectes/GNN-MThesis/src/function_renaming/TFM_function_renaming_dataset_creation.py\", line 512, in createGraphFromNXwithTarget\n",
      "    dataset =  self.createGraphFromNX(g,xlen, undirected)\n",
      "  File \"/media/disk/home/pau/Projectes/GNN-MThesis/src/function_renaming/TFM_function_renaming_dataset_creation.py\", line 498, in createGraphFromNX\n",
      "    x = torch.tensor(x, dtype=torch.float)\n",
      "RuntimeError: Precision loss when unpacking double\n"
     ]
    },
    {
     "name": "stdout",
     "output_type": "stream",
     "text": [
      "tmp/noisy_fixed02/raw/graphs01/Network/libgnutls-30_dll/sub_64873F60_edges.txt\n"
     ]
    },
    {
     "name": "stderr",
     "output_type": "stream",
     "text": [
      "Traceback (most recent call last):\n",
      "  File \"/media/disk/home/pau/Projectes/GNN-MThesis/src/function_renaming/TFM_function_renaming_dataset_creation.py\", line 262, in parseGraph\n",
      "    data = self.createGraphFromNXwithTarget(g,y,xlen,undirected=True)\n",
      "  File \"/media/disk/home/pau/Projectes/GNN-MThesis/src/function_renaming/TFM_function_renaming_dataset_creation.py\", line 512, in createGraphFromNXwithTarget\n",
      "    dataset =  self.createGraphFromNX(g,xlen, undirected)\n",
      "  File \"/media/disk/home/pau/Projectes/GNN-MThesis/src/function_renaming/TFM_function_renaming_dataset_creation.py\", line 498, in createGraphFromNX\n",
      "    x = torch.tensor(x, dtype=torch.float)\n",
      "RuntimeError: Precision loss when unpacking double\n"
     ]
    },
    {
     "name": "stdout",
     "output_type": "stream",
     "text": [
      "tmp/noisy_fixed02/raw/graphs01/Network/libgnutls-30_dll/sub_64936A50_edges.txt\n"
     ]
    },
    {
     "name": "stderr",
     "output_type": "stream",
     "text": [
      "Traceback (most recent call last):\n",
      "  File \"/media/disk/home/pau/Projectes/GNN-MThesis/src/function_renaming/TFM_function_renaming_dataset_creation.py\", line 262, in parseGraph\n",
      "    data = self.createGraphFromNXwithTarget(g,y,xlen,undirected=True)\n",
      "  File \"/media/disk/home/pau/Projectes/GNN-MThesis/src/function_renaming/TFM_function_renaming_dataset_creation.py\", line 512, in createGraphFromNXwithTarget\n",
      "    dataset =  self.createGraphFromNX(g,xlen, undirected)\n",
      "  File \"/media/disk/home/pau/Projectes/GNN-MThesis/src/function_renaming/TFM_function_renaming_dataset_creation.py\", line 498, in createGraphFromNX\n",
      "    x = torch.tensor(x, dtype=torch.float)\n",
      "RuntimeError: Precision loss when unpacking double\n"
     ]
    },
    {
     "name": "stdout",
     "output_type": "stream",
     "text": [
      "{ \"type\":_\"phrase\",_\"content\":_\"[rbx]      ; Str2\"}\n",
      "{ \"type\":_\"phrase\",_\"content\":_\"[rcx]      ; File\"}\n",
      "{ \"type\":_\"phrase\",_\"content\":_\"[rdx]      ; File\"}\n",
      "tmp/noisy_fixed02/raw/graphs01/Network/libgnutls-30_dll/sub_64920C40_edges.txt\n"
     ]
    },
    {
     "name": "stderr",
     "output_type": "stream",
     "text": [
      "Traceback (most recent call last):\n",
      "  File \"/media/disk/home/pau/Projectes/GNN-MThesis/src/function_renaming/TFM_function_renaming_dataset_creation.py\", line 262, in parseGraph\n",
      "    data = self.createGraphFromNXwithTarget(g,y,xlen,undirected=True)\n",
      "  File \"/media/disk/home/pau/Projectes/GNN-MThesis/src/function_renaming/TFM_function_renaming_dataset_creation.py\", line 512, in createGraphFromNXwithTarget\n",
      "    dataset =  self.createGraphFromNX(g,xlen, undirected)\n",
      "  File \"/media/disk/home/pau/Projectes/GNN-MThesis/src/function_renaming/TFM_function_renaming_dataset_creation.py\", line 498, in createGraphFromNX\n",
      "    x = torch.tensor(x, dtype=torch.float)\n",
      "RuntimeError: Precision loss when unpacking double\n",
      "Traceback (most recent call last):\n",
      "  File \"/media/disk/home/pau/Projectes/GNN-MThesis/src/function_renaming/TFM_function_renaming_dataset_creation.py\", line 262, in parseGraph\n",
      "    data = self.createGraphFromNXwithTarget(g,y,xlen,undirected=True)\n",
      "  File \"/media/disk/home/pau/Projectes/GNN-MThesis/src/function_renaming/TFM_function_renaming_dataset_creation.py\", line 512, in createGraphFromNXwithTarget\n",
      "    dataset =  self.createGraphFromNX(g,xlen, undirected)\n",
      "  File \"/media/disk/home/pau/Projectes/GNN-MThesis/src/function_renaming/TFM_function_renaming_dataset_creation.py\", line 498, in createGraphFromNX\n",
      "    x = torch.tensor(x, dtype=torch.float)\n",
      "RuntimeError: Precision loss when unpacking double\n"
     ]
    },
    {
     "name": "stdout",
     "output_type": "stream",
     "text": [
      "tmp/noisy_fixed02/raw/graphs01/Network/libgnutls-30_dll/sub_648C2320_edges.txt\n",
      "{ \"type\":_\"phrase\",_\"content\":_\"[rbx]      ; dwTlsIndex\"}\n",
      "{ \"type\":_\"phrase\",_\"content\":_\"[rbx]      ; Str2\"}\n",
      "{ \"type\":_\"phrase\",_\"content\":_\"[rcx]      ; hCertStore\"}\n",
      "{ \"type\":_\"phrase\",_\"content\":_\"[r8]        ; __int64\"}\n",
      "{ \"type\":_\"phrase\",_\"content\":_\"[rcx]      ; lpCriticalSection\"}\n",
      "{ \"type\":_\"phrase\",_\"content\":_\"[ecx]      ; lpCriticalSection\"}\n",
      "{ \"type\":_\"phrase\",_\"content\":_\"[ebx]      ; nIDDlgItem\"}\n",
      "{ \"type\":_\"phrase\",_\"content\":_\"[esi]      ; lpMem\"}\n",
      "{ \"type\":_\"phrase\",_\"content\":_\"[rcx]      ; size_t\"}\n",
      "{ \"type\":_\"phrase\",_\"content\":_\"[rdx]      ; std::ctype_byname<wchar_t>::ctype_byname(std::string const&\"}\n",
      "{ \"type\":_\"phrase\",_\"content\":_\"[rbx+rbx]  ; wchar_t *\"}\n",
      "{ \"type\":_\"phrase\",_\"content\":_\"[rcx+r8]   ; size_t\"}\n",
      "{ \"type\":_\"phrase\",_\"content\":_\"[r9]       ; size_t\"}\n",
      "{ \"type\":_\"phrase\",_\"content\":_\"[rbx]      ; size_t\"}\n",
      "{ \"type\":_\"phrase\",_\"content\":_\"[rdx]      ; size_t\"}\n",
      "{ \"type\":_\"phrase\",_\"content\":_\"[rsi]      ; void *\"}\n",
      "{ \"type\":_\"phrase\",_\"content\":_\"[rcx]      ; int\"}\n",
      "{ \"type\":_\"phrase\",_\"content\":_\"[rbx]      ; void *\"}\n",
      "{ \"type\":_\"phrase\",_\"content\":_\"[rbx]      ; size_t\"}\n",
      "{ \"type\":_\"phrase\",_\"content\":_\"[rcx+r8]   ; void *\"}\n",
      "{ \"type\":_\"phrase\",_\"content\":_\"[rcx]      ; void *\"}\n",
      "{ \"type\":_\"phrase\",_\"content\":_\"[rcx]      ; void *\"}\n",
      "{ \"type\":_\"phrase\",_\"content\":_\"[r9+rbp]   ; void *\"}\n",
      "{ \"type\":_\"phrase\",_\"content\":_\"[rdi]      ; void *\"}\n",
      "{ \"type\":_\"phrase\",_\"content\":_\"[rdx]      ; std::ctype_byname<wchar_t>::ctype_byname(std::__cxx11::basic_string<char\"}\n",
      "{ \"type\":_\"phrase\",_\"content\":_\"[rcx]      ; void *\"}\n",
      "{ \"type\":_\"phrase\",_\"content\":_\"[rdx]      ; size_t\"}\n",
      "{ \"type\":_\"phrase\",_\"content\":_\"[rdx+r9*2] ; size_t\"}\n",
      "{ \"type\":_\"phrase\",_\"content\":_\"[rcx]      ; int\"}\n",
      "{ \"type\":_\"phrase\",_\"content\":_\"[r9+r14]   ; size_t\"}\n",
      "{ \"type\":_\"phrase\",_\"content\":_\"[rdx]      ; size_t\"}\n",
      "{ \"type\":_\"phrase\",_\"content\":_\"[rax]      ; void *\"}\n",
      "{ \"type\":_\"phrase\",_\"content\":_\"[r8]       ; int\"}\n",
      "{ \"type\":_\"phrase\",_\"content\":_\"[r9+rsi]   ; size_t\"}\n",
      "{ \"type\":_\"phrase\",_\"content\":_\"[rbx]      ; void *\"}\n",
      "{ \"type\":_\"phrase\",_\"content\":_\"[r9+rdi]   ; size_t\"}\n",
      "{ \"type\":_\"phrase\",_\"content\":_\"[rcx]      ; void *\"}\n",
      "{ \"type\":_\"phrase\",_\"content\":_\"[rcx]      ; void *\"}\n",
      "{ \"type\":_\"phrase\",_\"content\":_\"[rbx]      ; void *\"}\n",
      "{ \"type\":_\"phrase\",_\"content\":_\"[rdx]      ; std::ctype_byname<char>::ctype_byname(std::__cxx11::basic_string<char\"}\n",
      "{ \"type\":_\"phrase\",_\"content\":_\"[r8]       ; void *\"}\n",
      "{ \"type\":_\"phrase\",_\"content\":_\"[rax+r8]   ; void *\"}\n",
      "{ \"type\":_\"phrase\",_\"content\":_\"[r9+rbp]   ; void *\"}\n",
      "{ \"type\":_\"phrase\",_\"content\":_\"[rax+rsi]  ; size_t\"}\n",
      "{ \"type\":_\"phrase\",_\"content\":_\"[rdx+r9*2] ; size_t\"}\n",
      "{ \"type\":_\"phrase\",_\"content\":_\"[r9]       ; char *\"}\n",
      "{ \"type\":_\"phrase\",_\"content\":_\"[r9]       ; int\"}\n",
      "{ \"type\":_\"phrase\",_\"content\":_\"[rcx]      ; void *\"}\n",
      "{ \"type\":_\"phrase\",_\"content\":_\"[rbx]      ; void *\"}\n",
      "{ \"type\":_\"phrase\",_\"content\":_\"[r9+rdi]   ; size_t\"}\n",
      "{ \"type\":_\"phrase\",_\"content\":_\"[rcx+rbp]  ; size_t\"}\n",
      "{ \"type\":_\"phrase\",_\"content\":_\"[r9+rbp]   ; size_t\"}\n",
      "{ \"type\":_\"phrase\",_\"content\":_\"[r9+r12]   ; size_t\"}\n",
      "{ \"type\":_\"phrase\",_\"content\":_\"[r9]       ; char *\"}\n",
      "{ \"type\":_\"phrase\",_\"content\":_\"[rsi]      ; char **\"}\n",
      "{ \"type\":_\"phrase\",_\"content\":_\"[rdx]      ; std::locale::locale(std::locale const&)\"}\n",
      "tmp/noisy_fixed02/raw/graphs01/Network/libstdc_6_dll/sub_6FC41890_edges.txt\n"
     ]
    },
    {
     "name": "stderr",
     "output_type": "stream",
     "text": [
      "Traceback (most recent call last):\n",
      "  File \"/media/disk/home/pau/Projectes/GNN-MThesis/src/function_renaming/TFM_function_renaming_dataset_creation.py\", line 262, in parseGraph\n",
      "    data = self.createGraphFromNXwithTarget(g,y,xlen,undirected=True)\n",
      "  File \"/media/disk/home/pau/Projectes/GNN-MThesis/src/function_renaming/TFM_function_renaming_dataset_creation.py\", line 512, in createGraphFromNXwithTarget\n",
      "    dataset =  self.createGraphFromNX(g,xlen, undirected)\n",
      "  File \"/media/disk/home/pau/Projectes/GNN-MThesis/src/function_renaming/TFM_function_renaming_dataset_creation.py\", line 498, in createGraphFromNX\n",
      "    x = torch.tensor(x, dtype=torch.float)\n",
      "RuntimeError: Precision loss when unpacking double\n"
     ]
    },
    {
     "name": "stdout",
     "output_type": "stream",
     "text": [
      "{ \"type\":_\"phrase\",_\"content\":_\"[rcx+rbx]  ; size_t\"}\n",
      "{ \"type\":_\"phrase\",_\"content\":_\"[rdx]      ; std::ctype_byname<char>::ctype_byname(std::string const&\"}\n",
      "{ \"type\":_\"phrase\",_\"content\":_\"[rsi]      ; char **\"}\n",
      "{ \"type\":_\"phrase\",_\"content\":_\"[rbx+rbx]  ; void *\"}\n",
      "{ \"type\":_\"phrase\",_\"content\":_\"[rcx]      ; void *\"}\n",
      "{ \"type\":_\"phrase\",_\"content\":_\"[r9+r14*2] ; size_t\"}\n",
      "{ \"type\":_\"phrase\",_\"content\":_\"[r9]       ; __int64\"}\n",
      "tmp/noisy_fixed02/raw/graphs01/Network/libstdc_6_dll/sub_6FC4A920_edges.txt\n"
     ]
    },
    {
     "name": "stderr",
     "output_type": "stream",
     "text": [
      "Traceback (most recent call last):\n",
      "  File \"/media/disk/home/pau/Projectes/GNN-MThesis/src/function_renaming/TFM_function_renaming_dataset_creation.py\", line 262, in parseGraph\n",
      "    data = self.createGraphFromNXwithTarget(g,y,xlen,undirected=True)\n",
      "  File \"/media/disk/home/pau/Projectes/GNN-MThesis/src/function_renaming/TFM_function_renaming_dataset_creation.py\", line 512, in createGraphFromNXwithTarget\n",
      "    dataset =  self.createGraphFromNX(g,xlen, undirected)\n",
      "  File \"/media/disk/home/pau/Projectes/GNN-MThesis/src/function_renaming/TFM_function_renaming_dataset_creation.py\", line 498, in createGraphFromNX\n",
      "    x = torch.tensor(x, dtype=torch.float)\n",
      "RuntimeError: Precision loss when unpacking double\n"
     ]
    },
    {
     "name": "stdout",
     "output_type": "stream",
     "text": [
      "{ \"type\":_\"phrase\",_\"content\":_\"[r9]       ; __int64\"}\n",
      "{ \"type\":_\"phrase\",_\"content\":_\"[rdx]      ; std::__exception_ptr::exception_ptr::exception_ptr(std::__exception_ptr::exception_ptr const&)\"}\n",
      "{ \"type\":_\"phrase\",_\"content\":_\"[rcx+r8*2] ; size_t\"}\n",
      "{ \"type\":_\"phrase\",_\"content\":_\"[rax+rbx]  ; void *\"}\n",
      "{ \"type\":_\"phrase\",_\"content\":_\"[r14+rbx]  ; char *\"}\n",
      "tmp/noisy_fixed02/raw/graphs01/Network/filezilla_exe/sub_77B9E0_edges.txt\n"
     ]
    },
    {
     "name": "stderr",
     "output_type": "stream",
     "text": [
      "Traceback (most recent call last):\n",
      "  File \"/media/disk/home/pau/Projectes/GNN-MThesis/src/function_renaming/TFM_function_renaming_dataset_creation.py\", line 262, in parseGraph\n",
      "    data = self.createGraphFromNXwithTarget(g,y,xlen,undirected=True)\n",
      "  File \"/media/disk/home/pau/Projectes/GNN-MThesis/src/function_renaming/TFM_function_renaming_dataset_creation.py\", line 512, in createGraphFromNXwithTarget\n",
      "    dataset =  self.createGraphFromNX(g,xlen, undirected)\n",
      "  File \"/media/disk/home/pau/Projectes/GNN-MThesis/src/function_renaming/TFM_function_renaming_dataset_creation.py\", line 498, in createGraphFromNX\n",
      "    x = torch.tensor(x, dtype=torch.float)\n",
      "RuntimeError: Precision loss when unpacking double\n"
     ]
    },
    {
     "name": "stdout",
     "output_type": "stream",
     "text": [
      "tmp/noisy_fixed02/raw/graphs01/Network/filezilla_exe/sub_956400_edges.txt\n"
     ]
    },
    {
     "name": "stderr",
     "output_type": "stream",
     "text": [
      "Traceback (most recent call last):\n",
      "  File \"/media/disk/home/pau/Projectes/GNN-MThesis/src/function_renaming/TFM_function_renaming_dataset_creation.py\", line 262, in parseGraph\n",
      "    data = self.createGraphFromNXwithTarget(g,y,xlen,undirected=True)\n",
      "  File \"/media/disk/home/pau/Projectes/GNN-MThesis/src/function_renaming/TFM_function_renaming_dataset_creation.py\", line 512, in createGraphFromNXwithTarget\n",
      "    dataset =  self.createGraphFromNX(g,xlen, undirected)\n",
      "  File \"/media/disk/home/pau/Projectes/GNN-MThesis/src/function_renaming/TFM_function_renaming_dataset_creation.py\", line 498, in createGraphFromNX\n",
      "    x = torch.tensor(x, dtype=torch.float)\n",
      "RuntimeError: Precision loss when unpacking double\n"
     ]
    },
    {
     "name": "stdout",
     "output_type": "stream",
     "text": [
      "tmp/noisy_fixed02/raw/graphs01/Network/filezilla_exe/sub_5F3B30_edges.txt\n"
     ]
    },
    {
     "name": "stderr",
     "output_type": "stream",
     "text": [
      "Traceback (most recent call last):\n",
      "  File \"/media/disk/home/pau/Projectes/GNN-MThesis/src/function_renaming/TFM_function_renaming_dataset_creation.py\", line 262, in parseGraph\n",
      "    data = self.createGraphFromNXwithTarget(g,y,xlen,undirected=True)\n",
      "  File \"/media/disk/home/pau/Projectes/GNN-MThesis/src/function_renaming/TFM_function_renaming_dataset_creation.py\", line 512, in createGraphFromNXwithTarget\n",
      "    dataset =  self.createGraphFromNX(g,xlen, undirected)\n",
      "  File \"/media/disk/home/pau/Projectes/GNN-MThesis/src/function_renaming/TFM_function_renaming_dataset_creation.py\", line 498, in createGraphFromNX\n",
      "    x = torch.tensor(x, dtype=torch.float)\n",
      "RuntimeError: Precision loss when unpacking double\n"
     ]
    },
    {
     "name": "stdout",
     "output_type": "stream",
     "text": [
      "tmp/noisy_fixed02/raw/graphs01/Network/filezilla_exe/sub_8EE7E0_edges.txt\n"
     ]
    },
    {
     "name": "stderr",
     "output_type": "stream",
     "text": [
      "Traceback (most recent call last):\n",
      "  File \"/media/disk/home/pau/Projectes/GNN-MThesis/src/function_renaming/TFM_function_renaming_dataset_creation.py\", line 262, in parseGraph\n",
      "    data = self.createGraphFromNXwithTarget(g,y,xlen,undirected=True)\n",
      "  File \"/media/disk/home/pau/Projectes/GNN-MThesis/src/function_renaming/TFM_function_renaming_dataset_creation.py\", line 512, in createGraphFromNXwithTarget\n",
      "    dataset =  self.createGraphFromNX(g,xlen, undirected)\n",
      "  File \"/media/disk/home/pau/Projectes/GNN-MThesis/src/function_renaming/TFM_function_renaming_dataset_creation.py\", line 498, in createGraphFromNX\n",
      "    x = torch.tensor(x, dtype=torch.float)\n",
      "RuntimeError: Precision loss when unpacking double\n"
     ]
    },
    {
     "name": "stdout",
     "output_type": "stream",
     "text": [
      "tmp/noisy_fixed02/raw/graphs01/Network/filezilla_exe/sub_80B3B0_edges.txt\n"
     ]
    },
    {
     "name": "stderr",
     "output_type": "stream",
     "text": [
      "Traceback (most recent call last):\n",
      "  File \"/media/disk/home/pau/Projectes/GNN-MThesis/src/function_renaming/TFM_function_renaming_dataset_creation.py\", line 262, in parseGraph\n",
      "    data = self.createGraphFromNXwithTarget(g,y,xlen,undirected=True)\n",
      "  File \"/media/disk/home/pau/Projectes/GNN-MThesis/src/function_renaming/TFM_function_renaming_dataset_creation.py\", line 512, in createGraphFromNXwithTarget\n",
      "    dataset =  self.createGraphFromNX(g,xlen, undirected)\n",
      "  File \"/media/disk/home/pau/Projectes/GNN-MThesis/src/function_renaming/TFM_function_renaming_dataset_creation.py\", line 498, in createGraphFromNX\n",
      "    x = torch.tensor(x, dtype=torch.float)\n",
      "RuntimeError: Precision loss when unpacking double\n"
     ]
    },
    {
     "name": "stdout",
     "output_type": "stream",
     "text": [
      "tmp/noisy_fixed02/raw/graphs01/Network/filezilla_exe/sub_771EC0_edges.txt\n"
     ]
    },
    {
     "name": "stderr",
     "output_type": "stream",
     "text": [
      "Traceback (most recent call last):\n",
      "  File \"/media/disk/home/pau/Projectes/GNN-MThesis/src/function_renaming/TFM_function_renaming_dataset_creation.py\", line 262, in parseGraph\n",
      "    data = self.createGraphFromNXwithTarget(g,y,xlen,undirected=True)\n",
      "  File \"/media/disk/home/pau/Projectes/GNN-MThesis/src/function_renaming/TFM_function_renaming_dataset_creation.py\", line 512, in createGraphFromNXwithTarget\n",
      "    dataset =  self.createGraphFromNX(g,xlen, undirected)\n",
      "  File \"/media/disk/home/pau/Projectes/GNN-MThesis/src/function_renaming/TFM_function_renaming_dataset_creation.py\", line 498, in createGraphFromNX\n",
      "    x = torch.tensor(x, dtype=torch.float)\n",
      "RuntimeError: Precision loss when unpacking double\n"
     ]
    },
    {
     "name": "stdout",
     "output_type": "stream",
     "text": [
      "tmp/noisy_fixed02/raw/graphs01/Network/filezilla_exe/sub_932E00_edges.txt\n"
     ]
    },
    {
     "name": "stderr",
     "output_type": "stream",
     "text": [
      "Traceback (most recent call last):\n",
      "  File \"/media/disk/home/pau/Projectes/GNN-MThesis/src/function_renaming/TFM_function_renaming_dataset_creation.py\", line 262, in parseGraph\n",
      "    data = self.createGraphFromNXwithTarget(g,y,xlen,undirected=True)\n",
      "  File \"/media/disk/home/pau/Projectes/GNN-MThesis/src/function_renaming/TFM_function_renaming_dataset_creation.py\", line 512, in createGraphFromNXwithTarget\n",
      "    dataset =  self.createGraphFromNX(g,xlen, undirected)\n",
      "  File \"/media/disk/home/pau/Projectes/GNN-MThesis/src/function_renaming/TFM_function_renaming_dataset_creation.py\", line 498, in createGraphFromNX\n",
      "    x = torch.tensor(x, dtype=torch.float)\n",
      "RuntimeError: Precision loss when unpacking double\n"
     ]
    },
    {
     "name": "stdout",
     "output_type": "stream",
     "text": [
      "tmp/noisy_fixed02/raw/graphs01/Network/filezilla_exe/sub_837AE0_edges.txt\n"
     ]
    },
    {
     "name": "stderr",
     "output_type": "stream",
     "text": [
      "Traceback (most recent call last):\n",
      "  File \"/media/disk/home/pau/Projectes/GNN-MThesis/src/function_renaming/TFM_function_renaming_dataset_creation.py\", line 262, in parseGraph\n",
      "    data = self.createGraphFromNXwithTarget(g,y,xlen,undirected=True)\n",
      "  File \"/media/disk/home/pau/Projectes/GNN-MThesis/src/function_renaming/TFM_function_renaming_dataset_creation.py\", line 512, in createGraphFromNXwithTarget\n",
      "    dataset =  self.createGraphFromNX(g,xlen, undirected)\n",
      "  File \"/media/disk/home/pau/Projectes/GNN-MThesis/src/function_renaming/TFM_function_renaming_dataset_creation.py\", line 498, in createGraphFromNX\n",
      "    x = torch.tensor(x, dtype=torch.float)\n",
      "RuntimeError: Precision loss when unpacking double\n"
     ]
    },
    {
     "name": "stdout",
     "output_type": "stream",
     "text": [
      "tmp/noisy_fixed02/raw/graphs01/Network/filezilla_exe/sub_7A47A0_edges.txt\n"
     ]
    },
    {
     "name": "stderr",
     "output_type": "stream",
     "text": [
      "Traceback (most recent call last):\n",
      "  File \"/media/disk/home/pau/Projectes/GNN-MThesis/src/function_renaming/TFM_function_renaming_dataset_creation.py\", line 262, in parseGraph\n",
      "    data = self.createGraphFromNXwithTarget(g,y,xlen,undirected=True)\n",
      "  File \"/media/disk/home/pau/Projectes/GNN-MThesis/src/function_renaming/TFM_function_renaming_dataset_creation.py\", line 512, in createGraphFromNXwithTarget\n",
      "    dataset =  self.createGraphFromNX(g,xlen, undirected)\n",
      "  File \"/media/disk/home/pau/Projectes/GNN-MThesis/src/function_renaming/TFM_function_renaming_dataset_creation.py\", line 498, in createGraphFromNX\n",
      "    x = torch.tensor(x, dtype=torch.float)\n",
      "RuntimeError: Precision loss when unpacking double\n"
     ]
    },
    {
     "name": "stdout",
     "output_type": "stream",
     "text": [
      "tmp/noisy_fixed02/raw/graphs01/Network/filezilla_exe/sub_763B50_edges.txt\n"
     ]
    },
    {
     "name": "stderr",
     "output_type": "stream",
     "text": [
      "Traceback (most recent call last):\n",
      "  File \"/media/disk/home/pau/Projectes/GNN-MThesis/src/function_renaming/TFM_function_renaming_dataset_creation.py\", line 262, in parseGraph\n",
      "    data = self.createGraphFromNXwithTarget(g,y,xlen,undirected=True)\n",
      "  File \"/media/disk/home/pau/Projectes/GNN-MThesis/src/function_renaming/TFM_function_renaming_dataset_creation.py\", line 512, in createGraphFromNXwithTarget\n",
      "    dataset =  self.createGraphFromNX(g,xlen, undirected)\n",
      "  File \"/media/disk/home/pau/Projectes/GNN-MThesis/src/function_renaming/TFM_function_renaming_dataset_creation.py\", line 498, in createGraphFromNX\n",
      "    x = torch.tensor(x, dtype=torch.float)\n",
      "RuntimeError: Precision loss when unpacking double\n"
     ]
    },
    {
     "name": "stdout",
     "output_type": "stream",
     "text": [
      "tmp/noisy_fixed02/raw/graphs01/Network/filezilla_exe/sub_59F9C0_edges.txt\n"
     ]
    },
    {
     "name": "stderr",
     "output_type": "stream",
     "text": [
      "Traceback (most recent call last):\n",
      "  File \"/media/disk/home/pau/Projectes/GNN-MThesis/src/function_renaming/TFM_function_renaming_dataset_creation.py\", line 262, in parseGraph\n",
      "    data = self.createGraphFromNXwithTarget(g,y,xlen,undirected=True)\n",
      "  File \"/media/disk/home/pau/Projectes/GNN-MThesis/src/function_renaming/TFM_function_renaming_dataset_creation.py\", line 512, in createGraphFromNXwithTarget\n",
      "    dataset =  self.createGraphFromNX(g,xlen, undirected)\n",
      "  File \"/media/disk/home/pau/Projectes/GNN-MThesis/src/function_renaming/TFM_function_renaming_dataset_creation.py\", line 498, in createGraphFromNX\n",
      "    x = torch.tensor(x, dtype=torch.float)\n",
      "RuntimeError: Precision loss when unpacking double\n"
     ]
    },
    {
     "name": "stdout",
     "output_type": "stream",
     "text": [
      "tmp/noisy_fixed02/raw/graphs01/Network/filezilla_exe/sub_939D20_edges.txt\n"
     ]
    },
    {
     "name": "stderr",
     "output_type": "stream",
     "text": [
      "Traceback (most recent call last):\n",
      "  File \"/media/disk/home/pau/Projectes/GNN-MThesis/src/function_renaming/TFM_function_renaming_dataset_creation.py\", line 262, in parseGraph\n",
      "    data = self.createGraphFromNXwithTarget(g,y,xlen,undirected=True)\n",
      "  File \"/media/disk/home/pau/Projectes/GNN-MThesis/src/function_renaming/TFM_function_renaming_dataset_creation.py\", line 512, in createGraphFromNXwithTarget\n",
      "    dataset =  self.createGraphFromNX(g,xlen, undirected)\n",
      "  File \"/media/disk/home/pau/Projectes/GNN-MThesis/src/function_renaming/TFM_function_renaming_dataset_creation.py\", line 498, in createGraphFromNX\n",
      "    x = torch.tensor(x, dtype=torch.float)\n",
      "RuntimeError: Precision loss when unpacking double\n"
     ]
    },
    {
     "name": "stdout",
     "output_type": "stream",
     "text": [
      "tmp/noisy_fixed02/raw/graphs01/Network/filezilla_exe/sub_77C090_edges.txt\n"
     ]
    },
    {
     "name": "stderr",
     "output_type": "stream",
     "text": [
      "Traceback (most recent call last):\n",
      "  File \"/media/disk/home/pau/Projectes/GNN-MThesis/src/function_renaming/TFM_function_renaming_dataset_creation.py\", line 262, in parseGraph\n",
      "    data = self.createGraphFromNXwithTarget(g,y,xlen,undirected=True)\n",
      "  File \"/media/disk/home/pau/Projectes/GNN-MThesis/src/function_renaming/TFM_function_renaming_dataset_creation.py\", line 512, in createGraphFromNXwithTarget\n",
      "    dataset =  self.createGraphFromNX(g,xlen, undirected)\n",
      "  File \"/media/disk/home/pau/Projectes/GNN-MThesis/src/function_renaming/TFM_function_renaming_dataset_creation.py\", line 498, in createGraphFromNX\n",
      "    x = torch.tensor(x, dtype=torch.float)\n",
      "RuntimeError: Precision loss when unpacking double\n"
     ]
    },
    {
     "name": "stdout",
     "output_type": "stream",
     "text": [
      "tmp/noisy_fixed02/raw/graphs01/Network/filezilla_exe/sub_430F60_edges.txt\n"
     ]
    },
    {
     "name": "stderr",
     "output_type": "stream",
     "text": [
      "Traceback (most recent call last):\n",
      "  File \"/media/disk/home/pau/Projectes/GNN-MThesis/src/function_renaming/TFM_function_renaming_dataset_creation.py\", line 262, in parseGraph\n",
      "    data = self.createGraphFromNXwithTarget(g,y,xlen,undirected=True)\n",
      "  File \"/media/disk/home/pau/Projectes/GNN-MThesis/src/function_renaming/TFM_function_renaming_dataset_creation.py\", line 512, in createGraphFromNXwithTarget\n",
      "    dataset =  self.createGraphFromNX(g,xlen, undirected)\n",
      "  File \"/media/disk/home/pau/Projectes/GNN-MThesis/src/function_renaming/TFM_function_renaming_dataset_creation.py\", line 498, in createGraphFromNX\n",
      "    x = torch.tensor(x, dtype=torch.float)\n",
      "RuntimeError: Precision loss when unpacking double\n"
     ]
    },
    {
     "name": "stdout",
     "output_type": "stream",
     "text": [
      "tmp/noisy_fixed02/raw/graphs01/Network/filezilla_exe/sub_47E1E0_edges.txt\n"
     ]
    },
    {
     "name": "stderr",
     "output_type": "stream",
     "text": [
      "Traceback (most recent call last):\n",
      "  File \"/media/disk/home/pau/Projectes/GNN-MThesis/src/function_renaming/TFM_function_renaming_dataset_creation.py\", line 262, in parseGraph\n",
      "    data = self.createGraphFromNXwithTarget(g,y,xlen,undirected=True)\n",
      "  File \"/media/disk/home/pau/Projectes/GNN-MThesis/src/function_renaming/TFM_function_renaming_dataset_creation.py\", line 512, in createGraphFromNXwithTarget\n",
      "    dataset =  self.createGraphFromNX(g,xlen, undirected)\n",
      "  File \"/media/disk/home/pau/Projectes/GNN-MThesis/src/function_renaming/TFM_function_renaming_dataset_creation.py\", line 498, in createGraphFromNX\n",
      "    x = torch.tensor(x, dtype=torch.float)\n",
      "RuntimeError: Precision loss when unpacking double\n"
     ]
    },
    {
     "name": "stdout",
     "output_type": "stream",
     "text": [
      "tmp/noisy_fixed02/raw/graphs01/Network/filezilla_exe/sub_8EBD60_edges.txt\n"
     ]
    },
    {
     "name": "stderr",
     "output_type": "stream",
     "text": [
      "Traceback (most recent call last):\n",
      "  File \"/media/disk/home/pau/Projectes/GNN-MThesis/src/function_renaming/TFM_function_renaming_dataset_creation.py\", line 262, in parseGraph\n",
      "    data = self.createGraphFromNXwithTarget(g,y,xlen,undirected=True)\n",
      "  File \"/media/disk/home/pau/Projectes/GNN-MThesis/src/function_renaming/TFM_function_renaming_dataset_creation.py\", line 512, in createGraphFromNXwithTarget\n",
      "    dataset =  self.createGraphFromNX(g,xlen, undirected)\n",
      "  File \"/media/disk/home/pau/Projectes/GNN-MThesis/src/function_renaming/TFM_function_renaming_dataset_creation.py\", line 498, in createGraphFromNX\n",
      "    x = torch.tensor(x, dtype=torch.float)\n",
      "RuntimeError: Precision loss when unpacking double\n"
     ]
    },
    {
     "name": "stdout",
     "output_type": "stream",
     "text": [
      "tmp/noisy_fixed02/raw/graphs01/Network/filezilla_exe/sub_7EE920_edges.txt\n"
     ]
    },
    {
     "name": "stderr",
     "output_type": "stream",
     "text": [
      "Traceback (most recent call last):\n",
      "  File \"/media/disk/home/pau/Projectes/GNN-MThesis/src/function_renaming/TFM_function_renaming_dataset_creation.py\", line 262, in parseGraph\n",
      "    data = self.createGraphFromNXwithTarget(g,y,xlen,undirected=True)\n",
      "  File \"/media/disk/home/pau/Projectes/GNN-MThesis/src/function_renaming/TFM_function_renaming_dataset_creation.py\", line 512, in createGraphFromNXwithTarget\n",
      "    dataset =  self.createGraphFromNX(g,xlen, undirected)\n",
      "  File \"/media/disk/home/pau/Projectes/GNN-MThesis/src/function_renaming/TFM_function_renaming_dataset_creation.py\", line 498, in createGraphFromNX\n",
      "    x = torch.tensor(x, dtype=torch.float)\n",
      "RuntimeError: Precision loss when unpacking double\n"
     ]
    },
    {
     "name": "stdout",
     "output_type": "stream",
     "text": [
      "tmp/noisy_fixed02/raw/graphs01/Network/filezilla_exe/sub_49CAC0_edges.txt\n"
     ]
    },
    {
     "name": "stderr",
     "output_type": "stream",
     "text": [
      "Traceback (most recent call last):\n",
      "  File \"/media/disk/home/pau/Projectes/GNN-MThesis/src/function_renaming/TFM_function_renaming_dataset_creation.py\", line 262, in parseGraph\n",
      "    data = self.createGraphFromNXwithTarget(g,y,xlen,undirected=True)\n",
      "  File \"/media/disk/home/pau/Projectes/GNN-MThesis/src/function_renaming/TFM_function_renaming_dataset_creation.py\", line 512, in createGraphFromNXwithTarget\n",
      "    dataset =  self.createGraphFromNX(g,xlen, undirected)\n",
      "  File \"/media/disk/home/pau/Projectes/GNN-MThesis/src/function_renaming/TFM_function_renaming_dataset_creation.py\", line 498, in createGraphFromNX\n",
      "    x = torch.tensor(x, dtype=torch.float)\n",
      "RuntimeError: Precision loss when unpacking double\n"
     ]
    },
    {
     "name": "stdout",
     "output_type": "stream",
     "text": [
      "tmp/noisy_fixed02/raw/graphs01/Network/filezilla_exe/sub_430BE0_edges.txt\n"
     ]
    },
    {
     "name": "stderr",
     "output_type": "stream",
     "text": [
      "Traceback (most recent call last):\n",
      "  File \"/media/disk/home/pau/Projectes/GNN-MThesis/src/function_renaming/TFM_function_renaming_dataset_creation.py\", line 262, in parseGraph\n",
      "    data = self.createGraphFromNXwithTarget(g,y,xlen,undirected=True)\n",
      "  File \"/media/disk/home/pau/Projectes/GNN-MThesis/src/function_renaming/TFM_function_renaming_dataset_creation.py\", line 512, in createGraphFromNXwithTarget\n",
      "    dataset =  self.createGraphFromNX(g,xlen, undirected)\n",
      "  File \"/media/disk/home/pau/Projectes/GNN-MThesis/src/function_renaming/TFM_function_renaming_dataset_creation.py\", line 498, in createGraphFromNX\n",
      "    x = torch.tensor(x, dtype=torch.float)\n",
      "RuntimeError: Precision loss when unpacking double\n"
     ]
    },
    {
     "name": "stdout",
     "output_type": "stream",
     "text": [
      "tmp/noisy_fixed02/raw/graphs01/Network/filezilla_exe/sub_5CEF00_edges.txt\n"
     ]
    },
    {
     "name": "stderr",
     "output_type": "stream",
     "text": [
      "Traceback (most recent call last):\n",
      "  File \"/media/disk/home/pau/Projectes/GNN-MThesis/src/function_renaming/TFM_function_renaming_dataset_creation.py\", line 262, in parseGraph\n",
      "    data = self.createGraphFromNXwithTarget(g,y,xlen,undirected=True)\n",
      "  File \"/media/disk/home/pau/Projectes/GNN-MThesis/src/function_renaming/TFM_function_renaming_dataset_creation.py\", line 512, in createGraphFromNXwithTarget\n",
      "    dataset =  self.createGraphFromNX(g,xlen, undirected)\n",
      "  File \"/media/disk/home/pau/Projectes/GNN-MThesis/src/function_renaming/TFM_function_renaming_dataset_creation.py\", line 498, in createGraphFromNX\n",
      "    x = torch.tensor(x, dtype=torch.float)\n",
      "RuntimeError: Precision loss when unpacking double\n"
     ]
    },
    {
     "name": "stdout",
     "output_type": "stream",
     "text": [
      "tmp/noisy_fixed02/raw/graphs01/Network/filezilla_exe/sub_5F6950_edges.txt\n"
     ]
    },
    {
     "name": "stderr",
     "output_type": "stream",
     "text": [
      "Traceback (most recent call last):\n",
      "  File \"/media/disk/home/pau/Projectes/GNN-MThesis/src/function_renaming/TFM_function_renaming_dataset_creation.py\", line 262, in parseGraph\n",
      "    data = self.createGraphFromNXwithTarget(g,y,xlen,undirected=True)\n",
      "  File \"/media/disk/home/pau/Projectes/GNN-MThesis/src/function_renaming/TFM_function_renaming_dataset_creation.py\", line 512, in createGraphFromNXwithTarget\n",
      "    dataset =  self.createGraphFromNX(g,xlen, undirected)\n",
      "  File \"/media/disk/home/pau/Projectes/GNN-MThesis/src/function_renaming/TFM_function_renaming_dataset_creation.py\", line 498, in createGraphFromNX\n",
      "    x = torch.tensor(x, dtype=torch.float)\n",
      "RuntimeError: Precision loss when unpacking double\n"
     ]
    },
    {
     "name": "stdout",
     "output_type": "stream",
     "text": [
      "tmp/noisy_fixed02/raw/graphs01/Network/filezilla_exe/sub_80B9F0_edges.txt\n"
     ]
    },
    {
     "name": "stderr",
     "output_type": "stream",
     "text": [
      "Traceback (most recent call last):\n",
      "  File \"/media/disk/home/pau/Projectes/GNN-MThesis/src/function_renaming/TFM_function_renaming_dataset_creation.py\", line 262, in parseGraph\n",
      "    data = self.createGraphFromNXwithTarget(g,y,xlen,undirected=True)\n",
      "  File \"/media/disk/home/pau/Projectes/GNN-MThesis/src/function_renaming/TFM_function_renaming_dataset_creation.py\", line 512, in createGraphFromNXwithTarget\n",
      "    dataset =  self.createGraphFromNX(g,xlen, undirected)\n",
      "  File \"/media/disk/home/pau/Projectes/GNN-MThesis/src/function_renaming/TFM_function_renaming_dataset_creation.py\", line 498, in createGraphFromNX\n",
      "    x = torch.tensor(x, dtype=torch.float)\n",
      "RuntimeError: Precision loss when unpacking double\n"
     ]
    },
    {
     "name": "stdout",
     "output_type": "stream",
     "text": [
      "tmp/noisy_fixed02/raw/graphs01/Network/filezilla_exe/sub_793F90_edges.txt\n"
     ]
    },
    {
     "name": "stderr",
     "output_type": "stream",
     "text": [
      "Traceback (most recent call last):\n",
      "  File \"/media/disk/home/pau/Projectes/GNN-MThesis/src/function_renaming/TFM_function_renaming_dataset_creation.py\", line 262, in parseGraph\n",
      "    data = self.createGraphFromNXwithTarget(g,y,xlen,undirected=True)\n",
      "  File \"/media/disk/home/pau/Projectes/GNN-MThesis/src/function_renaming/TFM_function_renaming_dataset_creation.py\", line 512, in createGraphFromNXwithTarget\n",
      "    dataset =  self.createGraphFromNX(g,xlen, undirected)\n",
      "  File \"/media/disk/home/pau/Projectes/GNN-MThesis/src/function_renaming/TFM_function_renaming_dataset_creation.py\", line 498, in createGraphFromNX\n",
      "    x = torch.tensor(x, dtype=torch.float)\n",
      "RuntimeError: Precision loss when unpacking double\n"
     ]
    },
    {
     "name": "stdout",
     "output_type": "stream",
     "text": [
      "tmp/noisy_fixed02/raw/graphs01/Network/filezilla_exe/sub_457BD0_edges.txt\n",
      "tmp/noisy_fixed02/raw/graphs01/Network/filezilla_exe/sub_61F3B0_edges.txt\n"
     ]
    },
    {
     "name": "stderr",
     "output_type": "stream",
     "text": [
      "Traceback (most recent call last):\n",
      "  File \"/media/disk/home/pau/Projectes/GNN-MThesis/src/function_renaming/TFM_function_renaming_dataset_creation.py\", line 262, in parseGraph\n",
      "    data = self.createGraphFromNXwithTarget(g,y,xlen,undirected=True)\n",
      "  File \"/media/disk/home/pau/Projectes/GNN-MThesis/src/function_renaming/TFM_function_renaming_dataset_creation.py\", line 512, in createGraphFromNXwithTarget\n",
      "    dataset =  self.createGraphFromNX(g,xlen, undirected)\n",
      "  File \"/media/disk/home/pau/Projectes/GNN-MThesis/src/function_renaming/TFM_function_renaming_dataset_creation.py\", line 498, in createGraphFromNX\n",
      "    x = torch.tensor(x, dtype=torch.float)\n",
      "RuntimeError: Precision loss when unpacking double\n",
      "Traceback (most recent call last):\n",
      "  File \"/media/disk/home/pau/Projectes/GNN-MThesis/src/function_renaming/TFM_function_renaming_dataset_creation.py\", line 262, in parseGraph\n",
      "    data = self.createGraphFromNXwithTarget(g,y,xlen,undirected=True)\n",
      "  File \"/media/disk/home/pau/Projectes/GNN-MThesis/src/function_renaming/TFM_function_renaming_dataset_creation.py\", line 512, in createGraphFromNXwithTarget\n",
      "    dataset =  self.createGraphFromNX(g,xlen, undirected)\n",
      "  File \"/media/disk/home/pau/Projectes/GNN-MThesis/src/function_renaming/TFM_function_renaming_dataset_creation.py\", line 498, in createGraphFromNX\n",
      "    x = torch.tensor(x, dtype=torch.float)\n",
      "RuntimeError: Precision loss when unpacking double\n"
     ]
    },
    {
     "name": "stdout",
     "output_type": "stream",
     "text": [
      "tmp/noisy_fixed02/raw/graphs01/Network/filezilla_exe/sub_56AF70_edges.txt\n"
     ]
    },
    {
     "name": "stderr",
     "output_type": "stream",
     "text": [
      "Traceback (most recent call last):\n",
      "  File \"/media/disk/home/pau/Projectes/GNN-MThesis/src/function_renaming/TFM_function_renaming_dataset_creation.py\", line 262, in parseGraph\n",
      "    data = self.createGraphFromNXwithTarget(g,y,xlen,undirected=True)\n",
      "  File \"/media/disk/home/pau/Projectes/GNN-MThesis/src/function_renaming/TFM_function_renaming_dataset_creation.py\", line 512, in createGraphFromNXwithTarget\n",
      "    dataset =  self.createGraphFromNX(g,xlen, undirected)\n",
      "  File \"/media/disk/home/pau/Projectes/GNN-MThesis/src/function_renaming/TFM_function_renaming_dataset_creation.py\", line 498, in createGraphFromNX\n",
      "    x = torch.tensor(x, dtype=torch.float)\n",
      "RuntimeError: Precision loss when unpacking double\n"
     ]
    },
    {
     "name": "stdout",
     "output_type": "stream",
     "text": [
      "tmp/noisy_fixed02/raw/graphs01/Network/filezilla_exe/sub_75EDF0_edges.txt\n"
     ]
    },
    {
     "name": "stderr",
     "output_type": "stream",
     "text": [
      "Traceback (most recent call last):\n",
      "  File \"/media/disk/home/pau/Projectes/GNN-MThesis/src/function_renaming/TFM_function_renaming_dataset_creation.py\", line 262, in parseGraph\n",
      "    data = self.createGraphFromNXwithTarget(g,y,xlen,undirected=True)\n",
      "  File \"/media/disk/home/pau/Projectes/GNN-MThesis/src/function_renaming/TFM_function_renaming_dataset_creation.py\", line 512, in createGraphFromNXwithTarget\n",
      "    dataset =  self.createGraphFromNX(g,xlen, undirected)\n",
      "  File \"/media/disk/home/pau/Projectes/GNN-MThesis/src/function_renaming/TFM_function_renaming_dataset_creation.py\", line 498, in createGraphFromNX\n",
      "    x = torch.tensor(x, dtype=torch.float)\n",
      "RuntimeError: Precision loss when unpacking double\n"
     ]
    },
    {
     "name": "stdout",
     "output_type": "stream",
     "text": [
      "tmp/noisy_fixed02/raw/graphs01/Network/filezilla_exe/sub_9736B0_edges.txt\n"
     ]
    },
    {
     "name": "stderr",
     "output_type": "stream",
     "text": [
      "Traceback (most recent call last):\n",
      "  File \"/media/disk/home/pau/Projectes/GNN-MThesis/src/function_renaming/TFM_function_renaming_dataset_creation.py\", line 262, in parseGraph\n",
      "    data = self.createGraphFromNXwithTarget(g,y,xlen,undirected=True)\n",
      "  File \"/media/disk/home/pau/Projectes/GNN-MThesis/src/function_renaming/TFM_function_renaming_dataset_creation.py\", line 512, in createGraphFromNXwithTarget\n",
      "    dataset =  self.createGraphFromNX(g,xlen, undirected)\n",
      "  File \"/media/disk/home/pau/Projectes/GNN-MThesis/src/function_renaming/TFM_function_renaming_dataset_creation.py\", line 498, in createGraphFromNX\n",
      "    x = torch.tensor(x, dtype=torch.float)\n",
      "RuntimeError: Precision loss when unpacking double\n"
     ]
    },
    {
     "name": "stdout",
     "output_type": "stream",
     "text": [
      "tmp/noisy_fixed02/raw/graphs01/Network/filezilla_exe/sub_930C10_edges.txt\n"
     ]
    },
    {
     "name": "stderr",
     "output_type": "stream",
     "text": [
      "Traceback (most recent call last):\n",
      "  File \"/media/disk/home/pau/Projectes/GNN-MThesis/src/function_renaming/TFM_function_renaming_dataset_creation.py\", line 262, in parseGraph\n",
      "    data = self.createGraphFromNXwithTarget(g,y,xlen,undirected=True)\n",
      "  File \"/media/disk/home/pau/Projectes/GNN-MThesis/src/function_renaming/TFM_function_renaming_dataset_creation.py\", line 512, in createGraphFromNXwithTarget\n",
      "    dataset =  self.createGraphFromNX(g,xlen, undirected)\n",
      "  File \"/media/disk/home/pau/Projectes/GNN-MThesis/src/function_renaming/TFM_function_renaming_dataset_creation.py\", line 498, in createGraphFromNX\n",
      "    x = torch.tensor(x, dtype=torch.float)\n",
      "RuntimeError: Precision loss when unpacking double\n"
     ]
    },
    {
     "name": "stdout",
     "output_type": "stream",
     "text": [
      "tmp/noisy_fixed02/raw/graphs01/Network/filezilla_exe/sub_864410_edges.txt\n"
     ]
    },
    {
     "name": "stderr",
     "output_type": "stream",
     "text": [
      "Traceback (most recent call last):\n",
      "  File \"/media/disk/home/pau/Projectes/GNN-MThesis/src/function_renaming/TFM_function_renaming_dataset_creation.py\", line 262, in parseGraph\n",
      "    data = self.createGraphFromNXwithTarget(g,y,xlen,undirected=True)\n",
      "  File \"/media/disk/home/pau/Projectes/GNN-MThesis/src/function_renaming/TFM_function_renaming_dataset_creation.py\", line 512, in createGraphFromNXwithTarget\n",
      "    dataset =  self.createGraphFromNX(g,xlen, undirected)\n",
      "  File \"/media/disk/home/pau/Projectes/GNN-MThesis/src/function_renaming/TFM_function_renaming_dataset_creation.py\", line 498, in createGraphFromNX\n",
      "    x = torch.tensor(x, dtype=torch.float)\n",
      "RuntimeError: Precision loss when unpacking double\n"
     ]
    },
    {
     "name": "stdout",
     "output_type": "stream",
     "text": [
      "tmp/noisy_fixed02/raw/graphs01/Network/filezilla_exe/sub_51D060_edges.txt\n"
     ]
    },
    {
     "name": "stderr",
     "output_type": "stream",
     "text": [
      "Traceback (most recent call last):\n",
      "  File \"/media/disk/home/pau/Projectes/GNN-MThesis/src/function_renaming/TFM_function_renaming_dataset_creation.py\", line 262, in parseGraph\n",
      "    data = self.createGraphFromNXwithTarget(g,y,xlen,undirected=True)\n",
      "  File \"/media/disk/home/pau/Projectes/GNN-MThesis/src/function_renaming/TFM_function_renaming_dataset_creation.py\", line 512, in createGraphFromNXwithTarget\n",
      "    dataset =  self.createGraphFromNX(g,xlen, undirected)\n",
      "  File \"/media/disk/home/pau/Projectes/GNN-MThesis/src/function_renaming/TFM_function_renaming_dataset_creation.py\", line 498, in createGraphFromNX\n",
      "    x = torch.tensor(x, dtype=torch.float)\n",
      "RuntimeError: Precision loss when unpacking double\n"
     ]
    },
    {
     "name": "stdout",
     "output_type": "stream",
     "text": [
      "tmp/noisy_fixed02/raw/graphs01/Network/filezilla_exe/sub_5A1C80_edges.txt\n"
     ]
    },
    {
     "name": "stderr",
     "output_type": "stream",
     "text": [
      "Traceback (most recent call last):\n",
      "  File \"/media/disk/home/pau/Projectes/GNN-MThesis/src/function_renaming/TFM_function_renaming_dataset_creation.py\", line 262, in parseGraph\n",
      "    data = self.createGraphFromNXwithTarget(g,y,xlen,undirected=True)\n",
      "  File \"/media/disk/home/pau/Projectes/GNN-MThesis/src/function_renaming/TFM_function_renaming_dataset_creation.py\", line 512, in createGraphFromNXwithTarget\n",
      "    dataset =  self.createGraphFromNX(g,xlen, undirected)\n",
      "  File \"/media/disk/home/pau/Projectes/GNN-MThesis/src/function_renaming/TFM_function_renaming_dataset_creation.py\", line 498, in createGraphFromNX\n",
      "    x = torch.tensor(x, dtype=torch.float)\n",
      "RuntimeError: Precision loss when unpacking double\n"
     ]
    },
    {
     "name": "stdout",
     "output_type": "stream",
     "text": [
      "tmp/noisy_fixed02/raw/graphs01/Network/filezilla_exe/sub_97A140_edges.txt\n"
     ]
    },
    {
     "name": "stderr",
     "output_type": "stream",
     "text": [
      "Traceback (most recent call last):\n",
      "  File \"/media/disk/home/pau/Projectes/GNN-MThesis/src/function_renaming/TFM_function_renaming_dataset_creation.py\", line 262, in parseGraph\n",
      "    data = self.createGraphFromNXwithTarget(g,y,xlen,undirected=True)\n",
      "  File \"/media/disk/home/pau/Projectes/GNN-MThesis/src/function_renaming/TFM_function_renaming_dataset_creation.py\", line 512, in createGraphFromNXwithTarget\n",
      "    dataset =  self.createGraphFromNX(g,xlen, undirected)\n",
      "  File \"/media/disk/home/pau/Projectes/GNN-MThesis/src/function_renaming/TFM_function_renaming_dataset_creation.py\", line 498, in createGraphFromNX\n",
      "    x = torch.tensor(x, dtype=torch.float)\n",
      "RuntimeError: Precision loss when unpacking double\n"
     ]
    },
    {
     "name": "stdout",
     "output_type": "stream",
     "text": [
      "tmp/noisy_fixed02/raw/graphs01/Network/filezilla_exe/sub_933C00_edges.txt\n"
     ]
    },
    {
     "name": "stderr",
     "output_type": "stream",
     "text": [
      "Traceback (most recent call last):\n",
      "  File \"/media/disk/home/pau/Projectes/GNN-MThesis/src/function_renaming/TFM_function_renaming_dataset_creation.py\", line 262, in parseGraph\n",
      "    data = self.createGraphFromNXwithTarget(g,y,xlen,undirected=True)\n",
      "  File \"/media/disk/home/pau/Projectes/GNN-MThesis/src/function_renaming/TFM_function_renaming_dataset_creation.py\", line 512, in createGraphFromNXwithTarget\n",
      "    dataset =  self.createGraphFromNX(g,xlen, undirected)\n",
      "  File \"/media/disk/home/pau/Projectes/GNN-MThesis/src/function_renaming/TFM_function_renaming_dataset_creation.py\", line 498, in createGraphFromNX\n",
      "    x = torch.tensor(x, dtype=torch.float)\n",
      "RuntimeError: Precision loss when unpacking double\n"
     ]
    },
    {
     "name": "stdout",
     "output_type": "stream",
     "text": [
      "tmp/noisy_fixed02/raw/graphs01/Network/filezilla_exe/sub_5F6080_edges.txt\n"
     ]
    },
    {
     "name": "stderr",
     "output_type": "stream",
     "text": [
      "Traceback (most recent call last):\n",
      "  File \"/media/disk/home/pau/Projectes/GNN-MThesis/src/function_renaming/TFM_function_renaming_dataset_creation.py\", line 262, in parseGraph\n",
      "    data = self.createGraphFromNXwithTarget(g,y,xlen,undirected=True)\n",
      "  File \"/media/disk/home/pau/Projectes/GNN-MThesis/src/function_renaming/TFM_function_renaming_dataset_creation.py\", line 512, in createGraphFromNXwithTarget\n",
      "    dataset =  self.createGraphFromNX(g,xlen, undirected)\n",
      "  File \"/media/disk/home/pau/Projectes/GNN-MThesis/src/function_renaming/TFM_function_renaming_dataset_creation.py\", line 498, in createGraphFromNX\n",
      "    x = torch.tensor(x, dtype=torch.float)\n",
      "RuntimeError: Precision loss when unpacking double\n"
     ]
    },
    {
     "name": "stdout",
     "output_type": "stream",
     "text": [
      "tmp/noisy_fixed02/raw/graphs01/Network/filezilla_exe/sub_45FE00_edges.txt\n"
     ]
    },
    {
     "name": "stderr",
     "output_type": "stream",
     "text": [
      "Traceback (most recent call last):\n",
      "  File \"/media/disk/home/pau/Projectes/GNN-MThesis/src/function_renaming/TFM_function_renaming_dataset_creation.py\", line 262, in parseGraph\n",
      "    data = self.createGraphFromNXwithTarget(g,y,xlen,undirected=True)\n",
      "  File \"/media/disk/home/pau/Projectes/GNN-MThesis/src/function_renaming/TFM_function_renaming_dataset_creation.py\", line 512, in createGraphFromNXwithTarget\n",
      "    dataset =  self.createGraphFromNX(g,xlen, undirected)\n",
      "  File \"/media/disk/home/pau/Projectes/GNN-MThesis/src/function_renaming/TFM_function_renaming_dataset_creation.py\", line 498, in createGraphFromNX\n",
      "    x = torch.tensor(x, dtype=torch.float)\n",
      "RuntimeError: Precision loss when unpacking double\n"
     ]
    },
    {
     "name": "stdout",
     "output_type": "stream",
     "text": [
      "tmp/noisy_fixed02/raw/graphs01/Network/filezilla_exe/sub_86DDA0_edges.txt\n"
     ]
    },
    {
     "name": "stderr",
     "output_type": "stream",
     "text": [
      "Traceback (most recent call last):\n",
      "  File \"/media/disk/home/pau/Projectes/GNN-MThesis/src/function_renaming/TFM_function_renaming_dataset_creation.py\", line 262, in parseGraph\n",
      "    data = self.createGraphFromNXwithTarget(g,y,xlen,undirected=True)\n",
      "  File \"/media/disk/home/pau/Projectes/GNN-MThesis/src/function_renaming/TFM_function_renaming_dataset_creation.py\", line 512, in createGraphFromNXwithTarget\n",
      "    dataset =  self.createGraphFromNX(g,xlen, undirected)\n",
      "  File \"/media/disk/home/pau/Projectes/GNN-MThesis/src/function_renaming/TFM_function_renaming_dataset_creation.py\", line 498, in createGraphFromNX\n",
      "    x = torch.tensor(x, dtype=torch.float)\n",
      "RuntimeError: Precision loss when unpacking double\n"
     ]
    },
    {
     "name": "stdout",
     "output_type": "stream",
     "text": [
      "tmp/noisy_fixed02/raw/graphs01/Network/filezilla_exe/sub_91FFA0_edges.txt\n"
     ]
    },
    {
     "name": "stderr",
     "output_type": "stream",
     "text": [
      "Traceback (most recent call last):\n",
      "  File \"/media/disk/home/pau/Projectes/GNN-MThesis/src/function_renaming/TFM_function_renaming_dataset_creation.py\", line 262, in parseGraph\n",
      "    data = self.createGraphFromNXwithTarget(g,y,xlen,undirected=True)\n",
      "  File \"/media/disk/home/pau/Projectes/GNN-MThesis/src/function_renaming/TFM_function_renaming_dataset_creation.py\", line 512, in createGraphFromNXwithTarget\n",
      "    dataset =  self.createGraphFromNX(g,xlen, undirected)\n",
      "  File \"/media/disk/home/pau/Projectes/GNN-MThesis/src/function_renaming/TFM_function_renaming_dataset_creation.py\", line 498, in createGraphFromNX\n",
      "    x = torch.tensor(x, dtype=torch.float)\n",
      "RuntimeError: Precision loss when unpacking double\n"
     ]
    },
    {
     "name": "stdout",
     "output_type": "stream",
     "text": [
      "tmp/noisy_fixed02/raw/graphs01/Network/filezilla_exe/sub_7338E0_edges.txt\n"
     ]
    },
    {
     "name": "stderr",
     "output_type": "stream",
     "text": [
      "Traceback (most recent call last):\n",
      "  File \"/media/disk/home/pau/Projectes/GNN-MThesis/src/function_renaming/TFM_function_renaming_dataset_creation.py\", line 262, in parseGraph\n",
      "    data = self.createGraphFromNXwithTarget(g,y,xlen,undirected=True)\n",
      "  File \"/media/disk/home/pau/Projectes/GNN-MThesis/src/function_renaming/TFM_function_renaming_dataset_creation.py\", line 512, in createGraphFromNXwithTarget\n",
      "    dataset =  self.createGraphFromNX(g,xlen, undirected)\n",
      "  File \"/media/disk/home/pau/Projectes/GNN-MThesis/src/function_renaming/TFM_function_renaming_dataset_creation.py\", line 498, in createGraphFromNX\n",
      "    x = torch.tensor(x, dtype=torch.float)\n",
      "RuntimeError: Precision loss when unpacking double\n"
     ]
    },
    {
     "name": "stdout",
     "output_type": "stream",
     "text": [
      "tmp/noisy_fixed02/raw/graphs01/Network/filezilla_exe/sub_97DFE0_edges.txt\n"
     ]
    },
    {
     "name": "stderr",
     "output_type": "stream",
     "text": [
      "Traceback (most recent call last):\n",
      "  File \"/media/disk/home/pau/Projectes/GNN-MThesis/src/function_renaming/TFM_function_renaming_dataset_creation.py\", line 262, in parseGraph\n",
      "    data = self.createGraphFromNXwithTarget(g,y,xlen,undirected=True)\n",
      "  File \"/media/disk/home/pau/Projectes/GNN-MThesis/src/function_renaming/TFM_function_renaming_dataset_creation.py\", line 512, in createGraphFromNXwithTarget\n",
      "    dataset =  self.createGraphFromNX(g,xlen, undirected)\n",
      "  File \"/media/disk/home/pau/Projectes/GNN-MThesis/src/function_renaming/TFM_function_renaming_dataset_creation.py\", line 498, in createGraphFromNX\n",
      "    x = torch.tensor(x, dtype=torch.float)\n",
      "RuntimeError: Precision loss when unpacking double\n"
     ]
    },
    {
     "name": "stdout",
     "output_type": "stream",
     "text": [
      "tmp/noisy_fixed02/raw/graphs01/Network/filezilla_exe/sub_75FF70_edges.txt\n"
     ]
    },
    {
     "name": "stderr",
     "output_type": "stream",
     "text": [
      "Traceback (most recent call last):\n",
      "  File \"/media/disk/home/pau/Projectes/GNN-MThesis/src/function_renaming/TFM_function_renaming_dataset_creation.py\", line 262, in parseGraph\n",
      "    data = self.createGraphFromNXwithTarget(g,y,xlen,undirected=True)\n",
      "  File \"/media/disk/home/pau/Projectes/GNN-MThesis/src/function_renaming/TFM_function_renaming_dataset_creation.py\", line 512, in createGraphFromNXwithTarget\n",
      "    dataset =  self.createGraphFromNX(g,xlen, undirected)\n",
      "  File \"/media/disk/home/pau/Projectes/GNN-MThesis/src/function_renaming/TFM_function_renaming_dataset_creation.py\", line 498, in createGraphFromNX\n",
      "    x = torch.tensor(x, dtype=torch.float)\n",
      "RuntimeError: Precision loss when unpacking double\n"
     ]
    },
    {
     "name": "stdout",
     "output_type": "stream",
     "text": [
      "tmp/noisy_fixed02/raw/graphs01/Network/filezilla_exe/sub_5CE760_edges.txt\n"
     ]
    },
    {
     "name": "stderr",
     "output_type": "stream",
     "text": [
      "Traceback (most recent call last):\n",
      "  File \"/media/disk/home/pau/Projectes/GNN-MThesis/src/function_renaming/TFM_function_renaming_dataset_creation.py\", line 262, in parseGraph\n",
      "    data = self.createGraphFromNXwithTarget(g,y,xlen,undirected=True)\n",
      "  File \"/media/disk/home/pau/Projectes/GNN-MThesis/src/function_renaming/TFM_function_renaming_dataset_creation.py\", line 512, in createGraphFromNXwithTarget\n",
      "    dataset =  self.createGraphFromNX(g,xlen, undirected)\n",
      "  File \"/media/disk/home/pau/Projectes/GNN-MThesis/src/function_renaming/TFM_function_renaming_dataset_creation.py\", line 498, in createGraphFromNX\n",
      "    x = torch.tensor(x, dtype=torch.float)\n",
      "RuntimeError: Precision loss when unpacking double\n"
     ]
    },
    {
     "name": "stdout",
     "output_type": "stream",
     "text": [
      "tmp/noisy_fixed02/raw/graphs01/Network/filezilla_exe/sub_7EE560_edges.txt\n"
     ]
    },
    {
     "name": "stderr",
     "output_type": "stream",
     "text": [
      "Traceback (most recent call last):\n",
      "  File \"/media/disk/home/pau/Projectes/GNN-MThesis/src/function_renaming/TFM_function_renaming_dataset_creation.py\", line 262, in parseGraph\n",
      "    data = self.createGraphFromNXwithTarget(g,y,xlen,undirected=True)\n",
      "  File \"/media/disk/home/pau/Projectes/GNN-MThesis/src/function_renaming/TFM_function_renaming_dataset_creation.py\", line 512, in createGraphFromNXwithTarget\n",
      "    dataset =  self.createGraphFromNX(g,xlen, undirected)\n",
      "  File \"/media/disk/home/pau/Projectes/GNN-MThesis/src/function_renaming/TFM_function_renaming_dataset_creation.py\", line 498, in createGraphFromNX\n",
      "    x = torch.tensor(x, dtype=torch.float)\n",
      "RuntimeError: Precision loss when unpacking double\n"
     ]
    },
    {
     "name": "stdout",
     "output_type": "stream",
     "text": [
      "tmp/noisy_fixed02/raw/graphs01/Network/filezilla_exe/sub_40A690_edges.txt\n"
     ]
    },
    {
     "name": "stderr",
     "output_type": "stream",
     "text": [
      "Traceback (most recent call last):\n",
      "  File \"/media/disk/home/pau/Projectes/GNN-MThesis/src/function_renaming/TFM_function_renaming_dataset_creation.py\", line 262, in parseGraph\n",
      "    data = self.createGraphFromNXwithTarget(g,y,xlen,undirected=True)\n",
      "  File \"/media/disk/home/pau/Projectes/GNN-MThesis/src/function_renaming/TFM_function_renaming_dataset_creation.py\", line 512, in createGraphFromNXwithTarget\n",
      "    dataset =  self.createGraphFromNX(g,xlen, undirected)\n",
      "  File \"/media/disk/home/pau/Projectes/GNN-MThesis/src/function_renaming/TFM_function_renaming_dataset_creation.py\", line 498, in createGraphFromNX\n",
      "    x = torch.tensor(x, dtype=torch.float)\n",
      "RuntimeError: Precision loss when unpacking double\n"
     ]
    },
    {
     "name": "stdout",
     "output_type": "stream",
     "text": [
      "tmp/noisy_fixed02/raw/graphs01/Network/filezilla_exe/sub_456A40_edges.txt\n"
     ]
    },
    {
     "name": "stderr",
     "output_type": "stream",
     "text": [
      "Traceback (most recent call last):\n",
      "  File \"/media/disk/home/pau/Projectes/GNN-MThesis/src/function_renaming/TFM_function_renaming_dataset_creation.py\", line 262, in parseGraph\n",
      "    data = self.createGraphFromNXwithTarget(g,y,xlen,undirected=True)\n",
      "  File \"/media/disk/home/pau/Projectes/GNN-MThesis/src/function_renaming/TFM_function_renaming_dataset_creation.py\", line 512, in createGraphFromNXwithTarget\n",
      "    dataset =  self.createGraphFromNX(g,xlen, undirected)\n",
      "  File \"/media/disk/home/pau/Projectes/GNN-MThesis/src/function_renaming/TFM_function_renaming_dataset_creation.py\", line 498, in createGraphFromNX\n",
      "    x = torch.tensor(x, dtype=torch.float)\n",
      "RuntimeError: Precision loss when unpacking double\n"
     ]
    },
    {
     "name": "stdout",
     "output_type": "stream",
     "text": [
      "tmp/noisy_fixed02/raw/graphs01/Network/filezilla_exe/sub_5C46C0_edges.txt\n"
     ]
    },
    {
     "name": "stderr",
     "output_type": "stream",
     "text": [
      "Traceback (most recent call last):\n",
      "  File \"/media/disk/home/pau/Projectes/GNN-MThesis/src/function_renaming/TFM_function_renaming_dataset_creation.py\", line 262, in parseGraph\n",
      "    data = self.createGraphFromNXwithTarget(g,y,xlen,undirected=True)\n",
      "  File \"/media/disk/home/pau/Projectes/GNN-MThesis/src/function_renaming/TFM_function_renaming_dataset_creation.py\", line 512, in createGraphFromNXwithTarget\n",
      "    dataset =  self.createGraphFromNX(g,xlen, undirected)\n",
      "  File \"/media/disk/home/pau/Projectes/GNN-MThesis/src/function_renaming/TFM_function_renaming_dataset_creation.py\", line 498, in createGraphFromNX\n",
      "    x = torch.tensor(x, dtype=torch.float)\n",
      "RuntimeError: Precision loss when unpacking double\n"
     ]
    },
    {
     "name": "stdout",
     "output_type": "stream",
     "text": [
      "tmp/noisy_fixed02/raw/graphs01/Network/filezilla_exe/sub_50BF40_edges.txt\n",
      "tmp/noisy_fixed02/raw/graphs01/Network/filezilla_exe/sub_5CEB80_edges.txt\n"
     ]
    },
    {
     "name": "stderr",
     "output_type": "stream",
     "text": [
      "Traceback (most recent call last):\n",
      "  File \"/media/disk/home/pau/Projectes/GNN-MThesis/src/function_renaming/TFM_function_renaming_dataset_creation.py\", line 262, in parseGraph\n",
      "    data = self.createGraphFromNXwithTarget(g,y,xlen,undirected=True)\n",
      "  File \"/media/disk/home/pau/Projectes/GNN-MThesis/src/function_renaming/TFM_function_renaming_dataset_creation.py\", line 512, in createGraphFromNXwithTarget\n",
      "    dataset =  self.createGraphFromNX(g,xlen, undirected)\n",
      "  File \"/media/disk/home/pau/Projectes/GNN-MThesis/src/function_renaming/TFM_function_renaming_dataset_creation.py\", line 498, in createGraphFromNX\n",
      "    x = torch.tensor(x, dtype=torch.float)\n",
      "RuntimeError: Precision loss when unpacking double\n",
      "Traceback (most recent call last):\n",
      "  File \"/media/disk/home/pau/Projectes/GNN-MThesis/src/function_renaming/TFM_function_renaming_dataset_creation.py\", line 262, in parseGraph\n",
      "    data = self.createGraphFromNXwithTarget(g,y,xlen,undirected=True)\n",
      "  File \"/media/disk/home/pau/Projectes/GNN-MThesis/src/function_renaming/TFM_function_renaming_dataset_creation.py\", line 512, in createGraphFromNXwithTarget\n",
      "    dataset =  self.createGraphFromNX(g,xlen, undirected)\n",
      "  File \"/media/disk/home/pau/Projectes/GNN-MThesis/src/function_renaming/TFM_function_renaming_dataset_creation.py\", line 498, in createGraphFromNX\n",
      "    x = torch.tensor(x, dtype=torch.float)\n",
      "RuntimeError: Precision loss when unpacking double\n"
     ]
    },
    {
     "name": "stdout",
     "output_type": "stream",
     "text": [
      "tmp/noisy_fixed02/raw/graphs01/Network/filezilla_exe/sub_838120_edges.txt\n"
     ]
    },
    {
     "name": "stderr",
     "output_type": "stream",
     "text": [
      "Traceback (most recent call last):\n",
      "  File \"/media/disk/home/pau/Projectes/GNN-MThesis/src/function_renaming/TFM_function_renaming_dataset_creation.py\", line 262, in parseGraph\n",
      "    data = self.createGraphFromNXwithTarget(g,y,xlen,undirected=True)\n",
      "  File \"/media/disk/home/pau/Projectes/GNN-MThesis/src/function_renaming/TFM_function_renaming_dataset_creation.py\", line 512, in createGraphFromNXwithTarget\n",
      "    dataset =  self.createGraphFromNX(g,xlen, undirected)\n",
      "  File \"/media/disk/home/pau/Projectes/GNN-MThesis/src/function_renaming/TFM_function_renaming_dataset_creation.py\", line 498, in createGraphFromNX\n",
      "    x = torch.tensor(x, dtype=torch.float)\n",
      "RuntimeError: Precision loss when unpacking double\n"
     ]
    },
    {
     "name": "stdout",
     "output_type": "stream",
     "text": [
      "tmp/noisy_fixed02/raw/graphs01/Network/filezilla_exe/sub_4310B0_edges.txt\n"
     ]
    },
    {
     "name": "stderr",
     "output_type": "stream",
     "text": [
      "Traceback (most recent call last):\n",
      "  File \"/media/disk/home/pau/Projectes/GNN-MThesis/src/function_renaming/TFM_function_renaming_dataset_creation.py\", line 262, in parseGraph\n",
      "    data = self.createGraphFromNXwithTarget(g,y,xlen,undirected=True)\n",
      "  File \"/media/disk/home/pau/Projectes/GNN-MThesis/src/function_renaming/TFM_function_renaming_dataset_creation.py\", line 512, in createGraphFromNXwithTarget\n",
      "    dataset =  self.createGraphFromNX(g,xlen, undirected)\n",
      "  File \"/media/disk/home/pau/Projectes/GNN-MThesis/src/function_renaming/TFM_function_renaming_dataset_creation.py\", line 498, in createGraphFromNX\n",
      "    x = torch.tensor(x, dtype=torch.float)\n",
      "RuntimeError: Precision loss when unpacking double\n"
     ]
    },
    {
     "name": "stdout",
     "output_type": "stream",
     "text": [
      "tmp/noisy_fixed02/raw/graphs01/Network/filezilla_exe/sub_5C3700_edges.txt\n"
     ]
    },
    {
     "name": "stderr",
     "output_type": "stream",
     "text": [
      "Traceback (most recent call last):\n",
      "  File \"/media/disk/home/pau/Projectes/GNN-MThesis/src/function_renaming/TFM_function_renaming_dataset_creation.py\", line 262, in parseGraph\n",
      "    data = self.createGraphFromNXwithTarget(g,y,xlen,undirected=True)\n",
      "  File \"/media/disk/home/pau/Projectes/GNN-MThesis/src/function_renaming/TFM_function_renaming_dataset_creation.py\", line 512, in createGraphFromNXwithTarget\n",
      "    dataset =  self.createGraphFromNX(g,xlen, undirected)\n",
      "  File \"/media/disk/home/pau/Projectes/GNN-MThesis/src/function_renaming/TFM_function_renaming_dataset_creation.py\", line 498, in createGraphFromNX\n",
      "    x = torch.tensor(x, dtype=torch.float)\n",
      "RuntimeError: Precision loss when unpacking double\n"
     ]
    },
    {
     "name": "stdout",
     "output_type": "stream",
     "text": [
      "tmp/noisy_fixed02/raw/graphs01/Network/filezilla_exe/sub_7A24F0_edges.txt\n"
     ]
    },
    {
     "name": "stderr",
     "output_type": "stream",
     "text": [
      "Traceback (most recent call last):\n",
      "  File \"/media/disk/home/pau/Projectes/GNN-MThesis/src/function_renaming/TFM_function_renaming_dataset_creation.py\", line 262, in parseGraph\n",
      "    data = self.createGraphFromNXwithTarget(g,y,xlen,undirected=True)\n",
      "  File \"/media/disk/home/pau/Projectes/GNN-MThesis/src/function_renaming/TFM_function_renaming_dataset_creation.py\", line 512, in createGraphFromNXwithTarget\n",
      "    dataset =  self.createGraphFromNX(g,xlen, undirected)\n",
      "  File \"/media/disk/home/pau/Projectes/GNN-MThesis/src/function_renaming/TFM_function_renaming_dataset_creation.py\", line 498, in createGraphFromNX\n",
      "    x = torch.tensor(x, dtype=torch.float)\n",
      "RuntimeError: Precision loss when unpacking double\n"
     ]
    },
    {
     "name": "stdout",
     "output_type": "stream",
     "text": [
      "tmp/noisy_fixed02/raw/graphs01/Network/filezilla_exe/sub_955AF0_edges.txt\n"
     ]
    },
    {
     "name": "stderr",
     "output_type": "stream",
     "text": [
      "Traceback (most recent call last):\n",
      "  File \"/media/disk/home/pau/Projectes/GNN-MThesis/src/function_renaming/TFM_function_renaming_dataset_creation.py\", line 262, in parseGraph\n",
      "    data = self.createGraphFromNXwithTarget(g,y,xlen,undirected=True)\n",
      "  File \"/media/disk/home/pau/Projectes/GNN-MThesis/src/function_renaming/TFM_function_renaming_dataset_creation.py\", line 512, in createGraphFromNXwithTarget\n",
      "    dataset =  self.createGraphFromNX(g,xlen, undirected)\n",
      "  File \"/media/disk/home/pau/Projectes/GNN-MThesis/src/function_renaming/TFM_function_renaming_dataset_creation.py\", line 498, in createGraphFromNX\n",
      "    x = torch.tensor(x, dtype=torch.float)\n",
      "RuntimeError: Precision loss when unpacking double\n"
     ]
    },
    {
     "name": "stdout",
     "output_type": "stream",
     "text": [
      "tmp/noisy_fixed02/raw/graphs01/Network/filezilla_exe/sub_63C1C0_edges.txt\n"
     ]
    },
    {
     "name": "stderr",
     "output_type": "stream",
     "text": [
      "Traceback (most recent call last):\n",
      "  File \"/media/disk/home/pau/Projectes/GNN-MThesis/src/function_renaming/TFM_function_renaming_dataset_creation.py\", line 262, in parseGraph\n",
      "    data = self.createGraphFromNXwithTarget(g,y,xlen,undirected=True)\n",
      "  File \"/media/disk/home/pau/Projectes/GNN-MThesis/src/function_renaming/TFM_function_renaming_dataset_creation.py\", line 512, in createGraphFromNXwithTarget\n",
      "    dataset =  self.createGraphFromNX(g,xlen, undirected)\n",
      "  File \"/media/disk/home/pau/Projectes/GNN-MThesis/src/function_renaming/TFM_function_renaming_dataset_creation.py\", line 498, in createGraphFromNX\n",
      "    x = torch.tensor(x, dtype=torch.float)\n",
      "RuntimeError: Precision loss when unpacking double\n"
     ]
    },
    {
     "name": "stdout",
     "output_type": "stream",
     "text": [
      "tmp/noisy_fixed02/raw/graphs01/Network/filezilla_exe/sub_5D0CF0_edges.txt\n"
     ]
    },
    {
     "name": "stderr",
     "output_type": "stream",
     "text": [
      "Traceback (most recent call last):\n",
      "  File \"/media/disk/home/pau/Projectes/GNN-MThesis/src/function_renaming/TFM_function_renaming_dataset_creation.py\", line 262, in parseGraph\n",
      "    data = self.createGraphFromNXwithTarget(g,y,xlen,undirected=True)\n",
      "  File \"/media/disk/home/pau/Projectes/GNN-MThesis/src/function_renaming/TFM_function_renaming_dataset_creation.py\", line 512, in createGraphFromNXwithTarget\n",
      "    dataset =  self.createGraphFromNX(g,xlen, undirected)\n",
      "  File \"/media/disk/home/pau/Projectes/GNN-MThesis/src/function_renaming/TFM_function_renaming_dataset_creation.py\", line 498, in createGraphFromNX\n",
      "    x = torch.tensor(x, dtype=torch.float)\n",
      "RuntimeError: Precision loss when unpacking double\n"
     ]
    },
    {
     "name": "stdout",
     "output_type": "stream",
     "text": [
      "{ \"type\":_\"phrase\",_\"content\":_\"[esi]      ; lpMem\"}\n",
      "{ \"type\":_\"phrase\",_\"content\":_\"[esi]      ; lpMem\"}\n",
      "{ \"type\":_\"phrase\",_\"content\":_\"[esi]      ; lpMem\"}\n",
      "{ \"type\":_\"phrase\",_\"content\":_\"[ebx]      ; nIDDlgItem\"}\n",
      "{ \"type\":_\"phrase\",_\"content\":_\"[rbx]      ; Ptr\"}\n",
      "tmp/noisy_fixed02/raw/graphs01/Disk/streams64_exe/sub_140004C00_edges.txt\n"
     ]
    },
    {
     "name": "stderr",
     "output_type": "stream",
     "text": [
      "Traceback (most recent call last):\n",
      "  File \"/media/disk/home/pau/Projectes/GNN-MThesis/src/function_renaming/TFM_function_renaming_dataset_creation.py\", line 262, in parseGraph\n",
      "    data = self.createGraphFromNXwithTarget(g,y,xlen,undirected=True)\n",
      "  File \"/media/disk/home/pau/Projectes/GNN-MThesis/src/function_renaming/TFM_function_renaming_dataset_creation.py\", line 512, in createGraphFromNXwithTarget\n",
      "    dataset =  self.createGraphFromNX(g,xlen, undirected)\n",
      "  File \"/media/disk/home/pau/Projectes/GNN-MThesis/src/function_renaming/TFM_function_renaming_dataset_creation.py\", line 498, in createGraphFromNX\n",
      "    x = torch.tensor(x, dtype=torch.float)\n",
      "RuntimeError: Precision loss when unpacking double\n"
     ]
    },
    {
     "name": "stdout",
     "output_type": "stream",
     "text": [
      "{ \"type\":_\"phrase\",_\"content\":_\"[rsi]      ; hFile\"}\n",
      "{ \"type\":_\"phrase\",_\"content\":_\"[r15+rcx]  ; hFile\"}\n",
      "{ \"type\":_\"phrase\",_\"content\":_\"[rdi]      ; Ptr\"}\n",
      "{ \"type\":_\"phrase\",_\"content\":_\"[rcx]      ; Microsoft VisualC v7/11 64bit runtime\"}\n",
      "{ \"type\":_\"phrase\",_\"content\":_\"[rax+rcx]  ; hFile\"}\n",
      "{ \"type\":_\"phrase\",_\"content\":_\"[rdi]      ; pOwner\"}\n",
      "{ \"type\":_\"phrase\",_\"content\":_\"[rcx]      ; Microsoft VisualC v7/11 64bit runtime\"}\n",
      "{ \"type\":_\"phrase\",_\"content\":_\"[rbx]      ; Ptr\"}\n",
      "{ \"type\":_\"phrase\",_\"content\":_\"[rdi]      ; Ptr\"}\n",
      "tmp/noisy_fixed02/raw/graphs01/Disk/ru64_exe/sub_140004F90_edges.txt\n"
     ]
    },
    {
     "name": "stderr",
     "output_type": "stream",
     "text": [
      "Traceback (most recent call last):\n",
      "  File \"/media/disk/home/pau/Projectes/GNN-MThesis/src/function_renaming/TFM_function_renaming_dataset_creation.py\", line 262, in parseGraph\n",
      "    data = self.createGraphFromNXwithTarget(g,y,xlen,undirected=True)\n",
      "  File \"/media/disk/home/pau/Projectes/GNN-MThesis/src/function_renaming/TFM_function_renaming_dataset_creation.py\", line 512, in createGraphFromNXwithTarget\n",
      "    dataset =  self.createGraphFromNX(g,xlen, undirected)\n",
      "  File \"/media/disk/home/pau/Projectes/GNN-MThesis/src/function_renaming/TFM_function_renaming_dataset_creation.py\", line 498, in createGraphFromNX\n",
      "    x = torch.tensor(x, dtype=torch.float)\n",
      "RuntimeError: Precision loss when unpacking double\n"
     ]
    },
    {
     "name": "stdout",
     "output_type": "stream",
     "text": [
      "{ \"type\":_\"phrase\",_\"content\":_\"[rsi]      ; hFile\"}\n",
      "{ \"type\":_\"phrase\",_\"content\":_\"[rax+rcx]  ; hFile\"}\n",
      "{ \"type\":_\"phrase\",_\"content\":_\"[rbx]      ; String\"}\n",
      "tmp/noisy_fixed02/raw/graphs01/Disk/regshot_x64_exe/memmove_edges.txt\n",
      "{ \"type\":_\"phrase\",_\"content\":_\"[rsi]       ; lpString\"}\n",
      "{ \"type\":_\"phrase\",_\"content\":_\"[rdi]       ; lpMem\"}\n"
     ]
    },
    {
     "name": "stderr",
     "output_type": "stream",
     "text": [
      "Traceback (most recent call last):\n",
      "  File \"/home/pau/.pyenv/versions/3.6.7/envs/gnn-pytorch/lib/python3.6/site-packages/networkx/readwrite/edgelist.py\", line 277, in parse_edgelist\n",
      "    edgedata = dict(literal_eval(' '.join(d)))\n",
      "  File \"/home/pau/.pyenv/versions/3.6.7/lib/python3.6/ast.py\", line 48, in literal_eval\n",
      "    node_or_string = parse(node_or_string, mode='eval')\n",
      "  File \"/home/pau/.pyenv/versions/3.6.7/lib/python3.6/ast.py\", line 35, in parse\n",
      "    return compile(source, filename, mode, PyCF_ONLY_AST)\n",
      "  File \"<unknown>\", line 1\n",
      "    pbyte { \"type\": \"phrase\" }\n",
      "          ^\n",
      "SyntaxError: invalid syntax\n",
      "\n",
      "During handling of the above exception, another exception occurred:\n",
      "\n",
      "Traceback (most recent call last):\n",
      "  File \"/media/disk/home/pau/Projectes/GNN-MThesis/src/function_renaming/TFM_function_renaming_dataset_creation.py\", line 260, in parseGraph\n",
      "    g = readGraph('',filename)\n",
      "  File \"/media/disk/home/pau/Projectes/GNN-MThesis/src/function_renaming/TFM_function_renaming_dataset_creation.py\", line 66, in readGraph\n",
      "    g = nx.read_edgelist(folder+filename)\n",
      "  File \"</home/pau/.pyenv/versions/3.6.7/envs/gnn-pytorch/lib/python3.6/site-packages/decorator.py:decorator-gen-707>\", line 2, in read_edgelist\n",
      "  File \"/home/pau/.pyenv/versions/3.6.7/envs/gnn-pytorch/lib/python3.6/site-packages/networkx/utils/decorators.py\", line 240, in _open_file\n",
      "    result = func_to_be_decorated(*new_args, **kwargs)\n",
      "  File \"/home/pau/.pyenv/versions/3.6.7/envs/gnn-pytorch/lib/python3.6/site-packages/networkx/readwrite/edgelist.py\", line 369, in read_edgelist\n",
      "    data=data)\n",
      "  File \"/home/pau/.pyenv/versions/3.6.7/envs/gnn-pytorch/lib/python3.6/site-packages/networkx/readwrite/edgelist.py\", line 280, in parse_edgelist\n",
      "    \"Failed to convert edge data (%s) to dictionary.\" % (d))\n",
      "TypeError: Failed to convert edge data (['pbyte', '{', '\"type\":', '\"phrase\"', '}']) to dictionary.\n"
     ]
    },
    {
     "name": "stdout",
     "output_type": "stream",
     "text": [
      "{ \"type\":_\"phrase\",_\"content\":_\"[rbx]      ; Ptr\"}\n",
      "{ \"type\":_\"phrase\",_\"content\":_\"[r14]      ; lpBuffer\"}\n",
      "tmp/noisy_fixed02/raw/graphs01/Disk/regshot_x64_exe/memset_edges.txt\n"
     ]
    },
    {
     "name": "stderr",
     "output_type": "stream",
     "text": [
      "Traceback (most recent call last):\n",
      "  File \"/media/disk/home/pau/Projectes/GNN-MThesis/src/function_renaming/TFM_function_renaming_dataset_creation.py\", line 262, in parseGraph\n",
      "    data = self.createGraphFromNXwithTarget(g,y,xlen,undirected=True)\n",
      "  File \"/media/disk/home/pau/Projectes/GNN-MThesis/src/function_renaming/TFM_function_renaming_dataset_creation.py\", line 512, in createGraphFromNXwithTarget\n",
      "    dataset =  self.createGraphFromNX(g,xlen, undirected)\n",
      "  File \"/media/disk/home/pau/Projectes/GNN-MThesis/src/function_renaming/TFM_function_renaming_dataset_creation.py\", line 498, in createGraphFromNX\n",
      "    x = torch.tensor(x, dtype=torch.float)\n",
      "RuntimeError: Precision loss when unpacking double\n"
     ]
    },
    {
     "name": "stdout",
     "output_type": "stream",
     "text": [
      "{ \"type\":_\"phrase\",_\"content\":_\"[rdi]      ; Ptr\"}\n",
      "{ \"type\":_\"phrase\",_\"content\":_\"[r12]      ; hFile\"}\n",
      "{ \"type\":_\"phrase\",_\"content\":_\"[rbx]       ; lpMem\"}\n",
      "{ \"type\":_\"phrase\",_\"content\":_\"[rdx]      ; Str2\"}\n",
      "{ \"type\":_\"phrase\",_\"content\":_\"[r15+rcx]  ; hConsoleHandle\"}\n",
      "{ \"type\":_\"phrase\",_\"content\":_\"[r15+rcx]  ; hFile\"}\n",
      "{ \"type\":_\"phrase\",_\"content\":_\"[rax+rcx]  ; hFile\"}\n",
      "{ \"type\":_\"phrase\",_\"content\":_\"[rcx]      ; Microsoft VisualC v7/11 64bit runtime\"}\n",
      "{ \"type\":_\"phrase\",_\"content\":_\"[rcx]      ; lpMem\"}\n",
      "{ \"type\":_\"phrase\",_\"content\":_\"[rdi]       ; lpMem\"}\n",
      "{ \"type\":_\"phrase\",_\"content\":_\"[rsi]      ; lpBuffer\"}\n",
      "{ \"type\":_\"phrase\",_\"content\":_\"[rbx]      ; lpBuffer\"}\n",
      "{ \"type\":_\"phrase\",_\"content\":_\"[rbx]       ; lpMem\"}\n",
      "{ \"type\":_\"phrase\",_\"content\":_\"[rcx]      ; Microsoft VisualC v7/11 64bit runtime\"}\n",
      "{ \"type\":_\"phrase\",_\"content\":_\"[rbx]      ; Ptr\"}\n",
      "{ \"type\":_\"phrase\",_\"content\":_\"[rsi]      ; hFile\"}\n",
      "{ \"type\":_\"phrase\",_\"content\":_\"[rax+rcx]  ; hFile\"}\n",
      "tmp/noisy_fixed02/raw/graphs01/Disk/sync64_exe/sub_140004C70_edges.txt\n"
     ]
    },
    {
     "name": "stderr",
     "output_type": "stream",
     "text": [
      "Traceback (most recent call last):\n",
      "  File \"/media/disk/home/pau/Projectes/GNN-MThesis/src/function_renaming/TFM_function_renaming_dataset_creation.py\", line 262, in parseGraph\n",
      "    data = self.createGraphFromNXwithTarget(g,y,xlen,undirected=True)\n",
      "  File \"/media/disk/home/pau/Projectes/GNN-MThesis/src/function_renaming/TFM_function_renaming_dataset_creation.py\", line 512, in createGraphFromNXwithTarget\n",
      "    dataset =  self.createGraphFromNX(g,xlen, undirected)\n",
      "  File \"/media/disk/home/pau/Projectes/GNN-MThesis/src/function_renaming/TFM_function_renaming_dataset_creation.py\", line 498, in createGraphFromNX\n",
      "    x = torch.tensor(x, dtype=torch.float)\n",
      "RuntimeError: Precision loss when unpacking double\n"
     ]
    },
    {
     "name": "stdout",
     "output_type": "stream",
     "text": [
      "{ \"type\":_\"phrase\",_\"content\":_\"[r15+rcx]  ; hFile\"}\n",
      "{ \"type\":_\"phrase\",_\"content\":_\"[rdi]      ; Ptr\"}\n",
      "tmp/noisy_fixed02/raw/graphs01/Disk/diskext64_exe/sub_140004000_edges.txt\n",
      "{ \"type\":_\"phrase\",_\"content\":_\"[rbx]      ; Ptr\"}\n"
     ]
    },
    {
     "name": "stderr",
     "output_type": "stream",
     "text": [
      "Traceback (most recent call last):\n",
      "  File \"/media/disk/home/pau/Projectes/GNN-MThesis/src/function_renaming/TFM_function_renaming_dataset_creation.py\", line 262, in parseGraph\n",
      "    data = self.createGraphFromNXwithTarget(g,y,xlen,undirected=True)\n",
      "  File \"/media/disk/home/pau/Projectes/GNN-MThesis/src/function_renaming/TFM_function_renaming_dataset_creation.py\", line 512, in createGraphFromNXwithTarget\n",
      "    dataset =  self.createGraphFromNX(g,xlen, undirected)\n",
      "  File \"/media/disk/home/pau/Projectes/GNN-MThesis/src/function_renaming/TFM_function_renaming_dataset_creation.py\", line 498, in createGraphFromNX\n",
      "    x = torch.tensor(x, dtype=torch.float)\n",
      "RuntimeError: Precision loss when unpacking double\n"
     ]
    },
    {
     "name": "stdout",
     "output_type": "stream",
     "text": [
      "{ \"type\":_\"phrase\",_\"content\":_\"[rsi]      ; hFile\"}\n",
      "{ \"type\":_\"phrase\",_\"content\":_\"[rax+rcx]  ; hFile\"}\n",
      "{ \"type\":_\"phrase\",_\"content\":_\"[r15+rcx]  ; hFile\"}\n",
      "{ \"type\":_\"phrase\",_\"content\":_\"[rcx]      ; Microsoft VisualC v7/11 64bit runtime\"}\n",
      "{ \"type\":_\"phrase\",_\"content\":_\"[rdi]      ; Ptr\"}\n",
      "{ \"type\":_\"phrase\",_\"content\":_\"[rbx]      ; Ptr\"}\n",
      "{ \"type\":_\"phrase\",_\"content\":_\"[rcx]      ; Microsoft VisualC v7/11 64bit runtime\"}\n",
      "{ \"type\":_\"phrase\",_\"content\":_\"[rdx]      ; Count\"}\n",
      "tmp/noisy_fixed02/raw/graphs01/Disk/Volumeid64_exe/sub_140005400_edges.txt\n"
     ]
    },
    {
     "name": "stderr",
     "output_type": "stream",
     "text": [
      "Traceback (most recent call last):\n",
      "  File \"/media/disk/home/pau/Projectes/GNN-MThesis/src/function_renaming/TFM_function_renaming_dataset_creation.py\", line 262, in parseGraph\n",
      "    data = self.createGraphFromNXwithTarget(g,y,xlen,undirected=True)\n",
      "  File \"/media/disk/home/pau/Projectes/GNN-MThesis/src/function_renaming/TFM_function_renaming_dataset_creation.py\", line 512, in createGraphFromNXwithTarget\n",
      "    dataset =  self.createGraphFromNX(g,xlen, undirected)\n",
      "  File \"/media/disk/home/pau/Projectes/GNN-MThesis/src/function_renaming/TFM_function_renaming_dataset_creation.py\", line 498, in createGraphFromNX\n",
      "    x = torch.tensor(x, dtype=torch.float)\n",
      "RuntimeError: Precision loss when unpacking double\n"
     ]
    },
    {
     "name": "stdout",
     "output_type": "stream",
     "text": [
      "{ \"type\":_\"phrase\",_\"content\":_\"[r15+rcx]  ; hFile\"}\n",
      "{ \"type\":_\"phrase\",_\"content\":_\"[rdi]      ; Ptr\"}\n",
      "{ \"type\":_\"phrase\",_\"content\":_\"[rsi]      ; hFile\"}\n",
      "{ \"type\":_\"phrase\",_\"content\":_\"[rax+rcx]  ; hFile\"}\n",
      "{ \"type\":_\"phrase\",_\"content\":_\"[rcx+r14]  ; hConsoleInput\"}\n",
      "{ \"type\":_\"phrase\",_\"content\":_\"[rcx+r14]  ; hFile\"}\n",
      "{ \"type\":_\"phrase\",_\"content\":_\"[rcx+r14]  ; hConsoleHandle\"}\n",
      "{ \"type\":_\"phrase\",_\"content\":_\"[ecx]      ; this\"}\n",
      "{ \"type\":_\"phrase\",_\"content\":_\"[edx]      ; int\"}\n",
      "{ \"type\":_\"phrase\",_\"content\":_\"[ebx+ebx]  ; size_t\"}\n",
      "{ \"type\":_\"phrase\",_\"content\":_\"[ebx]      ; int\"}\n",
      "{ \"type\":_\"phrase\",_\"content\":_\"[rcx]      ; Microsoft VisualC v7/11 64bit runtime\"}\n",
      "{ \"type\":_\"phrase\",_\"content\":_\"[rbx]      ; Ptr\"}\n",
      "{ \"type\":_\"phrase\",_\"content\":_\"[r15+rcx]  ; hFile\"}\n",
      "{ \"type\":_\"phrase\",_\"content\":_\"[rdi]      ; Ptr\"}\n",
      "tmp/noisy_fixed02/raw/graphs01/Disk/ntfsinfo64_exe/sub_140004AA0_edges.txt\n",
      "{ \"type\":_\"phrase\",_\"content\":_\"[rsi]      ; hFile\"}\n"
     ]
    },
    {
     "name": "stderr",
     "output_type": "stream",
     "text": [
      "Traceback (most recent call last):\n",
      "  File \"/media/disk/home/pau/Projectes/GNN-MThesis/src/function_renaming/TFM_function_renaming_dataset_creation.py\", line 262, in parseGraph\n",
      "    data = self.createGraphFromNXwithTarget(g,y,xlen,undirected=True)\n",
      "  File \"/media/disk/home/pau/Projectes/GNN-MThesis/src/function_renaming/TFM_function_renaming_dataset_creation.py\", line 512, in createGraphFromNXwithTarget\n",
      "    dataset =  self.createGraphFromNX(g,xlen, undirected)\n",
      "  File \"/media/disk/home/pau/Projectes/GNN-MThesis/src/function_renaming/TFM_function_renaming_dataset_creation.py\", line 498, in createGraphFromNX\n",
      "    x = torch.tensor(x, dtype=torch.float)\n",
      "RuntimeError: Precision loss when unpacking double\n"
     ]
    },
    {
     "name": "stdout",
     "output_type": "stream",
     "text": [
      "{ \"type\":_\"phrase\",_\"content\":_\"[rax+rcx]  ; hFile\"}\n",
      "tmp/noisy_fixed02/raw/graphs01/Cryptography/gpgsm_exe/sub_4152A0_edges.txt\n"
     ]
    },
    {
     "name": "stderr",
     "output_type": "stream",
     "text": [
      "Traceback (most recent call last):\n",
      "  File \"/home/pau/.pyenv/versions/3.6.7/envs/gnn-pytorch/lib/python3.6/site-packages/networkx/readwrite/edgelist.py\", line 277, in parse_edgelist\n",
      "    edgedata = dict(literal_eval(' '.join(d)))\n",
      "  File \"/home/pau/.pyenv/versions/3.6.7/lib/python3.6/ast.py\", line 48, in literal_eval\n",
      "    node_or_string = parse(node_or_string, mode='eval')\n",
      "  File \"/home/pau/.pyenv/versions/3.6.7/lib/python3.6/ast.py\", line 35, in parse\n",
      "    return compile(source, filename, mode, PyCF_ONLY_AST)\n",
      "  File \"<unknown>\", line 1\n",
      "    {\" { \"type\": \"phrase\" }\n",
      "             ^\n",
      "SyntaxError: invalid syntax\n",
      "\n",
      "During handling of the above exception, another exception occurred:\n",
      "\n",
      "Traceback (most recent call last):\n",
      "  File \"/media/disk/home/pau/Projectes/GNN-MThesis/src/function_renaming/TFM_function_renaming_dataset_creation.py\", line 260, in parseGraph\n",
      "    g = readGraph('',filename)\n",
      "  File \"/media/disk/home/pau/Projectes/GNN-MThesis/src/function_renaming/TFM_function_renaming_dataset_creation.py\", line 66, in readGraph\n",
      "    g = nx.read_edgelist(folder+filename)\n",
      "  File \"</home/pau/.pyenv/versions/3.6.7/envs/gnn-pytorch/lib/python3.6/site-packages/decorator.py:decorator-gen-707>\", line 2, in read_edgelist\n",
      "  File \"/home/pau/.pyenv/versions/3.6.7/envs/gnn-pytorch/lib/python3.6/site-packages/networkx/utils/decorators.py\", line 240, in _open_file\n",
      "    result = func_to_be_decorated(*new_args, **kwargs)\n",
      "  File \"/home/pau/.pyenv/versions/3.6.7/envs/gnn-pytorch/lib/python3.6/site-packages/networkx/readwrite/edgelist.py\", line 369, in read_edgelist\n",
      "    data=data)\n",
      "  File \"/home/pau/.pyenv/versions/3.6.7/envs/gnn-pytorch/lib/python3.6/site-packages/networkx/readwrite/edgelist.py\", line 280, in parse_edgelist\n",
      "    \"Failed to convert edge data (%s) to dictionary.\" % (d))\n",
      "TypeError: Failed to convert edge data (['{\"', '{', '\"type\":', '\"phrase\"', '}']) to dictionary.\n"
     ]
    },
    {
     "name": "stdout",
     "output_type": "stream",
     "text": [
      "\n",
      "\n",
      "\n",
      "\n",
      "\n",
      "\n",
      "\n",
      "\n",
      "{ |}\n",
      "{ |}\"}\n",
      "{ |}\"}\n",
      "\n",
      "tmp/noisy_fixed02/raw/graphs01/Cryptography/srptool_exe/sub_404BE0_edges.txt\n"
     ]
    },
    {
     "name": "stderr",
     "output_type": "stream",
     "text": [
      "Traceback (most recent call last):\n",
      "  File \"/home/pau/.pyenv/versions/3.6.7/envs/gnn-pytorch/lib/python3.6/site-packages/networkx/readwrite/edgelist.py\", line 277, in parse_edgelist\n",
      "    edgedata = dict(literal_eval(' '.join(d)))\n",
      "  File \"/home/pau/.pyenv/versions/3.6.7/lib/python3.6/ast.py\", line 48, in literal_eval\n",
      "    node_or_string = parse(node_or_string, mode='eval')\n",
      "  File \"/home/pau/.pyenv/versions/3.6.7/lib/python3.6/ast.py\", line 35, in parse\n",
      "    return compile(source, filename, mode, PyCF_ONLY_AST)\n",
      "  File \"<unknown>\", line 1\n",
      "    {%1$s_%2$s}\\\" ] \"... { \"type\": \"phrase\" }\n",
      "     ^\n",
      "SyntaxError: invalid syntax\n",
      "\n",
      "During handling of the above exception, another exception occurred:\n",
      "\n",
      "Traceback (most recent call last):\n",
      "  File \"/media/disk/home/pau/Projectes/GNN-MThesis/src/function_renaming/TFM_function_renaming_dataset_creation.py\", line 260, in parseGraph\n",
      "    g = readGraph('',filename)\n",
      "  File \"/media/disk/home/pau/Projectes/GNN-MThesis/src/function_renaming/TFM_function_renaming_dataset_creation.py\", line 66, in readGraph\n",
      "    g = nx.read_edgelist(folder+filename)\n",
      "  File \"</home/pau/.pyenv/versions/3.6.7/envs/gnn-pytorch/lib/python3.6/site-packages/decorator.py:decorator-gen-707>\", line 2, in read_edgelist\n",
      "  File \"/home/pau/.pyenv/versions/3.6.7/envs/gnn-pytorch/lib/python3.6/site-packages/networkx/utils/decorators.py\", line 240, in _open_file\n",
      "    result = func_to_be_decorated(*new_args, **kwargs)\n",
      "  File \"/home/pau/.pyenv/versions/3.6.7/envs/gnn-pytorch/lib/python3.6/site-packages/networkx/readwrite/edgelist.py\", line 369, in read_edgelist\n",
      "    data=data)\n",
      "  File \"/home/pau/.pyenv/versions/3.6.7/envs/gnn-pytorch/lib/python3.6/site-packages/networkx/readwrite/edgelist.py\", line 280, in parse_edgelist\n",
      "    \"Failed to convert edge data (%s) to dictionary.\" % (d))\n",
      "TypeError: Failed to convert edge data (['{%1$s_%2$s}\\\\\"', ']', '\"...', '{', '\"type\":', '\"phrase\"', '}']) to dictionary.\n"
     ]
    },
    {
     "name": "stdout",
     "output_type": "stream",
     "text": [
      "tmp/noisy_fixed02/raw/graphs01/Cryptography/srptool_exe/sub_4049B0_edges.txt\n"
     ]
    },
    {
     "name": "stderr",
     "output_type": "stream",
     "text": [
      "Traceback (most recent call last):\n",
      "  File \"/home/pau/.pyenv/versions/3.6.7/envs/gnn-pytorch/lib/python3.6/site-packages/networkx/readwrite/edgelist.py\", line 277, in parse_edgelist\n",
      "    edgedata = dict(literal_eval(' '.join(d)))\n",
      "  File \"/home/pau/.pyenv/versions/3.6.7/lib/python3.6/ast.py\", line 48, in literal_eval\n",
      "    node_or_string = parse(node_or_string, mode='eval')\n",
      "  File \"/home/pau/.pyenv/versions/3.6.7/lib/python3.6/ast.py\", line 35, in parse\n",
      "    return compile(source, filename, mode, PyCF_ONLY_AST)\n",
      "  File \"<unknown>\", line 1\n",
      "    {OPT_CODE}\\\" in\\n\" { \"type\": \"phrase\" }\n",
      "                                          ^\n",
      "SyntaxError: unexpected character after line continuation character\n",
      "\n",
      "During handling of the above exception, another exception occurred:\n",
      "\n",
      "Traceback (most recent call last):\n",
      "  File \"/media/disk/home/pau/Projectes/GNN-MThesis/src/function_renaming/TFM_function_renaming_dataset_creation.py\", line 260, in parseGraph\n",
      "    g = readGraph('',filename)\n",
      "  File \"/media/disk/home/pau/Projectes/GNN-MThesis/src/function_renaming/TFM_function_renaming_dataset_creation.py\", line 66, in readGraph\n",
      "    g = nx.read_edgelist(folder+filename)\n",
      "  File \"</home/pau/.pyenv/versions/3.6.7/envs/gnn-pytorch/lib/python3.6/site-packages/decorator.py:decorator-gen-707>\", line 2, in read_edgelist\n",
      "  File \"/home/pau/.pyenv/versions/3.6.7/envs/gnn-pytorch/lib/python3.6/site-packages/networkx/utils/decorators.py\", line 240, in _open_file\n",
      "    result = func_to_be_decorated(*new_args, **kwargs)\n",
      "  File \"/home/pau/.pyenv/versions/3.6.7/envs/gnn-pytorch/lib/python3.6/site-packages/networkx/readwrite/edgelist.py\", line 369, in read_edgelist\n",
      "    data=data)\n",
      "  File \"/home/pau/.pyenv/versions/3.6.7/envs/gnn-pytorch/lib/python3.6/site-packages/networkx/readwrite/edgelist.py\", line 280, in parse_edgelist\n",
      "    \"Failed to convert edge data (%s) to dictionary.\" % (d))\n",
      "TypeError: Failed to convert edge data (['{OPT_CODE}\\\\\"', 'in\\\\n\"', '{', '\"type\":', '\"phrase\"', '}']) to dictionary.\n"
     ]
    },
    {
     "name": "stdout",
     "output_type": "stream",
     "text": [
      "tmp/noisy_fixed02/raw/graphs01/Cryptography/srptool_exe/sub_404780_edges.txt\n"
     ]
    },
    {
     "name": "stderr",
     "output_type": "stream",
     "text": [
      "Traceback (most recent call last):\n",
      "  File \"/home/pau/.pyenv/versions/3.6.7/envs/gnn-pytorch/lib/python3.6/site-packages/networkx/readwrite/edgelist.py\", line 277, in parse_edgelist\n",
      "    edgedata = dict(literal_eval(' '.join(d)))\n",
      "  File \"/home/pau/.pyenv/versions/3.6.7/lib/python3.6/ast.py\", line 48, in literal_eval\n",
      "    node_or_string = parse(node_or_string, mode='eval')\n",
      "  File \"/home/pau/.pyenv/versions/3.6.7/lib/python3.6/ast.py\", line 35, in parse\n",
      "    return compile(source, filename, mode, PyCF_ONLY_AST)\n",
      "  File \"<unknown>\", line 1\n",
      "    {OPT_ELEMENT\"... { \"type\": \"phrase\" }\n",
      "                       ^\n",
      "SyntaxError: invalid syntax\n",
      "\n",
      "During handling of the above exception, another exception occurred:\n",
      "\n",
      "Traceback (most recent call last):\n",
      "  File \"/media/disk/home/pau/Projectes/GNN-MThesis/src/function_renaming/TFM_function_renaming_dataset_creation.py\", line 260, in parseGraph\n",
      "    g = readGraph('',filename)\n",
      "  File \"/media/disk/home/pau/Projectes/GNN-MThesis/src/function_renaming/TFM_function_renaming_dataset_creation.py\", line 66, in readGraph\n",
      "    g = nx.read_edgelist(folder+filename)\n",
      "  File \"</home/pau/.pyenv/versions/3.6.7/envs/gnn-pytorch/lib/python3.6/site-packages/decorator.py:decorator-gen-707>\", line 2, in read_edgelist\n",
      "  File \"/home/pau/.pyenv/versions/3.6.7/envs/gnn-pytorch/lib/python3.6/site-packages/networkx/utils/decorators.py\", line 240, in _open_file\n",
      "    result = func_to_be_decorated(*new_args, **kwargs)\n",
      "  File \"/home/pau/.pyenv/versions/3.6.7/envs/gnn-pytorch/lib/python3.6/site-packages/networkx/readwrite/edgelist.py\", line 369, in read_edgelist\n",
      "    data=data)\n",
      "  File \"/home/pau/.pyenv/versions/3.6.7/envs/gnn-pytorch/lib/python3.6/site-packages/networkx/readwrite/edgelist.py\", line 280, in parse_edgelist\n",
      "    \"Failed to convert edge data (%s) to dictionary.\" % (d))\n",
      "TypeError: Failed to convert edge data (['{OPT_ELEMENT\"...', '{', '\"type\":', '\"phrase\"', '}']) to dictionary.\n"
     ]
    },
    {
     "name": "stdout",
     "output_type": "stream",
     "text": [
      "\n",
      "{ |}\n",
      "{ |}\"}\n",
      "{ |}\"}\n",
      "\n",
      "tmp/noisy_fixed02/raw/graphs01/Cryptography/libsqlite3-0_dll/sub_66647336_edges.txt\n"
     ]
    },
    {
     "name": "stderr",
     "output_type": "stream",
     "text": [
      "Traceback (most recent call last):\n",
      "  File \"/home/pau/.pyenv/versions/3.6.7/envs/gnn-pytorch/lib/python3.6/site-packages/networkx/readwrite/edgelist.py\", line 277, in parse_edgelist\n",
      "    edgedata = dict(literal_eval(' '.join(d)))\n",
      "  File \"/home/pau/.pyenv/versions/3.6.7/lib/python3.6/ast.py\", line 48, in literal_eval\n",
      "    node_or_string = parse(node_or_string, mode='eval')\n",
      "  File \"/home/pau/.pyenv/versions/3.6.7/lib/python3.6/ast.py\", line 35, in parse\n",
      "    return compile(source, filename, mode, PyCF_ONLY_AST)\n",
      "  File \"<unknown>\", line 1\n",
      "    {%s}\" { \"type\": \"phrase\" }\n",
      "     ^\n",
      "SyntaxError: invalid syntax\n",
      "\n",
      "During handling of the above exception, another exception occurred:\n",
      "\n",
      "Traceback (most recent call last):\n",
      "  File \"/media/disk/home/pau/Projectes/GNN-MThesis/src/function_renaming/TFM_function_renaming_dataset_creation.py\", line 260, in parseGraph\n",
      "    g = readGraph('',filename)\n",
      "  File \"/media/disk/home/pau/Projectes/GNN-MThesis/src/function_renaming/TFM_function_renaming_dataset_creation.py\", line 66, in readGraph\n",
      "    g = nx.read_edgelist(folder+filename)\n",
      "  File \"</home/pau/.pyenv/versions/3.6.7/envs/gnn-pytorch/lib/python3.6/site-packages/decorator.py:decorator-gen-707>\", line 2, in read_edgelist\n",
      "  File \"/home/pau/.pyenv/versions/3.6.7/envs/gnn-pytorch/lib/python3.6/site-packages/networkx/utils/decorators.py\", line 240, in _open_file\n",
      "    result = func_to_be_decorated(*new_args, **kwargs)\n",
      "  File \"/home/pau/.pyenv/versions/3.6.7/envs/gnn-pytorch/lib/python3.6/site-packages/networkx/readwrite/edgelist.py\", line 369, in read_edgelist\n",
      "    data=data)\n",
      "  File \"/home/pau/.pyenv/versions/3.6.7/envs/gnn-pytorch/lib/python3.6/site-packages/networkx/readwrite/edgelist.py\", line 280, in parse_edgelist\n",
      "    \"Failed to convert edge data (%s) to dictionary.\" % (d))\n",
      "TypeError: Failed to convert edge data (['{%s}\"', '{', '\"type\":', '\"phrase\"', '}']) to dictionary.\n"
     ]
    },
    {
     "name": "stdout",
     "output_type": "stream",
     "text": [
      "\n",
      "\n",
      "{ \"type\": \"phrase\", \"content\": \"offset asc_6667BE73; '\"\\}\n",
      "{ \"type\": \"phrase\", \"content\": \"offset asc_6667BE73; '\"\\}\"}\n",
      "{ \"type\": \"phrase\", \"content\": \"offset asc_6667BE73; '\"\\}\"}\n",
      "\n",
      "\n",
      "\n",
      "\n",
      "tmp/noisy_fixed02/raw/graphs01/Cryptography/libgcc_s_sjlj-1_dll/___sfp_handle_exceptions_edges.txt\n"
     ]
    },
    {
     "name": "stderr",
     "output_type": "stream",
     "text": [
      "Traceback (most recent call last):\n",
      "  File \"/home/pau/.pyenv/versions/3.6.7/envs/gnn-pytorch/lib/python3.6/site-packages/networkx/readwrite/edgelist.py\", line 277, in parse_edgelist\n",
      "    edgedata = dict(literal_eval(' '.join(d)))\n",
      "  File \"/home/pau/.pyenv/versions/3.6.7/lib/python3.6/ast.py\", line 48, in literal_eval\n",
      "    node_or_string = parse(node_or_string, mode='eval')\n",
      "  File \"/home/pau/.pyenv/versions/3.6.7/lib/python3.6/ast.py\", line 35, in parse\n",
      "    return compile(source, filename, mode, PyCF_ONLY_AST)\n",
      "  File \"<unknown>\", line 1\n",
      "    pbyte { \"type\": \"phrase\" }\n",
      "          ^\n",
      "SyntaxError: invalid syntax\n",
      "\n",
      "During handling of the above exception, another exception occurred:\n",
      "\n",
      "Traceback (most recent call last):\n",
      "  File \"/media/disk/home/pau/Projectes/GNN-MThesis/src/function_renaming/TFM_function_renaming_dataset_creation.py\", line 260, in parseGraph\n",
      "    g = readGraph('',filename)\n",
      "  File \"/media/disk/home/pau/Projectes/GNN-MThesis/src/function_renaming/TFM_function_renaming_dataset_creation.py\", line 66, in readGraph\n",
      "    g = nx.read_edgelist(folder+filename)\n",
      "  File \"</home/pau/.pyenv/versions/3.6.7/envs/gnn-pytorch/lib/python3.6/site-packages/decorator.py:decorator-gen-707>\", line 2, in read_edgelist\n",
      "  File \"/home/pau/.pyenv/versions/3.6.7/envs/gnn-pytorch/lib/python3.6/site-packages/networkx/utils/decorators.py\", line 240, in _open_file\n",
      "    result = func_to_be_decorated(*new_args, **kwargs)\n",
      "  File \"/home/pau/.pyenv/versions/3.6.7/envs/gnn-pytorch/lib/python3.6/site-packages/networkx/readwrite/edgelist.py\", line 369, in read_edgelist\n",
      "    data=data)\n",
      "  File \"/home/pau/.pyenv/versions/3.6.7/envs/gnn-pytorch/lib/python3.6/site-packages/networkx/readwrite/edgelist.py\", line 280, in parse_edgelist\n",
      "    \"Failed to convert edge data (%s) to dictionary.\" % (d))\n",
      "TypeError: Failed to convert edge data (['pbyte', '{', '\"type\":', '\"phrase\"', '}']) to dictionary.\n"
     ]
    },
    {
     "name": "stdout",
     "output_type": "stream",
     "text": [
      "tmp/noisy_fixed02/raw/graphs01/Cryptography/systemkey_exe/sub_41DE00_edges.txt\n"
     ]
    },
    {
     "name": "stderr",
     "output_type": "stream",
     "text": [
      "Traceback (most recent call last):\n",
      "  File \"/home/pau/.pyenv/versions/3.6.7/envs/gnn-pytorch/lib/python3.6/site-packages/networkx/readwrite/edgelist.py\", line 277, in parse_edgelist\n",
      "    edgedata = dict(literal_eval(' '.join(d)))\n",
      "  File \"/home/pau/.pyenv/versions/3.6.7/lib/python3.6/ast.py\", line 48, in literal_eval\n",
      "    node_or_string = parse(node_or_string, mode='eval')\n",
      "  File \"/home/pau/.pyenv/versions/3.6.7/lib/python3.6/ast.py\", line 35, in parse\n",
      "    return compile(source, filename, mode, PyCF_ONLY_AST)\n",
      "  File \"<unknown>\", line 1\n",
      "    {OPT_CODE}\\\" in\\n\" { \"type\": \"phrase\" }\n",
      "                                          ^\n",
      "SyntaxError: unexpected character after line continuation character\n",
      "\n",
      "During handling of the above exception, another exception occurred:\n",
      "\n",
      "Traceback (most recent call last):\n",
      "  File \"/media/disk/home/pau/Projectes/GNN-MThesis/src/function_renaming/TFM_function_renaming_dataset_creation.py\", line 260, in parseGraph\n",
      "    g = readGraph('',filename)\n",
      "  File \"/media/disk/home/pau/Projectes/GNN-MThesis/src/function_renaming/TFM_function_renaming_dataset_creation.py\", line 66, in readGraph\n",
      "    g = nx.read_edgelist(folder+filename)\n",
      "  File \"</home/pau/.pyenv/versions/3.6.7/envs/gnn-pytorch/lib/python3.6/site-packages/decorator.py:decorator-gen-707>\", line 2, in read_edgelist\n",
      "  File \"/home/pau/.pyenv/versions/3.6.7/envs/gnn-pytorch/lib/python3.6/site-packages/networkx/utils/decorators.py\", line 240, in _open_file\n",
      "    result = func_to_be_decorated(*new_args, **kwargs)\n",
      "  File \"/home/pau/.pyenv/versions/3.6.7/envs/gnn-pytorch/lib/python3.6/site-packages/networkx/readwrite/edgelist.py\", line 369, in read_edgelist\n",
      "    data=data)\n",
      "  File \"/home/pau/.pyenv/versions/3.6.7/envs/gnn-pytorch/lib/python3.6/site-packages/networkx/readwrite/edgelist.py\", line 280, in parse_edgelist\n",
      "    \"Failed to convert edge data (%s) to dictionary.\" % (d))\n",
      "TypeError: Failed to convert edge data (['{OPT_CODE}\\\\\"', 'in\\\\n\"', '{', '\"type\":', '\"phrase\"', '}']) to dictionary.\n"
     ]
    },
    {
     "name": "stdout",
     "output_type": "stream",
     "text": [
      "tmp/noisy_fixed02/raw/graphs01/Cryptography/systemkey_exe/sub_41E030_edges.txt\n"
     ]
    },
    {
     "name": "stderr",
     "output_type": "stream",
     "text": [
      "Traceback (most recent call last):\n",
      "  File \"/home/pau/.pyenv/versions/3.6.7/envs/gnn-pytorch/lib/python3.6/site-packages/networkx/readwrite/edgelist.py\", line 277, in parse_edgelist\n",
      "    edgedata = dict(literal_eval(' '.join(d)))\n",
      "  File \"/home/pau/.pyenv/versions/3.6.7/lib/python3.6/ast.py\", line 48, in literal_eval\n",
      "    node_or_string = parse(node_or_string, mode='eval')\n",
      "  File \"/home/pau/.pyenv/versions/3.6.7/lib/python3.6/ast.py\", line 35, in parse\n",
      "    return compile(source, filename, mode, PyCF_ONLY_AST)\n",
      "  File \"<unknown>\", line 1\n",
      "    {%1$s_%2$s}\\\" ] \"... { \"type\": \"phrase\" }\n",
      "     ^\n",
      "SyntaxError: invalid syntax\n",
      "\n",
      "During handling of the above exception, another exception occurred:\n",
      "\n",
      "Traceback (most recent call last):\n",
      "  File \"/media/disk/home/pau/Projectes/GNN-MThesis/src/function_renaming/TFM_function_renaming_dataset_creation.py\", line 260, in parseGraph\n",
      "    g = readGraph('',filename)\n",
      "  File \"/media/disk/home/pau/Projectes/GNN-MThesis/src/function_renaming/TFM_function_renaming_dataset_creation.py\", line 66, in readGraph\n",
      "    g = nx.read_edgelist(folder+filename)\n",
      "  File \"</home/pau/.pyenv/versions/3.6.7/envs/gnn-pytorch/lib/python3.6/site-packages/decorator.py:decorator-gen-707>\", line 2, in read_edgelist\n",
      "  File \"/home/pau/.pyenv/versions/3.6.7/envs/gnn-pytorch/lib/python3.6/site-packages/networkx/utils/decorators.py\", line 240, in _open_file\n",
      "    result = func_to_be_decorated(*new_args, **kwargs)\n",
      "  File \"/home/pau/.pyenv/versions/3.6.7/envs/gnn-pytorch/lib/python3.6/site-packages/networkx/readwrite/edgelist.py\", line 369, in read_edgelist\n",
      "    data=data)\n",
      "  File \"/home/pau/.pyenv/versions/3.6.7/envs/gnn-pytorch/lib/python3.6/site-packages/networkx/readwrite/edgelist.py\", line 280, in parse_edgelist\n",
      "    \"Failed to convert edge data (%s) to dictionary.\" % (d))\n",
      "TypeError: Failed to convert edge data (['{%1$s_%2$s}\\\\\"', ']', '\"...', '{', '\"type\":', '\"phrase\"', '}']) to dictionary.\n"
     ]
    },
    {
     "name": "stdout",
     "output_type": "stream",
     "text": [
      "tmp/noisy_fixed02/raw/graphs01/Cryptography/systemkey_exe/sub_41DBD0_edges.txt\n"
     ]
    },
    {
     "name": "stderr",
     "output_type": "stream",
     "text": [
      "Traceback (most recent call last):\n",
      "  File \"/home/pau/.pyenv/versions/3.6.7/envs/gnn-pytorch/lib/python3.6/site-packages/networkx/readwrite/edgelist.py\", line 277, in parse_edgelist\n",
      "    edgedata = dict(literal_eval(' '.join(d)))\n",
      "  File \"/home/pau/.pyenv/versions/3.6.7/lib/python3.6/ast.py\", line 48, in literal_eval\n",
      "    node_or_string = parse(node_or_string, mode='eval')\n",
      "  File \"/home/pau/.pyenv/versions/3.6.7/lib/python3.6/ast.py\", line 35, in parse\n",
      "    return compile(source, filename, mode, PyCF_ONLY_AST)\n",
      "  File \"<unknown>\", line 1\n",
      "    {OPT_ELEMENT\"... { \"type\": \"phrase\" }\n",
      "                       ^\n",
      "SyntaxError: invalid syntax\n",
      "\n",
      "During handling of the above exception, another exception occurred:\n",
      "\n",
      "Traceback (most recent call last):\n",
      "  File \"/media/disk/home/pau/Projectes/GNN-MThesis/src/function_renaming/TFM_function_renaming_dataset_creation.py\", line 260, in parseGraph\n",
      "    g = readGraph('',filename)\n",
      "  File \"/media/disk/home/pau/Projectes/GNN-MThesis/src/function_renaming/TFM_function_renaming_dataset_creation.py\", line 66, in readGraph\n",
      "    g = nx.read_edgelist(folder+filename)\n",
      "  File \"</home/pau/.pyenv/versions/3.6.7/envs/gnn-pytorch/lib/python3.6/site-packages/decorator.py:decorator-gen-707>\", line 2, in read_edgelist\n",
      "  File \"/home/pau/.pyenv/versions/3.6.7/envs/gnn-pytorch/lib/python3.6/site-packages/networkx/utils/decorators.py\", line 240, in _open_file\n",
      "    result = func_to_be_decorated(*new_args, **kwargs)\n",
      "  File \"/home/pau/.pyenv/versions/3.6.7/envs/gnn-pytorch/lib/python3.6/site-packages/networkx/readwrite/edgelist.py\", line 369, in read_edgelist\n",
      "    data=data)\n",
      "  File \"/home/pau/.pyenv/versions/3.6.7/envs/gnn-pytorch/lib/python3.6/site-packages/networkx/readwrite/edgelist.py\", line 280, in parse_edgelist\n",
      "    \"Failed to convert edge data (%s) to dictionary.\" % (d))\n",
      "TypeError: Failed to convert edge data (['{OPT_ELEMENT\"...', '{', '\"type\":', '\"phrase\"', '}']) to dictionary.\n"
     ]
    },
    {
     "name": "stdout",
     "output_type": "stream",
     "text": [
      "tmp/noisy_fixed02/raw/graphs01/Cryptography/psktool_exe/sub_403C90_edges.txt\n"
     ]
    },
    {
     "name": "stderr",
     "output_type": "stream",
     "text": [
      "Traceback (most recent call last):\n",
      "  File \"/home/pau/.pyenv/versions/3.6.7/envs/gnn-pytorch/lib/python3.6/site-packages/networkx/readwrite/edgelist.py\", line 277, in parse_edgelist\n",
      "    edgedata = dict(literal_eval(' '.join(d)))\n",
      "  File \"/home/pau/.pyenv/versions/3.6.7/lib/python3.6/ast.py\", line 48, in literal_eval\n",
      "    node_or_string = parse(node_or_string, mode='eval')\n",
      "  File \"/home/pau/.pyenv/versions/3.6.7/lib/python3.6/ast.py\", line 35, in parse\n",
      "    return compile(source, filename, mode, PyCF_ONLY_AST)\n",
      "  File \"<unknown>\", line 1\n",
      "    {%1$s_%2$s}\\\" ] \"... { \"type\": \"phrase\" }\n",
      "     ^\n",
      "SyntaxError: invalid syntax\n",
      "\n",
      "During handling of the above exception, another exception occurred:\n",
      "\n",
      "Traceback (most recent call last):\n",
      "  File \"/media/disk/home/pau/Projectes/GNN-MThesis/src/function_renaming/TFM_function_renaming_dataset_creation.py\", line 260, in parseGraph\n",
      "    g = readGraph('',filename)\n",
      "  File \"/media/disk/home/pau/Projectes/GNN-MThesis/src/function_renaming/TFM_function_renaming_dataset_creation.py\", line 66, in readGraph\n",
      "    g = nx.read_edgelist(folder+filename)\n",
      "  File \"</home/pau/.pyenv/versions/3.6.7/envs/gnn-pytorch/lib/python3.6/site-packages/decorator.py:decorator-gen-707>\", line 2, in read_edgelist\n",
      "  File \"/home/pau/.pyenv/versions/3.6.7/envs/gnn-pytorch/lib/python3.6/site-packages/networkx/utils/decorators.py\", line 240, in _open_file\n",
      "    result = func_to_be_decorated(*new_args, **kwargs)\n",
      "  File \"/home/pau/.pyenv/versions/3.6.7/envs/gnn-pytorch/lib/python3.6/site-packages/networkx/readwrite/edgelist.py\", line 369, in read_edgelist\n",
      "    data=data)\n",
      "  File \"/home/pau/.pyenv/versions/3.6.7/envs/gnn-pytorch/lib/python3.6/site-packages/networkx/readwrite/edgelist.py\", line 280, in parse_edgelist\n",
      "    \"Failed to convert edge data (%s) to dictionary.\" % (d))\n",
      "TypeError: Failed to convert edge data (['{%1$s_%2$s}\\\\\"', ']', '\"...', '{', '\"type\":', '\"phrase\"', '}']) to dictionary.\n"
     ]
    },
    {
     "name": "stdout",
     "output_type": "stream",
     "text": [
      "tmp/noisy_fixed02/raw/graphs01/Cryptography/psktool_exe/sub_403A60_edges.txt\n"
     ]
    },
    {
     "name": "stderr",
     "output_type": "stream",
     "text": [
      "Traceback (most recent call last):\n",
      "  File \"/home/pau/.pyenv/versions/3.6.7/envs/gnn-pytorch/lib/python3.6/site-packages/networkx/readwrite/edgelist.py\", line 277, in parse_edgelist\n",
      "    edgedata = dict(literal_eval(' '.join(d)))\n",
      "  File \"/home/pau/.pyenv/versions/3.6.7/lib/python3.6/ast.py\", line 48, in literal_eval\n",
      "    node_or_string = parse(node_or_string, mode='eval')\n",
      "  File \"/home/pau/.pyenv/versions/3.6.7/lib/python3.6/ast.py\", line 35, in parse\n",
      "    return compile(source, filename, mode, PyCF_ONLY_AST)\n",
      "  File \"<unknown>\", line 1\n",
      "    {OPT_CODE}\\\" in\\n\" { \"type\": \"phrase\" }\n",
      "                                          ^\n",
      "SyntaxError: unexpected character after line continuation character\n",
      "\n",
      "During handling of the above exception, another exception occurred:\n",
      "\n",
      "Traceback (most recent call last):\n",
      "  File \"/media/disk/home/pau/Projectes/GNN-MThesis/src/function_renaming/TFM_function_renaming_dataset_creation.py\", line 260, in parseGraph\n",
      "    g = readGraph('',filename)\n",
      "  File \"/media/disk/home/pau/Projectes/GNN-MThesis/src/function_renaming/TFM_function_renaming_dataset_creation.py\", line 66, in readGraph\n",
      "    g = nx.read_edgelist(folder+filename)\n",
      "  File \"</home/pau/.pyenv/versions/3.6.7/envs/gnn-pytorch/lib/python3.6/site-packages/decorator.py:decorator-gen-707>\", line 2, in read_edgelist\n",
      "  File \"/home/pau/.pyenv/versions/3.6.7/envs/gnn-pytorch/lib/python3.6/site-packages/networkx/utils/decorators.py\", line 240, in _open_file\n",
      "    result = func_to_be_decorated(*new_args, **kwargs)\n",
      "  File \"/home/pau/.pyenv/versions/3.6.7/envs/gnn-pytorch/lib/python3.6/site-packages/networkx/readwrite/edgelist.py\", line 369, in read_edgelist\n",
      "    data=data)\n",
      "  File \"/home/pau/.pyenv/versions/3.6.7/envs/gnn-pytorch/lib/python3.6/site-packages/networkx/readwrite/edgelist.py\", line 280, in parse_edgelist\n",
      "    \"Failed to convert edge data (%s) to dictionary.\" % (d))\n",
      "TypeError: Failed to convert edge data (['{OPT_CODE}\\\\\"', 'in\\\\n\"', '{', '\"type\":', '\"phrase\"', '}']) to dictionary.\n"
     ]
    },
    {
     "name": "stdout",
     "output_type": "stream",
     "text": [
      "tmp/noisy_fixed02/raw/graphs01/Cryptography/psktool_exe/sub_403830_edges.txt\n"
     ]
    },
    {
     "name": "stderr",
     "output_type": "stream",
     "text": [
      "Traceback (most recent call last):\n",
      "  File \"/home/pau/.pyenv/versions/3.6.7/envs/gnn-pytorch/lib/python3.6/site-packages/networkx/readwrite/edgelist.py\", line 277, in parse_edgelist\n",
      "    edgedata = dict(literal_eval(' '.join(d)))\n",
      "  File \"/home/pau/.pyenv/versions/3.6.7/lib/python3.6/ast.py\", line 48, in literal_eval\n",
      "    node_or_string = parse(node_or_string, mode='eval')\n",
      "  File \"/home/pau/.pyenv/versions/3.6.7/lib/python3.6/ast.py\", line 35, in parse\n",
      "    return compile(source, filename, mode, PyCF_ONLY_AST)\n",
      "  File \"<unknown>\", line 1\n",
      "    {%1$s_%2$s}\\\" ] \"... { \"type\": \"phrase\" }\n",
      "     ^\n",
      "SyntaxError: invalid syntax\n",
      "\n",
      "During handling of the above exception, another exception occurred:\n",
      "\n",
      "Traceback (most recent call last):\n",
      "  File \"/media/disk/home/pau/Projectes/GNN-MThesis/src/function_renaming/TFM_function_renaming_dataset_creation.py\", line 260, in parseGraph\n",
      "    g = readGraph('',filename)\n",
      "  File \"/media/disk/home/pau/Projectes/GNN-MThesis/src/function_renaming/TFM_function_renaming_dataset_creation.py\", line 66, in readGraph\n",
      "    g = nx.read_edgelist(folder+filename)\n",
      "  File \"</home/pau/.pyenv/versions/3.6.7/envs/gnn-pytorch/lib/python3.6/site-packages/decorator.py:decorator-gen-707>\", line 2, in read_edgelist\n",
      "  File \"/home/pau/.pyenv/versions/3.6.7/envs/gnn-pytorch/lib/python3.6/site-packages/networkx/utils/decorators.py\", line 240, in _open_file\n",
      "    result = func_to_be_decorated(*new_args, **kwargs)\n",
      "  File \"/home/pau/.pyenv/versions/3.6.7/envs/gnn-pytorch/lib/python3.6/site-packages/networkx/readwrite/edgelist.py\", line 369, in read_edgelist\n",
      "    data=data)\n",
      "  File \"/home/pau/.pyenv/versions/3.6.7/envs/gnn-pytorch/lib/python3.6/site-packages/networkx/readwrite/edgelist.py\", line 280, in parse_edgelist\n",
      "    \"Failed to convert edge data (%s) to dictionary.\" % (d))\n",
      "TypeError: Failed to convert edge data (['{%1$s_%2$s}\\\\\"', ']', '\"...', '{', '\"type\":', '\"phrase\"', '}']) to dictionary.\n"
     ]
    },
    {
     "name": "stdout",
     "output_type": "stream",
     "text": [
      "\n",
      "{ |}\n",
      "{ |}\"}\n",
      "{ |}\"}\n",
      "tmp/noisy_fixed02/raw/graphs01/Cryptography/scdaemon_exe/sub_4269E0_edges.txt\n"
     ]
    },
    {
     "name": "stderr",
     "output_type": "stream",
     "text": [
      "Traceback (most recent call last):\n",
      "  File \"/home/pau/.pyenv/versions/3.6.7/envs/gnn-pytorch/lib/python3.6/site-packages/networkx/readwrite/edgelist.py\", line 277, in parse_edgelist\n",
      "    edgedata = dict(literal_eval(' '.join(d)))\n",
      "  File \"/home/pau/.pyenv/versions/3.6.7/lib/python3.6/ast.py\", line 48, in literal_eval\n",
      "    node_or_string = parse(node_or_string, mode='eval')\n",
      "  File \"/home/pau/.pyenv/versions/3.6.7/lib/python3.6/ast.py\", line 35, in parse\n",
      "    return compile(source, filename, mode, PyCF_ONLY_AST)\n",
      "  File \"<unknown>\", line 1\n",
      "    {DIR}: %s\\n\" { \"type\": \"phrase\" }\n",
      "         ^\n",
      "SyntaxError: invalid syntax\n",
      "\n",
      "During handling of the above exception, another exception occurred:\n",
      "\n",
      "Traceback (most recent call last):\n",
      "  File \"/media/disk/home/pau/Projectes/GNN-MThesis/src/function_renaming/TFM_function_renaming_dataset_creation.py\", line 260, in parseGraph\n",
      "    g = readGraph('',filename)\n",
      "  File \"/media/disk/home/pau/Projectes/GNN-MThesis/src/function_renaming/TFM_function_renaming_dataset_creation.py\", line 66, in readGraph\n",
      "    g = nx.read_edgelist(folder+filename)\n",
      "  File \"</home/pau/.pyenv/versions/3.6.7/envs/gnn-pytorch/lib/python3.6/site-packages/decorator.py:decorator-gen-707>\", line 2, in read_edgelist\n",
      "  File \"/home/pau/.pyenv/versions/3.6.7/envs/gnn-pytorch/lib/python3.6/site-packages/networkx/utils/decorators.py\", line 240, in _open_file\n",
      "    result = func_to_be_decorated(*new_args, **kwargs)\n",
      "  File \"/home/pau/.pyenv/versions/3.6.7/envs/gnn-pytorch/lib/python3.6/site-packages/networkx/readwrite/edgelist.py\", line 369, in read_edgelist\n",
      "    data=data)\n",
      "  File \"/home/pau/.pyenv/versions/3.6.7/envs/gnn-pytorch/lib/python3.6/site-packages/networkx/readwrite/edgelist.py\", line 280, in parse_edgelist\n",
      "    \"Failed to convert edge data (%s) to dictionary.\" % (d))\n",
      "TypeError: Failed to convert edge data (['{DIR}:', '%s\\\\n\"', '{', '\"type\":', '\"phrase\"', '}']) to dictionary.\n"
     ]
    },
    {
     "name": "stdout",
     "output_type": "stream",
     "text": [
      "tmp/noisy_fixed02/raw/graphs01/Cryptography/p11tool_exe/sub_422460_edges.txt\n"
     ]
    },
    {
     "name": "stderr",
     "output_type": "stream",
     "text": [
      "Traceback (most recent call last):\n",
      "  File \"/home/pau/.pyenv/versions/3.6.7/envs/gnn-pytorch/lib/python3.6/site-packages/networkx/readwrite/edgelist.py\", line 277, in parse_edgelist\n",
      "    edgedata = dict(literal_eval(' '.join(d)))\n",
      "  File \"/home/pau/.pyenv/versions/3.6.7/lib/python3.6/ast.py\", line 48, in literal_eval\n",
      "    node_or_string = parse(node_or_string, mode='eval')\n",
      "  File \"/home/pau/.pyenv/versions/3.6.7/lib/python3.6/ast.py\", line 35, in parse\n",
      "    return compile(source, filename, mode, PyCF_ONLY_AST)\n",
      "  File \"<unknown>\", line 1\n",
      "    {%1$s_%2$s}\\\" ] \"... { \"type\": \"phrase\" }\n",
      "     ^\n",
      "SyntaxError: invalid syntax\n",
      "\n",
      "During handling of the above exception, another exception occurred:\n",
      "\n",
      "Traceback (most recent call last):\n",
      "  File \"/media/disk/home/pau/Projectes/GNN-MThesis/src/function_renaming/TFM_function_renaming_dataset_creation.py\", line 260, in parseGraph\n",
      "    g = readGraph('',filename)\n",
      "  File \"/media/disk/home/pau/Projectes/GNN-MThesis/src/function_renaming/TFM_function_renaming_dataset_creation.py\", line 66, in readGraph\n",
      "    g = nx.read_edgelist(folder+filename)\n",
      "  File \"</home/pau/.pyenv/versions/3.6.7/envs/gnn-pytorch/lib/python3.6/site-packages/decorator.py:decorator-gen-707>\", line 2, in read_edgelist\n",
      "  File \"/home/pau/.pyenv/versions/3.6.7/envs/gnn-pytorch/lib/python3.6/site-packages/networkx/utils/decorators.py\", line 240, in _open_file\n",
      "    result = func_to_be_decorated(*new_args, **kwargs)\n",
      "  File \"/home/pau/.pyenv/versions/3.6.7/envs/gnn-pytorch/lib/python3.6/site-packages/networkx/readwrite/edgelist.py\", line 369, in read_edgelist\n",
      "    data=data)\n",
      "  File \"/home/pau/.pyenv/versions/3.6.7/envs/gnn-pytorch/lib/python3.6/site-packages/networkx/readwrite/edgelist.py\", line 280, in parse_edgelist\n",
      "    \"Failed to convert edge data (%s) to dictionary.\" % (d))\n",
      "TypeError: Failed to convert edge data (['{%1$s_%2$s}\\\\\"', ']', '\"...', '{', '\"type\":', '\"phrase\"', '}']) to dictionary.\n"
     ]
    },
    {
     "name": "stdout",
     "output_type": "stream",
     "text": [
      "tmp/noisy_fixed02/raw/graphs01/Cryptography/p11tool_exe/sub_422230_edges.txt\n"
     ]
    },
    {
     "name": "stderr",
     "output_type": "stream",
     "text": [
      "Traceback (most recent call last):\n",
      "  File \"/home/pau/.pyenv/versions/3.6.7/envs/gnn-pytorch/lib/python3.6/site-packages/networkx/readwrite/edgelist.py\", line 277, in parse_edgelist\n",
      "    edgedata = dict(literal_eval(' '.join(d)))\n",
      "  File \"/home/pau/.pyenv/versions/3.6.7/lib/python3.6/ast.py\", line 48, in literal_eval\n",
      "    node_or_string = parse(node_or_string, mode='eval')\n",
      "  File \"/home/pau/.pyenv/versions/3.6.7/lib/python3.6/ast.py\", line 35, in parse\n",
      "    return compile(source, filename, mode, PyCF_ONLY_AST)\n",
      "  File \"<unknown>\", line 1\n",
      "    {OPT_CODE}\\\" in\\n\" { \"type\": \"phrase\" }\n",
      "                                          ^\n",
      "SyntaxError: unexpected character after line continuation character\n",
      "\n",
      "During handling of the above exception, another exception occurred:\n",
      "\n",
      "Traceback (most recent call last):\n",
      "  File \"/media/disk/home/pau/Projectes/GNN-MThesis/src/function_renaming/TFM_function_renaming_dataset_creation.py\", line 260, in parseGraph\n",
      "    g = readGraph('',filename)\n",
      "  File \"/media/disk/home/pau/Projectes/GNN-MThesis/src/function_renaming/TFM_function_renaming_dataset_creation.py\", line 66, in readGraph\n",
      "    g = nx.read_edgelist(folder+filename)\n",
      "  File \"</home/pau/.pyenv/versions/3.6.7/envs/gnn-pytorch/lib/python3.6/site-packages/decorator.py:decorator-gen-707>\", line 2, in read_edgelist\n",
      "  File \"/home/pau/.pyenv/versions/3.6.7/envs/gnn-pytorch/lib/python3.6/site-packages/networkx/utils/decorators.py\", line 240, in _open_file\n",
      "    result = func_to_be_decorated(*new_args, **kwargs)\n",
      "  File \"/home/pau/.pyenv/versions/3.6.7/envs/gnn-pytorch/lib/python3.6/site-packages/networkx/readwrite/edgelist.py\", line 369, in read_edgelist\n",
      "    data=data)\n",
      "  File \"/home/pau/.pyenv/versions/3.6.7/envs/gnn-pytorch/lib/python3.6/site-packages/networkx/readwrite/edgelist.py\", line 280, in parse_edgelist\n",
      "    \"Failed to convert edge data (%s) to dictionary.\" % (d))\n",
      "TypeError: Failed to convert edge data (['{OPT_CODE}\\\\\"', 'in\\\\n\"', '{', '\"type\":', '\"phrase\"', '}']) to dictionary.\n"
     ]
    },
    {
     "name": "stdout",
     "output_type": "stream",
     "text": [
      "tmp/noisy_fixed02/raw/graphs01/Cryptography/p11tool_exe/sub_422000_edges.txt\n"
     ]
    },
    {
     "name": "stderr",
     "output_type": "stream",
     "text": [
      "Traceback (most recent call last):\n",
      "  File \"/home/pau/.pyenv/versions/3.6.7/envs/gnn-pytorch/lib/python3.6/site-packages/networkx/readwrite/edgelist.py\", line 277, in parse_edgelist\n",
      "    edgedata = dict(literal_eval(' '.join(d)))\n",
      "  File \"/home/pau/.pyenv/versions/3.6.7/lib/python3.6/ast.py\", line 48, in literal_eval\n",
      "    node_or_string = parse(node_or_string, mode='eval')\n",
      "  File \"/home/pau/.pyenv/versions/3.6.7/lib/python3.6/ast.py\", line 35, in parse\n",
      "    return compile(source, filename, mode, PyCF_ONLY_AST)\n",
      "  File \"<unknown>\", line 1\n",
      "    {%1$s_%2$s}\\\" ] \"... { \"type\": \"phrase\" }\n",
      "     ^\n",
      "SyntaxError: invalid syntax\n",
      "\n",
      "During handling of the above exception, another exception occurred:\n",
      "\n",
      "Traceback (most recent call last):\n",
      "  File \"/media/disk/home/pau/Projectes/GNN-MThesis/src/function_renaming/TFM_function_renaming_dataset_creation.py\", line 260, in parseGraph\n",
      "    g = readGraph('',filename)\n",
      "  File \"/media/disk/home/pau/Projectes/GNN-MThesis/src/function_renaming/TFM_function_renaming_dataset_creation.py\", line 66, in readGraph\n",
      "    g = nx.read_edgelist(folder+filename)\n",
      "  File \"</home/pau/.pyenv/versions/3.6.7/envs/gnn-pytorch/lib/python3.6/site-packages/decorator.py:decorator-gen-707>\", line 2, in read_edgelist\n",
      "  File \"/home/pau/.pyenv/versions/3.6.7/envs/gnn-pytorch/lib/python3.6/site-packages/networkx/utils/decorators.py\", line 240, in _open_file\n",
      "    result = func_to_be_decorated(*new_args, **kwargs)\n",
      "  File \"/home/pau/.pyenv/versions/3.6.7/envs/gnn-pytorch/lib/python3.6/site-packages/networkx/readwrite/edgelist.py\", line 369, in read_edgelist\n",
      "    data=data)\n",
      "  File \"/home/pau/.pyenv/versions/3.6.7/envs/gnn-pytorch/lib/python3.6/site-packages/networkx/readwrite/edgelist.py\", line 280, in parse_edgelist\n",
      "    \"Failed to convert edge data (%s) to dictionary.\" % (d))\n",
      "TypeError: Failed to convert edge data (['{%1$s_%2$s}\\\\\"', ']', '\"...', '{', '\"type\":', '\"phrase\"', '}']) to dictionary.\n"
     ]
    },
    {
     "name": "stdout",
     "output_type": "stream",
     "text": [
      "\n",
      "\n",
      "\n",
      "\n",
      "\n",
      "\n",
      "\n",
      "\n",
      "\n",
      "\n",
      "\n",
      "{ |}\n",
      "{ |}\"}\n",
      "{ |}\"}\n",
      "\n",
      "\n",
      "\n",
      "\n",
      "\n",
      "\n",
      "\n",
      "\n",
      "{ |}\n",
      "{ |}\"}\n",
      "{ |}\"}\n",
      "\n",
      "\n",
      "\n",
      "\n",
      "\n",
      "\n",
      "\n",
      "\n",
      "tmp/noisy_fixed02/raw/graphs01/Cryptography/ocsptool_exe/sub_40CD80_edges.txt\n"
     ]
    },
    {
     "name": "stderr",
     "output_type": "stream",
     "text": [
      "Traceback (most recent call last):\n",
      "  File \"/home/pau/.pyenv/versions/3.6.7/envs/gnn-pytorch/lib/python3.6/site-packages/networkx/readwrite/edgelist.py\", line 277, in parse_edgelist\n",
      "    edgedata = dict(literal_eval(' '.join(d)))\n",
      "  File \"/home/pau/.pyenv/versions/3.6.7/lib/python3.6/ast.py\", line 48, in literal_eval\n",
      "    node_or_string = parse(node_or_string, mode='eval')\n",
      "  File \"/home/pau/.pyenv/versions/3.6.7/lib/python3.6/ast.py\", line 35, in parse\n",
      "    return compile(source, filename, mode, PyCF_ONLY_AST)\n",
      "  File \"<unknown>\", line 1\n",
      "    {OPT_CODE}\\\" in\\n\" { \"type\": \"phrase\" }\n",
      "                                          ^\n",
      "SyntaxError: unexpected character after line continuation character\n",
      "\n",
      "During handling of the above exception, another exception occurred:\n",
      "\n",
      "Traceback (most recent call last):\n",
      "  File \"/media/disk/home/pau/Projectes/GNN-MThesis/src/function_renaming/TFM_function_renaming_dataset_creation.py\", line 260, in parseGraph\n",
      "    g = readGraph('',filename)\n",
      "  File \"/media/disk/home/pau/Projectes/GNN-MThesis/src/function_renaming/TFM_function_renaming_dataset_creation.py\", line 66, in readGraph\n",
      "    g = nx.read_edgelist(folder+filename)\n",
      "  File \"</home/pau/.pyenv/versions/3.6.7/envs/gnn-pytorch/lib/python3.6/site-packages/decorator.py:decorator-gen-707>\", line 2, in read_edgelist\n",
      "  File \"/home/pau/.pyenv/versions/3.6.7/envs/gnn-pytorch/lib/python3.6/site-packages/networkx/utils/decorators.py\", line 240, in _open_file\n",
      "    result = func_to_be_decorated(*new_args, **kwargs)\n",
      "  File \"/home/pau/.pyenv/versions/3.6.7/envs/gnn-pytorch/lib/python3.6/site-packages/networkx/readwrite/edgelist.py\", line 369, in read_edgelist\n",
      "    data=data)\n",
      "  File \"/home/pau/.pyenv/versions/3.6.7/envs/gnn-pytorch/lib/python3.6/site-packages/networkx/readwrite/edgelist.py\", line 280, in parse_edgelist\n",
      "    \"Failed to convert edge data (%s) to dictionary.\" % (d))\n",
      "TypeError: Failed to convert edge data (['{OPT_CODE}\\\\\"', 'in\\\\n\"', '{', '\"type\":', '\"phrase\"', '}']) to dictionary.\n"
     ]
    },
    {
     "name": "stdout",
     "output_type": "stream",
     "text": [
      "tmp/noisy_fixed02/raw/graphs01/Cryptography/ocsptool_exe/sub_40CFB0_edges.txt\n"
     ]
    },
    {
     "name": "stderr",
     "output_type": "stream",
     "text": [
      "Traceback (most recent call last):\n",
      "  File \"/home/pau/.pyenv/versions/3.6.7/envs/gnn-pytorch/lib/python3.6/site-packages/networkx/readwrite/edgelist.py\", line 277, in parse_edgelist\n",
      "    edgedata = dict(literal_eval(' '.join(d)))\n",
      "  File \"/home/pau/.pyenv/versions/3.6.7/lib/python3.6/ast.py\", line 48, in literal_eval\n",
      "    node_or_string = parse(node_or_string, mode='eval')\n",
      "  File \"/home/pau/.pyenv/versions/3.6.7/lib/python3.6/ast.py\", line 35, in parse\n",
      "    return compile(source, filename, mode, PyCF_ONLY_AST)\n",
      "  File \"<unknown>\", line 1\n",
      "    {OPT_CODE}\\\" in\\n\" { \"type\": \"phrase\" }\n",
      "                                          ^\n",
      "SyntaxError: unexpected character after line continuation character\n",
      "\n",
      "During handling of the above exception, another exception occurred:\n",
      "\n",
      "Traceback (most recent call last):\n",
      "  File \"/media/disk/home/pau/Projectes/GNN-MThesis/src/function_renaming/TFM_function_renaming_dataset_creation.py\", line 260, in parseGraph\n",
      "    g = readGraph('',filename)\n",
      "  File \"/media/disk/home/pau/Projectes/GNN-MThesis/src/function_renaming/TFM_function_renaming_dataset_creation.py\", line 66, in readGraph\n",
      "    g = nx.read_edgelist(folder+filename)\n",
      "  File \"</home/pau/.pyenv/versions/3.6.7/envs/gnn-pytorch/lib/python3.6/site-packages/decorator.py:decorator-gen-707>\", line 2, in read_edgelist\n",
      "  File \"/home/pau/.pyenv/versions/3.6.7/envs/gnn-pytorch/lib/python3.6/site-packages/networkx/utils/decorators.py\", line 240, in _open_file\n",
      "    result = func_to_be_decorated(*new_args, **kwargs)\n",
      "  File \"/home/pau/.pyenv/versions/3.6.7/envs/gnn-pytorch/lib/python3.6/site-packages/networkx/readwrite/edgelist.py\", line 369, in read_edgelist\n",
      "    data=data)\n",
      "  File \"/home/pau/.pyenv/versions/3.6.7/envs/gnn-pytorch/lib/python3.6/site-packages/networkx/readwrite/edgelist.py\", line 280, in parse_edgelist\n",
      "    \"Failed to convert edge data (%s) to dictionary.\" % (d))\n",
      "TypeError: Failed to convert edge data (['{OPT_CODE}\\\\\"', 'in\\\\n\"', '{', '\"type\":', '\"phrase\"', '}']) to dictionary.\n"
     ]
    },
    {
     "name": "stdout",
     "output_type": "stream",
     "text": [
      "tmp/noisy_fixed02/raw/graphs01/Cryptography/ocsptool_exe/sub_40CB50_edges.txt\n"
     ]
    },
    {
     "name": "stderr",
     "output_type": "stream",
     "text": [
      "Traceback (most recent call last):\n",
      "  File \"/home/pau/.pyenv/versions/3.6.7/envs/gnn-pytorch/lib/python3.6/site-packages/networkx/readwrite/edgelist.py\", line 277, in parse_edgelist\n",
      "    edgedata = dict(literal_eval(' '.join(d)))\n",
      "  File \"/home/pau/.pyenv/versions/3.6.7/lib/python3.6/ast.py\", line 48, in literal_eval\n",
      "    node_or_string = parse(node_or_string, mode='eval')\n",
      "  File \"/home/pau/.pyenv/versions/3.6.7/lib/python3.6/ast.py\", line 35, in parse\n",
      "    return compile(source, filename, mode, PyCF_ONLY_AST)\n",
      "  File \"<unknown>\", line 1\n",
      "    {%1$s_%\"... { \"type\": \"phrase\" }\n",
      "     ^\n",
      "SyntaxError: invalid syntax\n",
      "\n",
      "During handling of the above exception, another exception occurred:\n",
      "\n",
      "Traceback (most recent call last):\n",
      "  File \"/media/disk/home/pau/Projectes/GNN-MThesis/src/function_renaming/TFM_function_renaming_dataset_creation.py\", line 260, in parseGraph\n",
      "    g = readGraph('',filename)\n",
      "  File \"/media/disk/home/pau/Projectes/GNN-MThesis/src/function_renaming/TFM_function_renaming_dataset_creation.py\", line 66, in readGraph\n",
      "    g = nx.read_edgelist(folder+filename)\n",
      "  File \"</home/pau/.pyenv/versions/3.6.7/envs/gnn-pytorch/lib/python3.6/site-packages/decorator.py:decorator-gen-707>\", line 2, in read_edgelist\n",
      "  File \"/home/pau/.pyenv/versions/3.6.7/envs/gnn-pytorch/lib/python3.6/site-packages/networkx/utils/decorators.py\", line 240, in _open_file\n",
      "    result = func_to_be_decorated(*new_args, **kwargs)\n",
      "  File \"/home/pau/.pyenv/versions/3.6.7/envs/gnn-pytorch/lib/python3.6/site-packages/networkx/readwrite/edgelist.py\", line 369, in read_edgelist\n",
      "    data=data)\n",
      "  File \"/home/pau/.pyenv/versions/3.6.7/envs/gnn-pytorch/lib/python3.6/site-packages/networkx/readwrite/edgelist.py\", line 280, in parse_edgelist\n",
      "    \"Failed to convert edge data (%s) to dictionary.\" % (d))\n",
      "TypeError: Failed to convert edge data (['{%1$s_%\"...', '{', '\"type\":', '\"phrase\"', '}']) to dictionary.\n"
     ]
    },
    {
     "name": "stdout",
     "output_type": "stream",
     "text": [
      "{ \"type\":_\"phrase\",_\"content\":_\"[rdi]      ; hKey\"}\n",
      "tmp/noisy_fixed02/raw/graphs01/Cryptography/fzputtygen_exe/sub_402BE0_edges.txt\n"
     ]
    },
    {
     "name": "stderr",
     "output_type": "stream",
     "text": [
      "Traceback (most recent call last):\n",
      "  File \"/media/disk/home/pau/Projectes/GNN-MThesis/src/function_renaming/TFM_function_renaming_dataset_creation.py\", line 262, in parseGraph\n",
      "    data = self.createGraphFromNXwithTarget(g,y,xlen,undirected=True)\n",
      "  File \"/media/disk/home/pau/Projectes/GNN-MThesis/src/function_renaming/TFM_function_renaming_dataset_creation.py\", line 512, in createGraphFromNXwithTarget\n",
      "    dataset =  self.createGraphFromNX(g,xlen, undirected)\n",
      "  File \"/media/disk/home/pau/Projectes/GNN-MThesis/src/function_renaming/TFM_function_renaming_dataset_creation.py\", line 498, in createGraphFromNX\n",
      "    x = torch.tensor(x, dtype=torch.float)\n",
      "RuntimeError: Precision loss when unpacking double\n"
     ]
    },
    {
     "name": "stdout",
     "output_type": "stream",
     "text": [
      "{ \"type\":_\"phrase\",_\"content\":_\"[r8+r8*2]  ; dwShareMode\"}\n",
      "{ \"type\":_\"phrase\",_\"content\":_\"[r15+r12]  ; Dest\"}\n",
      "{ \"type\":_\"phrase\",_\"content\":_\"[rcx]      ; hKey\"}\n",
      "{ \"type\":_\"phrase\",_\"content\":_\"[rbx]      ; dwTlsIndex\"}\n",
      "tmp/noisy_fixed02/raw/graphs01/Cryptography/fzputtygen_exe/sub_41A030_edges.txt\n"
     ]
    },
    {
     "name": "stderr",
     "output_type": "stream",
     "text": [
      "Traceback (most recent call last):\n",
      "  File \"/media/disk/home/pau/Projectes/GNN-MThesis/src/function_renaming/TFM_function_renaming_dataset_creation.py\", line 262, in parseGraph\n",
      "    data = self.createGraphFromNXwithTarget(g,y,xlen,undirected=True)\n",
      "  File \"/media/disk/home/pau/Projectes/GNN-MThesis/src/function_renaming/TFM_function_renaming_dataset_creation.py\", line 512, in createGraphFromNXwithTarget\n",
      "    dataset =  self.createGraphFromNX(g,xlen, undirected)\n",
      "  File \"/media/disk/home/pau/Projectes/GNN-MThesis/src/function_renaming/TFM_function_renaming_dataset_creation.py\", line 498, in createGraphFromNX\n",
      "    x = torch.tensor(x, dtype=torch.float)\n",
      "RuntimeError: Precision loss when unpacking double\n"
     ]
    },
    {
     "name": "stdout",
     "output_type": "stream",
     "text": [
      "{ \"type\":_\"phrase\",_\"content\":_\"[rax+rdi]  ; Dest\"}\n",
      "{ \"type\":_\"phrase\",_\"content\":_\"[rax+rbx]  ; flNewProtect\"}\n",
      "{ \"type\":_\"phrase\",_\"content\":_\"[rdx]      ; Str2\"}\n",
      "tmp/noisy_fixed02/raw/graphs01/Cryptography/dirmngr_exe/sub_410CA0_edges.txt\n"
     ]
    },
    {
     "name": "stderr",
     "output_type": "stream",
     "text": [
      "Traceback (most recent call last):\n",
      "  File \"/home/pau/.pyenv/versions/3.6.7/envs/gnn-pytorch/lib/python3.6/site-packages/networkx/readwrite/edgelist.py\", line 277, in parse_edgelist\n",
      "    edgedata = dict(literal_eval(' '.join(d)))\n",
      "  File \"/home/pau/.pyenv/versions/3.6.7/lib/python3.6/ast.py\", line 48, in literal_eval\n",
      "    node_or_string = parse(node_or_string, mode='eval')\n",
      "  File \"/home/pau/.pyenv/versions/3.6.7/lib/python3.6/ast.py\", line 35, in parse\n",
      "    return compile(source, filename, mode, PyCF_ONLY_AST)\n",
      "  File \"<unknown>\", line 1\n",
      "    {\" { \"type\": \"phrase\" }\n",
      "             ^\n",
      "SyntaxError: invalid syntax\n",
      "\n",
      "During handling of the above exception, another exception occurred:\n",
      "\n",
      "Traceback (most recent call last):\n",
      "  File \"/media/disk/home/pau/Projectes/GNN-MThesis/src/function_renaming/TFM_function_renaming_dataset_creation.py\", line 260, in parseGraph\n",
      "    g = readGraph('',filename)\n",
      "  File \"/media/disk/home/pau/Projectes/GNN-MThesis/src/function_renaming/TFM_function_renaming_dataset_creation.py\", line 66, in readGraph\n",
      "    g = nx.read_edgelist(folder+filename)\n",
      "  File \"</home/pau/.pyenv/versions/3.6.7/envs/gnn-pytorch/lib/python3.6/site-packages/decorator.py:decorator-gen-707>\", line 2, in read_edgelist\n",
      "  File \"/home/pau/.pyenv/versions/3.6.7/envs/gnn-pytorch/lib/python3.6/site-packages/networkx/utils/decorators.py\", line 240, in _open_file\n",
      "    result = func_to_be_decorated(*new_args, **kwargs)\n",
      "  File \"/home/pau/.pyenv/versions/3.6.7/envs/gnn-pytorch/lib/python3.6/site-packages/networkx/readwrite/edgelist.py\", line 369, in read_edgelist\n",
      "    data=data)\n",
      "  File \"/home/pau/.pyenv/versions/3.6.7/envs/gnn-pytorch/lib/python3.6/site-packages/networkx/readwrite/edgelist.py\", line 280, in parse_edgelist\n",
      "    \"Failed to convert edge data (%s) to dictionary.\" % (d))\n",
      "TypeError: Failed to convert edge data (['{\"', '{', '\"type\":', '\"phrase\"', '}']) to dictionary.\n"
     ]
    },
    {
     "name": "stdout",
     "output_type": "stream",
     "text": [
      "\n",
      "{ |}\n",
      "{ |}\"}\n",
      "{ |}\"}\n",
      "tmp/noisy_fixed02/raw/graphs01/Cryptography/dirmngr_exe/sub_415DB0_edges.txt\n"
     ]
    },
    {
     "name": "stderr",
     "output_type": "stream",
     "text": [
      "Traceback (most recent call last):\n",
      "  File \"/home/pau/.pyenv/versions/3.6.7/envs/gnn-pytorch/lib/python3.6/site-packages/networkx/readwrite/edgelist.py\", line 277, in parse_edgelist\n",
      "    edgedata = dict(literal_eval(' '.join(d)))\n",
      "  File \"/home/pau/.pyenv/versions/3.6.7/lib/python3.6/ast.py\", line 48, in literal_eval\n",
      "    node_or_string = parse(node_or_string, mode='eval')\n",
      "  File \"/home/pau/.pyenv/versions/3.6.7/lib/python3.6/ast.py\", line 35, in parse\n",
      "    return compile(source, filename, mode, PyCF_ONLY_AST)\n",
      "  File \"<unknown>\", line 1\n",
      "    {\" { \"type\": \"phrase\" }\n",
      "             ^\n",
      "SyntaxError: invalid syntax\n",
      "\n",
      "During handling of the above exception, another exception occurred:\n",
      "\n",
      "Traceback (most recent call last):\n",
      "  File \"/media/disk/home/pau/Projectes/GNN-MThesis/src/function_renaming/TFM_function_renaming_dataset_creation.py\", line 260, in parseGraph\n",
      "    g = readGraph('',filename)\n",
      "  File \"/media/disk/home/pau/Projectes/GNN-MThesis/src/function_renaming/TFM_function_renaming_dataset_creation.py\", line 66, in readGraph\n",
      "    g = nx.read_edgelist(folder+filename)\n",
      "  File \"</home/pau/.pyenv/versions/3.6.7/envs/gnn-pytorch/lib/python3.6/site-packages/decorator.py:decorator-gen-707>\", line 2, in read_edgelist\n",
      "  File \"/home/pau/.pyenv/versions/3.6.7/envs/gnn-pytorch/lib/python3.6/site-packages/networkx/utils/decorators.py\", line 240, in _open_file\n",
      "    result = func_to_be_decorated(*new_args, **kwargs)\n",
      "  File \"/home/pau/.pyenv/versions/3.6.7/envs/gnn-pytorch/lib/python3.6/site-packages/networkx/readwrite/edgelist.py\", line 369, in read_edgelist\n",
      "    data=data)\n",
      "  File \"/home/pau/.pyenv/versions/3.6.7/envs/gnn-pytorch/lib/python3.6/site-packages/networkx/readwrite/edgelist.py\", line 280, in parse_edgelist\n",
      "    \"Failed to convert edge data (%s) to dictionary.\" % (d))\n",
      "TypeError: Failed to convert edge data (['{\"', '{', '\"type\":', '\"phrase\"', '}']) to dictionary.\n"
     ]
    },
    {
     "name": "stdout",
     "output_type": "stream",
     "text": [
      "tmp/noisy_fixed02/raw/graphs01/Cryptography/dirmngr_exe/sub_40B380_edges.txt\n",
      "{ \"type\":_\"phrase\",_\"content\":_\"offset_aLdapReaperFpDS;_'ldap-reaper:_fp[%d] stream=%p r=%d %c%c'...\"}\n",
      "{ \"type\":_\"phrase\",_\"content\":_\"offset_aLdapReaperFp_0;_'ldap-reaper:_fp[%d] stream=%p want=%dn'\"}\n"
     ]
    },
    {
     "name": "stderr",
     "output_type": "stream",
     "text": [
      "Traceback (most recent call last):\n",
      "  File \"/home/pau/.pyenv/versions/3.6.7/envs/gnn-pytorch/lib/python3.6/site-packages/networkx/readwrite/edgelist.py\", line 277, in parse_edgelist\n",
      "    edgedata = dict(literal_eval(' '.join(d)))\n",
      "  File \"/home/pau/.pyenv/versions/3.6.7/lib/python3.6/ast.py\", line 48, in literal_eval\n",
      "    node_or_string = parse(node_or_string, mode='eval')\n",
      "  File \"/home/pau/.pyenv/versions/3.6.7/lib/python3.6/ast.py\", line 35, in parse\n",
      "    return compile(source, filename, mode, PyCF_ONLY_AST)\n",
      "  File \"<unknown>\", line 1\n",
      "    {\" { \"type\": \"phrase\" }\n",
      "             ^\n",
      "SyntaxError: invalid syntax\n",
      "\n",
      "During handling of the above exception, another exception occurred:\n",
      "\n",
      "Traceback (most recent call last):\n",
      "  File \"/media/disk/home/pau/Projectes/GNN-MThesis/src/function_renaming/TFM_function_renaming_dataset_creation.py\", line 260, in parseGraph\n",
      "    g = readGraph('',filename)\n",
      "  File \"/media/disk/home/pau/Projectes/GNN-MThesis/src/function_renaming/TFM_function_renaming_dataset_creation.py\", line 66, in readGraph\n",
      "    g = nx.read_edgelist(folder+filename)\n",
      "  File \"</home/pau/.pyenv/versions/3.6.7/envs/gnn-pytorch/lib/python3.6/site-packages/decorator.py:decorator-gen-707>\", line 2, in read_edgelist\n",
      "  File \"/home/pau/.pyenv/versions/3.6.7/envs/gnn-pytorch/lib/python3.6/site-packages/networkx/utils/decorators.py\", line 240, in _open_file\n",
      "    result = func_to_be_decorated(*new_args, **kwargs)\n",
      "  File \"/home/pau/.pyenv/versions/3.6.7/envs/gnn-pytorch/lib/python3.6/site-packages/networkx/readwrite/edgelist.py\", line 369, in read_edgelist\n",
      "    data=data)\n",
      "  File \"/home/pau/.pyenv/versions/3.6.7/envs/gnn-pytorch/lib/python3.6/site-packages/networkx/readwrite/edgelist.py\", line 280, in parse_edgelist\n",
      "    \"Failed to convert edge data (%s) to dictionary.\" % (d))\n",
      "TypeError: Failed to convert edge data (['{\"', '{', '\"type\":', '\"phrase\"', '}']) to dictionary.\n"
     ]
    },
    {
     "name": "stdout",
     "output_type": "stream",
     "text": [
      "{ \"type\":_\"phrase\",_\"content\":_\"offset_aSFp0StreamPWan;_'%s:_fp[0] stream=%p want=%dn'\"}\n",
      "{ \"type\":_\"phrase\",_\"content\":_\"offset_aSFp0StreamPRDC;_'%s:_fp[0] stream=%p r=%d %c%c%c%c%c%c%c'...\"}\n",
      "\n",
      "Finished reading-processing dataset,\n"
     ]
    },
    {
     "ename": "NameError",
     "evalue": "name 'problematic_files' is not defined",
     "output_type": "error",
     "traceback": [
      "\u001b[0;31m---------------------------------------------------------------------------\u001b[0m",
      "\u001b[0;31mNameError\u001b[0m                                 Traceback (most recent call last)",
      "\u001b[0;32m<ipython-input-109-3cfdf4621947>\u001b[0m in \u001b[0;36m<module>\u001b[0;34m\u001b[0m\n\u001b[0;32m----> 1\u001b[0;31m \u001b[0mdataset\u001b[0m \u001b[0;34m=\u001b[0m \u001b[0mFunctionsDataset\u001b[0m\u001b[0;34m(\u001b[0m\u001b[0mroot\u001b[0m\u001b[0;34m=\u001b[0m\u001b[0;34m'./tmp/noisy_fixed02'\u001b[0m\u001b[0;34m)\u001b[0m\u001b[0;34m\u001b[0m\u001b[0;34m\u001b[0m\u001b[0m\n\u001b[0m\u001b[1;32m      2\u001b[0m \u001b[0mprint\u001b[0m\u001b[0;34m(\u001b[0m\u001b[0mlen\u001b[0m\u001b[0;34m(\u001b[0m\u001b[0mdataset\u001b[0m\u001b[0;34m)\u001b[0m\u001b[0;34m)\u001b[0m\u001b[0;34m\u001b[0m\u001b[0;34m\u001b[0m\u001b[0m\n\u001b[1;32m      3\u001b[0m \u001b[0mprint\u001b[0m\u001b[0;34m(\u001b[0m\u001b[0mdataset\u001b[0m\u001b[0;34m.\u001b[0m\u001b[0mnum_classes\u001b[0m\u001b[0;34m)\u001b[0m\u001b[0;34m\u001b[0m\u001b[0;34m\u001b[0m\u001b[0m\n\u001b[1;32m      4\u001b[0m \u001b[0mprint\u001b[0m\u001b[0;34m(\u001b[0m\u001b[0mdataset\u001b[0m\u001b[0;34m.\u001b[0m\u001b[0mnum_features\u001b[0m\u001b[0;34m)\u001b[0m\u001b[0;34m\u001b[0m\u001b[0;34m\u001b[0m\u001b[0m\n",
      "\u001b[0;32m/media/disk/home/pau/Projectes/GNN-MThesis/src/function_renaming/TFM_function_renaming_dataset_creation.py\u001b[0m in \u001b[0;36m__init__\u001b[0;34m(self, root, transform, pre_transform)\u001b[0m\n\u001b[1;32m    171\u001b[0m \u001b[0;34m\u001b[0m\u001b[0m\n\u001b[1;32m    172\u001b[0m     \u001b[0;32mdef\u001b[0m \u001b[0m__init__\u001b[0m\u001b[0;34m(\u001b[0m\u001b[0mself\u001b[0m\u001b[0;34m,\u001b[0m \u001b[0mroot\u001b[0m\u001b[0;34m,\u001b[0m \u001b[0mtransform\u001b[0m\u001b[0;34m=\u001b[0m\u001b[0;32mNone\u001b[0m\u001b[0;34m,\u001b[0m \u001b[0mpre_transform\u001b[0m\u001b[0;34m=\u001b[0m\u001b[0;32mNone\u001b[0m\u001b[0;34m)\u001b[0m\u001b[0;34m:\u001b[0m\u001b[0;34m\u001b[0m\u001b[0;34m\u001b[0m\u001b[0m\n\u001b[0;32m--> 173\u001b[0;31m         \u001b[0msuper\u001b[0m\u001b[0;34m(\u001b[0m\u001b[0mFunctionsDataset\u001b[0m\u001b[0;34m,\u001b[0m \u001b[0mself\u001b[0m\u001b[0;34m)\u001b[0m\u001b[0;34m.\u001b[0m\u001b[0m__init__\u001b[0m\u001b[0;34m(\u001b[0m\u001b[0mroot\u001b[0m\u001b[0;34m,\u001b[0m \u001b[0mtransform\u001b[0m\u001b[0;34m,\u001b[0m \u001b[0mpre_transform\u001b[0m\u001b[0;34m)\u001b[0m\u001b[0;34m\u001b[0m\u001b[0;34m\u001b[0m\u001b[0m\n\u001b[0m\u001b[1;32m    174\u001b[0m         \u001b[0mprint\u001b[0m\u001b[0;34m(\u001b[0m\u001b[0;34m\" end of __init__()\"\u001b[0m\u001b[0;34m)\u001b[0m\u001b[0;34m\u001b[0m\u001b[0;34m\u001b[0m\u001b[0m\n\u001b[1;32m    175\u001b[0m \u001b[0;34m\u001b[0m\u001b[0m\n",
      "\u001b[0;32m~/.pyenv/versions/3.6.7/envs/gnn-pytorch/lib/python3.6/site-packages/torch_geometric/data/dataset.py\u001b[0m in \u001b[0;36m__init__\u001b[0;34m(self, root, transform, pre_transform, pre_filter)\u001b[0m\n\u001b[1;32m     83\u001b[0m \u001b[0;34m\u001b[0m\u001b[0m\n\u001b[1;32m     84\u001b[0m         \u001b[0mself\u001b[0m\u001b[0;34m.\u001b[0m\u001b[0m_download\u001b[0m\u001b[0;34m(\u001b[0m\u001b[0;34m)\u001b[0m\u001b[0;34m\u001b[0m\u001b[0;34m\u001b[0m\u001b[0m\n\u001b[0;32m---> 85\u001b[0;31m         \u001b[0mself\u001b[0m\u001b[0;34m.\u001b[0m\u001b[0m_process\u001b[0m\u001b[0;34m(\u001b[0m\u001b[0;34m)\u001b[0m\u001b[0;34m\u001b[0m\u001b[0;34m\u001b[0m\u001b[0m\n\u001b[0m\u001b[1;32m     86\u001b[0m \u001b[0;34m\u001b[0m\u001b[0m\n\u001b[1;32m     87\u001b[0m     \u001b[0;34m@\u001b[0m\u001b[0mproperty\u001b[0m\u001b[0;34m\u001b[0m\u001b[0;34m\u001b[0m\u001b[0m\n",
      "\u001b[0;32m~/.pyenv/versions/3.6.7/envs/gnn-pytorch/lib/python3.6/site-packages/torch_geometric/data/dataset.py\u001b[0m in \u001b[0;36m_process\u001b[0;34m(self)\u001b[0m\n\u001b[1;32m    117\u001b[0m \u001b[0;34m\u001b[0m\u001b[0m\n\u001b[1;32m    118\u001b[0m         \u001b[0mmakedirs\u001b[0m\u001b[0;34m(\u001b[0m\u001b[0mself\u001b[0m\u001b[0;34m.\u001b[0m\u001b[0mprocessed_dir\u001b[0m\u001b[0;34m)\u001b[0m\u001b[0;34m\u001b[0m\u001b[0;34m\u001b[0m\u001b[0m\n\u001b[0;32m--> 119\u001b[0;31m         \u001b[0mself\u001b[0m\u001b[0;34m.\u001b[0m\u001b[0mprocess\u001b[0m\u001b[0;34m(\u001b[0m\u001b[0;34m)\u001b[0m\u001b[0;34m\u001b[0m\u001b[0;34m\u001b[0m\u001b[0m\n\u001b[0m\u001b[1;32m    120\u001b[0m \u001b[0;34m\u001b[0m\u001b[0m\n\u001b[1;32m    121\u001b[0m         \u001b[0mprint\u001b[0m\u001b[0;34m(\u001b[0m\u001b[0;34m'Done!'\u001b[0m\u001b[0;34m)\u001b[0m\u001b[0;34m\u001b[0m\u001b[0;34m\u001b[0m\u001b[0m\n",
      "\u001b[0;32m/media/disk/home/pau/Projectes/GNN-MThesis/src/function_renaming/TFM_function_renaming_dataset_creation.py\u001b[0m in \u001b[0;36mprocess\u001b[0;34m(self)\u001b[0m\n\u001b[1;32m    247\u001b[0m         \u001b[0mprint\u001b[0m\u001b[0;34m(\u001b[0m\u001b[0;34m\"Finished reading-processing dataset,\"\u001b[0m\u001b[0;34m)\u001b[0m\u001b[0;34m\u001b[0m\u001b[0;34m\u001b[0m\u001b[0m\n\u001b[1;32m    248\u001b[0m         print(\"processed: {} total files, {} created graph files, {} problematic files\".format(\n\u001b[0;32m--> 249\u001b[0;31m             i+len(self.problematic_files),i,len(problematic_files)))\n\u001b[0m\u001b[1;32m    250\u001b[0m         \u001b[0mprint\u001b[0m\u001b[0;34m(\u001b[0m\u001b[0;34m)\u001b[0m\u001b[0;34m\u001b[0m\u001b[0;34m\u001b[0m\u001b[0m\n\u001b[1;32m    251\u001b[0m \u001b[0;34m\u001b[0m\u001b[0m\n",
      "\u001b[0;31mNameError\u001b[0m: name 'problematic_files' is not defined"
     ]
    }
   ],
   "source": [
    "dataset = FunctionsDataset(root='./tmp/noisy_fixed02')\n",
    "print(len(dataset))\n",
    "print(dataset.num_classes)\n",
    "print(dataset.num_features)"
   ]
  },
  {
   "cell_type": "code",
   "execution_count": null,
   "metadata": {
    "scrolled": true
   },
   "outputs": [],
   "source": [
    "dataset = FunctionsDataset(root='./tmp/test03')\n",
    "print(len(dataset))\n",
    "print(dataset.num_classes)\n",
    "print(dataset.num_features)"
   ]
  },
  {
   "cell_type": "code",
   "execution_count": 332,
   "metadata": {
    "scrolled": true
   },
   "outputs": [
    {
     "name": "stdout",
     "output_type": "stream",
     "text": [
      "processed_path tmp/test03/processed\n",
      " end of __init__()\n",
      "34468\n",
      "3\n",
      "4\n"
     ]
    },
    {
     "data": {
      "text/plain": [
       "FunctionsDataset(34468)"
      ]
     },
     "execution_count": 332,
     "metadata": {},
     "output_type": "execute_result"
    }
   ],
   "source": [
    "# Reimport (for when closing and reopening the notebook)\n",
    "dataset = FunctionsDataset(root='./tmp/test03')\n",
    "print(len(dataset))\n",
    "print(dataset.num_classes)\n",
    "print(dataset.num_features)\n",
    "dataset.shuffle()"
   ]
  },
  {
   "cell_type": "code",
   "execution_count": 201,
   "metadata": {},
   "outputs": [
    {
     "name": "stdout",
     "output_type": "stream",
     "text": [
      "['tmp/test03/raw/graphs01/Network/libeayxx_dll/nullsub_1_edges.txt', 'tmp/test03/raw/graphs01/Network/ApacheCore_dll/ap_null_cleanup_edges.txt', 'tmp/test03/raw/graphs01/Network/ApacheCore_dll/nullsub_1_edges.txt', 'tmp/test03/raw/graphs01/Network/nginx_exe/nullsub_3_edges.txt', 'tmp/test03/raw/graphs01/Network/nginx_exe/nullsub_2_edges.txt', 'tmp/test03/raw/graphs01/Network/nginx_exe/nullsub_9_edges.txt', 'tmp/test03/raw/graphs01/Network/nginx_exe/nullsub_4_edges.txt', 'tmp/test03/raw/graphs01/Network/nginx_exe/nullsub_5_edges.txt', 'tmp/test03/raw/graphs01/Network/nginx_exe/nullsub_10_edges.txt', 'tmp/test03/raw/graphs01/Network/nginx_exe/nullsub_1_edges.txt', 'tmp/test03/raw/graphs01/Network/nginx_exe/nullsub_6_edges.txt', 'tmp/test03/raw/graphs01/Network/nginx_exe/nullsub_8_edges.txt', 'tmp/test03/raw/graphs01/Network/nginx_exe/nullsub_7_edges.txt', 'tmp/test03/raw/graphs01/Network/filezilla_exe/nullsub_101_edges.txt', 'tmp/test03/raw/graphs01/Network/filezilla_exe/nullsub_143_edges.txt', 'tmp/test03/raw/graphs01/Network/filezilla_exe/nullsub_134_edges.txt', 'tmp/test03/raw/graphs01/Network/filezilla_exe/nullsub_132_edges.txt', 'tmp/test03/raw/graphs01/Network/filezilla_exe/nullsub_61_edges.txt', 'tmp/test03/raw/graphs01/Network/filezilla_exe/nullsub_228_edges.txt', 'tmp/test03/raw/graphs01/Network/filezilla_exe/nullsub_47_edges.txt', 'tmp/test03/raw/graphs01/Network/filezilla_exe/nullsub_219_edges.txt', 'tmp/test03/raw/graphs01/Network/filezilla_exe/nullsub_112_edges.txt', 'tmp/test03/raw/graphs01/Network/filezilla_exe/nullsub_102_edges.txt', 'tmp/test03/raw/graphs01/Network/filezilla_exe/nullsub_163_edges.txt', 'tmp/test03/raw/graphs01/Network/filezilla_exe/nullsub_287_edges.txt', 'tmp/test03/raw/graphs01/Network/filezilla_exe/nullsub_3_edges.txt', 'tmp/test03/raw/graphs01/Network/filezilla_exe/nullsub_169_edges.txt', 'tmp/test03/raw/graphs01/Network/filezilla_exe/nullsub_49_edges.txt', 'tmp/test03/raw/graphs01/Network/filezilla_exe/nullsub_19_edges.txt', 'tmp/test03/raw/graphs01/Network/filezilla_exe/nullsub_167_edges.txt', 'tmp/test03/raw/graphs01/Network/filezilla_exe/nullsub_22_edges.txt', 'tmp/test03/raw/graphs01/Network/filezilla_exe/nullsub_78_edges.txt', 'tmp/test03/raw/graphs01/Network/filezilla_exe/nullsub_245_edges.txt', 'tmp/test03/raw/graphs01/Network/filezilla_exe/nullsub_136_edges.txt', 'tmp/test03/raw/graphs01/Network/filezilla_exe/nullsub_277_edges.txt', 'tmp/test03/raw/graphs01/Network/filezilla_exe/nullsub_196_edges.txt', 'tmp/test03/raw/graphs01/Network/filezilla_exe/nullsub_75_edges.txt', 'tmp/test03/raw/graphs01/Network/filezilla_exe/nullsub_233_edges.txt', 'tmp/test03/raw/graphs01/Network/filezilla_exe/nullsub_96_edges.txt', 'tmp/test03/raw/graphs01/Network/filezilla_exe/nullsub_271_edges.txt', 'tmp/test03/raw/graphs01/Network/filezilla_exe/nullsub_252_edges.txt', 'tmp/test03/raw/graphs01/Network/filezilla_exe/nullsub_291_edges.txt', 'tmp/test03/raw/graphs01/Network/filezilla_exe/nullsub_67_edges.txt', 'tmp/test03/raw/graphs01/Network/filezilla_exe/nullsub_25_edges.txt', 'tmp/test03/raw/graphs01/Network/filezilla_exe/nullsub_113_edges.txt', 'tmp/test03/raw/graphs01/Network/filezilla_exe/nullsub_83_edges.txt', 'tmp/test03/raw/graphs01/Network/filezilla_exe/nullsub_210_edges.txt', 'tmp/test03/raw/graphs01/Network/filezilla_exe/nullsub_254_edges.txt', 'tmp/test03/raw/graphs01/Network/filezilla_exe/nullsub_256_edges.txt', 'tmp/test03/raw/graphs01/Network/filezilla_exe/nullsub_144_edges.txt', 'tmp/test03/raw/graphs01/Network/filezilla_exe/nullsub_247_edges.txt', 'tmp/test03/raw/graphs01/Network/filezilla_exe/nullsub_285_edges.txt', 'tmp/test03/raw/graphs01/Network/filezilla_exe/nullsub_2_edges.txt', 'tmp/test03/raw/graphs01/Network/filezilla_exe/nullsub_89_edges.txt', 'tmp/test03/raw/graphs01/Network/filezilla_exe/nullsub_118_edges.txt', 'tmp/test03/raw/graphs01/Network/filezilla_exe/nullsub_53_edges.txt', 'tmp/test03/raw/graphs01/Network/filezilla_exe/nullsub_9_edges.txt', 'tmp/test03/raw/graphs01/Network/filezilla_exe/nullsub_241_edges.txt', 'tmp/test03/raw/graphs01/Network/filezilla_exe/nullsub_260_edges.txt', 'tmp/test03/raw/graphs01/Network/filezilla_exe/nullsub_115_edges.txt', 'tmp/test03/raw/graphs01/Network/filezilla_exe/nullsub_200_edges.txt', 'tmp/test03/raw/graphs01/Network/filezilla_exe/nullsub_51_edges.txt', 'tmp/test03/raw/graphs01/Network/filezilla_exe/nullsub_69_edges.txt', 'tmp/test03/raw/graphs01/Network/filezilla_exe/nullsub_194_edges.txt', 'tmp/test03/raw/graphs01/Network/filezilla_exe/nullsub_30_edges.txt', 'tmp/test03/raw/graphs01/Network/filezilla_exe/nullsub_293_edges.txt', 'tmp/test03/raw/graphs01/Network/filezilla_exe/nullsub_110_edges.txt', 'tmp/test03/raw/graphs01/Network/filezilla_exe/nullsub_178_edges.txt', 'tmp/test03/raw/graphs01/Network/filezilla_exe/nullsub_12_edges.txt', 'tmp/test03/raw/graphs01/Network/filezilla_exe/nullsub_38_edges.txt', 'tmp/test03/raw/graphs01/Network/filezilla_exe/nullsub_145_edges.txt', 'tmp/test03/raw/graphs01/Network/filezilla_exe/nullsub_267_edges.txt', 'tmp/test03/raw/graphs01/Network/filezilla_exe/nullsub_57_edges.txt', 'tmp/test03/raw/graphs01/Network/filezilla_exe/nullsub_114_edges.txt', 'tmp/test03/raw/graphs01/Network/filezilla_exe/nullsub_40_edges.txt', 'tmp/test03/raw/graphs01/Network/filezilla_exe/nullsub_264_edges.txt', 'tmp/test03/raw/graphs01/Network/filezilla_exe/nullsub_278_edges.txt', 'tmp/test03/raw/graphs01/Network/filezilla_exe/nullsub_156_edges.txt', 'tmp/test03/raw/graphs01/Network/filezilla_exe/nullsub_27_edges.txt', 'tmp/test03/raw/graphs01/Network/filezilla_exe/nullsub_21_edges.txt', 'tmp/test03/raw/graphs01/Network/filezilla_exe/nullsub_17_edges.txt', 'tmp/test03/raw/graphs01/Network/filezilla_exe/nullsub_173_edges.txt', 'tmp/test03/raw/graphs01/Network/filezilla_exe/nullsub_133_edges.txt', 'tmp/test03/raw/graphs01/Network/filezilla_exe/nullsub_190_edges.txt', 'tmp/test03/raw/graphs01/Network/filezilla_exe/nullsub_294_edges.txt', 'tmp/test03/raw/graphs01/Network/filezilla_exe/nullsub_66_edges.txt', 'tmp/test03/raw/graphs01/Network/filezilla_exe/nullsub_259_edges.txt', 'tmp/test03/raw/graphs01/Network/filezilla_exe/nullsub_255_edges.txt', 'tmp/test03/raw/graphs01/Network/filezilla_exe/nullsub_81_edges.txt', 'tmp/test03/raw/graphs01/Network/filezilla_exe/nullsub_275_edges.txt', 'tmp/test03/raw/graphs01/Network/filezilla_exe/nullsub_140_edges.txt', 'tmp/test03/raw/graphs01/Network/filezilla_exe/nullsub_296_edges.txt', 'tmp/test03/raw/graphs01/Network/filezilla_exe/nullsub_74_edges.txt', 'tmp/test03/raw/graphs01/Network/filezilla_exe/nullsub_162_edges.txt', 'tmp/test03/raw/graphs01/Network/filezilla_exe/nullsub_15_edges.txt', 'tmp/test03/raw/graphs01/Network/filezilla_exe/nullsub_226_edges.txt', 'tmp/test03/raw/graphs01/Network/filezilla_exe/nullsub_184_edges.txt', 'tmp/test03/raw/graphs01/Network/filezilla_exe/nullsub_263_edges.txt', 'tmp/test03/raw/graphs01/Network/filezilla_exe/nullsub_54_edges.txt', 'tmp/test03/raw/graphs01/Network/filezilla_exe/nullsub_36_edges.txt', 'tmp/test03/raw/graphs01/Network/filezilla_exe/nullsub_282_edges.txt', 'tmp/test03/raw/graphs01/Network/filezilla_exe/nullsub_120_edges.txt', 'tmp/test03/raw/graphs01/Network/filezilla_exe/nullsub_182_edges.txt', 'tmp/test03/raw/graphs01/Network/filezilla_exe/nullsub_79_edges.txt', 'tmp/test03/raw/graphs01/Network/filezilla_exe/nullsub_4_edges.txt', 'tmp/test03/raw/graphs01/Network/filezilla_exe/nullsub_5_edges.txt', 'tmp/test03/raw/graphs01/Network/filezilla_exe/nullsub_189_edges.txt', 'tmp/test03/raw/graphs01/Network/filezilla_exe/nullsub_63_edges.txt', 'tmp/test03/raw/graphs01/Network/filezilla_exe/nullsub_128_edges.txt', 'tmp/test03/raw/graphs01/Network/filezilla_exe/nullsub_206_edges.txt', 'tmp/test03/raw/graphs01/Network/filezilla_exe/nullsub_216_edges.txt', 'tmp/test03/raw/graphs01/Network/filezilla_exe/nullsub_191_edges.txt', 'tmp/test03/raw/graphs01/Network/filezilla_exe/nullsub_236_edges.txt', 'tmp/test03/raw/graphs01/Network/filezilla_exe/nullsub_202_edges.txt', 'tmp/test03/raw/graphs01/Network/filezilla_exe/nullsub_273_edges.txt', 'tmp/test03/raw/graphs01/Network/filezilla_exe/nullsub_262_edges.txt', 'tmp/test03/raw/graphs01/Network/filezilla_exe/nullsub_122_edges.txt', 'tmp/test03/raw/graphs01/Network/filezilla_exe/nullsub_60_edges.txt', 'tmp/test03/raw/graphs01/Network/filezilla_exe/nullsub_44_edges.txt', 'tmp/test03/raw/graphs01/Network/filezilla_exe/nullsub_103_edges.txt', 'tmp/test03/raw/graphs01/Network/filezilla_exe/nullsub_16_edges.txt', 'tmp/test03/raw/graphs01/Network/filezilla_exe/nullsub_159_edges.txt', 'tmp/test03/raw/graphs01/Network/filezilla_exe/nullsub_157_edges.txt', 'tmp/test03/raw/graphs01/Network/filezilla_exe/nullsub_142_edges.txt', 'tmp/test03/raw/graphs01/Network/filezilla_exe/nullsub_10_edges.txt', 'tmp/test03/raw/graphs01/Network/filezilla_exe/nullsub_68_edges.txt', 'tmp/test03/raw/graphs01/Network/filezilla_exe/nullsub_209_edges.txt', 'tmp/test03/raw/graphs01/Network/filezilla_exe/nullsub_265_edges.txt', 'tmp/test03/raw/graphs01/Network/filezilla_exe/nullsub_290_edges.txt', 'tmp/test03/raw/graphs01/Network/filezilla_exe/nullsub_94_edges.txt', 'tmp/test03/raw/graphs01/Network/filezilla_exe/nullsub_221_edges.txt', 'tmp/test03/raw/graphs01/Network/filezilla_exe/nullsub_127_edges.txt', 'tmp/test03/raw/graphs01/Network/filezilla_exe/nullsub_279_edges.txt', 'tmp/test03/raw/graphs01/Network/filezilla_exe/nullsub_207_edges.txt', 'tmp/test03/raw/graphs01/Network/filezilla_exe/nullsub_158_edges.txt', 'tmp/test03/raw/graphs01/Network/filezilla_exe/nullsub_168_edges.txt', 'tmp/test03/raw/graphs01/Network/filezilla_exe/nullsub_85_edges.txt', 'tmp/test03/raw/graphs01/Network/filezilla_exe/nullsub_131_edges.txt', 'tmp/test03/raw/graphs01/Network/filezilla_exe/nullsub_248_edges.txt', 'tmp/test03/raw/graphs01/Network/filezilla_exe/nullsub_269_edges.txt', 'tmp/test03/raw/graphs01/Network/filezilla_exe/nullsub_185_edges.txt', 'tmp/test03/raw/graphs01/Network/filezilla_exe/nullsub_246_edges.txt', 'tmp/test03/raw/graphs01/Network/filezilla_exe/nullsub_281_edges.txt', 'tmp/test03/raw/graphs01/Network/filezilla_exe/nullsub_188_edges.txt', 'tmp/test03/raw/graphs01/Network/filezilla_exe/nullsub_193_edges.txt', 'tmp/test03/raw/graphs01/Network/filezilla_exe/nullsub_92_edges.txt', 'tmp/test03/raw/graphs01/Network/filezilla_exe/nullsub_240_edges.txt', 'tmp/test03/raw/graphs01/Network/filezilla_exe/nullsub_95_edges.txt', 'tmp/test03/raw/graphs01/Network/filezilla_exe/nullsub_93_edges.txt', 'tmp/test03/raw/graphs01/Network/filezilla_exe/nullsub_218_edges.txt', 'tmp/test03/raw/graphs01/Network/filezilla_exe/nullsub_149_edges.txt', 'tmp/test03/raw/graphs01/Network/filezilla_exe/nullsub_272_edges.txt', 'tmp/test03/raw/graphs01/Network/filezilla_exe/nullsub_73_edges.txt', 'tmp/test03/raw/graphs01/Network/filezilla_exe/nullsub_283_edges.txt', 'tmp/test03/raw/graphs01/Network/filezilla_exe/nullsub_292_edges.txt', 'tmp/test03/raw/graphs01/Network/filezilla_exe/nullsub_212_edges.txt', 'tmp/test03/raw/graphs01/Network/filezilla_exe/nullsub_150_edges.txt', 'tmp/test03/raw/graphs01/Network/filezilla_exe/nullsub_208_edges.txt', 'tmp/test03/raw/graphs01/Network/filezilla_exe/nullsub_14_edges.txt', 'tmp/test03/raw/graphs01/Network/filezilla_exe/nullsub_1_edges.txt', 'tmp/test03/raw/graphs01/Network/filezilla_exe/nullsub_70_edges.txt', 'tmp/test03/raw/graphs01/Network/filezilla_exe/nullsub_45_edges.txt', 'tmp/test03/raw/graphs01/Network/filezilla_exe/nullsub_104_edges.txt', 'tmp/test03/raw/graphs01/Network/filezilla_exe/nullsub_250_edges.txt', 'tmp/test03/raw/graphs01/Network/filezilla_exe/nullsub_195_edges.txt', 'tmp/test03/raw/graphs01/Network/filezilla_exe/nullsub_86_edges.txt', 'tmp/test03/raw/graphs01/Network/filezilla_exe/nullsub_42_edges.txt', 'tmp/test03/raw/graphs01/Network/filezilla_exe/nullsub_266_edges.txt', 'tmp/test03/raw/graphs01/Network/filezilla_exe/nullsub_238_edges.txt', 'tmp/test03/raw/graphs01/Network/filezilla_exe/nullsub_46_edges.txt', 'tmp/test03/raw/graphs01/Network/filezilla_exe/nullsub_77_edges.txt', 'tmp/test03/raw/graphs01/Network/filezilla_exe/nullsub_108_edges.txt', 'tmp/test03/raw/graphs01/Network/filezilla_exe/nullsub_98_edges.txt', 'tmp/test03/raw/graphs01/Network/filezilla_exe/nullsub_225_edges.txt', 'tmp/test03/raw/graphs01/Network/filezilla_exe/nullsub_274_edges.txt', 'tmp/test03/raw/graphs01/Network/filezilla_exe/nullsub_204_edges.txt', 'tmp/test03/raw/graphs01/Network/filezilla_exe/nullsub_223_edges.txt', 'tmp/test03/raw/graphs01/Network/filezilla_exe/nullsub_249_edges.txt', 'tmp/test03/raw/graphs01/Network/filezilla_exe/nullsub_137_edges.txt', 'tmp/test03/raw/graphs01/Network/filezilla_exe/nullsub_172_edges.txt', 'tmp/test03/raw/graphs01/Network/filezilla_exe/nullsub_84_edges.txt', 'tmp/test03/raw/graphs01/Network/filezilla_exe/nullsub_72_edges.txt', 'tmp/test03/raw/graphs01/Network/filezilla_exe/nullsub_222_edges.txt', 'tmp/test03/raw/graphs01/Network/filezilla_exe/nullsub_28_edges.txt', 'tmp/test03/raw/graphs01/Network/filezilla_exe/nullsub_213_edges.txt', 'tmp/test03/raw/graphs01/Network/filezilla_exe/nullsub_33_edges.txt', 'tmp/test03/raw/graphs01/Network/filezilla_exe/nullsub_180_edges.txt', 'tmp/test03/raw/graphs01/Network/filezilla_exe/nullsub_175_edges.txt', 'tmp/test03/raw/graphs01/Network/filezilla_exe/nullsub_90_edges.txt', 'tmp/test03/raw/graphs01/Network/filezilla_exe/nullsub_166_edges.txt', 'tmp/test03/raw/graphs01/Network/filezilla_exe/nullsub_97_edges.txt', 'tmp/test03/raw/graphs01/Network/filezilla_exe/nullsub_125_edges.txt', 'tmp/test03/raw/graphs01/Network/filezilla_exe/nullsub_174_edges.txt', 'tmp/test03/raw/graphs01/Network/filezilla_exe/nullsub_34_edges.txt', 'tmp/test03/raw/graphs01/Network/filezilla_exe/nullsub_257_edges.txt', 'tmp/test03/raw/graphs01/Network/filezilla_exe/nullsub_230_edges.txt', 'tmp/test03/raw/graphs01/Network/filezilla_exe/nullsub_181_edges.txt', 'tmp/test03/raw/graphs01/Network/filezilla_exe/nullsub_215_edges.txt', 'tmp/test03/raw/graphs01/Network/filezilla_exe/nullsub_146_edges.txt', 'tmp/test03/raw/graphs01/Network/filezilla_exe/nullsub_129_edges.txt', 'tmp/test03/raw/graphs01/Network/filezilla_exe/nullsub_231_edges.txt', 'tmp/test03/raw/graphs01/Network/filezilla_exe/nullsub_39_edges.txt', 'tmp/test03/raw/graphs01/Network/filezilla_exe/nullsub_50_edges.txt', 'tmp/test03/raw/graphs01/Network/filezilla_exe/nullsub_295_edges.txt', 'tmp/test03/raw/graphs01/Network/filezilla_exe/nullsub_179_edges.txt', 'tmp/test03/raw/graphs01/Network/filezilla_exe/nullsub_187_edges.txt', 'tmp/test03/raw/graphs01/Network/filezilla_exe/nullsub_87_edges.txt', 'tmp/test03/raw/graphs01/Network/filezilla_exe/nullsub_237_edges.txt', 'tmp/test03/raw/graphs01/Network/filezilla_exe/nullsub_55_edges.txt', 'tmp/test03/raw/graphs01/Network/filezilla_exe/nullsub_176_edges.txt', 'tmp/test03/raw/graphs01/Network/filezilla_exe/nullsub_288_edges.txt', 'tmp/test03/raw/graphs01/Network/filezilla_exe/nullsub_244_edges.txt', 'tmp/test03/raw/graphs01/Network/filezilla_exe/nullsub_71_edges.txt', 'tmp/test03/raw/graphs01/Network/filezilla_exe/nullsub_139_edges.txt', 'tmp/test03/raw/graphs01/Network/filezilla_exe/nullsub_91_edges.txt', 'tmp/test03/raw/graphs01/Network/filezilla_exe/nullsub_160_edges.txt', 'tmp/test03/raw/graphs01/Network/filezilla_exe/nullsub_26_edges.txt', 'tmp/test03/raw/graphs01/Network/filezilla_exe/nullsub_203_edges.txt', 'tmp/test03/raw/graphs01/Network/filezilla_exe/nullsub_289_edges.txt', 'tmp/test03/raw/graphs01/Network/filezilla_exe/nullsub_76_edges.txt', 'tmp/test03/raw/graphs01/Network/filezilla_exe/nullsub_18_edges.txt', 'tmp/test03/raw/graphs01/Network/filezilla_exe/nullsub_119_edges.txt', 'tmp/test03/raw/graphs01/Network/filezilla_exe/nullsub_20_edges.txt', 'tmp/test03/raw/graphs01/Network/filezilla_exe/nullsub_165_edges.txt', 'tmp/test03/raw/graphs01/Network/filezilla_exe/nullsub_135_edges.txt', 'tmp/test03/raw/graphs01/Network/filezilla_exe/nullsub_164_edges.txt', 'tmp/test03/raw/graphs01/Network/filezilla_exe/nullsub_48_edges.txt', 'tmp/test03/raw/graphs01/Network/filezilla_exe/nullsub_217_edges.txt', 'tmp/test03/raw/graphs01/Network/filezilla_exe/nullsub_201_edges.txt', 'tmp/test03/raw/graphs01/Network/filezilla_exe/nullsub_214_edges.txt', 'tmp/test03/raw/graphs01/Network/filezilla_exe/nullsub_6_edges.txt', 'tmp/test03/raw/graphs01/Network/filezilla_exe/nullsub_270_edges.txt', 'tmp/test03/raw/graphs01/Network/filezilla_exe/nullsub_31_edges.txt', 'tmp/test03/raw/graphs01/Network/filezilla_exe/nullsub_117_edges.txt', 'tmp/test03/raw/graphs01/Network/filezilla_exe/nullsub_29_edges.txt', 'tmp/test03/raw/graphs01/Network/filezilla_exe/nullsub_177_edges.txt', 'tmp/test03/raw/graphs01/Network/filezilla_exe/nullsub_80_edges.txt', 'tmp/test03/raw/graphs01/Network/filezilla_exe/nullsub_220_edges.txt', 'tmp/test03/raw/graphs01/Network/filezilla_exe/nullsub_224_edges.txt', 'tmp/test03/raw/graphs01/Network/filezilla_exe/nullsub_153_edges.txt', 'tmp/test03/raw/graphs01/Network/filezilla_exe/nullsub_151_edges.txt', 'tmp/test03/raw/graphs01/Network/filezilla_exe/nullsub_253_edges.txt', 'tmp/test03/raw/graphs01/Network/filezilla_exe/nullsub_171_edges.txt', 'tmp/test03/raw/graphs01/Network/filezilla_exe/nullsub_65_edges.txt', 'tmp/test03/raw/graphs01/Network/filezilla_exe/nullsub_239_edges.txt', 'tmp/test03/raw/graphs01/Network/filezilla_exe/nullsub_64_edges.txt', 'tmp/test03/raw/graphs01/Network/filezilla_exe/nullsub_62_edges.txt', 'tmp/test03/raw/graphs01/Network/filezilla_exe/nullsub_123_edges.txt', 'tmp/test03/raw/graphs01/Network/filezilla_exe/nullsub_121_edges.txt', 'tmp/test03/raw/graphs01/Network/filezilla_exe/nullsub_126_edges.txt', 'tmp/test03/raw/graphs01/Network/filezilla_exe/nullsub_276_edges.txt', 'tmp/test03/raw/graphs01/Network/filezilla_exe/nullsub_183_edges.txt', 'tmp/test03/raw/graphs01/Network/filezilla_exe/nullsub_186_edges.txt', 'tmp/test03/raw/graphs01/Network/filezilla_exe/nullsub_41_edges.txt', 'tmp/test03/raw/graphs01/Network/filezilla_exe/nullsub_235_edges.txt', 'tmp/test03/raw/graphs01/Network/filezilla_exe/nullsub_197_edges.txt', 'tmp/test03/raw/graphs01/Network/filezilla_exe/nullsub_107_edges.txt', 'tmp/test03/raw/graphs01/Network/filezilla_exe/nullsub_141_edges.txt', 'tmp/test03/raw/graphs01/Network/filezilla_exe/nullsub_286_edges.txt', 'tmp/test03/raw/graphs01/Network/filezilla_exe/nullsub_154_edges.txt', 'tmp/test03/raw/graphs01/Network/filezilla_exe/nullsub_232_edges.txt', 'tmp/test03/raw/graphs01/Network/filezilla_exe/nullsub_106_edges.txt', 'tmp/test03/raw/graphs01/Network/filezilla_exe/nullsub_211_edges.txt', 'tmp/test03/raw/graphs01/Network/filezilla_exe/nullsub_205_edges.txt', 'tmp/test03/raw/graphs01/Network/filezilla_exe/nullsub_170_edges.txt', 'tmp/test03/raw/graphs01/Network/filezilla_exe/nullsub_227_edges.txt', 'tmp/test03/raw/graphs01/Network/filezilla_exe/nullsub_155_edges.txt', 'tmp/test03/raw/graphs01/Network/filezilla_exe/nullsub_243_edges.txt', 'tmp/test03/raw/graphs01/Network/filezilla_exe/nullsub_35_edges.txt', 'tmp/test03/raw/graphs01/Network/filezilla_exe/nullsub_198_edges.txt', 'tmp/test03/raw/graphs01/Network/filezilla_exe/nullsub_58_edges.txt', 'tmp/test03/raw/graphs01/Network/filezilla_exe/nullsub_124_edges.txt', 'tmp/test03/raw/graphs01/Network/filezilla_exe/nullsub_251_edges.txt', 'tmp/test03/raw/graphs01/Network/filezilla_exe/nullsub_130_edges.txt', 'tmp/test03/raw/graphs01/Network/filezilla_exe/nullsub_111_edges.txt', 'tmp/test03/raw/graphs01/Network/filezilla_exe/nullsub_229_edges.txt', 'tmp/test03/raw/graphs01/Network/filezilla_exe/nullsub_23_edges.txt', 'tmp/test03/raw/graphs01/Network/filezilla_exe/nullsub_105_edges.txt', 'tmp/test03/raw/graphs01/Network/filezilla_exe/nullsub_192_edges.txt', 'tmp/test03/raw/graphs01/Network/filezilla_exe/nullsub_8_edges.txt', 'tmp/test03/raw/graphs01/Network/filezilla_exe/nullsub_52_edges.txt', 'tmp/test03/raw/graphs01/Network/filezilla_exe/nullsub_116_edges.txt', 'tmp/test03/raw/graphs01/Network/filezilla_exe/nullsub_43_edges.txt', 'tmp/test03/raw/graphs01/Network/filezilla_exe/nullsub_109_edges.txt', 'tmp/test03/raw/graphs01/Network/filezilla_exe/nullsub_148_edges.txt', 'tmp/test03/raw/graphs01/Network/filezilla_exe/nullsub_13_edges.txt', 'tmp/test03/raw/graphs01/Network/filezilla_exe/nullsub_37_edges.txt', 'tmp/test03/raw/graphs01/Network/filezilla_exe/nullsub_234_edges.txt', 'tmp/test03/raw/graphs01/Network/filezilla_exe/nullsub_138_edges.txt', 'tmp/test03/raw/graphs01/Network/filezilla_exe/nullsub_24_edges.txt', 'tmp/test03/raw/graphs01/Network/filezilla_exe/nullsub_11_edges.txt', 'tmp/test03/raw/graphs01/Network/filezilla_exe/nullsub_199_edges.txt', 'tmp/test03/raw/graphs01/Network/filezilla_exe/nullsub_280_edges.txt', 'tmp/test03/raw/graphs01/Network/filezilla_exe/nullsub_161_edges.txt', 'tmp/test03/raw/graphs01/Network/filezilla_exe/nullsub_284_edges.txt', 'tmp/test03/raw/graphs01/Network/filezilla_exe/nullsub_100_edges.txt', 'tmp/test03/raw/graphs01/Network/filezilla_exe/nullsub_242_edges.txt', 'tmp/test03/raw/graphs01/Network/filezilla_exe/nullsub_88_edges.txt', 'tmp/test03/raw/graphs01/Network/filezilla_exe/nullsub_82_edges.txt', 'tmp/test03/raw/graphs01/Network/filezilla_exe/nullsub_261_edges.txt', 'tmp/test03/raw/graphs01/Network/filezilla_exe/nullsub_258_edges.txt', 'tmp/test03/raw/graphs01/Network/filezilla_exe/nullsub_99_edges.txt', 'tmp/test03/raw/graphs01/Network/filezilla_exe/nullsub_268_edges.txt', 'tmp/test03/raw/graphs01/Network/filezilla_exe/nullsub_32_edges.txt', 'tmp/test03/raw/graphs01/Network/filezilla_exe/nullsub_152_edges.txt', 'tmp/test03/raw/graphs01/Network/filezilla_exe/nullsub_56_edges.txt', 'tmp/test03/raw/graphs01/Network/filezilla_exe/nullsub_59_edges.txt', 'tmp/test03/raw/graphs01/Network/filezilla_exe/nullsub_7_edges.txt', 'tmp/test03/raw/graphs01/Network/filezilla_exe/nullsub_147_edges.txt', 'tmp/test03/raw/graphs01/Disk/regshot_x64_exe/__NLG_Return2_edges.txt', 'tmp/test03/raw/graphs01/Disk/sync64_exe/__NLG_Return2_edges.txt', 'tmp/test03/raw/graphs01/Disk/diskext64_exe/__NLG_Return2_edges.txt', 'tmp/test03/raw/graphs01/Cryptography/gpgsm_exe/nullsub_3_edges.txt', 'tmp/test03/raw/graphs01/Cryptography/gpgsm_exe/nullsub_2_edges.txt', 'tmp/test03/raw/graphs01/Cryptography/gpgsm_exe/nullsub_4_edges.txt', 'tmp/test03/raw/graphs01/Cryptography/gpgsm_exe/nullsub_5_edges.txt', 'tmp/test03/raw/graphs01/Cryptography/gpgsm_exe/nullsub_1_edges.txt', 'tmp/test03/raw/graphs01/Cryptography/gpgsm_exe/nullsub_6_edges.txt', 'tmp/test03/raw/graphs01/Cryptography/gpgsm_exe/nullsub_7_edges.txt', 'tmp/test03/raw/graphs01/Cryptography/srptool_exe/nullsub_2_edges.txt', 'tmp/test03/raw/graphs01/Cryptography/srptool_exe/nullsub_1_edges.txt']\n"
     ]
    }
   ],
   "source": [
    "print(dataset.problematic_files)"
   ]
  },
  {
   "cell_type": "markdown",
   "metadata": {},
   "source": [
    "\n",
    "##  Training a toy model"
   ]
  },
  {
   "cell_type": "code",
   "execution_count": 337,
   "metadata": {},
   "outputs": [
    {
     "name": "stdout",
     "output_type": "stream",
     "text": [
      "The autoreload extension is already loaded. To reload it, use:\n",
      "  %reload_ext autoreload\n"
     ]
    },
    {
     "data": {
      "text/plain": [
       "device(type='cuda')"
      ]
     },
     "execution_count": 337,
     "metadata": {},
     "output_type": "execute_result"
    }
   ],
   "source": [
    "%load_ext autoreload\n",
    "%autoreload 2\n",
    "\n",
    "import os,sys,inspect\n",
    "currentdir = os.path.dirname(os.path.abspath(inspect.getfile(inspect.currentframe())))\n",
    "parentdir = os.path.dirname(currentdir)\n",
    "sys.path.insert(0,parentdir+'/graph_classification') \n",
    "\n",
    "from TFM_graph_classification import *\n",
    "from TFM_graph_classification_models import *\n",
    "from TFM_function_renaming_dataset_creation import *\n",
    "\n",
    "global device\n",
    "device = torch.device('cuda' if torch.cuda.is_available() else 'cpu')\n",
    "device\n"
   ]
  },
  {
   "cell_type": "code",
   "execution_count": 339,
   "metadata": {
    "scrolled": true
   },
   "outputs": [
    {
     "name": "stdout",
     "output_type": "stream",
     "text": [
      " n: 34468  k folds= 3\n",
      "Datasets balancing: \n",
      "{0: 32425, 1: 1146, 2: 897}\n",
      "{0: 25940, 1: 916, 2: 717}\n",
      "{0: 6485, 1: 230, 2: 180}\n",
      "\n"
     ]
    }
   ],
   "source": [
    "\n",
    "k=3\n",
    "train_dataset, test_dataset = prepare_dataset(dataset, prop=0.8, \n",
    "                                              dataset_type=\"proportional\", print_debug=True)\n"
   ]
  },
  {
   "cell_type": "code",
   "execution_count": 346,
   "metadata": {},
   "outputs": [
    {
     "name": "stdout",
     "output_type": "stream",
     "text": [
      "The autoreload extension is already loaded. To reload it, use:\n",
      "  %reload_ext autoreload\n",
      "The autoreload extension is already loaded. To reload it, use:\n",
      "  %reload_ext autoreload\n",
      "<class 'TFM_graph_classification.GatedGraphConv'> False\n",
      " trained model:  GGNN1 {'d1': 15, 'd2': 10, 'num_layers': 2, 'aggr_type': 'mean'}  epochs: 2  val loss= 0.007828492671251297  val accuracy= 0.888888888888889  val microF1= 0.9408052230685527  val macroF1= 0.32316662928907824\n",
      "<class 'TFM_graph_classification.GatedGraphConv'> False\n",
      "<class 'TFM_graph_classification.GatedGraphConv'> False\n",
      "<class 'TFM_graph_classification.GatedGraphConv'> False\n",
      "<class 'TFM_graph_classification.GatedGraphConv'> False\n",
      "\n",
      " selected model from loss:  3_GGNN1 {'d1': 15, 'd2': 10, 'num_layers': 2, 'aggr_type': 'mean'}  epochs: 2 0.007828492671251297 0.888888888888889 0.9408052230685527 0.32316662928907824\n",
      " selected model from accuracy:  3_GGNN1 {'d1': 15, 'd2': 10, 'num_layers': 2, 'aggr_type': 'mean'}  epochs: 2 0.007828492671251297 0.888888888888889 0.9408052230685527 0.32316662928907824\n",
      " selected model from microF1:  3_GGNN1 {'d1': 15, 'd2': 10, 'num_layers': 2, 'aggr_type': 'mean'}  epochs: 2 0.007828492671251297 0.888888888888889 0.9408052230685527 0.32316662928907824\n",
      " selected model from macroF1:  3_GGNN1 {'d1': 15, 'd2': 10, 'num_layers': 2, 'aggr_type': 'mean'}  epochs: 2 0.007828492671251297 0.888888888888889 0.9408052230685527 0.32316662928907824\n"
     ]
    },
    {
     "data": {
      "text/html": [
       "<div>\n",
       "<style scoped>\n",
       "    .dataframe tbody tr th:only-of-type {\n",
       "        vertical-align: middle;\n",
       "    }\n",
       "\n",
       "    .dataframe tbody tr th {\n",
       "        vertical-align: top;\n",
       "    }\n",
       "\n",
       "    .dataframe thead th {\n",
       "        text-align: right;\n",
       "    }\n",
       "</style>\n",
       "<table border=\"1\" class=\"dataframe\">\n",
       "  <thead>\n",
       "    <tr style=\"text-align: right;\">\n",
       "      <th></th>\n",
       "      <th>best_model_loss</th>\n",
       "      <th>best_model_acc</th>\n",
       "      <th>best_model_microF1</th>\n",
       "      <th>best_model_macroF1</th>\n",
       "    </tr>\n",
       "  </thead>\n",
       "  <tbody>\n",
       "    <tr>\n",
       "      <th>accuracy</th>\n",
       "      <td>1</td>\n",
       "      <td>1</td>\n",
       "      <td>1</td>\n",
       "      <td>1</td>\n",
       "    </tr>\n",
       "    <tr>\n",
       "      <th>batch_size</th>\n",
       "      <td>32</td>\n",
       "      <td>32</td>\n",
       "      <td>32</td>\n",
       "      <td>32</td>\n",
       "    </tr>\n",
       "    <tr>\n",
       "      <th>cv_val_accuracy</th>\n",
       "      <td>0.888889</td>\n",
       "      <td>0.888889</td>\n",
       "      <td>0.888889</td>\n",
       "      <td>0.888889</td>\n",
       "    </tr>\n",
       "    <tr>\n",
       "      <th>cv_val_loss</th>\n",
       "      <td>0.00782849</td>\n",
       "      <td>0.00782849</td>\n",
       "      <td>0.00782849</td>\n",
       "      <td>0.00782849</td>\n",
       "    </tr>\n",
       "    <tr>\n",
       "      <th>cv_val_macroF1</th>\n",
       "      <td>0.323167</td>\n",
       "      <td>0.323167</td>\n",
       "      <td>0.323167</td>\n",
       "      <td>0.323167</td>\n",
       "    </tr>\n",
       "    <tr>\n",
       "      <th>cv_val_microF1</th>\n",
       "      <td>0.940805</td>\n",
       "      <td>0.940805</td>\n",
       "      <td>0.940805</td>\n",
       "      <td>0.940805</td>\n",
       "    </tr>\n",
       "    <tr>\n",
       "      <th>epochs</th>\n",
       "      <td>2</td>\n",
       "      <td>2</td>\n",
       "      <td>2</td>\n",
       "      <td>2</td>\n",
       "    </tr>\n",
       "    <tr>\n",
       "      <th>filename</th>\n",
       "      <td>3_GGNN1__d1-15_d2-10_num_layers-2_aggr_type-me...</td>\n",
       "      <td>3_GGNN1__d1-15_d2-10_num_layers-2_aggr_type-me...</td>\n",
       "      <td>3_GGNN1__d1-15_d2-10_num_layers-2_aggr_type-me...</td>\n",
       "      <td>3_GGNN1__d1-15_d2-10_num_layers-2_aggr_type-me...</td>\n",
       "    </tr>\n",
       "    <tr>\n",
       "      <th>final_model</th>\n",
       "      <td>GGNN1(\\n  (ggnn): GatedGraphConv(15, num_layer...</td>\n",
       "      <td>GGNN1(\\n  (ggnn): GatedGraphConv(15, num_layer...</td>\n",
       "      <td>GGNN1(\\n  (ggnn): GatedGraphConv(15, num_layer...</td>\n",
       "      <td>GGNN1(\\n  (ggnn): GatedGraphConv(15, num_layer...</td>\n",
       "    </tr>\n",
       "    <tr>\n",
       "      <th>kwargs</th>\n",
       "      <td>{'d1': 15, 'd2': 10, 'num_layers': 2, 'aggr_ty...</td>\n",
       "      <td>{'d1': 15, 'd2': 10, 'num_layers': 2, 'aggr_ty...</td>\n",
       "      <td>{'d1': 15, 'd2': 10, 'num_layers': 2, 'aggr_ty...</td>\n",
       "      <td>{'d1': 15, 'd2': 10, 'num_layers': 2, 'aggr_ty...</td>\n",
       "    </tr>\n",
       "    <tr>\n",
       "      <th>learning_rate</th>\n",
       "      <td>0.01</td>\n",
       "      <td>0.01</td>\n",
       "      <td>0.01</td>\n",
       "      <td>0.01</td>\n",
       "    </tr>\n",
       "    <tr>\n",
       "      <th>macroF1</th>\n",
       "      <td>0.323167</td>\n",
       "      <td>0.323167</td>\n",
       "      <td>0.323167</td>\n",
       "      <td>0.323167</td>\n",
       "    </tr>\n",
       "    <tr>\n",
       "      <th>microF1</th>\n",
       "      <td>0.940805</td>\n",
       "      <td>0.940805</td>\n",
       "      <td>0.940805</td>\n",
       "      <td>0.940805</td>\n",
       "    </tr>\n",
       "    <tr>\n",
       "      <th>model</th>\n",
       "      <td>&lt;class 'TFM_graph_classification_models.GGNN1'&gt;</td>\n",
       "      <td>&lt;class 'TFM_graph_classification_models.GGNN1'&gt;</td>\n",
       "      <td>&lt;class 'TFM_graph_classification_models.GGNN1'&gt;</td>\n",
       "      <td>&lt;class 'TFM_graph_classification_models.GGNN1'&gt;</td>\n",
       "    </tr>\n",
       "    <tr>\n",
       "      <th>model_instance</th>\n",
       "      <td>GGNN1(\\n  (ggnn): GatedGraphConv(15, num_layer...</td>\n",
       "      <td>GGNN1(\\n  (ggnn): GatedGraphConv(15, num_layer...</td>\n",
       "      <td>GGNN1(\\n  (ggnn): GatedGraphConv(15, num_layer...</td>\n",
       "      <td>GGNN1(\\n  (ggnn): GatedGraphConv(15, num_layer...</td>\n",
       "    </tr>\n",
       "    <tr>\n",
       "      <th>name</th>\n",
       "      <td>3_GGNN1</td>\n",
       "      <td>3_GGNN1</td>\n",
       "      <td>3_GGNN1</td>\n",
       "      <td>3_GGNN1</td>\n",
       "    </tr>\n",
       "    <tr>\n",
       "      <th>train_loss_history</th>\n",
       "      <td>[107446544.0, 0.007842441089451313, 33.4549598...</td>\n",
       "      <td>[107446544.0, 0.007842441089451313, 33.4549598...</td>\n",
       "      <td>[107446544.0, 0.007842441089451313, 33.4549598...</td>\n",
       "      <td>[107446544.0, 0.007842441089451313, 33.4549598...</td>\n",
       "    </tr>\n",
       "    <tr>\n",
       "      <th>val_accuracy_history</th>\n",
       "      <td>[1.0, 0.8333333333333334, 0.8333333333333334, ...</td>\n",
       "      <td>[1.0, 0.8333333333333334, 0.8333333333333334, ...</td>\n",
       "      <td>[1.0, 0.8333333333333334, 0.8333333333333334, ...</td>\n",
       "      <td>[1.0, 0.8333333333333334, 0.8333333333333334, ...</td>\n",
       "    </tr>\n",
       "    <tr>\n",
       "      <th>val_loss</th>\n",
       "      <td>0.00777604</td>\n",
       "      <td>0.00777604</td>\n",
       "      <td>0.00777604</td>\n",
       "      <td>0.00777604</td>\n",
       "    </tr>\n",
       "    <tr>\n",
       "      <th>val_loss_history</th>\n",
       "      <td>[0.008040042594075203, 0.008014031685888767, 0...</td>\n",
       "      <td>[0.008040042594075203, 0.008014031685888767, 0...</td>\n",
       "      <td>[0.008040042594075203, 0.008014031685888767, 0...</td>\n",
       "      <td>[0.008040042594075203, 0.008014031685888767, 0...</td>\n",
       "    </tr>\n",
       "    <tr>\n",
       "      <th>weight_decay</th>\n",
       "      <td>0.0005</td>\n",
       "      <td>0.0005</td>\n",
       "      <td>0.0005</td>\n",
       "      <td>0.0005</td>\n",
       "    </tr>\n",
       "  </tbody>\n",
       "</table>\n",
       "</div>"
      ],
      "text/plain": [
       "                                                        best_model_loss  \\\n",
       "accuracy                                                              1   \n",
       "batch_size                                                           32   \n",
       "cv_val_accuracy                                                0.888889   \n",
       "cv_val_loss                                                  0.00782849   \n",
       "cv_val_macroF1                                                 0.323167   \n",
       "cv_val_microF1                                                 0.940805   \n",
       "epochs                                                                2   \n",
       "filename              3_GGNN1__d1-15_d2-10_num_layers-2_aggr_type-me...   \n",
       "final_model           GGNN1(\\n  (ggnn): GatedGraphConv(15, num_layer...   \n",
       "kwargs                {'d1': 15, 'd2': 10, 'num_layers': 2, 'aggr_ty...   \n",
       "learning_rate                                                      0.01   \n",
       "macroF1                                                        0.323167   \n",
       "microF1                                                        0.940805   \n",
       "model                   <class 'TFM_graph_classification_models.GGNN1'>   \n",
       "model_instance        GGNN1(\\n  (ggnn): GatedGraphConv(15, num_layer...   \n",
       "name                                                            3_GGNN1   \n",
       "train_loss_history    [107446544.0, 0.007842441089451313, 33.4549598...   \n",
       "val_accuracy_history  [1.0, 0.8333333333333334, 0.8333333333333334, ...   \n",
       "val_loss                                                     0.00777604   \n",
       "val_loss_history      [0.008040042594075203, 0.008014031685888767, 0...   \n",
       "weight_decay                                                     0.0005   \n",
       "\n",
       "                                                         best_model_acc  \\\n",
       "accuracy                                                              1   \n",
       "batch_size                                                           32   \n",
       "cv_val_accuracy                                                0.888889   \n",
       "cv_val_loss                                                  0.00782849   \n",
       "cv_val_macroF1                                                 0.323167   \n",
       "cv_val_microF1                                                 0.940805   \n",
       "epochs                                                                2   \n",
       "filename              3_GGNN1__d1-15_d2-10_num_layers-2_aggr_type-me...   \n",
       "final_model           GGNN1(\\n  (ggnn): GatedGraphConv(15, num_layer...   \n",
       "kwargs                {'d1': 15, 'd2': 10, 'num_layers': 2, 'aggr_ty...   \n",
       "learning_rate                                                      0.01   \n",
       "macroF1                                                        0.323167   \n",
       "microF1                                                        0.940805   \n",
       "model                   <class 'TFM_graph_classification_models.GGNN1'>   \n",
       "model_instance        GGNN1(\\n  (ggnn): GatedGraphConv(15, num_layer...   \n",
       "name                                                            3_GGNN1   \n",
       "train_loss_history    [107446544.0, 0.007842441089451313, 33.4549598...   \n",
       "val_accuracy_history  [1.0, 0.8333333333333334, 0.8333333333333334, ...   \n",
       "val_loss                                                     0.00777604   \n",
       "val_loss_history      [0.008040042594075203, 0.008014031685888767, 0...   \n",
       "weight_decay                                                     0.0005   \n",
       "\n",
       "                                                     best_model_microF1  \\\n",
       "accuracy                                                              1   \n",
       "batch_size                                                           32   \n",
       "cv_val_accuracy                                                0.888889   \n",
       "cv_val_loss                                                  0.00782849   \n",
       "cv_val_macroF1                                                 0.323167   \n",
       "cv_val_microF1                                                 0.940805   \n",
       "epochs                                                                2   \n",
       "filename              3_GGNN1__d1-15_d2-10_num_layers-2_aggr_type-me...   \n",
       "final_model           GGNN1(\\n  (ggnn): GatedGraphConv(15, num_layer...   \n",
       "kwargs                {'d1': 15, 'd2': 10, 'num_layers': 2, 'aggr_ty...   \n",
       "learning_rate                                                      0.01   \n",
       "macroF1                                                        0.323167   \n",
       "microF1                                                        0.940805   \n",
       "model                   <class 'TFM_graph_classification_models.GGNN1'>   \n",
       "model_instance        GGNN1(\\n  (ggnn): GatedGraphConv(15, num_layer...   \n",
       "name                                                            3_GGNN1   \n",
       "train_loss_history    [107446544.0, 0.007842441089451313, 33.4549598...   \n",
       "val_accuracy_history  [1.0, 0.8333333333333334, 0.8333333333333334, ...   \n",
       "val_loss                                                     0.00777604   \n",
       "val_loss_history      [0.008040042594075203, 0.008014031685888767, 0...   \n",
       "weight_decay                                                     0.0005   \n",
       "\n",
       "                                                     best_model_macroF1  \n",
       "accuracy                                                              1  \n",
       "batch_size                                                           32  \n",
       "cv_val_accuracy                                                0.888889  \n",
       "cv_val_loss                                                  0.00782849  \n",
       "cv_val_macroF1                                                 0.323167  \n",
       "cv_val_microF1                                                 0.940805  \n",
       "epochs                                                                2  \n",
       "filename              3_GGNN1__d1-15_d2-10_num_layers-2_aggr_type-me...  \n",
       "final_model           GGNN1(\\n  (ggnn): GatedGraphConv(15, num_layer...  \n",
       "kwargs                {'d1': 15, 'd2': 10, 'num_layers': 2, 'aggr_ty...  \n",
       "learning_rate                                                      0.01  \n",
       "macroF1                                                        0.323167  \n",
       "microF1                                                        0.940805  \n",
       "model                   <class 'TFM_graph_classification_models.GGNN1'>  \n",
       "model_instance        GGNN1(\\n  (ggnn): GatedGraphConv(15, num_layer...  \n",
       "name                                                            3_GGNN1  \n",
       "train_loss_history    [107446544.0, 0.007842441089451313, 33.4549598...  \n",
       "val_accuracy_history  [1.0, 0.8333333333333334, 0.8333333333333334, ...  \n",
       "val_loss                                                     0.00777604  \n",
       "val_loss_history      [0.008040042594075203, 0.008014031685888767, 0...  \n",
       "weight_decay                                                     0.0005  "
      ]
     },
     "execution_count": 346,
     "metadata": {},
     "output_type": "execute_result"
    }
   ],
   "source": [
    "%load_ext autoreload\n",
    "%autoreload 2\n",
    "\n",
    "import os,sys,inspect\n",
    "currentdir = os.path.dirname(os.path.abspath(inspect.getfile(inspect.currentframe())))\n",
    "parentdir = os.path.dirname(currentdir)\n",
    "sys.path.insert(0,parentdir+'/graph_classification') \n",
    "\n",
    "from TFM_graph_classification import *\n",
    "from TFM_graph_classification_models import *\n",
    "from TFM_function_renaming_dataset_creation import *\n",
    "\n",
    "global device\n",
    "device = torch.device('cuda' if torch.cuda.is_available() else 'cpu')\n",
    "device\n",
    "\n",
    "%load_ext autoreload\n",
    "%autoreload 2\n",
    "\n",
    "import importlib\n",
    "import time\n",
    "import pickle\n",
    "import traceback\n",
    "import random\n",
    "import os\n",
    "import re\n",
    "import sys\n",
    "import json\n",
    "from pprint import pprint\n",
    "import numpy as np\n",
    "from numpy.random import choice\n",
    "import pandas as pd\n",
    "import networkx as nx\n",
    "import matplotlib.pyplot as plt\n",
    "\n",
    "import torch\n",
    "from torch_geometric.data import Dataset\n",
    "from torch_geometric.data import Data\n",
    "from torch_geometric.data import DataLoader\n",
    "\n",
    "from TFM_function_renaming_dataset_creation import *\n",
    "from TFM_function_renaming_dataset_creation import FunctionsDataset\n",
    "\n",
    "\n",
    "\n",
    "resultsdict = {'best_models_list':[], 'models':{} , 'best_models':{}, 'autoincrement': 0 }\n",
    "\n",
    "model_list21 = hpsearch(None, {\n",
    "    'd1': [15],\n",
    "    'd2': [10],\n",
    "    'epochs': [2],\n",
    "    'model': [GGNN1],\n",
    "    'learning_rate': [0.01],\n",
    "    'weight_decay':[5e-4],\n",
    "    'num_layers':[2],\n",
    "    'aggr_type': ['mean'],\n",
    "    'batch_size': [32]\n",
    "})\n",
    "modelsdict1 = modelSelection(model_list21,k, train_dataset, balanced=False)\n",
    "reportModelSelectionResult(modelsdict1,resultsdict)"
   ]
  },
  {
   "cell_type": "markdown",
   "metadata": {},
   "source": [
    "# Bug fixes\n",
    "\n",
    "- error3:\n",
    " \t\t\tsome format of json is not correct\n",
    "\n",
    " \t\t\t['ptr', '[rax+rax+00000000h]', '{', '\"type\":', '\"displacement\"', '}']) to dictionary.\n",
    " \t\t\toff_46D838 { \"type\": \"phrase\" }\n",
    "\n",
    " \t\t\tko-> too costly to rerun IDApython plugin -> correct a posteriori with a script\n",
    " \t\t\t\tok-> try with \"pbyte ptr [esi+eax]\" (adding the double quotes)\n",
    " \t\t\t\t\t- before \\{\n",
    " \t\t\t\t\t- starting word\n",
    " \t\t\t\t\t\tpbyte, ddword, dbyte\n",
    " \t\t\t\t\t- then takes 2 more \"words\" or until \\]\n",
    " \t\t\t\t\t-> all this must be doublequoted in _nodes.txt and in _edges.txt\n",
    " \t\t\t\t-> try with adding underline slash pbyte_ptr_\n",
    "\n",
    " \t\t\t\tbut other errors appear -> modify in idapython plugin...\n",
    " \t\t\t\t-> count how many\n",
    "\n",
    "- error4:\n",
    " \t\t\tpoffset aSocketReadErro; \"socket read error: ec=%d\\n\" {\"type\": \"phrase\", \"content\": \"offset aSocketReadErro; \"socket read error: ec=%d\\n\"\"}\n",
    "\n",
    " \t\t\tpoffset aSocketReadErro; \"socket read error: ec=%d\\n\" {\"type\": \"phrase\", \"content\": \"offset aSocketReadErro; \"socket read error: ec=%d\\n\"\"}\n",
    "\n",
    " \t\t\tpoffset aSDDWarningGarb; \"%s:%d:%d: warning: garbage after sectio\"... {\"type\": \"phrase\", \"content\": \"offset aSDDWarningGarb; \"%s:%d:%d: warning: garbage after sectio\"...\"}\n",
    "\n",
    " \t\t\tfrom ; to \" {\n",
    " \t\t\tfrom ; to \"... {}\n",
    "\n",
    "- error5\n",
    " \t\t\tconrtol double quotes inside \"content\": \"...HERE...\"\n",
    "            \n",
    "\n",
    "- error6\n",
    " \t\t\tptr [eax]\"\"\" { \"type\": \"phrase\" }\n",
    "\n",
    "- error7\n",
    " \t\t\tstill not getting the nodie inside \"\"\n",
    "\t\t\t- add underscores\n",
    "\n",
    "- error8\n",
    " \t\t\t; jumptable 1006892B case 0 { \"type\": \"phrase\" }\n",
    "            \n",
    "- error 9 (PENDING)\n",
    "        -> done on loading time, but preferrable in the noisy_fixed dataset on disk\n",
    "            { \"type\": \"phrase\", \"content\": \"offset aEcdheEcdsaAe_0; \\'ECDHE-ECDSA-AES128-GCM-SHA256\\'\"}\n",
    "            { \"type\": \"phrase\", \"content\": \"offset asc_6FFA7A60; \\'-f\\'\"}\n",
    "\n",
    "            { \"type\": \"phrase\", \"content\": \"offset aD_2; \\'-d\\'\"}\n",
    "\n",
    "            { \"type\": \"instr\", \"content\": \"mov offset aLiAHref_0; '<li><a href=\\'' 1878681420\"}\n",
    "\n",
    "\n",
    "- error 10 (PENDING)\n",
    "        nodes\n",
    "            ptr [...] { \"type\": \"phrase\" }\n",
    "\n",
    "- error 11 (PENDING)\n",
    "        edges\n",
    "            {language \" { \"type\": \"phrase\" }\n",
    "            1878531953 \"poffset_aLanguage;_\\\"\" {language \" { \"type\": \"phrase\" }\n",
    "\n",
    "- error 12 (PENDING)\n",
    "        edges\n",
    "            , { \"type\": \"instr\" }\n",
    "            268562345 268562352 , { \"type\": \"instr\" }\n",
    "            \n",
    "-phrase problems\n",
    " \t\t\t\t\t\tv- ptr [...] { \"type\": \"phrase\" }\n",
    "\t\t\t\t\t\t\ttmp/noisy_fixed01/raw/graphs01/Network/nginx_exe/sub_518990_edges.txt\n",
    "\t\t\t\t\t\t\ttmp/noisy_fixed01/raw/graphs01/Network/libeayxx_dll/sub_1002FFB0_edges.txt\n",
    "\t\t\t\t\t\t\n",
    "\t\t\t\t\t\tv- {language \" { \"type\": \"phrase\" }\n",
    "\t\t\t\t\t\t\t1878531953 \"poffset_aLanguage;_\\\"\" {language \" { \"type\": \"phrase\" }\n",
    "\t\t\t\t\t\t\ttmp/noisy_fixed01/raw/graphs01/Network/ApacheCore_dll/sub_6FF81C50_edges.txt\n",
    "\n",
    "\t\t\t\t\t\tv- {type \" { \"type\": \"phrase\" }\n",
    "\t\t\t\t\t\t\ttmp/noisy_fixed02/raw/graphs01/Network/ApacheCore_dll/sub_6FF81C50_edges.txt\n",
    "\n",
    "\n",
    "\t\t\t\t\t\tv- { \" { \"type\": \"phrase\" }\n",
    "\t\t\t\t\t\t\ttmp/noisy_fixed02/raw/graphs01/Disk/regshot_x64_exe/memmove_edges.txt\n",
    "\n",
    "\t\t\t\t\t\tv- { \"type\":_\"phrase\",_\"content\":_\"[rcx]      ; lpCriticalSection\"}\n",
    "\t\t\t\t\t\t  { \"type\":_\"phrase\",_\"content\":_\"[rbx]      ; Ptr\"}\n",
    "\t\t\t\t\t\t\ttmp/noisy_fixed02/raw/graphs01/Disk/diskext64_exe/sub_140004000_edges.txt\n",
    "\t\t\t\t\t\t\n",
    "\t\t\t\t\t\tv-  {OPT_ELEMENT\"... { \"type\": \"phrase\" }\n",
    "\t\t\t\t\t\t\t{OPT_CODE}\\\" in\\n\" { \"type\": \"phrase\" }\n",
    "\t\t\t\t\t\t\ttmp/noisy_fixed02/raw/graphs01/Cryptography/srptool_exe/sub_4049B0_edges.txt\n",
    "\n",
    "\t\t\t\t\t\tv- {%1$s_%2$s}\\\" ] \"... { \"type\": \"phrase\" }\n",
    "\t\t\t\t\t\t  tmp/noisy_fixed02/raw/graphs01/Cryptography/srptool_exe/sub_404BE0_edges.txt\n",
    "\n",
    "\n",
    "\t\t\t\t\tv- { \"type\": \"instr\" }\n",
    "\t\t\t\t\t\t268562345 268562352 , { \"type\": \"instr\" }\n",
    "\t\t\t\t\t\ttmp/noisy_fixed01/raw/graphs01/Network/libeayxx_dll/ERR_peek_last_error_line_edges.txt\n",
    "\n",
    "\t\t\t\t\t\t\n",
    "\t\t\t\t\tv- RuntimeError: Precision loss when unpacking double\n",
    "\t\t\t\t\t\ttmp/noisy_fixed02/raw/graphs01/Network/filezilla_exe/sub_933C00_edges.txt\n",
    "\n",
    "\t\t\t\t\t\t\tim18446744073709551600 {\"type\": \"immediate\", \"content\": \"18446744073709551600\"}\n",
    "\n",
    "\t\t\t\t\t\t\t18446744073709551568 {\"type\": \"displacement\", \"content\": \"rdx; rcx\"}\n",
    "\n",
    "\t\t\t\t\t\t\tim384307168202282325 {\"type\": \"immediate\", \"content\": \"384307168202282325\"}\n",
    "\n",
    "\t\t\t\t\t\t\t18446744073709551600 {\"type\": \"displacement\", \"content\": \"rcx; [rax-10h]; rcx\"}\n",
    "\n",
    "\n",
    "\t\t\t\t\t\t\t-> save as string??\n",
    "\t\t\t\t\t\t\t-> changed in the graphtoNx code\n",
    "\n",
    "\t\t\t\t\t\ttmp/noisy_fixed02/raw/graphs01/Disk/sync64_exe/sub_140004C70_edges.txt\n",
    "\t\t\t\t\t\ttmp/noisy_fixed02/raw/graphs01/Cryptography/gpgsm_exe/sub_4152A0_edges.txt\n",
    "\n",
    "\t\t\t\t\tv- json encoding problem from inside noisy01_fixed\t\n",
    "\t\t\t\t\t\t-> hopefully already fixed\n",
    "\t\t\t\t\t\n",
    "        \n",
    "        \n",
    "### Fixed errors in the IDA python plugin\n"
   ]
  },
  {
   "cell_type": "code",
   "execution_count": 6,
   "metadata": {},
   "outputs": [
    {
     "name": "stdout",
     "output_type": "stream",
     "text": [
      " Total 9724 modifications \n"
     ]
    }
   ],
   "source": [
    "\"\"\"\n",
    "    FIRST MODIFIED DATAET NOISY_FIXED01\n",
    "    WORKAROUND ON ERROS OF THE IDA python plugin\n",
    "\n",
    "\"\"\"\n",
    "import os\n",
    "import sys\n",
    "import re\n",
    "from tempfile import mkstemp\n",
    "from shutil import move\n",
    "\n",
    "\n",
    "mywords = [\"ddword\", \"ddbyte\", \n",
    "           \"dword\", \"dbyte\",\n",
    "           \"pddbyte\", \"pddword\",  \n",
    "           \"pdbyte\", \"pdword\",  \n",
    "           \"pqbyte\", \"pqword\",\n",
    "           \"pqqbyte\", \"pqqword\",\n",
    "           \"pbyte\", \"pword\",  \n",
    "           \"word\", \"byte\", \"ptr\",\"p[\"]\n",
    "offsetwords = [\"poffset\"]\n",
    "jumptablewords = [\";jumptable\", \"jumptable\", \n",
    "                  \"; jumptable\",\"; Str1 {\",\n",
    "                  \"; Memory {\",\n",
    "                  \"; NewSize {\",\n",
    "                  \"; ControlPc {\",\n",
    "                  \"; lpMultiByteStr {\",\n",
    "                  \"; Size {\",\n",
    "                  \"; Src {\",\n",
    "                  \"; Str {\",\n",
    "                  \"; Dst {\",\n",
    "                  \"; Dst1 {\",\n",
    "                  \"; Dst2 {\",\n",
    "                  \"; DstBuf {\",\n",
    "                  \"; SrcBuf {\",\n",
    "                  \"; Buf2 {\",\n",
    "                  \"; Buf1 {\",\n",
    "                  \"; Buf {\", \n",
    "                  \"; lpCriticalSection {\"\n",
    "                  \"language {\",\n",
    "                  \"language \\\" {\",]\n",
    "\n",
    "def findFirstWordOfSet(line, word_list):\n",
    "    for word in word_list:\n",
    "        k = line.find(word)\n",
    "        if k>-1:\n",
    "            return k\n",
    "    return -1\n",
    "\n",
    "\n",
    "def find2(line, word_list):\n",
    "    \n",
    "    k3=-1\n",
    "    for word in word_list:\n",
    "        k3 = line.find(word)\n",
    "        if k3>-1:\n",
    "            return k3\n",
    "        \n",
    "    if k3==-1:\n",
    "        findall = re.findall('\\; [^\\{]+ \\{\"type\": \"phrase\" ', line)\n",
    "        for elem in findall:\n",
    "            k3 = line.find(elem)\n",
    "            if k3>-1:\n",
    "                break\n",
    "    if k3==-1:\n",
    "        findall = re.findall('\\; [^\\{]+ \\{ \"type\": \"phrase\" ', line)\n",
    "        for elem in findall:\n",
    "            k3 = line.find(elem)\n",
    "            if k3>-1:\n",
    "                break\n",
    "            \n",
    "    return k3\n",
    "\n",
    "modifications = 0\n",
    "\n",
    "#for root, dirs, files in os.walk(\"tmp/noisy_fixed01/raw/graphs01/Cryptography\", topdown=False):\n",
    "#for root, dirs, files in os.walk(\"tmp/noisy_fixed01/raw/graphs01\", topdown=False):\n",
    "#for root, dirs, files in os.walk(\"tmp/noisy_fixed01/raw/graphs01/Network/libeayxx_dll\", topdown=False):\n",
    "for root, dirs, files in os.walk(\"tmp/noisy_fixed01/raw/graphs01/Network/libeayxx_dll\", topdown=False):\n",
    "    for name in files:\n",
    "        filename = os.path.join(root, name)\n",
    "        \n",
    "        fh, abs_path = mkstemp()\n",
    "        with open(fh,'w') as new_file:\n",
    "            \n",
    "            with open(filename, 'r') as f:\n",
    "                for line in f.readlines():\n",
    "                    modified_line = line\n",
    "                        \n",
    "                    #ptr [eax]\"\"\" {\n",
    "                    line = line.replace('\"\"\"','')\n",
    "                        \n",
    "                    # now verify if somth must be replaced\n",
    "                    # before {\n",
    "                    j= line.find('{')\n",
    "                    subline = line[:j]\n",
    "                    \n",
    "                    \n",
    "                    \n",
    "                    k= findFirstWordOfSet(subline, mywords)\n",
    "                    k2= findFirstWordOfSet(subline, offsetwords)\n",
    "                    k3= find2(line, jumptablewords)\n",
    "                    \n",
    "                    if k2>-1: # poffset method; \"...\"... \n",
    "                        #modify nodeid string \n",
    "                        #l = findFirstWordOfSet(subline, [' {']) # IT'S NOT HERE!-> IN line!\n",
    "                        subline = subline.replace('\"', '\\'')\n",
    "                        \n",
    "                        modified_line = subline[:k2] + \"\\\"\" + subline[k2:-1].replace(' ', '_') + \"\\\" \" + line[j:]\n",
    "                        #print(k2,line,\" || \\n\",modified_line)\n",
    "                        \n",
    "                        #modify \" for \\\" inside content\n",
    "                        k= findFirstWordOfSet(modified_line,['\"content\": \"'])\n",
    "                        if k>-1:\n",
    "                            l= findFirstWordOfSet(modified_line,['\"}'])\n",
    "                            #print(modified_line[k+12:l].replace('\"','\\\\\\\"'))\n",
    "                            modified_line = modified_line[:k+12] + modified_line[k+12:l].replace('\"','\\'') + modified_line[l:]\n",
    "                            #print(k,modified_line)\n",
    "                            \n",
    "                        #print()\n",
    "                        modifications +=1\n",
    "                    elif k3>-1: # pXXX; jumptable\n",
    "                        if line.find('phrase')>-1:  # jumptable can appear inside instr...\n",
    "                            A = \"\"\"\n",
    "                            4588050 p1Bh; jumptable 0045FFB4 case 592 { \"type\": \"phrase\" }\n",
    "\n",
    "                            p0; jumptable 00401EB1 case 5 {\"type\": \"phrase\", \"content\": \"0; jumptable 00401EB1 case 5\"}\n",
    "\n",
    "                            \"\"\"\n",
    "                            #l1 = findFirstWordOfset(line, [' p',])\n",
    "                            #if l1== -1 and line[0]=='p':\n",
    "                            #    l1=0\n",
    "                            l2 = findFirstWordOfSet(line, ['; '])\n",
    "\n",
    "                            modified_line = line[:l2] + \" \" + line[j:]\n",
    "                            #print(k3,line,\" || \\n\",modified_line)\n",
    "                            modifications +=1\n",
    "                    \n",
    "                    elif k>-1:    # dword ptr, word ptr, etc         \n",
    "                        l = findFirstWordOfSet(subline, [']'])\n",
    "                        modified_line = subline[:k] + \"\\\"\" + subline[k:l+1].replace(' ', '_') + \"\\\"\" + subline[l+1:] + line[j:]\n",
    "                        #if line.find(\"p[\")>-1:\n",
    "                        #    print(k,line,\" || \\n\",modified_line)\n",
    "                        #print()\n",
    "                        modifications +=1\n",
    "                    \n",
    "                        \n",
    "                    new_file.write(modified_line)\n",
    "        \n",
    "        #Remove original file\n",
    "        os.remove(filename)\n",
    "        #Move new file\n",
    "        move(abs_path, filename)\n",
    "        \n",
    "print(\" Total {} modifications \".format(modifications))"
   ]
  },
  {
   "cell_type": "code",
   "execution_count": 108,
   "metadata": {},
   "outputs": [
    {
     "name": "stdout",
     "output_type": "stream",
     "text": [
      " Total 216978 modifications \n"
     ]
    }
   ],
   "source": [
    "\"\"\"\n",
    "    \n",
    "    EXECUTE THIS AFTER THE PREVIOUS WORKAROUND THAT GENEREATE THE noisy_fixed01 dataset\n",
    "\n",
    "\"\"\"\n",
    "\n",
    "import os\n",
    "import sys\n",
    "import re\n",
    "from tempfile import mkstemp\n",
    "from shutil import move\n",
    "\n",
    "\n",
    "def fix_error9(line, modifications):\n",
    "    \"\"\"\n",
    "        avbc  efg  { \"type\": someth, \"content\": \"PROBLEMATIC CONTENT\" }\n",
    "        sanitize the Problematic content\n",
    "    \n",
    "    \"\"\"\n",
    "    modified = False\n",
    "    i1 = line.find('{\"type\"')\n",
    "    j1 = line.rfind('}')\n",
    "    if i1 == -1 :\n",
    "        # problematic line??\n",
    "        return line, modifications\n",
    "    \n",
    "    subline = line[i1+1:j1]\n",
    "    \n",
    "    i2 = subline.find('\"content\":')\n",
    "    if i2==-1:\n",
    "        # no content\n",
    "        return line, modifications\n",
    "    \n",
    "    \n",
    "    subline2 = subline[i2+9:]\n",
    "    i = subline2.find('\"')\n",
    "    j = subline2.rfind('\"')\n",
    "    \n",
    "    \n",
    "    if i==-1 :\n",
    "        # no quotes\n",
    "        return line, modifications\n",
    "        \n",
    "    if j==-1 or j==i:\n",
    "        # NO ENDING DDOUBLE QUOTE\n",
    "        subline2 = subline2 + '\"'\n",
    "        modified = True\n",
    "\n",
    "    subline3 = subline2[i+1:j]\n",
    "    # sanitization upon this point\n",
    "    modified = modified or subline3.find('\"')>-1\n",
    "    subline3 = subline3.replace('\"','')\n",
    "    modified = modified or subline3.find('\\'')>-1\n",
    "    subline3 = subline3.replace('\\'','')\n",
    "    modified = modified or subline3.find('\\\\')>-1\n",
    "    subline3 = subline3.replace('\\\\','')\n",
    "    modified = modified or subline3.find('}')>-1\n",
    "    subline3 = subline3.replace('}','')\n",
    "    modified = modified or subline3.find('{')>-1\n",
    "    subline3 = subline3.replace('{','')\n",
    "    \n",
    "    if modified:\n",
    "        modifications += 1\n",
    "    \n",
    "    resultline = line[:i1+1]   + subline[:i2+9] + subline2[:i+1]   + subline3 + subline2[j:]  + line[j1:]\n",
    "    \n",
    "    return resultline, modifications\n",
    " \n",
    "    \n",
    "def fix_error10(line, modifications):\n",
    "    \"\"\"\n",
    "        Error in nodes file\n",
    "            ptr [...] { \"type\": \"phrase\" } \n",
    "        \n",
    "        make sure only applied to nodes.txt\n",
    "        \n",
    "        find ptr [ ] on subline before  {}\n",
    "        apply replace(' ','_')\n",
    "    \"\"\"\n",
    "    \n",
    "    findall = re.findall('ptr \\[[^\\[\\]]+\\] \\{',line)\n",
    "    for elem in findall:\n",
    "        print(line)\n",
    "        i = line.find(' { \"type')\n",
    "        if i==-1:\n",
    "            i = line.find(' {\"type')\n",
    "        subline = line[:i]\n",
    "        j = subline.find('ptr')\n",
    "        k = subline.find('] ')\n",
    "        node = subline[j:k]\n",
    "        node = node.replace(' ','_')\n",
    "        modifications +=1\n",
    "        print(\"modified: \",subline[:j]+node+subline[k:]+line[i:], modifications)\n",
    "        return subline[:j]+node+subline[k:]+line[i:], modifications\n",
    "    return line  , modifications\n",
    "\n",
    "    \n",
    "\n",
    "mywords = [\"ddword\", \"ddbyte\", \n",
    "           \"dword\", \"dbyte\",\n",
    "           \"pddbyte\", \"pddword\",  \n",
    "           \"pdbyte\", \"pdword\",  \n",
    "           \"pqbyte\", \"pqword\",\n",
    "           \"pqqbyte\", \"pqqword\",\n",
    "           \"pbyte\", \"pword\",  \n",
    "           \"word\", \"byte\", \"ptr\",\"p[\"]\n",
    "\n",
    "def fix_error10b(line, wordlist, modifications):\n",
    "    \"\"\"\n",
    "        Error in nodes file\n",
    "            ptr [...] { \"type\": \"phrase\" } \n",
    "        \n",
    "        make sure only applied to nodes.txt\n",
    "        \n",
    "        find ptr [ ] on subline before  {}\n",
    "        apply replace(' ','_')\n",
    "    \"\"\"\n",
    "    \n",
    "    l=-1\n",
    "    k=-1\n",
    "    for word in wordlist:\n",
    "        j = line.find(word)\n",
    "        if j > -1:\n",
    "            k = line[j:].find('] ')\n",
    "            if k>-1:\n",
    "                k=k+j\n",
    "                node = line[j:k]\n",
    "                node = node.replace(' ','_')\n",
    "                modifications +=1\n",
    "                #print(\"modified: \",line[:j]+node+line[k:], modifications)\n",
    "                return line[:j]+node+line[k:], modifications\n",
    "        \n",
    "    return line  , modifications\n",
    "\n",
    "\n",
    "def fix_error11(line,modifications):\n",
    "    \"\"\"\n",
    "    Error to fix:\n",
    "        1878531953 \"poffset_aLanguage;_\\\"\" {language \" { \"type\": \"phrase\" }\n",
    "        REMOVE THE \\\" and \" and { and whitespace before '{ \"'\n",
    "    \"\"\"\n",
    "    \n",
    "    i = line.find('{language \" {')\n",
    "    if i==-1:\n",
    "        #print(\"language not found\")\n",
    "        return line, modifications\n",
    "    \n",
    "    #print(line)\n",
    "    i = line.find('{ \"type')\n",
    "    if i==-1:\n",
    "        i = line.find('{\"type')\n",
    "        if i==-1:\n",
    "            #print(\" type not found\")\n",
    "            return line, modifications \n",
    "    \n",
    "    subline = line[:i]\n",
    "    j= subline.find('\"')\n",
    "    k=subline.rfind('\"')\n",
    "    if j==-1 or k==-1:\n",
    "        #print(\"internal quotes not found\")\n",
    "        return line, modifications\n",
    "    \n",
    "    node2 = subline[j+1:k]\n",
    "    node2 = node2.replace('\"','')\n",
    "    node2 = node2.replace('{','')\n",
    "    node2 = node2.replace(' ','_')\n",
    "    \n",
    "    modifications +=1\n",
    "    #print(\"modified\", subline[:j+1] + node2 + subline[k:] + line[i:])\n",
    "    return subline[:j+1] + node2 + subline[k:] + line[i:], modifications\n",
    "\n",
    "def fix_error12(line, modifications):\n",
    "    \"\"\"\n",
    "    Error to fix:\n",
    "        268562345 268562352 , { \"type\": \"instr\" }\n",
    "        REMOVE THE COMA\n",
    "    \"\"\"\n",
    "    findall = re.findall('[0-9ABCDEFabcdef]+ [0-9ABCDEFabcdef]+ , \\{',line)\n",
    "    for elem in findall:\n",
    "        # return first element found\n",
    "        comai =  line.find(',')\n",
    "        modifications +=1\n",
    "        #print(\"modified: \", line[:comai] + line[comai+1:])\n",
    "        return line[:comai] + line[comai+1:], modifications\n",
    "    return line, modifications\n",
    "\n",
    "def fix_error12b(line, modifications): \n",
    "    \"\"\"\n",
    "        Error\n",
    "         {type \" { \"type\": \"phrase\" }\n",
    "    \"\"\"\n",
    "    findall = re.findall('[^ ]+ \" \\{\\s{0,1}\"type',line)\n",
    "    for elem in findall:\n",
    "        # return first element found\n",
    "        i =  line.find('{type \"')\n",
    "        modifications +=1\n",
    "        #print(\"modified: \", line[:comai] + line[comai+1:])\n",
    "        return line[:i] + line[i+6:], modifications\n",
    "    return line, modifications\n",
    "\n",
    "modifications = 0\n",
    "\n",
    "#for root, dirs, files in os.walk(\"tmp/noisy_fixed02/raw/graphs01/Cryptography\", topdown=False):\n",
    "#for root, dirs, files in os.walk(\"tmp/noisy_fixed02/raw/graphs01\", topdown=False):\n",
    "\n",
    "#for root, dirs, files in os.walk(\"tmp/noisy_fixed02/raw/graphs01/Network/ApacheCore_dll\", topdown=False):\n",
    "#for root, dirs, files in os.walk(\"tmp/noisy_fixed02/raw/graphs01/Network/libgnutls-30_dll\", topdown=False):\n",
    "#for root, dirs, files in os.walk(\"tmp/noisy_fixed02/raw/graphs01/Network/libeayxx_dll\", topdown=False):\n",
    "#for root, dirs, files in os.walk(\"tmp/noisy_fixed02/raw/graphs01\", topdown=False):\n",
    "#for root, dirs, files in os.walk(\"tmp/noisy_fixed02/raw/graphs01/Network/nginx_exe/\", topdown=False):\n",
    "for root, dirs, files in os.walk(\"tmp/noisy_fixed02/raw/graphs01\", topdown=False):\n",
    "    for name in files:\n",
    "        filename = os.path.join(root, name)\n",
    "        \n",
    "        #if filename != 'tmp/noisy_fixed02/raw/graphs01/Network/nginx_exe/sub_4D8A40_edges.txt':\n",
    "        #    continue\n",
    "            \n",
    "        #print(filename)\n",
    "        \n",
    "        fh, abs_path = mkstemp()\n",
    "        with open(fh,'w') as new_file:\n",
    "            \n",
    "            with open(filename, 'r') as f:\n",
    "                for line in f.readlines():\n",
    "                    modified_line = line\n",
    "                        \n",
    "                    \n",
    "                    #if name.find('_nodes.txt')>-1:\n",
    "                    #    #if name == 'sub_64921320_nodes.txt':\n",
    "                    #    #    print(name)\n",
    "                    #    #    print(modified_line)\n",
    "                    \n",
    "                    modified_line, modifications = fix_error10b(modified_line, mywords, modifications)\n",
    "                        \n",
    "                    modified_line, modifications = fix_error11(modified_line, modifications)\n",
    "                    modified_line,  modifications = fix_error12(modified_line, modifications)\n",
    "                    modified_line,  modifications = fix_error12b(modified_line, modifications)\n",
    "                     \n",
    "                    new_file.write(modified_line)\n",
    "        \n",
    "        #Remove original file\n",
    "        os.remove(filename)\n",
    "        #Move new file\n",
    "        move(abs_path, filename)\n",
    "        \n",
    "print(\" Total {} modifications \".format(modifications))"
   ]
  },
  {
   "cell_type": "code",
   "execution_count": 66,
   "metadata": {},
   "outputs": [
    {
     "name": "stdout",
     "output_type": "stream",
     "text": [
      "ptr [esi] {\n"
     ]
    }
   ],
   "source": [
    "line= 'ptr [esi] { \"type\": \"phrase\" }'\n",
    "findall = re.findall('ptr \\[[^\\[\\]]+\\] \\{',line)\n",
    "for elem in findall:\n",
    "    print(elem)"
   ]
  },
  {
   "cell_type": "code",
   "execution_count": null,
   "metadata": {},
   "outputs": [],
   "source": [
    "#for root, dirs, files in os.walk(\"tmp/noisy_fixed02/raw/graphs01/Cryptography\", topdown=False):\n",
    "#for root, dirs, files in os.walk(\"tmp/noisy_fixed02/raw/graphs01\", topdown=False):\n",
    "\n",
    "#for root, dirs, files in os.walk(\"tmp/noisy_fixed02/raw/graphs01/Network/ApacheCore_dll\", topdown=False):\n",
    "#for root, dirs, files in os.walk(\"tmp/noisy_fixed02/raw/graphs01/Network/libgnutls-30_dll\", topdown=False):\n",
    "#for root, dirs, files in os.walk(\"tmp/noisy_fixed02/raw/graphs01/Network/libeayxx_dll\", topdown=False):\n",
    "#for root, dirs, files in os.walk(\"tmp/noisy_fixed02/raw/graphs01\", topdown=False):\n",
    "for root, dirs, files in os.walk(\"tmp/noisy_fixed02/raw/graphs01\", topdown=False):\n",
    "    for name in files:\n",
    "        filename = os.path.join(root, name)\n",
    "        \n",
    "        fh, abs_path = mkstemp()\n",
    "        with open(fh,'w') as new_file:\n",
    "            \n",
    "            with open(filename, 'r') as f:\n",
    "                for line in f.readlines():\n",
    "                    modified_line = line\n",
    "                        \n",
    "                    modified_line, modifications = fix_error9(modified_line, modifications)\n",
    "                    \n",
    "                    new_file.write(modified_line)\n",
    "        \n",
    "        #Remove original file\n",
    "        os.remove(filename)\n",
    "        #Move new file\n",
    "        move(abs_path, filename)\n",
    "        \n",
    "print(\" Total {} modifications \".format(modifications))"
   ]
  },
  {
   "cell_type": "markdown",
   "metadata": {},
   "source": [
    "loader = DataLoader(dataset, batch_size=2, shuffle=True)\n",
    "for graph in loader:\n",
    "    print(graph)\n",
    "    print(graph.edge_index.max().item(),graph.edge_index.min().item()  )\n",
    "    print(graph.edge_index[0][:10])\n",
    "    print(graph.x[:10])\n",
    "    print(graph.x.size())\n",
    "    print()"
   ]
  },
  {
   "cell_type": "markdown",
   "metadata": {},
   "source": [
    "### Fixing json decode errors when reading graph from ida python json file"
   ]
  },
  {
   "cell_type": "code",
   "execution_count": 74,
   "metadata": {},
   "outputs": [
    {
     "data": {
      "text/plain": [
       "<networkx.classes.graph.Graph at 0x7f3b24380240>"
      ]
     },
     "execution_count": 74,
     "metadata": {},
     "output_type": "execute_result"
    }
   ],
   "source": [
    "from TFM_function_renaming_dataset_creation import *\n",
    "readGraph('tmp/test03/raw/graphs01/Network/ApacheCore_dll/','sub_6FF81C50_edges.txt')"
   ]
  }
 ],
 "metadata": {
  "kernelspec": {
   "display_name": "gnn-pytorch",
   "language": "python",
   "name": "gnn-pytorch"
  },
  "language_info": {
   "codemirror_mode": {
    "name": "ipython",
    "version": 3
   },
   "file_extension": ".py",
   "mimetype": "text/x-python",
   "name": "python",
   "nbconvert_exporter": "python",
   "pygments_lexer": "ipython3",
   "version": "3.6.7"
  }
 },
 "nbformat": 4,
 "nbformat_minor": 2
}
