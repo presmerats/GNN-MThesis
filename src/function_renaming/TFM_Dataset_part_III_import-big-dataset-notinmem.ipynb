{
 "cells": [
  {
   "cell_type": "markdown",
   "metadata": {},
   "source": [
    "# Function Renaming\n",
    "## Dataset preparation\n",
    "\n",
    "The goal of this task is to train a model that is able to classify a function in assembler language into several general purpose categories, for example networking, cryptography, control-loop, disk-read-write, computation.\n",
    "\n",
    "In this notebook, the different graphs extracted from different binaries , classified in several categories (network, cryptography, disk, packer) will be imported into a PyG dataset. The dataset will be verified and a model will be trained\n",
    "\n",
    "The new changes from partII are that the dataset is considered to big to fit in memory, and a so the import function and class of the dataset must take this into account. Now it imports from Dataset and not InMemoryDataset.\n",
    "\n",
    "**Topics to take care of:**\n",
    "- multi-label+multi-class vs only multi-class\n",
    "\n",
    "\n",
    "**Notebook index**:\n",
    "- importing the graph \n",
    "- plotting the imported graphs to verify\n",
    "- training a toy model\n",
    "    "
   ]
  },
  {
   "cell_type": "markdown",
   "metadata": {},
   "source": [
    "##  PyTorch Geometric Dataset"
   ]
  },
  {
   "cell_type": "code",
   "execution_count": 3,
   "metadata": {},
   "outputs": [
    {
     "name": "stdout",
     "output_type": "stream",
     "text": [
      "The autoreload extension is already loaded. To reload it, use:\n",
      "  %reload_ext autoreload\n"
     ]
    }
   ],
   "source": [
    "%load_ext autoreload\n",
    "%autoreload 2\n",
    "\n",
    "import importlib\n",
    "import time\n",
    "import pickle\n",
    "import traceback\n",
    "import random\n",
    "import os\n",
    "import re\n",
    "import sys\n",
    "import json\n",
    "from pprint import pprint\n",
    "import numpy as np\n",
    "from numpy.random import choice\n",
    "import pandas as pd\n",
    "import networkx as nx\n",
    "import matplotlib.pyplot as plt\n",
    "\n",
    "import torch\n",
    "from torch_geometric.data import Dataset\n",
    "from torch_geometric.data import Data\n",
    "from torch_geometric.data import DataLoader\n",
    "\n",
    "from TFM_function_renaming_dataset_creation import *\n",
    "from TFM_function_renaming_dataset_creation import FunctionsDataset\n",
    "\n",
    "\n"
   ]
  },
  {
   "cell_type": "markdown",
   "metadata": {},
   "source": [
    "# Dataset creation"
   ]
  },
  {
   "cell_type": "code",
   "execution_count": 45,
   "metadata": {
    "scrolled": true
   },
   "outputs": [
    {
     "name": "stdout",
     "output_type": "stream",
     "text": [
      "Processing...\n",
      " FunctionsDataset: process()\n",
      "self.processed_paths []\n",
      "self.root tmp/noisy_fixed01\n",
      "self.raw_dir tmp/n\n",
      "self.raw_file_names ['graphs01']\n",
      "self.raw_paths ['tmp/noisy_fixed01/raw/graphs01']\n",
      "\n",
      "tmp/noisy_fixed01/raw/graphs01/Network/libeayxx_dll/ERR_peek_last_error_line_edges.txt\n"
     ]
    },
    {
     "name": "stderr",
     "output_type": "stream",
     "text": [
      "Traceback (most recent call last):\n",
      "  File \"/home/pau/.pyenv/versions/3.6.7/envs/gnn-pytorch/lib/python3.6/site-packages/networkx/readwrite/edgelist.py\", line 277, in parse_edgelist\n",
      "    edgedata = dict(literal_eval(' '.join(d)))\n",
      "  File \"/home/pau/.pyenv/versions/3.6.7/lib/python3.6/ast.py\", line 48, in literal_eval\n",
      "    node_or_string = parse(node_or_string, mode='eval')\n",
      "  File \"/home/pau/.pyenv/versions/3.6.7/lib/python3.6/ast.py\", line 35, in parse\n",
      "    return compile(source, filename, mode, PyCF_ONLY_AST)\n",
      "  File \"<unknown>\", line 1\n",
      "    , { \"type\": \"instr\" }\n",
      "    ^\n",
      "SyntaxError: invalid syntax\n",
      "\n",
      "During handling of the above exception, another exception occurred:\n",
      "\n",
      "Traceback (most recent call last):\n",
      "  File \"/media/disk/home/pau/Projectes/GNN-MThesis/src/function_renaming/TFM_function_renaming_dataset_creation.py\", line 261, in parseGraph\n",
      "    g = readGraph('',filename)\n",
      "  File \"/media/disk/home/pau/Projectes/GNN-MThesis/src/function_renaming/TFM_function_renaming_dataset_creation.py\", line 67, in readGraph\n",
      "    g = nx.read_edgelist(folder+filename)\n",
      "  File \"</home/pau/.pyenv/versions/3.6.7/envs/gnn-pytorch/lib/python3.6/site-packages/decorator.py:decorator-gen-707>\", line 2, in read_edgelist\n",
      "  File \"/home/pau/.pyenv/versions/3.6.7/envs/gnn-pytorch/lib/python3.6/site-packages/networkx/utils/decorators.py\", line 240, in _open_file\n",
      "    result = func_to_be_decorated(*new_args, **kwargs)\n",
      "  File \"/home/pau/.pyenv/versions/3.6.7/envs/gnn-pytorch/lib/python3.6/site-packages/networkx/readwrite/edgelist.py\", line 369, in read_edgelist\n",
      "    data=data)\n",
      "  File \"/home/pau/.pyenv/versions/3.6.7/envs/gnn-pytorch/lib/python3.6/site-packages/networkx/readwrite/edgelist.py\", line 280, in parse_edgelist\n",
      "    \"Failed to convert edge data (%s) to dictionary.\" % (d))\n",
      "TypeError: Failed to convert edge data ([',', '{', '\"type\":', '\"instr\"', '}']) to dictionary.\n"
     ]
    },
    {
     "name": "stdout",
     "output_type": "stream",
     "text": [
      "tmp/noisy_fixed01/raw/graphs01/Network/libeayxx_dll/sub_1002FFB0_edges.txt\n"
     ]
    },
    {
     "name": "stderr",
     "output_type": "stream",
     "text": [
      "Traceback (most recent call last):\n",
      "  File \"/home/pau/.pyenv/versions/3.6.7/envs/gnn-pytorch/lib/python3.6/site-packages/networkx/readwrite/edgelist.py\", line 277, in parse_edgelist\n",
      "    edgedata = dict(literal_eval(' '.join(d)))\n",
      "  File \"/home/pau/.pyenv/versions/3.6.7/lib/python3.6/ast.py\", line 48, in literal_eval\n",
      "    node_or_string = parse(node_or_string, mode='eval')\n",
      "  File \"/home/pau/.pyenv/versions/3.6.7/lib/python3.6/ast.py\", line 35, in parse\n",
      "    return compile(source, filename, mode, PyCF_ONLY_AST)\n",
      "  File \"<unknown>\", line 1\n",
      "    ptr [esi] { \"type\": \"phrase\" }\n",
      "              ^\n",
      "SyntaxError: invalid syntax\n",
      "\n",
      "During handling of the above exception, another exception occurred:\n",
      "\n",
      "Traceback (most recent call last):\n",
      "  File \"/media/disk/home/pau/Projectes/GNN-MThesis/src/function_renaming/TFM_function_renaming_dataset_creation.py\", line 261, in parseGraph\n",
      "    g = readGraph('',filename)\n",
      "  File \"/media/disk/home/pau/Projectes/GNN-MThesis/src/function_renaming/TFM_function_renaming_dataset_creation.py\", line 67, in readGraph\n",
      "    g = nx.read_edgelist(folder+filename)\n",
      "  File \"</home/pau/.pyenv/versions/3.6.7/envs/gnn-pytorch/lib/python3.6/site-packages/decorator.py:decorator-gen-707>\", line 2, in read_edgelist\n",
      "  File \"/home/pau/.pyenv/versions/3.6.7/envs/gnn-pytorch/lib/python3.6/site-packages/networkx/utils/decorators.py\", line 240, in _open_file\n",
      "    result = func_to_be_decorated(*new_args, **kwargs)\n",
      "  File \"/home/pau/.pyenv/versions/3.6.7/envs/gnn-pytorch/lib/python3.6/site-packages/networkx/readwrite/edgelist.py\", line 369, in read_edgelist\n",
      "    data=data)\n",
      "  File \"/home/pau/.pyenv/versions/3.6.7/envs/gnn-pytorch/lib/python3.6/site-packages/networkx/readwrite/edgelist.py\", line 280, in parse_edgelist\n",
      "    \"Failed to convert edge data (%s) to dictionary.\" % (d))\n",
      "TypeError: Failed to convert edge data (['ptr', '[esi]', '{', '\"type\":', '\"phrase\"', '}']) to dictionary.\n"
     ]
    },
    {
     "name": "stdout",
     "output_type": "stream",
     "text": [
      "\n",
      "tmp/noisy_fixed01/raw/graphs01/Network/ApacheCore_dll/sub_6FF81C50_edges.txt\n"
     ]
    },
    {
     "name": "stderr",
     "output_type": "stream",
     "text": [
      "Traceback (most recent call last):\n",
      "  File \"/home/pau/.pyenv/versions/3.6.7/envs/gnn-pytorch/lib/python3.6/site-packages/networkx/readwrite/edgelist.py\", line 277, in parse_edgelist\n",
      "    edgedata = dict(literal_eval(' '.join(d)))\n",
      "  File \"/home/pau/.pyenv/versions/3.6.7/lib/python3.6/ast.py\", line 48, in literal_eval\n",
      "    node_or_string = parse(node_or_string, mode='eval')\n",
      "  File \"/home/pau/.pyenv/versions/3.6.7/lib/python3.6/ast.py\", line 35, in parse\n",
      "    return compile(source, filename, mode, PyCF_ONLY_AST)\n",
      "  File \"<unknown>\", line 1\n",
      "    {language \" { \"type\": \"phrase\" }\n",
      "                  ^\n",
      "SyntaxError: invalid syntax\n",
      "\n",
      "During handling of the above exception, another exception occurred:\n",
      "\n",
      "Traceback (most recent call last):\n",
      "  File \"/media/disk/home/pau/Projectes/GNN-MThesis/src/function_renaming/TFM_function_renaming_dataset_creation.py\", line 261, in parseGraph\n",
      "    g = readGraph('',filename)\n",
      "  File \"/media/disk/home/pau/Projectes/GNN-MThesis/src/function_renaming/TFM_function_renaming_dataset_creation.py\", line 67, in readGraph\n",
      "    g = nx.read_edgelist(folder+filename)\n",
      "  File \"</home/pau/.pyenv/versions/3.6.7/envs/gnn-pytorch/lib/python3.6/site-packages/decorator.py:decorator-gen-707>\", line 2, in read_edgelist\n",
      "  File \"/home/pau/.pyenv/versions/3.6.7/envs/gnn-pytorch/lib/python3.6/site-packages/networkx/utils/decorators.py\", line 240, in _open_file\n",
      "    result = func_to_be_decorated(*new_args, **kwargs)\n",
      "  File \"/home/pau/.pyenv/versions/3.6.7/envs/gnn-pytorch/lib/python3.6/site-packages/networkx/readwrite/edgelist.py\", line 369, in read_edgelist\n",
      "    data=data)\n",
      "  File \"/home/pau/.pyenv/versions/3.6.7/envs/gnn-pytorch/lib/python3.6/site-packages/networkx/readwrite/edgelist.py\", line 280, in parse_edgelist\n",
      "    \"Failed to convert edge data (%s) to dictionary.\" % (d))\n",
      "TypeError: Failed to convert edge data (['{language', '\"', '{', '\"type\":', '\"phrase\"', '}']) to dictionary.\n"
     ]
    },
    {
     "name": "stdout",
     "output_type": "stream",
     "text": [
      "tmp/noisy_fixed01/raw/graphs01/Network/nginx_exe/sub_518990_edges.txt\n"
     ]
    },
    {
     "name": "stderr",
     "output_type": "stream",
     "text": [
      "Traceback (most recent call last):\n",
      "  File \"/home/pau/.pyenv/versions/3.6.7/envs/gnn-pytorch/lib/python3.6/site-packages/networkx/readwrite/edgelist.py\", line 277, in parse_edgelist\n",
      "    edgedata = dict(literal_eval(' '.join(d)))\n",
      "  File \"/home/pau/.pyenv/versions/3.6.7/lib/python3.6/ast.py\", line 48, in literal_eval\n",
      "    node_or_string = parse(node_or_string, mode='eval')\n",
      "  File \"/home/pau/.pyenv/versions/3.6.7/lib/python3.6/ast.py\", line 35, in parse\n",
      "    return compile(source, filename, mode, PyCF_ONLY_AST)\n",
      "  File \"<unknown>\", line 1\n",
      "    ptr [ebx] { \"type\": \"phrase\" }\n",
      "              ^\n",
      "SyntaxError: invalid syntax\n",
      "\n",
      "During handling of the above exception, another exception occurred:\n",
      "\n",
      "Traceback (most recent call last):\n",
      "  File \"/media/disk/home/pau/Projectes/GNN-MThesis/src/function_renaming/TFM_function_renaming_dataset_creation.py\", line 261, in parseGraph\n",
      "    g = readGraph('',filename)\n",
      "  File \"/media/disk/home/pau/Projectes/GNN-MThesis/src/function_renaming/TFM_function_renaming_dataset_creation.py\", line 67, in readGraph\n",
      "    g = nx.read_edgelist(folder+filename)\n",
      "  File \"</home/pau/.pyenv/versions/3.6.7/envs/gnn-pytorch/lib/python3.6/site-packages/decorator.py:decorator-gen-707>\", line 2, in read_edgelist\n",
      "  File \"/home/pau/.pyenv/versions/3.6.7/envs/gnn-pytorch/lib/python3.6/site-packages/networkx/utils/decorators.py\", line 240, in _open_file\n",
      "    result = func_to_be_decorated(*new_args, **kwargs)\n",
      "  File \"/home/pau/.pyenv/versions/3.6.7/envs/gnn-pytorch/lib/python3.6/site-packages/networkx/readwrite/edgelist.py\", line 369, in read_edgelist\n",
      "    data=data)\n",
      "  File \"/home/pau/.pyenv/versions/3.6.7/envs/gnn-pytorch/lib/python3.6/site-packages/networkx/readwrite/edgelist.py\", line 280, in parse_edgelist\n",
      "    \"Failed to convert edge data (%s) to dictionary.\" % (d))\n",
      "TypeError: Failed to convert edge data (['ptr', '[ebx]', '{', '\"type\":', '\"phrase\"', '}']) to dictionary.\n"
     ]
    },
    {
     "name": "stdout",
     "output_type": "stream",
     "text": [
      "tmp/noisy_fixed01/raw/graphs01/Network/nginx_exe/sub_4D8A40_edges.txt\n"
     ]
    },
    {
     "name": "stderr",
     "output_type": "stream",
     "text": [
      "Traceback (most recent call last):\n",
      "  File \"/home/pau/.pyenv/versions/3.6.7/envs/gnn-pytorch/lib/python3.6/site-packages/networkx/readwrite/edgelist.py\", line 277, in parse_edgelist\n",
      "    edgedata = dict(literal_eval(' '.join(d)))\n",
      "  File \"/home/pau/.pyenv/versions/3.6.7/lib/python3.6/ast.py\", line 48, in literal_eval\n",
      "    node_or_string = parse(node_or_string, mode='eval')\n",
      "  File \"/home/pau/.pyenv/versions/3.6.7/lib/python3.6/ast.py\", line 35, in parse\n",
      "    return compile(source, filename, mode, PyCF_ONLY_AST)\n",
      "  File \"<unknown>\", line 1\n",
      "    ptr [esi] { \"type\": \"phrase\" }\n",
      "              ^\n",
      "SyntaxError: invalid syntax\n",
      "\n",
      "During handling of the above exception, another exception occurred:\n",
      "\n",
      "Traceback (most recent call last):\n",
      "  File \"/media/disk/home/pau/Projectes/GNN-MThesis/src/function_renaming/TFM_function_renaming_dataset_creation.py\", line 261, in parseGraph\n",
      "    g = readGraph('',filename)\n",
      "  File \"/media/disk/home/pau/Projectes/GNN-MThesis/src/function_renaming/TFM_function_renaming_dataset_creation.py\", line 67, in readGraph\n",
      "    g = nx.read_edgelist(folder+filename)\n",
      "  File \"</home/pau/.pyenv/versions/3.6.7/envs/gnn-pytorch/lib/python3.6/site-packages/decorator.py:decorator-gen-707>\", line 2, in read_edgelist\n",
      "  File \"/home/pau/.pyenv/versions/3.6.7/envs/gnn-pytorch/lib/python3.6/site-packages/networkx/utils/decorators.py\", line 240, in _open_file\n",
      "    result = func_to_be_decorated(*new_args, **kwargs)\n",
      "  File \"/home/pau/.pyenv/versions/3.6.7/envs/gnn-pytorch/lib/python3.6/site-packages/networkx/readwrite/edgelist.py\", line 369, in read_edgelist\n",
      "    data=data)\n",
      "  File \"/home/pau/.pyenv/versions/3.6.7/envs/gnn-pytorch/lib/python3.6/site-packages/networkx/readwrite/edgelist.py\", line 280, in parse_edgelist\n",
      "    \"Failed to convert edge data (%s) to dictionary.\" % (d))\n",
      "TypeError: Failed to convert edge data (['ptr', '[esi]', '{', '\"type\":', '\"phrase\"', '}']) to dictionary.\n"
     ]
    },
    {
     "name": "stdout",
     "output_type": "stream",
     "text": [
      "tmp/noisy_fixed01/raw/graphs01/Network/nginx_exe/sub_4CE4B0_edges.txt\n"
     ]
    },
    {
     "name": "stderr",
     "output_type": "stream",
     "text": [
      "Traceback (most recent call last):\n",
      "  File \"/home/pau/.pyenv/versions/3.6.7/envs/gnn-pytorch/lib/python3.6/site-packages/networkx/readwrite/edgelist.py\", line 277, in parse_edgelist\n",
      "    edgedata = dict(literal_eval(' '.join(d)))\n",
      "  File \"/home/pau/.pyenv/versions/3.6.7/lib/python3.6/ast.py\", line 48, in literal_eval\n",
      "    node_or_string = parse(node_or_string, mode='eval')\n",
      "  File \"/home/pau/.pyenv/versions/3.6.7/lib/python3.6/ast.py\", line 35, in parse\n",
      "    return compile(source, filename, mode, PyCF_ONLY_AST)\n",
      "  File \"<unknown>\", line 1\n",
      "    ptr [edi] { \"type\": \"phrase\" }\n",
      "              ^\n",
      "SyntaxError: invalid syntax\n",
      "\n",
      "During handling of the above exception, another exception occurred:\n",
      "\n",
      "Traceback (most recent call last):\n",
      "  File \"/media/disk/home/pau/Projectes/GNN-MThesis/src/function_renaming/TFM_function_renaming_dataset_creation.py\", line 261, in parseGraph\n",
      "    g = readGraph('',filename)\n",
      "  File \"/media/disk/home/pau/Projectes/GNN-MThesis/src/function_renaming/TFM_function_renaming_dataset_creation.py\", line 67, in readGraph\n",
      "    g = nx.read_edgelist(folder+filename)\n",
      "  File \"</home/pau/.pyenv/versions/3.6.7/envs/gnn-pytorch/lib/python3.6/site-packages/decorator.py:decorator-gen-707>\", line 2, in read_edgelist\n",
      "  File \"/home/pau/.pyenv/versions/3.6.7/envs/gnn-pytorch/lib/python3.6/site-packages/networkx/utils/decorators.py\", line 240, in _open_file\n",
      "    result = func_to_be_decorated(*new_args, **kwargs)\n",
      "  File \"/home/pau/.pyenv/versions/3.6.7/envs/gnn-pytorch/lib/python3.6/site-packages/networkx/readwrite/edgelist.py\", line 369, in read_edgelist\n",
      "    data=data)\n",
      "  File \"/home/pau/.pyenv/versions/3.6.7/envs/gnn-pytorch/lib/python3.6/site-packages/networkx/readwrite/edgelist.py\", line 280, in parse_edgelist\n",
      "    \"Failed to convert edge data (%s) to dictionary.\" % (d))\n",
      "TypeError: Failed to convert edge data (['ptr', '[edi]', '{', '\"type\":', '\"phrase\"', '}']) to dictionary.\n"
     ]
    },
    {
     "name": "stdout",
     "output_type": "stream",
     "text": [
      "tmp/noisy_fixed01/raw/graphs01/Network/libgnutls-30_dll/sub_64898740_edges.txt\n"
     ]
    },
    {
     "name": "stderr",
     "output_type": "stream",
     "text": [
      "Traceback (most recent call last):\n",
      "  File \"/home/pau/.pyenv/versions/3.6.7/envs/gnn-pytorch/lib/python3.6/site-packages/networkx/readwrite/edgelist.py\", line 277, in parse_edgelist\n",
      "    edgedata = dict(literal_eval(' '.join(d)))\n",
      "  File \"/home/pau/.pyenv/versions/3.6.7/lib/python3.6/ast.py\", line 48, in literal_eval\n",
      "    node_or_string = parse(node_or_string, mode='eval')\n",
      "  File \"/home/pau/.pyenv/versions/3.6.7/lib/python3.6/ast.py\", line 35, in parse\n",
      "    return compile(source, filename, mode, PyCF_ONLY_AST)\n",
      "  File \"<unknown>\", line 1\n",
      "    ptr [r8] { \"type\": \"phrase\" }\n",
      "             ^\n",
      "SyntaxError: invalid syntax\n",
      "\n",
      "During handling of the above exception, another exception occurred:\n",
      "\n",
      "Traceback (most recent call last):\n",
      "  File \"/media/disk/home/pau/Projectes/GNN-MThesis/src/function_renaming/TFM_function_renaming_dataset_creation.py\", line 261, in parseGraph\n",
      "    g = readGraph('',filename)\n",
      "  File \"/media/disk/home/pau/Projectes/GNN-MThesis/src/function_renaming/TFM_function_renaming_dataset_creation.py\", line 67, in readGraph\n",
      "    g = nx.read_edgelist(folder+filename)\n",
      "  File \"</home/pau/.pyenv/versions/3.6.7/envs/gnn-pytorch/lib/python3.6/site-packages/decorator.py:decorator-gen-707>\", line 2, in read_edgelist\n",
      "  File \"/home/pau/.pyenv/versions/3.6.7/envs/gnn-pytorch/lib/python3.6/site-packages/networkx/utils/decorators.py\", line 240, in _open_file\n",
      "    result = func_to_be_decorated(*new_args, **kwargs)\n",
      "  File \"/home/pau/.pyenv/versions/3.6.7/envs/gnn-pytorch/lib/python3.6/site-packages/networkx/readwrite/edgelist.py\", line 369, in read_edgelist\n",
      "    data=data)\n",
      "  File \"/home/pau/.pyenv/versions/3.6.7/envs/gnn-pytorch/lib/python3.6/site-packages/networkx/readwrite/edgelist.py\", line 280, in parse_edgelist\n",
      "    \"Failed to convert edge data (%s) to dictionary.\" % (d))\n",
      "TypeError: Failed to convert edge data (['ptr', '[r8]', '{', '\"type\":', '\"phrase\"', '}']) to dictionary.\n"
     ]
    },
    {
     "name": "stdout",
     "output_type": "stream",
     "text": [
      "tmp/noisy_fixed01/raw/graphs01/Network/libgnutls-30_dll/sub_6489CA90_edges.txt\n"
     ]
    },
    {
     "name": "stderr",
     "output_type": "stream",
     "text": [
      "Traceback (most recent call last):\n",
      "  File \"/media/disk/home/pau/Projectes/GNN-MThesis/src/function_renaming/TFM_function_renaming_dataset_creation.py\", line 263, in parseGraph\n",
      "    data = self.createGraphFromNXwithTarget(g,y,xlen,undirected=True)\n",
      "  File \"/media/disk/home/pau/Projectes/GNN-MThesis/src/function_renaming/TFM_function_renaming_dataset_creation.py\", line 508, in createGraphFromNXwithTarget\n",
      "    dataset =  self.createGraphFromNX(g,xlen, undirected)\n",
      "  File \"/media/disk/home/pau/Projectes/GNN-MThesis/src/function_renaming/TFM_function_renaming_dataset_creation.py\", line 494, in createGraphFromNX\n",
      "    x = torch.tensor(x, dtype=torch.float)\n",
      "RuntimeError: Precision loss when unpacking double\n"
     ]
    },
    {
     "name": "stdout",
     "output_type": "stream",
     "text": [
      "tmp/noisy_fixed01/raw/graphs01/Network/libgnutls-30_dll/_gnutls_pkcs12_string_to_key_edges.txt\n"
     ]
    },
    {
     "name": "stderr",
     "output_type": "stream",
     "text": [
      "Traceback (most recent call last):\n",
      "  File \"/media/disk/home/pau/Projectes/GNN-MThesis/src/function_renaming/TFM_function_renaming_dataset_creation.py\", line 263, in parseGraph\n",
      "    data = self.createGraphFromNXwithTarget(g,y,xlen,undirected=True)\n",
      "  File \"/media/disk/home/pau/Projectes/GNN-MThesis/src/function_renaming/TFM_function_renaming_dataset_creation.py\", line 508, in createGraphFromNXwithTarget\n",
      "    dataset =  self.createGraphFromNX(g,xlen, undirected)\n",
      "  File \"/media/disk/home/pau/Projectes/GNN-MThesis/src/function_renaming/TFM_function_renaming_dataset_creation.py\", line 494, in createGraphFromNX\n",
      "    x = torch.tensor(x, dtype=torch.float)\n",
      "RuntimeError: Precision loss when unpacking double\n"
     ]
    },
    {
     "name": "stdout",
     "output_type": "stream",
     "text": [
      "tmp/noisy_fixed01/raw/graphs01/Network/libgnutls-30_dll/sub_648979A0_edges.txt\n"
     ]
    },
    {
     "name": "stderr",
     "output_type": "stream",
     "text": [
      "Traceback (most recent call last):\n",
      "  File \"/media/disk/home/pau/Projectes/GNN-MThesis/src/function_renaming/TFM_function_renaming_dataset_creation.py\", line 263, in parseGraph\n",
      "    data = self.createGraphFromNXwithTarget(g,y,xlen,undirected=True)\n",
      "  File \"/media/disk/home/pau/Projectes/GNN-MThesis/src/function_renaming/TFM_function_renaming_dataset_creation.py\", line 508, in createGraphFromNXwithTarget\n",
      "    dataset =  self.createGraphFromNX(g,xlen, undirected)\n",
      "  File \"/media/disk/home/pau/Projectes/GNN-MThesis/src/function_renaming/TFM_function_renaming_dataset_creation.py\", line 494, in createGraphFromNX\n",
      "    x = torch.tensor(x, dtype=torch.float)\n",
      "RuntimeError: Precision loss when unpacking double\n"
     ]
    },
    {
     "name": "stdout",
     "output_type": "stream",
     "text": [
      "tmp/noisy_fixed01/raw/graphs01/Network/libgnutls-30_dll/sub_64925D10_edges.txt\n"
     ]
    },
    {
     "name": "stderr",
     "output_type": "stream",
     "text": [
      "Traceback (most recent call last):\n",
      "  File \"/media/disk/home/pau/Projectes/GNN-MThesis/src/function_renaming/TFM_function_renaming_dataset_creation.py\", line 263, in parseGraph\n",
      "    data = self.createGraphFromNXwithTarget(g,y,xlen,undirected=True)\n",
      "  File \"/media/disk/home/pau/Projectes/GNN-MThesis/src/function_renaming/TFM_function_renaming_dataset_creation.py\", line 508, in createGraphFromNXwithTarget\n",
      "    dataset =  self.createGraphFromNX(g,xlen, undirected)\n",
      "  File \"/media/disk/home/pau/Projectes/GNN-MThesis/src/function_renaming/TFM_function_renaming_dataset_creation.py\", line 494, in createGraphFromNX\n",
      "    x = torch.tensor(x, dtype=torch.float)\n",
      "RuntimeError: Precision loss when unpacking double\n"
     ]
    },
    {
     "name": "stdout",
     "output_type": "stream",
     "text": [
      "tmp/noisy_fixed01/raw/graphs01/Network/libgnutls-30_dll/sub_64898B10_edges.txt\n"
     ]
    },
    {
     "name": "stderr",
     "output_type": "stream",
     "text": [
      "Traceback (most recent call last):\n",
      "  File \"/media/disk/home/pau/Projectes/GNN-MThesis/src/function_renaming/TFM_function_renaming_dataset_creation.py\", line 263, in parseGraph\n",
      "    data = self.createGraphFromNXwithTarget(g,y,xlen,undirected=True)\n",
      "  File \"/media/disk/home/pau/Projectes/GNN-MThesis/src/function_renaming/TFM_function_renaming_dataset_creation.py\", line 508, in createGraphFromNXwithTarget\n",
      "    dataset =  self.createGraphFromNX(g,xlen, undirected)\n",
      "  File \"/media/disk/home/pau/Projectes/GNN-MThesis/src/function_renaming/TFM_function_renaming_dataset_creation.py\", line 494, in createGraphFromNX\n",
      "    x = torch.tensor(x, dtype=torch.float)\n",
      "RuntimeError: Precision loss when unpacking double\n"
     ]
    },
    {
     "name": "stdout",
     "output_type": "stream",
     "text": [
      "tmp/noisy_fixed01/raw/graphs01/Network/libgnutls-30_dll/sub_6493DD10_edges.txt\n"
     ]
    },
    {
     "name": "stderr",
     "output_type": "stream",
     "text": [
      "Traceback (most recent call last):\n",
      "  File \"/home/pau/.pyenv/versions/3.6.7/envs/gnn-pytorch/lib/python3.6/site-packages/networkx/readwrite/edgelist.py\", line 277, in parse_edgelist\n",
      "    edgedata = dict(literal_eval(' '.join(d)))\n",
      "  File \"/home/pau/.pyenv/versions/3.6.7/lib/python3.6/ast.py\", line 48, in literal_eval\n",
      "    node_or_string = parse(node_or_string, mode='eval')\n",
      "  File \"/home/pau/.pyenv/versions/3.6.7/lib/python3.6/ast.py\", line 35, in parse\n",
      "    return compile(source, filename, mode, PyCF_ONLY_AST)\n",
      "  File \"<unknown>\", line 1\n",
      "    ptr [rbx] { \"type\": \"phrase\" }\n",
      "              ^\n",
      "SyntaxError: invalid syntax\n",
      "\n",
      "During handling of the above exception, another exception occurred:\n",
      "\n",
      "Traceback (most recent call last):\n",
      "  File \"/media/disk/home/pau/Projectes/GNN-MThesis/src/function_renaming/TFM_function_renaming_dataset_creation.py\", line 261, in parseGraph\n",
      "    g = readGraph('',filename)\n",
      "  File \"/media/disk/home/pau/Projectes/GNN-MThesis/src/function_renaming/TFM_function_renaming_dataset_creation.py\", line 67, in readGraph\n",
      "    g = nx.read_edgelist(folder+filename)\n",
      "  File \"</home/pau/.pyenv/versions/3.6.7/envs/gnn-pytorch/lib/python3.6/site-packages/decorator.py:decorator-gen-707>\", line 2, in read_edgelist\n",
      "  File \"/home/pau/.pyenv/versions/3.6.7/envs/gnn-pytorch/lib/python3.6/site-packages/networkx/utils/decorators.py\", line 240, in _open_file\n",
      "    result = func_to_be_decorated(*new_args, **kwargs)\n",
      "  File \"/home/pau/.pyenv/versions/3.6.7/envs/gnn-pytorch/lib/python3.6/site-packages/networkx/readwrite/edgelist.py\", line 369, in read_edgelist\n",
      "    data=data)\n",
      "  File \"/home/pau/.pyenv/versions/3.6.7/envs/gnn-pytorch/lib/python3.6/site-packages/networkx/readwrite/edgelist.py\", line 280, in parse_edgelist\n",
      "    \"Failed to convert edge data (%s) to dictionary.\" % (d))\n",
      "TypeError: Failed to convert edge data (['ptr', '[rbx]', '{', '\"type\":', '\"phrase\"', '}']) to dictionary.\n"
     ]
    },
    {
     "name": "stdout",
     "output_type": "stream",
     "text": [
      "tmp/noisy_fixed01/raw/graphs01/Network/libgnutls-30_dll/sub_64939AF0_edges.txt\n"
     ]
    },
    {
     "name": "stderr",
     "output_type": "stream",
     "text": [
      "Traceback (most recent call last):\n",
      "  File \"/home/pau/.pyenv/versions/3.6.7/envs/gnn-pytorch/lib/python3.6/site-packages/networkx/readwrite/edgelist.py\", line 277, in parse_edgelist\n",
      "    edgedata = dict(literal_eval(' '.join(d)))\n",
      "  File \"/home/pau/.pyenv/versions/3.6.7/lib/python3.6/ast.py\", line 48, in literal_eval\n",
      "    node_or_string = parse(node_or_string, mode='eval')\n",
      "  File \"/home/pau/.pyenv/versions/3.6.7/lib/python3.6/ast.py\", line 35, in parse\n",
      "    return compile(source, filename, mode, PyCF_ONLY_AST)\n",
      "  File \"<unknown>\", line 1\n",
      "    ptr [rbx] { \"type\": \"phrase\" }\n",
      "              ^\n",
      "SyntaxError: invalid syntax\n",
      "\n",
      "During handling of the above exception, another exception occurred:\n",
      "\n",
      "Traceback (most recent call last):\n",
      "  File \"/media/disk/home/pau/Projectes/GNN-MThesis/src/function_renaming/TFM_function_renaming_dataset_creation.py\", line 261, in parseGraph\n",
      "    g = readGraph('',filename)\n",
      "  File \"/media/disk/home/pau/Projectes/GNN-MThesis/src/function_renaming/TFM_function_renaming_dataset_creation.py\", line 67, in readGraph\n",
      "    g = nx.read_edgelist(folder+filename)\n",
      "  File \"</home/pau/.pyenv/versions/3.6.7/envs/gnn-pytorch/lib/python3.6/site-packages/decorator.py:decorator-gen-707>\", line 2, in read_edgelist\n",
      "  File \"/home/pau/.pyenv/versions/3.6.7/envs/gnn-pytorch/lib/python3.6/site-packages/networkx/utils/decorators.py\", line 240, in _open_file\n",
      "    result = func_to_be_decorated(*new_args, **kwargs)\n",
      "  File \"/home/pau/.pyenv/versions/3.6.7/envs/gnn-pytorch/lib/python3.6/site-packages/networkx/readwrite/edgelist.py\", line 369, in read_edgelist\n",
      "    data=data)\n",
      "  File \"/home/pau/.pyenv/versions/3.6.7/envs/gnn-pytorch/lib/python3.6/site-packages/networkx/readwrite/edgelist.py\", line 280, in parse_edgelist\n",
      "    \"Failed to convert edge data (%s) to dictionary.\" % (d))\n",
      "TypeError: Failed to convert edge data (['ptr', '[rbx]', '{', '\"type\":', '\"phrase\"', '}']) to dictionary.\n"
     ]
    },
    {
     "name": "stdout",
     "output_type": "stream",
     "text": [
      "tmp/noisy_fixed01/raw/graphs01/Network/libgnutls-30_dll/gnutls_hex2bin_0_edges.txt\n"
     ]
    },
    {
     "name": "stderr",
     "output_type": "stream",
     "text": [
      "Traceback (most recent call last):\n",
      "  File \"/home/pau/.pyenv/versions/3.6.7/envs/gnn-pytorch/lib/python3.6/site-packages/networkx/readwrite/edgelist.py\", line 277, in parse_edgelist\n",
      "    edgedata = dict(literal_eval(' '.join(d)))\n",
      "  File \"/home/pau/.pyenv/versions/3.6.7/lib/python3.6/ast.py\", line 48, in literal_eval\n",
      "    node_or_string = parse(node_or_string, mode='eval')\n",
      "  File \"/home/pau/.pyenv/versions/3.6.7/lib/python3.6/ast.py\", line 35, in parse\n",
      "    return compile(source, filename, mode, PyCF_ONLY_AST)\n",
      "  File \"<unknown>\", line 1\n",
      "    ptr [rdi+rax] { \"type\": \"phrase\" }\n",
      "                  ^\n",
      "SyntaxError: invalid syntax\n",
      "\n",
      "During handling of the above exception, another exception occurred:\n",
      "\n",
      "Traceback (most recent call last):\n",
      "  File \"/media/disk/home/pau/Projectes/GNN-MThesis/src/function_renaming/TFM_function_renaming_dataset_creation.py\", line 261, in parseGraph\n",
      "    g = readGraph('',filename)\n",
      "  File \"/media/disk/home/pau/Projectes/GNN-MThesis/src/function_renaming/TFM_function_renaming_dataset_creation.py\", line 67, in readGraph\n",
      "    g = nx.read_edgelist(folder+filename)\n",
      "  File \"</home/pau/.pyenv/versions/3.6.7/envs/gnn-pytorch/lib/python3.6/site-packages/decorator.py:decorator-gen-707>\", line 2, in read_edgelist\n",
      "  File \"/home/pau/.pyenv/versions/3.6.7/envs/gnn-pytorch/lib/python3.6/site-packages/networkx/utils/decorators.py\", line 240, in _open_file\n",
      "    result = func_to_be_decorated(*new_args, **kwargs)\n",
      "  File \"/home/pau/.pyenv/versions/3.6.7/envs/gnn-pytorch/lib/python3.6/site-packages/networkx/readwrite/edgelist.py\", line 369, in read_edgelist\n",
      "    data=data)\n",
      "  File \"/home/pau/.pyenv/versions/3.6.7/envs/gnn-pytorch/lib/python3.6/site-packages/networkx/readwrite/edgelist.py\", line 280, in parse_edgelist\n",
      "    \"Failed to convert edge data (%s) to dictionary.\" % (d))\n",
      "TypeError: Failed to convert edge data (['ptr', '[rdi+rax]', '{', '\"type\":', '\"phrase\"', '}']) to dictionary.\n"
     ]
    },
    {
     "name": "stdout",
     "output_type": "stream",
     "text": [
      "tmp/noisy_fixed01/raw/graphs01/Network/libgnutls-30_dll/sub_6486EE80_edges.txt\n"
     ]
    },
    {
     "name": "stderr",
     "output_type": "stream",
     "text": [
      "Traceback (most recent call last):\n",
      "  File \"/home/pau/.pyenv/versions/3.6.7/envs/gnn-pytorch/lib/python3.6/site-packages/networkx/readwrite/edgelist.py\", line 277, in parse_edgelist\n",
      "    edgedata = dict(literal_eval(' '.join(d)))\n",
      "  File \"/home/pau/.pyenv/versions/3.6.7/lib/python3.6/ast.py\", line 48, in literal_eval\n",
      "    node_or_string = parse(node_or_string, mode='eval')\n",
      "  File \"/home/pau/.pyenv/versions/3.6.7/lib/python3.6/ast.py\", line 35, in parse\n",
      "    return compile(source, filename, mode, PyCF_ONLY_AST)\n",
      "  File \"<unknown>\", line 1\n",
      "    ptr [rcx] { \"type\": \"phrase\" }\n",
      "              ^\n",
      "SyntaxError: invalid syntax\n",
      "\n",
      "During handling of the above exception, another exception occurred:\n",
      "\n",
      "Traceback (most recent call last):\n",
      "  File \"/media/disk/home/pau/Projectes/GNN-MThesis/src/function_renaming/TFM_function_renaming_dataset_creation.py\", line 261, in parseGraph\n",
      "    g = readGraph('',filename)\n",
      "  File \"/media/disk/home/pau/Projectes/GNN-MThesis/src/function_renaming/TFM_function_renaming_dataset_creation.py\", line 67, in readGraph\n",
      "    g = nx.read_edgelist(folder+filename)\n",
      "  File \"</home/pau/.pyenv/versions/3.6.7/envs/gnn-pytorch/lib/python3.6/site-packages/decorator.py:decorator-gen-707>\", line 2, in read_edgelist\n",
      "  File \"/home/pau/.pyenv/versions/3.6.7/envs/gnn-pytorch/lib/python3.6/site-packages/networkx/utils/decorators.py\", line 240, in _open_file\n",
      "    result = func_to_be_decorated(*new_args, **kwargs)\n",
      "  File \"/home/pau/.pyenv/versions/3.6.7/envs/gnn-pytorch/lib/python3.6/site-packages/networkx/readwrite/edgelist.py\", line 369, in read_edgelist\n",
      "    data=data)\n",
      "  File \"/home/pau/.pyenv/versions/3.6.7/envs/gnn-pytorch/lib/python3.6/site-packages/networkx/readwrite/edgelist.py\", line 280, in parse_edgelist\n",
      "    \"Failed to convert edge data (%s) to dictionary.\" % (d))\n",
      "TypeError: Failed to convert edge data (['ptr', '[rcx]', '{', '\"type\":', '\"phrase\"', '}']) to dictionary.\n"
     ]
    },
    {
     "name": "stdout",
     "output_type": "stream",
     "text": [
      "tmp/noisy_fixed01/raw/graphs01/Network/libgnutls-30_dll/sub_64897AC0_edges.txt\n"
     ]
    },
    {
     "name": "stderr",
     "output_type": "stream",
     "text": [
      "Traceback (most recent call last):\n",
      "  File \"/media/disk/home/pau/Projectes/GNN-MThesis/src/function_renaming/TFM_function_renaming_dataset_creation.py\", line 263, in parseGraph\n",
      "    data = self.createGraphFromNXwithTarget(g,y,xlen,undirected=True)\n",
      "  File \"/media/disk/home/pau/Projectes/GNN-MThesis/src/function_renaming/TFM_function_renaming_dataset_creation.py\", line 508, in createGraphFromNXwithTarget\n",
      "    dataset =  self.createGraphFromNX(g,xlen, undirected)\n",
      "  File \"/media/disk/home/pau/Projectes/GNN-MThesis/src/function_renaming/TFM_function_renaming_dataset_creation.py\", line 494, in createGraphFromNX\n",
      "    x = torch.tensor(x, dtype=torch.float)\n",
      "RuntimeError: Precision loss when unpacking double\n"
     ]
    },
    {
     "name": "stdout",
     "output_type": "stream",
     "text": [
      "tmp/noisy_fixed01/raw/graphs01/Network/libgnutls-30_dll/sub_6484DE90_edges.txt\n"
     ]
    },
    {
     "name": "stderr",
     "output_type": "stream",
     "text": [
      "Traceback (most recent call last):\n",
      "  File \"/media/disk/home/pau/Projectes/GNN-MThesis/src/function_renaming/TFM_function_renaming_dataset_creation.py\", line 263, in parseGraph\n",
      "    data = self.createGraphFromNXwithTarget(g,y,xlen,undirected=True)\n",
      "  File \"/media/disk/home/pau/Projectes/GNN-MThesis/src/function_renaming/TFM_function_renaming_dataset_creation.py\", line 508, in createGraphFromNXwithTarget\n",
      "    dataset =  self.createGraphFromNX(g,xlen, undirected)\n",
      "  File \"/media/disk/home/pau/Projectes/GNN-MThesis/src/function_renaming/TFM_function_renaming_dataset_creation.py\", line 494, in createGraphFromNX\n",
      "    x = torch.tensor(x, dtype=torch.float)\n",
      "RuntimeError: Precision loss when unpacking double\n"
     ]
    },
    {
     "name": "stdout",
     "output_type": "stream",
     "text": [
      "tmp/noisy_fixed01/raw/graphs01/Network/libgnutls-30_dll/sub_64873F60_edges.txt\n"
     ]
    },
    {
     "name": "stderr",
     "output_type": "stream",
     "text": [
      "Traceback (most recent call last):\n",
      "  File \"/media/disk/home/pau/Projectes/GNN-MThesis/src/function_renaming/TFM_function_renaming_dataset_creation.py\", line 263, in parseGraph\n",
      "    data = self.createGraphFromNXwithTarget(g,y,xlen,undirected=True)\n",
      "  File \"/media/disk/home/pau/Projectes/GNN-MThesis/src/function_renaming/TFM_function_renaming_dataset_creation.py\", line 508, in createGraphFromNXwithTarget\n",
      "    dataset =  self.createGraphFromNX(g,xlen, undirected)\n",
      "  File \"/media/disk/home/pau/Projectes/GNN-MThesis/src/function_renaming/TFM_function_renaming_dataset_creation.py\", line 494, in createGraphFromNX\n",
      "    x = torch.tensor(x, dtype=torch.float)\n",
      "RuntimeError: Precision loss when unpacking double\n"
     ]
    },
    {
     "name": "stdout",
     "output_type": "stream",
     "text": [
      "tmp/noisy_fixed01/raw/graphs01/Network/libgnutls-30_dll/sub_64936A50_edges.txt\n"
     ]
    },
    {
     "name": "stderr",
     "output_type": "stream",
     "text": [
      "Traceback (most recent call last):\n",
      "  File \"/media/disk/home/pau/Projectes/GNN-MThesis/src/function_renaming/TFM_function_renaming_dataset_creation.py\", line 263, in parseGraph\n",
      "    data = self.createGraphFromNXwithTarget(g,y,xlen,undirected=True)\n",
      "  File \"/media/disk/home/pau/Projectes/GNN-MThesis/src/function_renaming/TFM_function_renaming_dataset_creation.py\", line 508, in createGraphFromNXwithTarget\n",
      "    dataset =  self.createGraphFromNX(g,xlen, undirected)\n",
      "  File \"/media/disk/home/pau/Projectes/GNN-MThesis/src/function_renaming/TFM_function_renaming_dataset_creation.py\", line 494, in createGraphFromNX\n",
      "    x = torch.tensor(x, dtype=torch.float)\n",
      "RuntimeError: Precision loss when unpacking double\n"
     ]
    },
    {
     "name": "stdout",
     "output_type": "stream",
     "text": [
      "tmp/noisy_fixed01/raw/graphs01/Network/libgnutls-30_dll/sub_6486EF60_edges.txt\n"
     ]
    },
    {
     "name": "stderr",
     "output_type": "stream",
     "text": [
      "Traceback (most recent call last):\n",
      "  File \"/home/pau/.pyenv/versions/3.6.7/envs/gnn-pytorch/lib/python3.6/site-packages/networkx/readwrite/edgelist.py\", line 277, in parse_edgelist\n",
      "    edgedata = dict(literal_eval(' '.join(d)))\n",
      "  File \"/home/pau/.pyenv/versions/3.6.7/lib/python3.6/ast.py\", line 48, in literal_eval\n",
      "    node_or_string = parse(node_or_string, mode='eval')\n",
      "  File \"/home/pau/.pyenv/versions/3.6.7/lib/python3.6/ast.py\", line 35, in parse\n",
      "    return compile(source, filename, mode, PyCF_ONLY_AST)\n",
      "  File \"<unknown>\", line 1\n",
      "    ptr [rcx] { \"type\": \"phrase\" }\n",
      "              ^\n",
      "SyntaxError: invalid syntax\n",
      "\n",
      "During handling of the above exception, another exception occurred:\n",
      "\n",
      "Traceback (most recent call last):\n",
      "  File \"/media/disk/home/pau/Projectes/GNN-MThesis/src/function_renaming/TFM_function_renaming_dataset_creation.py\", line 261, in parseGraph\n",
      "    g = readGraph('',filename)\n",
      "  File \"/media/disk/home/pau/Projectes/GNN-MThesis/src/function_renaming/TFM_function_renaming_dataset_creation.py\", line 67, in readGraph\n",
      "    g = nx.read_edgelist(folder+filename)\n",
      "  File \"</home/pau/.pyenv/versions/3.6.7/envs/gnn-pytorch/lib/python3.6/site-packages/decorator.py:decorator-gen-707>\", line 2, in read_edgelist\n",
      "  File \"/home/pau/.pyenv/versions/3.6.7/envs/gnn-pytorch/lib/python3.6/site-packages/networkx/utils/decorators.py\", line 240, in _open_file\n",
      "    result = func_to_be_decorated(*new_args, **kwargs)\n",
      "  File \"/home/pau/.pyenv/versions/3.6.7/envs/gnn-pytorch/lib/python3.6/site-packages/networkx/readwrite/edgelist.py\", line 369, in read_edgelist\n",
      "    data=data)\n",
      "  File \"/home/pau/.pyenv/versions/3.6.7/envs/gnn-pytorch/lib/python3.6/site-packages/networkx/readwrite/edgelist.py\", line 280, in parse_edgelist\n",
      "    \"Failed to convert edge data (%s) to dictionary.\" % (d))\n",
      "TypeError: Failed to convert edge data (['ptr', '[rcx]', '{', '\"type\":', '\"phrase\"', '}']) to dictionary.\n"
     ]
    },
    {
     "name": "stdout",
     "output_type": "stream",
     "text": [
      "tmp/noisy_fixed01/raw/graphs01/Network/libgnutls-30_dll/sub_64920C40_edges.txt\n"
     ]
    },
    {
     "name": "stderr",
     "output_type": "stream",
     "text": [
      "Traceback (most recent call last):\n",
      "  File \"/media/disk/home/pau/Projectes/GNN-MThesis/src/function_renaming/TFM_function_renaming_dataset_creation.py\", line 263, in parseGraph\n",
      "    data = self.createGraphFromNXwithTarget(g,y,xlen,undirected=True)\n",
      "  File \"/media/disk/home/pau/Projectes/GNN-MThesis/src/function_renaming/TFM_function_renaming_dataset_creation.py\", line 508, in createGraphFromNXwithTarget\n",
      "    dataset =  self.createGraphFromNX(g,xlen, undirected)\n",
      "  File \"/media/disk/home/pau/Projectes/GNN-MThesis/src/function_renaming/TFM_function_renaming_dataset_creation.py\", line 494, in createGraphFromNX\n",
      "    x = torch.tensor(x, dtype=torch.float)\n",
      "RuntimeError: Precision loss when unpacking double\n"
     ]
    },
    {
     "name": "stdout",
     "output_type": "stream",
     "text": [
      "tmp/noisy_fixed01/raw/graphs01/Network/libgnutls-30_dll/sub_648C2320_edges.txt\n"
     ]
    },
    {
     "name": "stderr",
     "output_type": "stream",
     "text": [
      "Traceback (most recent call last):\n",
      "  File \"/media/disk/home/pau/Projectes/GNN-MThesis/src/function_renaming/TFM_function_renaming_dataset_creation.py\", line 263, in parseGraph\n",
      "    data = self.createGraphFromNXwithTarget(g,y,xlen,undirected=True)\n",
      "  File \"/media/disk/home/pau/Projectes/GNN-MThesis/src/function_renaming/TFM_function_renaming_dataset_creation.py\", line 508, in createGraphFromNXwithTarget\n",
      "    dataset =  self.createGraphFromNX(g,xlen, undirected)\n",
      "  File \"/media/disk/home/pau/Projectes/GNN-MThesis/src/function_renaming/TFM_function_renaming_dataset_creation.py\", line 494, in createGraphFromNX\n",
      "    x = torch.tensor(x, dtype=torch.float)\n",
      "RuntimeError: Precision loss when unpacking double\n"
     ]
    },
    {
     "name": "stdout",
     "output_type": "stream",
     "text": [
      "tmp/noisy_fixed01/raw/graphs01/Network/libgnutls-30_dll/sub_64898A10_edges.txt\n"
     ]
    },
    {
     "name": "stderr",
     "output_type": "stream",
     "text": [
      "Traceback (most recent call last):\n",
      "  File \"/home/pau/.pyenv/versions/3.6.7/envs/gnn-pytorch/lib/python3.6/site-packages/networkx/readwrite/edgelist.py\", line 277, in parse_edgelist\n",
      "    edgedata = dict(literal_eval(' '.join(d)))\n",
      "  File \"/home/pau/.pyenv/versions/3.6.7/lib/python3.6/ast.py\", line 48, in literal_eval\n",
      "    node_or_string = parse(node_or_string, mode='eval')\n",
      "  File \"/home/pau/.pyenv/versions/3.6.7/lib/python3.6/ast.py\", line 35, in parse\n",
      "    return compile(source, filename, mode, PyCF_ONLY_AST)\n",
      "  File \"<unknown>\", line 1\n",
      "    ptr [rcx] { \"type\": \"phrase\" }\n",
      "              ^\n",
      "SyntaxError: invalid syntax\n",
      "\n",
      "During handling of the above exception, another exception occurred:\n",
      "\n",
      "Traceback (most recent call last):\n",
      "  File \"/media/disk/home/pau/Projectes/GNN-MThesis/src/function_renaming/TFM_function_renaming_dataset_creation.py\", line 261, in parseGraph\n",
      "    g = readGraph('',filename)\n",
      "  File \"/media/disk/home/pau/Projectes/GNN-MThesis/src/function_renaming/TFM_function_renaming_dataset_creation.py\", line 67, in readGraph\n",
      "    g = nx.read_edgelist(folder+filename)\n",
      "  File \"</home/pau/.pyenv/versions/3.6.7/envs/gnn-pytorch/lib/python3.6/site-packages/decorator.py:decorator-gen-707>\", line 2, in read_edgelist\n",
      "  File \"/home/pau/.pyenv/versions/3.6.7/envs/gnn-pytorch/lib/python3.6/site-packages/networkx/utils/decorators.py\", line 240, in _open_file\n",
      "    result = func_to_be_decorated(*new_args, **kwargs)\n",
      "  File \"/home/pau/.pyenv/versions/3.6.7/envs/gnn-pytorch/lib/python3.6/site-packages/networkx/readwrite/edgelist.py\", line 369, in read_edgelist\n",
      "    data=data)\n",
      "  File \"/home/pau/.pyenv/versions/3.6.7/envs/gnn-pytorch/lib/python3.6/site-packages/networkx/readwrite/edgelist.py\", line 280, in parse_edgelist\n",
      "    \"Failed to convert edge data (%s) to dictionary.\" % (d))\n",
      "TypeError: Failed to convert edge data (['ptr', '[rcx]', '{', '\"type\":', '\"phrase\"', '}']) to dictionary.\n"
     ]
    },
    {
     "name": "stdout",
     "output_type": "stream",
     "text": [
      "tmp/noisy_fixed01/raw/graphs01/Network/libgnutls-30_dll/sub_6493D9C0_edges.txt\n"
     ]
    },
    {
     "name": "stderr",
     "output_type": "stream",
     "text": [
      "Traceback (most recent call last):\n",
      "  File \"/home/pau/.pyenv/versions/3.6.7/envs/gnn-pytorch/lib/python3.6/site-packages/networkx/readwrite/edgelist.py\", line 277, in parse_edgelist\n",
      "    edgedata = dict(literal_eval(' '.join(d)))\n",
      "  File \"/home/pau/.pyenv/versions/3.6.7/lib/python3.6/ast.py\", line 48, in literal_eval\n",
      "    node_or_string = parse(node_or_string, mode='eval')\n",
      "  File \"/home/pau/.pyenv/versions/3.6.7/lib/python3.6/ast.py\", line 35, in parse\n",
      "    return compile(source, filename, mode, PyCF_ONLY_AST)\n",
      "  File \"<unknown>\", line 1\n",
      "    ptr [rdx] { \"type\": \"phrase\" }\n",
      "              ^\n",
      "SyntaxError: invalid syntax\n",
      "\n",
      "During handling of the above exception, another exception occurred:\n",
      "\n",
      "Traceback (most recent call last):\n",
      "  File \"/media/disk/home/pau/Projectes/GNN-MThesis/src/function_renaming/TFM_function_renaming_dataset_creation.py\", line 261, in parseGraph\n",
      "    g = readGraph('',filename)\n",
      "  File \"/media/disk/home/pau/Projectes/GNN-MThesis/src/function_renaming/TFM_function_renaming_dataset_creation.py\", line 67, in readGraph\n",
      "    g = nx.read_edgelist(folder+filename)\n",
      "  File \"</home/pau/.pyenv/versions/3.6.7/envs/gnn-pytorch/lib/python3.6/site-packages/decorator.py:decorator-gen-707>\", line 2, in read_edgelist\n",
      "  File \"/home/pau/.pyenv/versions/3.6.7/envs/gnn-pytorch/lib/python3.6/site-packages/networkx/utils/decorators.py\", line 240, in _open_file\n",
      "    result = func_to_be_decorated(*new_args, **kwargs)\n",
      "  File \"/home/pau/.pyenv/versions/3.6.7/envs/gnn-pytorch/lib/python3.6/site-packages/networkx/readwrite/edgelist.py\", line 369, in read_edgelist\n",
      "    data=data)\n",
      "  File \"/home/pau/.pyenv/versions/3.6.7/envs/gnn-pytorch/lib/python3.6/site-packages/networkx/readwrite/edgelist.py\", line 280, in parse_edgelist\n",
      "    \"Failed to convert edge data (%s) to dictionary.\" % (d))\n",
      "TypeError: Failed to convert edge data (['ptr', '[rdx]', '{', '\"type\":', '\"phrase\"', '}']) to dictionary.\n"
     ]
    },
    {
     "name": "stdout",
     "output_type": "stream",
     "text": [
      "tmp/noisy_fixed01/raw/graphs01/Network/libgnutls-30_dll/sub_64921320_edges.txt\n"
     ]
    },
    {
     "name": "stderr",
     "output_type": "stream",
     "text": [
      "Traceback (most recent call last):\n",
      "  File \"/home/pau/.pyenv/versions/3.6.7/envs/gnn-pytorch/lib/python3.6/site-packages/networkx/readwrite/edgelist.py\", line 277, in parse_edgelist\n",
      "    edgedata = dict(literal_eval(' '.join(d)))\n",
      "  File \"/home/pau/.pyenv/versions/3.6.7/lib/python3.6/ast.py\", line 48, in literal_eval\n",
      "    node_or_string = parse(node_or_string, mode='eval')\n",
      "  File \"/home/pau/.pyenv/versions/3.6.7/lib/python3.6/ast.py\", line 35, in parse\n",
      "    return compile(source, filename, mode, PyCF_ONLY_AST)\n",
      "  File \"<unknown>\", line 1\n",
      "    ptr [rax] { \"type\": \"phrase\" }\n",
      "              ^\n",
      "SyntaxError: invalid syntax\n",
      "\n",
      "During handling of the above exception, another exception occurred:\n",
      "\n",
      "Traceback (most recent call last):\n",
      "  File \"/media/disk/home/pau/Projectes/GNN-MThesis/src/function_renaming/TFM_function_renaming_dataset_creation.py\", line 261, in parseGraph\n",
      "    g = readGraph('',filename)\n",
      "  File \"/media/disk/home/pau/Projectes/GNN-MThesis/src/function_renaming/TFM_function_renaming_dataset_creation.py\", line 67, in readGraph\n",
      "    g = nx.read_edgelist(folder+filename)\n",
      "  File \"</home/pau/.pyenv/versions/3.6.7/envs/gnn-pytorch/lib/python3.6/site-packages/decorator.py:decorator-gen-707>\", line 2, in read_edgelist\n",
      "  File \"/home/pau/.pyenv/versions/3.6.7/envs/gnn-pytorch/lib/python3.6/site-packages/networkx/utils/decorators.py\", line 240, in _open_file\n",
      "    result = func_to_be_decorated(*new_args, **kwargs)\n",
      "  File \"/home/pau/.pyenv/versions/3.6.7/envs/gnn-pytorch/lib/python3.6/site-packages/networkx/readwrite/edgelist.py\", line 369, in read_edgelist\n",
      "    data=data)\n",
      "  File \"/home/pau/.pyenv/versions/3.6.7/envs/gnn-pytorch/lib/python3.6/site-packages/networkx/readwrite/edgelist.py\", line 280, in parse_edgelist\n",
      "    \"Failed to convert edge data (%s) to dictionary.\" % (d))\n",
      "TypeError: Failed to convert edge data (['ptr', '[rax]', '{', '\"type\":', '\"phrase\"', '}']) to dictionary.\n"
     ]
    },
    {
     "name": "stdout",
     "output_type": "stream",
     "text": [
      "tmp/noisy_fixed01/raw/graphs01/Network/puttytel_exe/sub_41CBD5_edges.txt\n"
     ]
    },
    {
     "name": "stderr",
     "output_type": "stream",
     "text": [
      "Traceback (most recent call last):\n",
      "  File \"/home/pau/.pyenv/versions/3.6.7/envs/gnn-pytorch/lib/python3.6/site-packages/networkx/readwrite/edgelist.py\", line 277, in parse_edgelist\n",
      "    edgedata = dict(literal_eval(' '.join(d)))\n",
      "  File \"/home/pau/.pyenv/versions/3.6.7/lib/python3.6/ast.py\", line 48, in literal_eval\n",
      "    node_or_string = parse(node_or_string, mode='eval')\n",
      "  File \"/home/pau/.pyenv/versions/3.6.7/lib/python3.6/ast.py\", line 35, in parse\n",
      "    return compile(source, filename, mode, PyCF_ONLY_AST)\n",
      "  File \"<unknown>\", line 1\n",
      "    ptr [esi] { \"type\": \"phrase\" }\n",
      "              ^\n",
      "SyntaxError: invalid syntax\n",
      "\n",
      "During handling of the above exception, another exception occurred:\n",
      "\n",
      "Traceback (most recent call last):\n",
      "  File \"/media/disk/home/pau/Projectes/GNN-MThesis/src/function_renaming/TFM_function_renaming_dataset_creation.py\", line 261, in parseGraph\n",
      "    g = readGraph('',filename)\n",
      "  File \"/media/disk/home/pau/Projectes/GNN-MThesis/src/function_renaming/TFM_function_renaming_dataset_creation.py\", line 67, in readGraph\n",
      "    g = nx.read_edgelist(folder+filename)\n",
      "  File \"</home/pau/.pyenv/versions/3.6.7/envs/gnn-pytorch/lib/python3.6/site-packages/decorator.py:decorator-gen-707>\", line 2, in read_edgelist\n",
      "  File \"/home/pau/.pyenv/versions/3.6.7/envs/gnn-pytorch/lib/python3.6/site-packages/networkx/utils/decorators.py\", line 240, in _open_file\n",
      "    result = func_to_be_decorated(*new_args, **kwargs)\n",
      "  File \"/home/pau/.pyenv/versions/3.6.7/envs/gnn-pytorch/lib/python3.6/site-packages/networkx/readwrite/edgelist.py\", line 369, in read_edgelist\n",
      "    data=data)\n",
      "  File \"/home/pau/.pyenv/versions/3.6.7/envs/gnn-pytorch/lib/python3.6/site-packages/networkx/readwrite/edgelist.py\", line 280, in parse_edgelist\n",
      "    \"Failed to convert edge data (%s) to dictionary.\" % (d))\n",
      "TypeError: Failed to convert edge data (['ptr', '[esi]', '{', '\"type\":', '\"phrase\"', '}']) to dictionary.\n"
     ]
    },
    {
     "name": "stdout",
     "output_type": "stream",
     "text": [
      "tmp/noisy_fixed01/raw/graphs01/Network/libstdc_6_dll/_ZNKSs12find_last_ofEPKcyy_edges.txt\n"
     ]
    },
    {
     "name": "stderr",
     "output_type": "stream",
     "text": [
      "Traceback (most recent call last):\n",
      "  File \"/home/pau/.pyenv/versions/3.6.7/envs/gnn-pytorch/lib/python3.6/site-packages/networkx/readwrite/edgelist.py\", line 277, in parse_edgelist\n",
      "    edgedata = dict(literal_eval(' '.join(d)))\n",
      "  File \"/home/pau/.pyenv/versions/3.6.7/lib/python3.6/ast.py\", line 48, in literal_eval\n",
      "    node_or_string = parse(node_or_string, mode='eval')\n",
      "  File \"/home/pau/.pyenv/versions/3.6.7/lib/python3.6/ast.py\", line 35, in parse\n",
      "    return compile(source, filename, mode, PyCF_ONLY_AST)\n",
      "  File \"<unknown>\", line 1\n",
      "    ptr [rsi+rbx] { \"type\": \"phrase\" }\n",
      "                  ^\n",
      "SyntaxError: invalid syntax\n",
      "\n",
      "During handling of the above exception, another exception occurred:\n",
      "\n",
      "Traceback (most recent call last):\n",
      "  File \"/media/disk/home/pau/Projectes/GNN-MThesis/src/function_renaming/TFM_function_renaming_dataset_creation.py\", line 261, in parseGraph\n",
      "    g = readGraph('',filename)\n",
      "  File \"/media/disk/home/pau/Projectes/GNN-MThesis/src/function_renaming/TFM_function_renaming_dataset_creation.py\", line 67, in readGraph\n",
      "    g = nx.read_edgelist(folder+filename)\n",
      "  File \"</home/pau/.pyenv/versions/3.6.7/envs/gnn-pytorch/lib/python3.6/site-packages/decorator.py:decorator-gen-707>\", line 2, in read_edgelist\n",
      "  File \"/home/pau/.pyenv/versions/3.6.7/envs/gnn-pytorch/lib/python3.6/site-packages/networkx/utils/decorators.py\", line 240, in _open_file\n",
      "    result = func_to_be_decorated(*new_args, **kwargs)\n",
      "  File \"/home/pau/.pyenv/versions/3.6.7/envs/gnn-pytorch/lib/python3.6/site-packages/networkx/readwrite/edgelist.py\", line 369, in read_edgelist\n",
      "    data=data)\n",
      "  File \"/home/pau/.pyenv/versions/3.6.7/envs/gnn-pytorch/lib/python3.6/site-packages/networkx/readwrite/edgelist.py\", line 280, in parse_edgelist\n",
      "    \"Failed to convert edge data (%s) to dictionary.\" % (d))\n",
      "TypeError: Failed to convert edge data (['ptr', '[rsi+rbx]', '{', '\"type\":', '\"phrase\"', '}']) to dictionary.\n"
     ]
    },
    {
     "name": "stdout",
     "output_type": "stream",
     "text": [
      "tmp/noisy_fixed01/raw/graphs01/Network/libstdc_6_dll/_ZNKSt7__cxx1112basic_stringIcSt11char_traitsIcESaIcEE17find_first_not_ofEPKcyy_edges.txt\n"
     ]
    },
    {
     "name": "stderr",
     "output_type": "stream",
     "text": [
      "Traceback (most recent call last):\n",
      "  File \"/home/pau/.pyenv/versions/3.6.7/envs/gnn-pytorch/lib/python3.6/site-packages/networkx/readwrite/edgelist.py\", line 277, in parse_edgelist\n",
      "    edgedata = dict(literal_eval(' '.join(d)))\n",
      "  File \"/home/pau/.pyenv/versions/3.6.7/lib/python3.6/ast.py\", line 48, in literal_eval\n",
      "    node_or_string = parse(node_or_string, mode='eval')\n",
      "  File \"/home/pau/.pyenv/versions/3.6.7/lib/python3.6/ast.py\", line 35, in parse\n",
      "    return compile(source, filename, mode, PyCF_ONLY_AST)\n",
      "  File \"<unknown>\", line 1\n",
      "    ptr [r12+rbx] { \"type\": \"phrase\" }\n",
      "                  ^\n",
      "SyntaxError: invalid syntax\n",
      "\n",
      "During handling of the above exception, another exception occurred:\n",
      "\n",
      "Traceback (most recent call last):\n",
      "  File \"/media/disk/home/pau/Projectes/GNN-MThesis/src/function_renaming/TFM_function_renaming_dataset_creation.py\", line 261, in parseGraph\n",
      "    g = readGraph('',filename)\n",
      "  File \"/media/disk/home/pau/Projectes/GNN-MThesis/src/function_renaming/TFM_function_renaming_dataset_creation.py\", line 67, in readGraph\n",
      "    g = nx.read_edgelist(folder+filename)\n",
      "  File \"</home/pau/.pyenv/versions/3.6.7/envs/gnn-pytorch/lib/python3.6/site-packages/decorator.py:decorator-gen-707>\", line 2, in read_edgelist\n",
      "  File \"/home/pau/.pyenv/versions/3.6.7/envs/gnn-pytorch/lib/python3.6/site-packages/networkx/utils/decorators.py\", line 240, in _open_file\n",
      "    result = func_to_be_decorated(*new_args, **kwargs)\n",
      "  File \"/home/pau/.pyenv/versions/3.6.7/envs/gnn-pytorch/lib/python3.6/site-packages/networkx/readwrite/edgelist.py\", line 369, in read_edgelist\n",
      "    data=data)\n",
      "  File \"/home/pau/.pyenv/versions/3.6.7/envs/gnn-pytorch/lib/python3.6/site-packages/networkx/readwrite/edgelist.py\", line 280, in parse_edgelist\n",
      "    \"Failed to convert edge data (%s) to dictionary.\" % (d))\n",
      "TypeError: Failed to convert edge data (['ptr', '[r12+rbx]', '{', '\"type\":', '\"phrase\"', '}']) to dictionary.\n"
     ]
    },
    {
     "name": "stdout",
     "output_type": "stream",
     "text": [
      "tmp/noisy_fixed01/raw/graphs01/Network/libstdc_6_dll/_ZNKSt7__cxx1112basic_stringIcSt11char_traitsIcESaIcEE13find_first_ofEPKcyy_edges.txt\n"
     ]
    },
    {
     "name": "stderr",
     "output_type": "stream",
     "text": [
      "Traceback (most recent call last):\n",
      "  File \"/home/pau/.pyenv/versions/3.6.7/envs/gnn-pytorch/lib/python3.6/site-packages/networkx/readwrite/edgelist.py\", line 277, in parse_edgelist\n",
      "    edgedata = dict(literal_eval(' '.join(d)))\n",
      "  File \"/home/pau/.pyenv/versions/3.6.7/lib/python3.6/ast.py\", line 48, in literal_eval\n",
      "    node_or_string = parse(node_or_string, mode='eval')\n",
      "  File \"/home/pau/.pyenv/versions/3.6.7/lib/python3.6/ast.py\", line 35, in parse\n",
      "    return compile(source, filename, mode, PyCF_ONLY_AST)\n",
      "  File \"<unknown>\", line 1\n",
      "    ptr [r12+rbx] { \"type\": \"phrase\" }\n",
      "                  ^\n",
      "SyntaxError: invalid syntax\n",
      "\n",
      "During handling of the above exception, another exception occurred:\n",
      "\n",
      "Traceback (most recent call last):\n",
      "  File \"/media/disk/home/pau/Projectes/GNN-MThesis/src/function_renaming/TFM_function_renaming_dataset_creation.py\", line 261, in parseGraph\n",
      "    g = readGraph('',filename)\n",
      "  File \"/media/disk/home/pau/Projectes/GNN-MThesis/src/function_renaming/TFM_function_renaming_dataset_creation.py\", line 67, in readGraph\n",
      "    g = nx.read_edgelist(folder+filename)\n",
      "  File \"</home/pau/.pyenv/versions/3.6.7/envs/gnn-pytorch/lib/python3.6/site-packages/decorator.py:decorator-gen-707>\", line 2, in read_edgelist\n",
      "  File \"/home/pau/.pyenv/versions/3.6.7/envs/gnn-pytorch/lib/python3.6/site-packages/networkx/utils/decorators.py\", line 240, in _open_file\n",
      "    result = func_to_be_decorated(*new_args, **kwargs)\n",
      "  File \"/home/pau/.pyenv/versions/3.6.7/envs/gnn-pytorch/lib/python3.6/site-packages/networkx/readwrite/edgelist.py\", line 369, in read_edgelist\n",
      "    data=data)\n",
      "  File \"/home/pau/.pyenv/versions/3.6.7/envs/gnn-pytorch/lib/python3.6/site-packages/networkx/readwrite/edgelist.py\", line 280, in parse_edgelist\n",
      "    \"Failed to convert edge data (%s) to dictionary.\" % (d))\n",
      "TypeError: Failed to convert edge data (['ptr', '[r12+rbx]', '{', '\"type\":', '\"phrase\"', '}']) to dictionary.\n"
     ]
    },
    {
     "name": "stdout",
     "output_type": "stream",
     "text": [
      "tmp/noisy_fixed01/raw/graphs01/Network/libstdc_6_dll/_ZNKSs16find_last_not_ofEPKcyy_edges.txt\n"
     ]
    },
    {
     "name": "stderr",
     "output_type": "stream",
     "text": [
      "Traceback (most recent call last):\n",
      "  File \"/home/pau/.pyenv/versions/3.6.7/envs/gnn-pytorch/lib/python3.6/site-packages/networkx/readwrite/edgelist.py\", line 277, in parse_edgelist\n",
      "    edgedata = dict(literal_eval(' '.join(d)))\n",
      "  File \"/home/pau/.pyenv/versions/3.6.7/lib/python3.6/ast.py\", line 48, in literal_eval\n",
      "    node_or_string = parse(node_or_string, mode='eval')\n",
      "  File \"/home/pau/.pyenv/versions/3.6.7/lib/python3.6/ast.py\", line 35, in parse\n",
      "    return compile(source, filename, mode, PyCF_ONLY_AST)\n",
      "  File \"<unknown>\", line 1\n",
      "    ptr [rdi+rbx] { \"type\": \"phrase\" }\n",
      "                  ^\n",
      "SyntaxError: invalid syntax\n",
      "\n",
      "During handling of the above exception, another exception occurred:\n",
      "\n",
      "Traceback (most recent call last):\n",
      "  File \"/media/disk/home/pau/Projectes/GNN-MThesis/src/function_renaming/TFM_function_renaming_dataset_creation.py\", line 261, in parseGraph\n",
      "    g = readGraph('',filename)\n",
      "  File \"/media/disk/home/pau/Projectes/GNN-MThesis/src/function_renaming/TFM_function_renaming_dataset_creation.py\", line 67, in readGraph\n",
      "    g = nx.read_edgelist(folder+filename)\n",
      "  File \"</home/pau/.pyenv/versions/3.6.7/envs/gnn-pytorch/lib/python3.6/site-packages/decorator.py:decorator-gen-707>\", line 2, in read_edgelist\n",
      "  File \"/home/pau/.pyenv/versions/3.6.7/envs/gnn-pytorch/lib/python3.6/site-packages/networkx/utils/decorators.py\", line 240, in _open_file\n",
      "    result = func_to_be_decorated(*new_args, **kwargs)\n",
      "  File \"/home/pau/.pyenv/versions/3.6.7/envs/gnn-pytorch/lib/python3.6/site-packages/networkx/readwrite/edgelist.py\", line 369, in read_edgelist\n",
      "    data=data)\n",
      "  File \"/home/pau/.pyenv/versions/3.6.7/envs/gnn-pytorch/lib/python3.6/site-packages/networkx/readwrite/edgelist.py\", line 280, in parse_edgelist\n",
      "    \"Failed to convert edge data (%s) to dictionary.\" % (d))\n",
      "TypeError: Failed to convert edge data (['ptr', '[rdi+rbx]', '{', '\"type\":', '\"phrase\"', '}']) to dictionary.\n"
     ]
    },
    {
     "name": "stdout",
     "output_type": "stream",
     "text": [
      "tmp/noisy_fixed01/raw/graphs01/Network/libstdc_6_dll/_ZNKSs17find_first_not_ofEPKcyy_edges.txt\n"
     ]
    },
    {
     "name": "stderr",
     "output_type": "stream",
     "text": [
      "Traceback (most recent call last):\n",
      "  File \"/home/pau/.pyenv/versions/3.6.7/envs/gnn-pytorch/lib/python3.6/site-packages/networkx/readwrite/edgelist.py\", line 277, in parse_edgelist\n",
      "    edgedata = dict(literal_eval(' '.join(d)))\n",
      "  File \"/home/pau/.pyenv/versions/3.6.7/lib/python3.6/ast.py\", line 48, in literal_eval\n",
      "    node_or_string = parse(node_or_string, mode='eval')\n",
      "  File \"/home/pau/.pyenv/versions/3.6.7/lib/python3.6/ast.py\", line 35, in parse\n",
      "    return compile(source, filename, mode, PyCF_ONLY_AST)\n",
      "  File \"<unknown>\", line 1\n",
      "    ptr [rdi+rbx] { \"type\": \"phrase\" }\n",
      "                  ^\n",
      "SyntaxError: invalid syntax\n",
      "\n",
      "During handling of the above exception, another exception occurred:\n",
      "\n",
      "Traceback (most recent call last):\n",
      "  File \"/media/disk/home/pau/Projectes/GNN-MThesis/src/function_renaming/TFM_function_renaming_dataset_creation.py\", line 261, in parseGraph\n",
      "    g = readGraph('',filename)\n",
      "  File \"/media/disk/home/pau/Projectes/GNN-MThesis/src/function_renaming/TFM_function_renaming_dataset_creation.py\", line 67, in readGraph\n",
      "    g = nx.read_edgelist(folder+filename)\n",
      "  File \"</home/pau/.pyenv/versions/3.6.7/envs/gnn-pytorch/lib/python3.6/site-packages/decorator.py:decorator-gen-707>\", line 2, in read_edgelist\n",
      "  File \"/home/pau/.pyenv/versions/3.6.7/envs/gnn-pytorch/lib/python3.6/site-packages/networkx/utils/decorators.py\", line 240, in _open_file\n",
      "    result = func_to_be_decorated(*new_args, **kwargs)\n",
      "  File \"/home/pau/.pyenv/versions/3.6.7/envs/gnn-pytorch/lib/python3.6/site-packages/networkx/readwrite/edgelist.py\", line 369, in read_edgelist\n",
      "    data=data)\n",
      "  File \"/home/pau/.pyenv/versions/3.6.7/envs/gnn-pytorch/lib/python3.6/site-packages/networkx/readwrite/edgelist.py\", line 280, in parse_edgelist\n",
      "    \"Failed to convert edge data (%s) to dictionary.\" % (d))\n",
      "TypeError: Failed to convert edge data (['ptr', '[rdi+rbx]', '{', '\"type\":', '\"phrase\"', '}']) to dictionary.\n"
     ]
    },
    {
     "name": "stdout",
     "output_type": "stream",
     "text": [
      "tmp/noisy_fixed01/raw/graphs01/Network/libstdc_6_dll/_ZNKSt8time_getIcSt19istreambuf_iteratorIcSt11char_traitsIcEEE3getES3_S3_RSt8ios_baseRSt12_Ios_IostateP2tmPKcSC__edges.txt\n"
     ]
    },
    {
     "name": "stderr",
     "output_type": "stream",
     "text": [
      "Traceback (most recent call last):\n",
      "  File \"/home/pau/.pyenv/versions/3.6.7/envs/gnn-pytorch/lib/python3.6/site-packages/networkx/readwrite/edgelist.py\", line 277, in parse_edgelist\n",
      "    edgedata = dict(literal_eval(' '.join(d)))\n",
      "  File \"/home/pau/.pyenv/versions/3.6.7/lib/python3.6/ast.py\", line 48, in literal_eval\n",
      "    node_or_string = parse(node_or_string, mode='eval')\n",
      "  File \"/home/pau/.pyenv/versions/3.6.7/lib/python3.6/ast.py\", line 35, in parse\n",
      "    return compile(source, filename, mode, PyCF_ONLY_AST)\n",
      "  File \"<unknown>\", line 1\n",
      "    ptr [rax] { \"type\": \"phrase\" }\n",
      "              ^\n",
      "SyntaxError: invalid syntax\n",
      "\n",
      "During handling of the above exception, another exception occurred:\n",
      "\n",
      "Traceback (most recent call last):\n",
      "  File \"/media/disk/home/pau/Projectes/GNN-MThesis/src/function_renaming/TFM_function_renaming_dataset_creation.py\", line 261, in parseGraph\n",
      "    g = readGraph('',filename)\n",
      "  File \"/media/disk/home/pau/Projectes/GNN-MThesis/src/function_renaming/TFM_function_renaming_dataset_creation.py\", line 67, in readGraph\n",
      "    g = nx.read_edgelist(folder+filename)\n",
      "  File \"</home/pau/.pyenv/versions/3.6.7/envs/gnn-pytorch/lib/python3.6/site-packages/decorator.py:decorator-gen-707>\", line 2, in read_edgelist\n",
      "  File \"/home/pau/.pyenv/versions/3.6.7/envs/gnn-pytorch/lib/python3.6/site-packages/networkx/utils/decorators.py\", line 240, in _open_file\n",
      "    result = func_to_be_decorated(*new_args, **kwargs)\n",
      "  File \"/home/pau/.pyenv/versions/3.6.7/envs/gnn-pytorch/lib/python3.6/site-packages/networkx/readwrite/edgelist.py\", line 369, in read_edgelist\n",
      "    data=data)\n",
      "  File \"/home/pau/.pyenv/versions/3.6.7/envs/gnn-pytorch/lib/python3.6/site-packages/networkx/readwrite/edgelist.py\", line 280, in parse_edgelist\n",
      "    \"Failed to convert edge data (%s) to dictionary.\" % (d))\n",
      "TypeError: Failed to convert edge data (['ptr', '[rax]', '{', '\"type\":', '\"phrase\"', '}']) to dictionary.\n"
     ]
    },
    {
     "name": "stdout",
     "output_type": "stream",
     "text": [
      "tmp/noisy_fixed01/raw/graphs01/Network/libstdc_6_dll/sub_6FC58830_edges.txt\n"
     ]
    },
    {
     "name": "stderr",
     "output_type": "stream",
     "text": [
      "Traceback (most recent call last):\n",
      "  File \"/home/pau/.pyenv/versions/3.6.7/envs/gnn-pytorch/lib/python3.6/site-packages/networkx/readwrite/edgelist.py\", line 277, in parse_edgelist\n",
      "    edgedata = dict(literal_eval(' '.join(d)))\n",
      "  File \"/home/pau/.pyenv/versions/3.6.7/lib/python3.6/ast.py\", line 48, in literal_eval\n",
      "    node_or_string = parse(node_or_string, mode='eval')\n",
      "  File \"/home/pau/.pyenv/versions/3.6.7/lib/python3.6/ast.py\", line 35, in parse\n",
      "    return compile(source, filename, mode, PyCF_ONLY_AST)\n",
      "  File \"<unknown>\", line 1\n",
      "    ptr [r8] { \"type\": \"phrase\" }\n",
      "             ^\n",
      "SyntaxError: invalid syntax\n",
      "\n",
      "During handling of the above exception, another exception occurred:\n",
      "\n",
      "Traceback (most recent call last):\n",
      "  File \"/media/disk/home/pau/Projectes/GNN-MThesis/src/function_renaming/TFM_function_renaming_dataset_creation.py\", line 261, in parseGraph\n",
      "    g = readGraph('',filename)\n",
      "  File \"/media/disk/home/pau/Projectes/GNN-MThesis/src/function_renaming/TFM_function_renaming_dataset_creation.py\", line 67, in readGraph\n",
      "    g = nx.read_edgelist(folder+filename)\n",
      "  File \"</home/pau/.pyenv/versions/3.6.7/envs/gnn-pytorch/lib/python3.6/site-packages/decorator.py:decorator-gen-707>\", line 2, in read_edgelist\n",
      "  File \"/home/pau/.pyenv/versions/3.6.7/envs/gnn-pytorch/lib/python3.6/site-packages/networkx/utils/decorators.py\", line 240, in _open_file\n",
      "    result = func_to_be_decorated(*new_args, **kwargs)\n",
      "  File \"/home/pau/.pyenv/versions/3.6.7/envs/gnn-pytorch/lib/python3.6/site-packages/networkx/readwrite/edgelist.py\", line 369, in read_edgelist\n",
      "    data=data)\n",
      "  File \"/home/pau/.pyenv/versions/3.6.7/envs/gnn-pytorch/lib/python3.6/site-packages/networkx/readwrite/edgelist.py\", line 280, in parse_edgelist\n",
      "    \"Failed to convert edge data (%s) to dictionary.\" % (d))\n",
      "TypeError: Failed to convert edge data (['ptr', '[r8]', '{', '\"type\":', '\"phrase\"', '}']) to dictionary.\n"
     ]
    },
    {
     "name": "stdout",
     "output_type": "stream",
     "text": [
      "tmp/noisy_fixed01/raw/graphs01/Network/libstdc_6_dll/sub_6FC41890_edges.txt\n"
     ]
    },
    {
     "name": "stderr",
     "output_type": "stream",
     "text": [
      "Traceback (most recent call last):\n",
      "  File \"/media/disk/home/pau/Projectes/GNN-MThesis/src/function_renaming/TFM_function_renaming_dataset_creation.py\", line 263, in parseGraph\n",
      "    data = self.createGraphFromNXwithTarget(g,y,xlen,undirected=True)\n",
      "  File \"/media/disk/home/pau/Projectes/GNN-MThesis/src/function_renaming/TFM_function_renaming_dataset_creation.py\", line 508, in createGraphFromNXwithTarget\n",
      "    dataset =  self.createGraphFromNX(g,xlen, undirected)\n",
      "  File \"/media/disk/home/pau/Projectes/GNN-MThesis/src/function_renaming/TFM_function_renaming_dataset_creation.py\", line 494, in createGraphFromNX\n",
      "    x = torch.tensor(x, dtype=torch.float)\n",
      "RuntimeError: Precision loss when unpacking double\n"
     ]
    },
    {
     "name": "stdout",
     "output_type": "stream",
     "text": [
      "tmp/noisy_fixed01/raw/graphs01/Network/libstdc_6_dll/_ZNKSs13find_first_ofEPKcyy_edges.txt\n"
     ]
    },
    {
     "name": "stderr",
     "output_type": "stream",
     "text": [
      "Traceback (most recent call last):\n",
      "  File \"/home/pau/.pyenv/versions/3.6.7/envs/gnn-pytorch/lib/python3.6/site-packages/networkx/readwrite/edgelist.py\", line 277, in parse_edgelist\n",
      "    edgedata = dict(literal_eval(' '.join(d)))\n",
      "  File \"/home/pau/.pyenv/versions/3.6.7/lib/python3.6/ast.py\", line 48, in literal_eval\n",
      "    node_or_string = parse(node_or_string, mode='eval')\n",
      "  File \"/home/pau/.pyenv/versions/3.6.7/lib/python3.6/ast.py\", line 35, in parse\n",
      "    return compile(source, filename, mode, PyCF_ONLY_AST)\n",
      "  File \"<unknown>\", line 1\n",
      "    ptr [rdi+rbx] { \"type\": \"phrase\" }\n",
      "                  ^\n",
      "SyntaxError: invalid syntax\n",
      "\n",
      "During handling of the above exception, another exception occurred:\n",
      "\n",
      "Traceback (most recent call last):\n",
      "  File \"/media/disk/home/pau/Projectes/GNN-MThesis/src/function_renaming/TFM_function_renaming_dataset_creation.py\", line 261, in parseGraph\n",
      "    g = readGraph('',filename)\n",
      "  File \"/media/disk/home/pau/Projectes/GNN-MThesis/src/function_renaming/TFM_function_renaming_dataset_creation.py\", line 67, in readGraph\n",
      "    g = nx.read_edgelist(folder+filename)\n",
      "  File \"</home/pau/.pyenv/versions/3.6.7/envs/gnn-pytorch/lib/python3.6/site-packages/decorator.py:decorator-gen-707>\", line 2, in read_edgelist\n",
      "  File \"/home/pau/.pyenv/versions/3.6.7/envs/gnn-pytorch/lib/python3.6/site-packages/networkx/utils/decorators.py\", line 240, in _open_file\n",
      "    result = func_to_be_decorated(*new_args, **kwargs)\n",
      "  File \"/home/pau/.pyenv/versions/3.6.7/envs/gnn-pytorch/lib/python3.6/site-packages/networkx/readwrite/edgelist.py\", line 369, in read_edgelist\n",
      "    data=data)\n",
      "  File \"/home/pau/.pyenv/versions/3.6.7/envs/gnn-pytorch/lib/python3.6/site-packages/networkx/readwrite/edgelist.py\", line 280, in parse_edgelist\n",
      "    \"Failed to convert edge data (%s) to dictionary.\" % (d))\n",
      "TypeError: Failed to convert edge data (['ptr', '[rdi+rbx]', '{', '\"type\":', '\"phrase\"', '}']) to dictionary.\n"
     ]
    },
    {
     "name": "stdout",
     "output_type": "stream",
     "text": [
      "tmp/noisy_fixed01/raw/graphs01/Network/libstdc_6_dll/sub_6FC45080_edges.txt\n"
     ]
    },
    {
     "name": "stderr",
     "output_type": "stream",
     "text": [
      "Traceback (most recent call last):\n",
      "  File \"/home/pau/.pyenv/versions/3.6.7/envs/gnn-pytorch/lib/python3.6/site-packages/networkx/readwrite/edgelist.py\", line 277, in parse_edgelist\n",
      "    edgedata = dict(literal_eval(' '.join(d)))\n",
      "  File \"/home/pau/.pyenv/versions/3.6.7/lib/python3.6/ast.py\", line 48, in literal_eval\n",
      "    node_or_string = parse(node_or_string, mode='eval')\n",
      "  File \"/home/pau/.pyenv/versions/3.6.7/lib/python3.6/ast.py\", line 35, in parse\n",
      "    return compile(source, filename, mode, PyCF_ONLY_AST)\n",
      "  File \"<unknown>\", line 1\n",
      "    ptr [rsi] { \"type\": \"phrase\" }\n",
      "              ^\n",
      "SyntaxError: invalid syntax\n",
      "\n",
      "During handling of the above exception, another exception occurred:\n",
      "\n",
      "Traceback (most recent call last):\n",
      "  File \"/media/disk/home/pau/Projectes/GNN-MThesis/src/function_renaming/TFM_function_renaming_dataset_creation.py\", line 261, in parseGraph\n",
      "    g = readGraph('',filename)\n",
      "  File \"/media/disk/home/pau/Projectes/GNN-MThesis/src/function_renaming/TFM_function_renaming_dataset_creation.py\", line 67, in readGraph\n",
      "    g = nx.read_edgelist(folder+filename)\n",
      "  File \"</home/pau/.pyenv/versions/3.6.7/envs/gnn-pytorch/lib/python3.6/site-packages/decorator.py:decorator-gen-707>\", line 2, in read_edgelist\n",
      "  File \"/home/pau/.pyenv/versions/3.6.7/envs/gnn-pytorch/lib/python3.6/site-packages/networkx/utils/decorators.py\", line 240, in _open_file\n",
      "    result = func_to_be_decorated(*new_args, **kwargs)\n",
      "  File \"/home/pau/.pyenv/versions/3.6.7/envs/gnn-pytorch/lib/python3.6/site-packages/networkx/readwrite/edgelist.py\", line 369, in read_edgelist\n",
      "    data=data)\n",
      "  File \"/home/pau/.pyenv/versions/3.6.7/envs/gnn-pytorch/lib/python3.6/site-packages/networkx/readwrite/edgelist.py\", line 280, in parse_edgelist\n",
      "    \"Failed to convert edge data (%s) to dictionary.\" % (d))\n",
      "TypeError: Failed to convert edge data (['ptr', '[rsi]', '{', '\"type\":', '\"phrase\"', '}']) to dictionary.\n"
     ]
    },
    {
     "name": "stdout",
     "output_type": "stream",
     "text": [
      "tmp/noisy_fixed01/raw/graphs01/Network/libstdc_6_dll/sub_6FC4A920_edges.txt\n"
     ]
    },
    {
     "name": "stderr",
     "output_type": "stream",
     "text": [
      "Traceback (most recent call last):\n",
      "  File \"/media/disk/home/pau/Projectes/GNN-MThesis/src/function_renaming/TFM_function_renaming_dataset_creation.py\", line 263, in parseGraph\n",
      "    data = self.createGraphFromNXwithTarget(g,y,xlen,undirected=True)\n",
      "  File \"/media/disk/home/pau/Projectes/GNN-MThesis/src/function_renaming/TFM_function_renaming_dataset_creation.py\", line 508, in createGraphFromNXwithTarget\n",
      "    dataset =  self.createGraphFromNX(g,xlen, undirected)\n",
      "  File \"/media/disk/home/pau/Projectes/GNN-MThesis/src/function_renaming/TFM_function_renaming_dataset_creation.py\", line 494, in createGraphFromNX\n",
      "    x = torch.tensor(x, dtype=torch.float)\n",
      "RuntimeError: Precision loss when unpacking double\n"
     ]
    },
    {
     "name": "stdout",
     "output_type": "stream",
     "text": [
      "tmp/noisy_fixed01/raw/graphs01/Network/libeay32_dll/sub_1005B420_edges.txt\n"
     ]
    },
    {
     "name": "stderr",
     "output_type": "stream",
     "text": [
      "Traceback (most recent call last):\n",
      "  File \"/home/pau/.pyenv/versions/3.6.7/envs/gnn-pytorch/lib/python3.6/site-packages/networkx/readwrite/edgelist.py\", line 277, in parse_edgelist\n",
      "    edgedata = dict(literal_eval(' '.join(d)))\n",
      "  File \"/home/pau/.pyenv/versions/3.6.7/lib/python3.6/ast.py\", line 48, in literal_eval\n",
      "    node_or_string = parse(node_or_string, mode='eval')\n",
      "  File \"/home/pau/.pyenv/versions/3.6.7/lib/python3.6/ast.py\", line 35, in parse\n",
      "    return compile(source, filename, mode, PyCF_ONLY_AST)\n",
      "  File \"<unknown>\", line 1\n",
      "    ptr [edi] { \"type\": \"phrase\" }\n",
      "              ^\n",
      "SyntaxError: invalid syntax\n",
      "\n",
      "During handling of the above exception, another exception occurred:\n",
      "\n",
      "Traceback (most recent call last):\n",
      "  File \"/media/disk/home/pau/Projectes/GNN-MThesis/src/function_renaming/TFM_function_renaming_dataset_creation.py\", line 261, in parseGraph\n",
      "    g = readGraph('',filename)\n",
      "  File \"/media/disk/home/pau/Projectes/GNN-MThesis/src/function_renaming/TFM_function_renaming_dataset_creation.py\", line 67, in readGraph\n",
      "    g = nx.read_edgelist(folder+filename)\n",
      "  File \"</home/pau/.pyenv/versions/3.6.7/envs/gnn-pytorch/lib/python3.6/site-packages/decorator.py:decorator-gen-707>\", line 2, in read_edgelist\n",
      "  File \"/home/pau/.pyenv/versions/3.6.7/envs/gnn-pytorch/lib/python3.6/site-packages/networkx/utils/decorators.py\", line 240, in _open_file\n",
      "    result = func_to_be_decorated(*new_args, **kwargs)\n",
      "  File \"/home/pau/.pyenv/versions/3.6.7/envs/gnn-pytorch/lib/python3.6/site-packages/networkx/readwrite/edgelist.py\", line 369, in read_edgelist\n",
      "    data=data)\n",
      "  File \"/home/pau/.pyenv/versions/3.6.7/envs/gnn-pytorch/lib/python3.6/site-packages/networkx/readwrite/edgelist.py\", line 280, in parse_edgelist\n",
      "    \"Failed to convert edge data (%s) to dictionary.\" % (d))\n",
      "TypeError: Failed to convert edge data (['ptr', '[edi]', '{', '\"type\":', '\"phrase\"', '}']) to dictionary.\n"
     ]
    },
    {
     "name": "stdout",
     "output_type": "stream",
     "text": [
      "tmp/noisy_fixed01/raw/graphs01/Network/libeay32_dll/sub_10072B40_edges.txt\n"
     ]
    },
    {
     "name": "stderr",
     "output_type": "stream",
     "text": [
      "Traceback (most recent call last):\n",
      "  File \"/home/pau/.pyenv/versions/3.6.7/envs/gnn-pytorch/lib/python3.6/site-packages/networkx/readwrite/edgelist.py\", line 277, in parse_edgelist\n",
      "    edgedata = dict(literal_eval(' '.join(d)))\n",
      "  File \"/home/pau/.pyenv/versions/3.6.7/lib/python3.6/ast.py\", line 48, in literal_eval\n",
      "    node_or_string = parse(node_or_string, mode='eval')\n",
      "  File \"/home/pau/.pyenv/versions/3.6.7/lib/python3.6/ast.py\", line 35, in parse\n",
      "    return compile(source, filename, mode, PyCF_ONLY_AST)\n",
      "  File \"<unknown>\", line 1\n",
      "    ptr [ebx] { \"type\": \"phrase\" }\n",
      "              ^\n",
      "SyntaxError: invalid syntax\n",
      "\n",
      "During handling of the above exception, another exception occurred:\n",
      "\n",
      "Traceback (most recent call last):\n",
      "  File \"/media/disk/home/pau/Projectes/GNN-MThesis/src/function_renaming/TFM_function_renaming_dataset_creation.py\", line 261, in parseGraph\n",
      "    g = readGraph('',filename)\n",
      "  File \"/media/disk/home/pau/Projectes/GNN-MThesis/src/function_renaming/TFM_function_renaming_dataset_creation.py\", line 67, in readGraph\n",
      "    g = nx.read_edgelist(folder+filename)\n",
      "  File \"</home/pau/.pyenv/versions/3.6.7/envs/gnn-pytorch/lib/python3.6/site-packages/decorator.py:decorator-gen-707>\", line 2, in read_edgelist\n",
      "  File \"/home/pau/.pyenv/versions/3.6.7/envs/gnn-pytorch/lib/python3.6/site-packages/networkx/utils/decorators.py\", line 240, in _open_file\n",
      "    result = func_to_be_decorated(*new_args, **kwargs)\n",
      "  File \"/home/pau/.pyenv/versions/3.6.7/envs/gnn-pytorch/lib/python3.6/site-packages/networkx/readwrite/edgelist.py\", line 369, in read_edgelist\n",
      "    data=data)\n",
      "  File \"/home/pau/.pyenv/versions/3.6.7/envs/gnn-pytorch/lib/python3.6/site-packages/networkx/readwrite/edgelist.py\", line 280, in parse_edgelist\n",
      "    \"Failed to convert edge data (%s) to dictionary.\" % (d))\n",
      "TypeError: Failed to convert edge data (['ptr', '[ebx]', '{', '\"type\":', '\"phrase\"', '}']) to dictionary.\n"
     ]
    },
    {
     "name": "stdout",
     "output_type": "stream",
     "text": [
      "tmp/noisy_fixed01/raw/graphs01/Network/filezilla_exe/sub_77B9E0_edges.txt\n"
     ]
    },
    {
     "name": "stderr",
     "output_type": "stream",
     "text": [
      "Traceback (most recent call last):\n",
      "  File \"/media/disk/home/pau/Projectes/GNN-MThesis/src/function_renaming/TFM_function_renaming_dataset_creation.py\", line 263, in parseGraph\n",
      "    data = self.createGraphFromNXwithTarget(g,y,xlen,undirected=True)\n",
      "  File \"/media/disk/home/pau/Projectes/GNN-MThesis/src/function_renaming/TFM_function_renaming_dataset_creation.py\", line 508, in createGraphFromNXwithTarget\n",
      "    dataset =  self.createGraphFromNX(g,xlen, undirected)\n",
      "  File \"/media/disk/home/pau/Projectes/GNN-MThesis/src/function_renaming/TFM_function_renaming_dataset_creation.py\", line 494, in createGraphFromNX\n",
      "    x = torch.tensor(x, dtype=torch.float)\n",
      "RuntimeError: Precision loss when unpacking double\n"
     ]
    },
    {
     "name": "stdout",
     "output_type": "stream",
     "text": [
      "tmp/noisy_fixed01/raw/graphs01/Network/filezilla_exe/sub_956400_edges.txt\n"
     ]
    },
    {
     "name": "stderr",
     "output_type": "stream",
     "text": [
      "Traceback (most recent call last):\n",
      "  File \"/media/disk/home/pau/Projectes/GNN-MThesis/src/function_renaming/TFM_function_renaming_dataset_creation.py\", line 263, in parseGraph\n",
      "    data = self.createGraphFromNXwithTarget(g,y,xlen,undirected=True)\n",
      "  File \"/media/disk/home/pau/Projectes/GNN-MThesis/src/function_renaming/TFM_function_renaming_dataset_creation.py\", line 508, in createGraphFromNXwithTarget\n",
      "    dataset =  self.createGraphFromNX(g,xlen, undirected)\n",
      "  File \"/media/disk/home/pau/Projectes/GNN-MThesis/src/function_renaming/TFM_function_renaming_dataset_creation.py\", line 494, in createGraphFromNX\n",
      "    x = torch.tensor(x, dtype=torch.float)\n",
      "RuntimeError: Precision loss when unpacking double\n"
     ]
    },
    {
     "name": "stdout",
     "output_type": "stream",
     "text": [
      "tmp/noisy_fixed01/raw/graphs01/Network/filezilla_exe/sub_5F3B30_edges.txt\n"
     ]
    },
    {
     "name": "stderr",
     "output_type": "stream",
     "text": [
      "Traceback (most recent call last):\n",
      "  File \"/media/disk/home/pau/Projectes/GNN-MThesis/src/function_renaming/TFM_function_renaming_dataset_creation.py\", line 263, in parseGraph\n",
      "    data = self.createGraphFromNXwithTarget(g,y,xlen,undirected=True)\n",
      "  File \"/media/disk/home/pau/Projectes/GNN-MThesis/src/function_renaming/TFM_function_renaming_dataset_creation.py\", line 508, in createGraphFromNXwithTarget\n",
      "    dataset =  self.createGraphFromNX(g,xlen, undirected)\n",
      "  File \"/media/disk/home/pau/Projectes/GNN-MThesis/src/function_renaming/TFM_function_renaming_dataset_creation.py\", line 494, in createGraphFromNX\n",
      "    x = torch.tensor(x, dtype=torch.float)\n",
      "RuntimeError: Precision loss when unpacking double\n"
     ]
    },
    {
     "name": "stdout",
     "output_type": "stream",
     "text": [
      "tmp/noisy_fixed01/raw/graphs01/Network/filezilla_exe/sub_8EE7E0_edges.txt\n"
     ]
    },
    {
     "name": "stderr",
     "output_type": "stream",
     "text": [
      "Traceback (most recent call last):\n",
      "  File \"/media/disk/home/pau/Projectes/GNN-MThesis/src/function_renaming/TFM_function_renaming_dataset_creation.py\", line 263, in parseGraph\n",
      "    data = self.createGraphFromNXwithTarget(g,y,xlen,undirected=True)\n",
      "  File \"/media/disk/home/pau/Projectes/GNN-MThesis/src/function_renaming/TFM_function_renaming_dataset_creation.py\", line 508, in createGraphFromNXwithTarget\n",
      "    dataset =  self.createGraphFromNX(g,xlen, undirected)\n",
      "  File \"/media/disk/home/pau/Projectes/GNN-MThesis/src/function_renaming/TFM_function_renaming_dataset_creation.py\", line 494, in createGraphFromNX\n",
      "    x = torch.tensor(x, dtype=torch.float)\n",
      "RuntimeError: Precision loss when unpacking double\n"
     ]
    },
    {
     "name": "stdout",
     "output_type": "stream",
     "text": [
      "tmp/noisy_fixed01/raw/graphs01/Network/filezilla_exe/sub_80B3B0_edges.txt\n"
     ]
    },
    {
     "name": "stderr",
     "output_type": "stream",
     "text": [
      "Traceback (most recent call last):\n",
      "  File \"/media/disk/home/pau/Projectes/GNN-MThesis/src/function_renaming/TFM_function_renaming_dataset_creation.py\", line 263, in parseGraph\n",
      "    data = self.createGraphFromNXwithTarget(g,y,xlen,undirected=True)\n",
      "  File \"/media/disk/home/pau/Projectes/GNN-MThesis/src/function_renaming/TFM_function_renaming_dataset_creation.py\", line 508, in createGraphFromNXwithTarget\n",
      "    dataset =  self.createGraphFromNX(g,xlen, undirected)\n",
      "  File \"/media/disk/home/pau/Projectes/GNN-MThesis/src/function_renaming/TFM_function_renaming_dataset_creation.py\", line 494, in createGraphFromNX\n",
      "    x = torch.tensor(x, dtype=torch.float)\n",
      "RuntimeError: Precision loss when unpacking double\n"
     ]
    },
    {
     "name": "stdout",
     "output_type": "stream",
     "text": [
      "tmp/noisy_fixed01/raw/graphs01/Network/filezilla_exe/sub_771EC0_edges.txt\n"
     ]
    },
    {
     "name": "stderr",
     "output_type": "stream",
     "text": [
      "Traceback (most recent call last):\n",
      "  File \"/media/disk/home/pau/Projectes/GNN-MThesis/src/function_renaming/TFM_function_renaming_dataset_creation.py\", line 263, in parseGraph\n",
      "    data = self.createGraphFromNXwithTarget(g,y,xlen,undirected=True)\n",
      "  File \"/media/disk/home/pau/Projectes/GNN-MThesis/src/function_renaming/TFM_function_renaming_dataset_creation.py\", line 508, in createGraphFromNXwithTarget\n",
      "    dataset =  self.createGraphFromNX(g,xlen, undirected)\n",
      "  File \"/media/disk/home/pau/Projectes/GNN-MThesis/src/function_renaming/TFM_function_renaming_dataset_creation.py\", line 494, in createGraphFromNX\n",
      "    x = torch.tensor(x, dtype=torch.float)\n",
      "RuntimeError: Precision loss when unpacking double\n"
     ]
    },
    {
     "name": "stdout",
     "output_type": "stream",
     "text": [
      "tmp/noisy_fixed01/raw/graphs01/Network/filezilla_exe/sub_932E00_edges.txt\n"
     ]
    },
    {
     "name": "stderr",
     "output_type": "stream",
     "text": [
      "Traceback (most recent call last):\n",
      "  File \"/media/disk/home/pau/Projectes/GNN-MThesis/src/function_renaming/TFM_function_renaming_dataset_creation.py\", line 263, in parseGraph\n",
      "    data = self.createGraphFromNXwithTarget(g,y,xlen,undirected=True)\n",
      "  File \"/media/disk/home/pau/Projectes/GNN-MThesis/src/function_renaming/TFM_function_renaming_dataset_creation.py\", line 508, in createGraphFromNXwithTarget\n",
      "    dataset =  self.createGraphFromNX(g,xlen, undirected)\n",
      "  File \"/media/disk/home/pau/Projectes/GNN-MThesis/src/function_renaming/TFM_function_renaming_dataset_creation.py\", line 494, in createGraphFromNX\n",
      "    x = torch.tensor(x, dtype=torch.float)\n",
      "RuntimeError: Precision loss when unpacking double\n"
     ]
    },
    {
     "name": "stdout",
     "output_type": "stream",
     "text": [
      "tmp/noisy_fixed01/raw/graphs01/Network/filezilla_exe/sub_837AE0_edges.txt\n"
     ]
    },
    {
     "name": "stderr",
     "output_type": "stream",
     "text": [
      "Traceback (most recent call last):\n",
      "  File \"/media/disk/home/pau/Projectes/GNN-MThesis/src/function_renaming/TFM_function_renaming_dataset_creation.py\", line 263, in parseGraph\n",
      "    data = self.createGraphFromNXwithTarget(g,y,xlen,undirected=True)\n",
      "  File \"/media/disk/home/pau/Projectes/GNN-MThesis/src/function_renaming/TFM_function_renaming_dataset_creation.py\", line 508, in createGraphFromNXwithTarget\n",
      "    dataset =  self.createGraphFromNX(g,xlen, undirected)\n",
      "  File \"/media/disk/home/pau/Projectes/GNN-MThesis/src/function_renaming/TFM_function_renaming_dataset_creation.py\", line 494, in createGraphFromNX\n",
      "    x = torch.tensor(x, dtype=torch.float)\n",
      "RuntimeError: Precision loss when unpacking double\n"
     ]
    },
    {
     "name": "stdout",
     "output_type": "stream",
     "text": [
      "tmp/noisy_fixed01/raw/graphs01/Network/filezilla_exe/sub_7A47A0_edges.txt\n"
     ]
    },
    {
     "name": "stderr",
     "output_type": "stream",
     "text": [
      "Traceback (most recent call last):\n",
      "  File \"/media/disk/home/pau/Projectes/GNN-MThesis/src/function_renaming/TFM_function_renaming_dataset_creation.py\", line 263, in parseGraph\n",
      "    data = self.createGraphFromNXwithTarget(g,y,xlen,undirected=True)\n",
      "  File \"/media/disk/home/pau/Projectes/GNN-MThesis/src/function_renaming/TFM_function_renaming_dataset_creation.py\", line 508, in createGraphFromNXwithTarget\n",
      "    dataset =  self.createGraphFromNX(g,xlen, undirected)\n",
      "  File \"/media/disk/home/pau/Projectes/GNN-MThesis/src/function_renaming/TFM_function_renaming_dataset_creation.py\", line 494, in createGraphFromNX\n",
      "    x = torch.tensor(x, dtype=torch.float)\n",
      "RuntimeError: Precision loss when unpacking double\n"
     ]
    },
    {
     "name": "stdout",
     "output_type": "stream",
     "text": [
      "tmp/noisy_fixed01/raw/graphs01/Network/filezilla_exe/sub_763B50_edges.txt\n"
     ]
    },
    {
     "name": "stderr",
     "output_type": "stream",
     "text": [
      "Traceback (most recent call last):\n",
      "  File \"/media/disk/home/pau/Projectes/GNN-MThesis/src/function_renaming/TFM_function_renaming_dataset_creation.py\", line 263, in parseGraph\n",
      "    data = self.createGraphFromNXwithTarget(g,y,xlen,undirected=True)\n",
      "  File \"/media/disk/home/pau/Projectes/GNN-MThesis/src/function_renaming/TFM_function_renaming_dataset_creation.py\", line 508, in createGraphFromNXwithTarget\n",
      "    dataset =  self.createGraphFromNX(g,xlen, undirected)\n",
      "  File \"/media/disk/home/pau/Projectes/GNN-MThesis/src/function_renaming/TFM_function_renaming_dataset_creation.py\", line 494, in createGraphFromNX\n",
      "    x = torch.tensor(x, dtype=torch.float)\n",
      "RuntimeError: Precision loss when unpacking double\n"
     ]
    },
    {
     "name": "stdout",
     "output_type": "stream",
     "text": [
      "tmp/noisy_fixed01/raw/graphs01/Network/filezilla_exe/sub_59F9C0_edges.txt\n"
     ]
    },
    {
     "name": "stderr",
     "output_type": "stream",
     "text": [
      "Traceback (most recent call last):\n",
      "  File \"/media/disk/home/pau/Projectes/GNN-MThesis/src/function_renaming/TFM_function_renaming_dataset_creation.py\", line 263, in parseGraph\n",
      "    data = self.createGraphFromNXwithTarget(g,y,xlen,undirected=True)\n",
      "  File \"/media/disk/home/pau/Projectes/GNN-MThesis/src/function_renaming/TFM_function_renaming_dataset_creation.py\", line 508, in createGraphFromNXwithTarget\n",
      "    dataset =  self.createGraphFromNX(g,xlen, undirected)\n",
      "  File \"/media/disk/home/pau/Projectes/GNN-MThesis/src/function_renaming/TFM_function_renaming_dataset_creation.py\", line 494, in createGraphFromNX\n",
      "    x = torch.tensor(x, dtype=torch.float)\n",
      "RuntimeError: Precision loss when unpacking double\n"
     ]
    },
    {
     "name": "stdout",
     "output_type": "stream",
     "text": [
      "tmp/noisy_fixed01/raw/graphs01/Network/filezilla_exe/sub_939D20_edges.txt\n"
     ]
    },
    {
     "name": "stderr",
     "output_type": "stream",
     "text": [
      "Traceback (most recent call last):\n",
      "  File \"/media/disk/home/pau/Projectes/GNN-MThesis/src/function_renaming/TFM_function_renaming_dataset_creation.py\", line 263, in parseGraph\n",
      "    data = self.createGraphFromNXwithTarget(g,y,xlen,undirected=True)\n",
      "  File \"/media/disk/home/pau/Projectes/GNN-MThesis/src/function_renaming/TFM_function_renaming_dataset_creation.py\", line 508, in createGraphFromNXwithTarget\n",
      "    dataset =  self.createGraphFromNX(g,xlen, undirected)\n",
      "  File \"/media/disk/home/pau/Projectes/GNN-MThesis/src/function_renaming/TFM_function_renaming_dataset_creation.py\", line 494, in createGraphFromNX\n",
      "    x = torch.tensor(x, dtype=torch.float)\n",
      "RuntimeError: Precision loss when unpacking double\n"
     ]
    },
    {
     "name": "stdout",
     "output_type": "stream",
     "text": [
      "tmp/noisy_fixed01/raw/graphs01/Network/filezilla_exe/sub_77C090_edges.txt\n"
     ]
    },
    {
     "name": "stderr",
     "output_type": "stream",
     "text": [
      "Traceback (most recent call last):\n",
      "  File \"/media/disk/home/pau/Projectes/GNN-MThesis/src/function_renaming/TFM_function_renaming_dataset_creation.py\", line 263, in parseGraph\n",
      "    data = self.createGraphFromNXwithTarget(g,y,xlen,undirected=True)\n",
      "  File \"/media/disk/home/pau/Projectes/GNN-MThesis/src/function_renaming/TFM_function_renaming_dataset_creation.py\", line 508, in createGraphFromNXwithTarget\n",
      "    dataset =  self.createGraphFromNX(g,xlen, undirected)\n",
      "  File \"/media/disk/home/pau/Projectes/GNN-MThesis/src/function_renaming/TFM_function_renaming_dataset_creation.py\", line 494, in createGraphFromNX\n",
      "    x = torch.tensor(x, dtype=torch.float)\n",
      "RuntimeError: Precision loss when unpacking double\n"
     ]
    },
    {
     "name": "stdout",
     "output_type": "stream",
     "text": [
      "tmp/noisy_fixed01/raw/graphs01/Network/filezilla_exe/sub_430F60_edges.txt\n"
     ]
    },
    {
     "name": "stderr",
     "output_type": "stream",
     "text": [
      "Traceback (most recent call last):\n",
      "  File \"/media/disk/home/pau/Projectes/GNN-MThesis/src/function_renaming/TFM_function_renaming_dataset_creation.py\", line 263, in parseGraph\n",
      "    data = self.createGraphFromNXwithTarget(g,y,xlen,undirected=True)\n",
      "  File \"/media/disk/home/pau/Projectes/GNN-MThesis/src/function_renaming/TFM_function_renaming_dataset_creation.py\", line 508, in createGraphFromNXwithTarget\n",
      "    dataset =  self.createGraphFromNX(g,xlen, undirected)\n",
      "  File \"/media/disk/home/pau/Projectes/GNN-MThesis/src/function_renaming/TFM_function_renaming_dataset_creation.py\", line 494, in createGraphFromNX\n",
      "    x = torch.tensor(x, dtype=torch.float)\n",
      "RuntimeError: Precision loss when unpacking double\n"
     ]
    },
    {
     "name": "stdout",
     "output_type": "stream",
     "text": [
      "tmp/noisy_fixed01/raw/graphs01/Network/filezilla_exe/sub_47E1E0_edges.txt\n"
     ]
    },
    {
     "name": "stderr",
     "output_type": "stream",
     "text": [
      "Traceback (most recent call last):\n",
      "  File \"/media/disk/home/pau/Projectes/GNN-MThesis/src/function_renaming/TFM_function_renaming_dataset_creation.py\", line 263, in parseGraph\n",
      "    data = self.createGraphFromNXwithTarget(g,y,xlen,undirected=True)\n",
      "  File \"/media/disk/home/pau/Projectes/GNN-MThesis/src/function_renaming/TFM_function_renaming_dataset_creation.py\", line 508, in createGraphFromNXwithTarget\n",
      "    dataset =  self.createGraphFromNX(g,xlen, undirected)\n",
      "  File \"/media/disk/home/pau/Projectes/GNN-MThesis/src/function_renaming/TFM_function_renaming_dataset_creation.py\", line 494, in createGraphFromNX\n",
      "    x = torch.tensor(x, dtype=torch.float)\n",
      "RuntimeError: Precision loss when unpacking double\n"
     ]
    },
    {
     "name": "stdout",
     "output_type": "stream",
     "text": [
      "tmp/noisy_fixed01/raw/graphs01/Network/filezilla_exe/sub_8EBD60_edges.txt\n"
     ]
    },
    {
     "name": "stderr",
     "output_type": "stream",
     "text": [
      "Traceback (most recent call last):\n",
      "  File \"/media/disk/home/pau/Projectes/GNN-MThesis/src/function_renaming/TFM_function_renaming_dataset_creation.py\", line 263, in parseGraph\n",
      "    data = self.createGraphFromNXwithTarget(g,y,xlen,undirected=True)\n",
      "  File \"/media/disk/home/pau/Projectes/GNN-MThesis/src/function_renaming/TFM_function_renaming_dataset_creation.py\", line 508, in createGraphFromNXwithTarget\n",
      "    dataset =  self.createGraphFromNX(g,xlen, undirected)\n",
      "  File \"/media/disk/home/pau/Projectes/GNN-MThesis/src/function_renaming/TFM_function_renaming_dataset_creation.py\", line 494, in createGraphFromNX\n",
      "    x = torch.tensor(x, dtype=torch.float)\n",
      "RuntimeError: Precision loss when unpacking double\n"
     ]
    },
    {
     "name": "stdout",
     "output_type": "stream",
     "text": [
      "tmp/noisy_fixed01/raw/graphs01/Network/filezilla_exe/sub_7EE920_edges.txt\n"
     ]
    },
    {
     "name": "stderr",
     "output_type": "stream",
     "text": [
      "Traceback (most recent call last):\n",
      "  File \"/media/disk/home/pau/Projectes/GNN-MThesis/src/function_renaming/TFM_function_renaming_dataset_creation.py\", line 263, in parseGraph\n",
      "    data = self.createGraphFromNXwithTarget(g,y,xlen,undirected=True)\n",
      "  File \"/media/disk/home/pau/Projectes/GNN-MThesis/src/function_renaming/TFM_function_renaming_dataset_creation.py\", line 508, in createGraphFromNXwithTarget\n",
      "    dataset =  self.createGraphFromNX(g,xlen, undirected)\n",
      "  File \"/media/disk/home/pau/Projectes/GNN-MThesis/src/function_renaming/TFM_function_renaming_dataset_creation.py\", line 494, in createGraphFromNX\n",
      "    x = torch.tensor(x, dtype=torch.float)\n",
      "RuntimeError: Precision loss when unpacking double\n"
     ]
    },
    {
     "name": "stdout",
     "output_type": "stream",
     "text": [
      "tmp/noisy_fixed01/raw/graphs01/Network/filezilla_exe/sub_49CAC0_edges.txt\n"
     ]
    },
    {
     "name": "stderr",
     "output_type": "stream",
     "text": [
      "Traceback (most recent call last):\n",
      "  File \"/media/disk/home/pau/Projectes/GNN-MThesis/src/function_renaming/TFM_function_renaming_dataset_creation.py\", line 263, in parseGraph\n",
      "    data = self.createGraphFromNXwithTarget(g,y,xlen,undirected=True)\n",
      "  File \"/media/disk/home/pau/Projectes/GNN-MThesis/src/function_renaming/TFM_function_renaming_dataset_creation.py\", line 508, in createGraphFromNXwithTarget\n",
      "    dataset =  self.createGraphFromNX(g,xlen, undirected)\n",
      "  File \"/media/disk/home/pau/Projectes/GNN-MThesis/src/function_renaming/TFM_function_renaming_dataset_creation.py\", line 494, in createGraphFromNX\n",
      "    x = torch.tensor(x, dtype=torch.float)\n",
      "RuntimeError: Precision loss when unpacking double\n"
     ]
    },
    {
     "name": "stdout",
     "output_type": "stream",
     "text": [
      "tmp/noisy_fixed01/raw/graphs01/Network/filezilla_exe/sub_430BE0_edges.txt\n"
     ]
    },
    {
     "name": "stderr",
     "output_type": "stream",
     "text": [
      "Traceback (most recent call last):\n",
      "  File \"/media/disk/home/pau/Projectes/GNN-MThesis/src/function_renaming/TFM_function_renaming_dataset_creation.py\", line 263, in parseGraph\n",
      "    data = self.createGraphFromNXwithTarget(g,y,xlen,undirected=True)\n",
      "  File \"/media/disk/home/pau/Projectes/GNN-MThesis/src/function_renaming/TFM_function_renaming_dataset_creation.py\", line 508, in createGraphFromNXwithTarget\n",
      "    dataset =  self.createGraphFromNX(g,xlen, undirected)\n",
      "  File \"/media/disk/home/pau/Projectes/GNN-MThesis/src/function_renaming/TFM_function_renaming_dataset_creation.py\", line 494, in createGraphFromNX\n",
      "    x = torch.tensor(x, dtype=torch.float)\n",
      "RuntimeError: Precision loss when unpacking double\n"
     ]
    },
    {
     "name": "stdout",
     "output_type": "stream",
     "text": [
      "tmp/noisy_fixed01/raw/graphs01/Network/filezilla_exe/sub_5CEF00_edges.txt\n"
     ]
    },
    {
     "name": "stderr",
     "output_type": "stream",
     "text": [
      "Traceback (most recent call last):\n",
      "  File \"/media/disk/home/pau/Projectes/GNN-MThesis/src/function_renaming/TFM_function_renaming_dataset_creation.py\", line 263, in parseGraph\n",
      "    data = self.createGraphFromNXwithTarget(g,y,xlen,undirected=True)\n",
      "  File \"/media/disk/home/pau/Projectes/GNN-MThesis/src/function_renaming/TFM_function_renaming_dataset_creation.py\", line 508, in createGraphFromNXwithTarget\n",
      "    dataset =  self.createGraphFromNX(g,xlen, undirected)\n",
      "  File \"/media/disk/home/pau/Projectes/GNN-MThesis/src/function_renaming/TFM_function_renaming_dataset_creation.py\", line 494, in createGraphFromNX\n",
      "    x = torch.tensor(x, dtype=torch.float)\n",
      "RuntimeError: Precision loss when unpacking double\n"
     ]
    },
    {
     "name": "stdout",
     "output_type": "stream",
     "text": [
      "tmp/noisy_fixed01/raw/graphs01/Network/filezilla_exe/sub_5F6950_edges.txt\n"
     ]
    },
    {
     "name": "stderr",
     "output_type": "stream",
     "text": [
      "Traceback (most recent call last):\n",
      "  File \"/media/disk/home/pau/Projectes/GNN-MThesis/src/function_renaming/TFM_function_renaming_dataset_creation.py\", line 263, in parseGraph\n",
      "    data = self.createGraphFromNXwithTarget(g,y,xlen,undirected=True)\n",
      "  File \"/media/disk/home/pau/Projectes/GNN-MThesis/src/function_renaming/TFM_function_renaming_dataset_creation.py\", line 508, in createGraphFromNXwithTarget\n",
      "    dataset =  self.createGraphFromNX(g,xlen, undirected)\n",
      "  File \"/media/disk/home/pau/Projectes/GNN-MThesis/src/function_renaming/TFM_function_renaming_dataset_creation.py\", line 494, in createGraphFromNX\n",
      "    x = torch.tensor(x, dtype=torch.float)\n",
      "RuntimeError: Precision loss when unpacking double\n"
     ]
    },
    {
     "ename": "KeyboardInterrupt",
     "evalue": "",
     "output_type": "error",
     "traceback": [
      "\u001b[0;31m---------------------------------------------------------------------------\u001b[0m",
      "\u001b[0;31mKeyboardInterrupt\u001b[0m                         Traceback (most recent call last)",
      "\u001b[0;32m<ipython-input-45-5f218fde4e47>\u001b[0m in \u001b[0;36m<module>\u001b[0;34m\u001b[0m\n\u001b[0;32m----> 1\u001b[0;31m \u001b[0mdataset\u001b[0m \u001b[0;34m=\u001b[0m \u001b[0mFunctionsDataset\u001b[0m\u001b[0;34m(\u001b[0m\u001b[0mroot\u001b[0m\u001b[0;34m=\u001b[0m\u001b[0;34m'./tmp/noisy_fixed01'\u001b[0m\u001b[0;34m)\u001b[0m\u001b[0;34m\u001b[0m\u001b[0;34m\u001b[0m\u001b[0m\n\u001b[0m\u001b[1;32m      2\u001b[0m \u001b[0mprint\u001b[0m\u001b[0;34m(\u001b[0m\u001b[0mlen\u001b[0m\u001b[0;34m(\u001b[0m\u001b[0mdataset\u001b[0m\u001b[0;34m)\u001b[0m\u001b[0;34m)\u001b[0m\u001b[0;34m\u001b[0m\u001b[0;34m\u001b[0m\u001b[0m\n\u001b[1;32m      3\u001b[0m \u001b[0mprint\u001b[0m\u001b[0;34m(\u001b[0m\u001b[0mdataset\u001b[0m\u001b[0;34m.\u001b[0m\u001b[0mnum_classes\u001b[0m\u001b[0;34m)\u001b[0m\u001b[0;34m\u001b[0m\u001b[0;34m\u001b[0m\u001b[0m\n\u001b[1;32m      4\u001b[0m \u001b[0mprint\u001b[0m\u001b[0;34m(\u001b[0m\u001b[0mdataset\u001b[0m\u001b[0;34m.\u001b[0m\u001b[0mnum_features\u001b[0m\u001b[0;34m)\u001b[0m\u001b[0;34m\u001b[0m\u001b[0;34m\u001b[0m\u001b[0m\n",
      "\u001b[0;32m/media/disk/home/pau/Projectes/GNN-MThesis/src/function_renaming/TFM_function_renaming_dataset_creation.py\u001b[0m in \u001b[0;36m__init__\u001b[0;34m(self, root, transform, pre_transform)\u001b[0m\n\u001b[1;32m    172\u001b[0m \u001b[0;34m\u001b[0m\u001b[0m\n\u001b[1;32m    173\u001b[0m     \u001b[0;32mdef\u001b[0m \u001b[0m__init__\u001b[0m\u001b[0;34m(\u001b[0m\u001b[0mself\u001b[0m\u001b[0;34m,\u001b[0m \u001b[0mroot\u001b[0m\u001b[0;34m,\u001b[0m \u001b[0mtransform\u001b[0m\u001b[0;34m=\u001b[0m\u001b[0;32mNone\u001b[0m\u001b[0;34m,\u001b[0m \u001b[0mpre_transform\u001b[0m\u001b[0;34m=\u001b[0m\u001b[0;32mNone\u001b[0m\u001b[0;34m)\u001b[0m\u001b[0;34m:\u001b[0m\u001b[0;34m\u001b[0m\u001b[0;34m\u001b[0m\u001b[0m\n\u001b[0;32m--> 174\u001b[0;31m         \u001b[0msuper\u001b[0m\u001b[0;34m(\u001b[0m\u001b[0mFunctionsDataset\u001b[0m\u001b[0;34m,\u001b[0m \u001b[0mself\u001b[0m\u001b[0;34m)\u001b[0m\u001b[0;34m.\u001b[0m\u001b[0m__init__\u001b[0m\u001b[0;34m(\u001b[0m\u001b[0mroot\u001b[0m\u001b[0;34m,\u001b[0m \u001b[0mtransform\u001b[0m\u001b[0;34m,\u001b[0m \u001b[0mpre_transform\u001b[0m\u001b[0;34m)\u001b[0m\u001b[0;34m\u001b[0m\u001b[0;34m\u001b[0m\u001b[0m\n\u001b[0m\u001b[1;32m    175\u001b[0m         \u001b[0mprint\u001b[0m\u001b[0;34m(\u001b[0m\u001b[0;34m\" end of __init__()\"\u001b[0m\u001b[0;34m)\u001b[0m\u001b[0;34m\u001b[0m\u001b[0;34m\u001b[0m\u001b[0m\n\u001b[1;32m    176\u001b[0m \u001b[0;34m\u001b[0m\u001b[0m\n",
      "\u001b[0;32m~/.pyenv/versions/3.6.7/envs/gnn-pytorch/lib/python3.6/site-packages/torch_geometric/data/dataset.py\u001b[0m in \u001b[0;36m__init__\u001b[0;34m(self, root, transform, pre_transform, pre_filter)\u001b[0m\n\u001b[1;32m     83\u001b[0m \u001b[0;34m\u001b[0m\u001b[0m\n\u001b[1;32m     84\u001b[0m         \u001b[0mself\u001b[0m\u001b[0;34m.\u001b[0m\u001b[0m_download\u001b[0m\u001b[0;34m(\u001b[0m\u001b[0;34m)\u001b[0m\u001b[0;34m\u001b[0m\u001b[0;34m\u001b[0m\u001b[0m\n\u001b[0;32m---> 85\u001b[0;31m         \u001b[0mself\u001b[0m\u001b[0;34m.\u001b[0m\u001b[0m_process\u001b[0m\u001b[0;34m(\u001b[0m\u001b[0;34m)\u001b[0m\u001b[0;34m\u001b[0m\u001b[0;34m\u001b[0m\u001b[0m\n\u001b[0m\u001b[1;32m     86\u001b[0m \u001b[0;34m\u001b[0m\u001b[0m\n\u001b[1;32m     87\u001b[0m     \u001b[0;34m@\u001b[0m\u001b[0mproperty\u001b[0m\u001b[0;34m\u001b[0m\u001b[0;34m\u001b[0m\u001b[0m\n",
      "\u001b[0;32m~/.pyenv/versions/3.6.7/envs/gnn-pytorch/lib/python3.6/site-packages/torch_geometric/data/dataset.py\u001b[0m in \u001b[0;36m_process\u001b[0;34m(self)\u001b[0m\n\u001b[1;32m    117\u001b[0m \u001b[0;34m\u001b[0m\u001b[0m\n\u001b[1;32m    118\u001b[0m         \u001b[0mmakedirs\u001b[0m\u001b[0;34m(\u001b[0m\u001b[0mself\u001b[0m\u001b[0;34m.\u001b[0m\u001b[0mprocessed_dir\u001b[0m\u001b[0;34m)\u001b[0m\u001b[0;34m\u001b[0m\u001b[0;34m\u001b[0m\u001b[0m\n\u001b[0;32m--> 119\u001b[0;31m         \u001b[0mself\u001b[0m\u001b[0;34m.\u001b[0m\u001b[0mprocess\u001b[0m\u001b[0;34m(\u001b[0m\u001b[0;34m)\u001b[0m\u001b[0;34m\u001b[0m\u001b[0;34m\u001b[0m\u001b[0m\n\u001b[0m\u001b[1;32m    120\u001b[0m \u001b[0;34m\u001b[0m\u001b[0m\n\u001b[1;32m    121\u001b[0m         \u001b[0mprint\u001b[0m\u001b[0;34m(\u001b[0m\u001b[0;34m'Done!'\u001b[0m\u001b[0;34m)\u001b[0m\u001b[0;34m\u001b[0m\u001b[0;34m\u001b[0m\u001b[0m\n",
      "\u001b[0;32m/media/disk/home/pau/Projectes/GNN-MThesis/src/function_renaming/TFM_function_renaming_dataset_creation.py\u001b[0m in \u001b[0;36mprocess\u001b[0;34m(self)\u001b[0m\n\u001b[1;32m    228\u001b[0m \u001b[0;34m\u001b[0m\u001b[0m\n\u001b[1;32m    229\u001b[0m                         \u001b[0;31m# generate the PyG graph\u001b[0m\u001b[0;34m\u001b[0m\u001b[0;34m\u001b[0m\u001b[0;34m\u001b[0m\u001b[0m\n\u001b[0;32m--> 230\u001b[0;31m                         \u001b[0mdata\u001b[0m \u001b[0;34m=\u001b[0m \u001b[0mself\u001b[0m\u001b[0;34m.\u001b[0m\u001b[0mparseGraph\u001b[0m\u001b[0;34m(\u001b[0m\u001b[0mfilename\u001b[0m\u001b[0;34m)\u001b[0m\u001b[0;34m\u001b[0m\u001b[0;34m\u001b[0m\u001b[0m\n\u001b[0m\u001b[1;32m    231\u001b[0m                         \u001b[0;32mif\u001b[0m \u001b[0mdata\u001b[0m \u001b[0;32mis\u001b[0m \u001b[0;32mNone\u001b[0m\u001b[0;34m:\u001b[0m\u001b[0;34m\u001b[0m\u001b[0;34m\u001b[0m\u001b[0m\n\u001b[1;32m    232\u001b[0m                             \u001b[0mself\u001b[0m\u001b[0;34m.\u001b[0m\u001b[0mproblematic_files\u001b[0m\u001b[0;34m.\u001b[0m\u001b[0mappend\u001b[0m\u001b[0;34m(\u001b[0m\u001b[0mfilename\u001b[0m\u001b[0;34m)\u001b[0m\u001b[0;34m\u001b[0m\u001b[0;34m\u001b[0m\u001b[0m\n",
      "\u001b[0;32m/media/disk/home/pau/Projectes/GNN-MThesis/src/function_renaming/TFM_function_renaming_dataset_creation.py\u001b[0m in \u001b[0;36mparseGraph\u001b[0;34m(self, filename)\u001b[0m\n\u001b[1;32m    259\u001b[0m         \u001b[0;32mtry\u001b[0m\u001b[0;34m:\u001b[0m\u001b[0;34m\u001b[0m\u001b[0;34m\u001b[0m\u001b[0m\n\u001b[1;32m    260\u001b[0m             \u001b[0my\u001b[0m \u001b[0;34m=\u001b[0m \u001b[0mself\u001b[0m\u001b[0;34m.\u001b[0m\u001b[0mextractClassLabelFromFolderName\u001b[0m\u001b[0;34m(\u001b[0m\u001b[0mos\u001b[0m\u001b[0;34m.\u001b[0m\u001b[0mpath\u001b[0m\u001b[0;34m.\u001b[0m\u001b[0mdirname\u001b[0m\u001b[0;34m(\u001b[0m\u001b[0mfilename\u001b[0m\u001b[0;34m)\u001b[0m\u001b[0;34m)\u001b[0m\u001b[0;34m\u001b[0m\u001b[0;34m\u001b[0m\u001b[0m\n\u001b[0;32m--> 261\u001b[0;31m             \u001b[0mg\u001b[0m \u001b[0;34m=\u001b[0m \u001b[0mreadGraph\u001b[0m\u001b[0;34m(\u001b[0m\u001b[0;34m''\u001b[0m\u001b[0;34m,\u001b[0m\u001b[0mfilename\u001b[0m\u001b[0;34m)\u001b[0m\u001b[0;34m\u001b[0m\u001b[0;34m\u001b[0m\u001b[0m\n\u001b[0m\u001b[1;32m    262\u001b[0m             \u001b[0mxlen\u001b[0m \u001b[0;34m=\u001b[0m \u001b[0mlen\u001b[0m\u001b[0;34m(\u001b[0m\u001b[0mg\u001b[0m\u001b[0;34m.\u001b[0m\u001b[0mnodes\u001b[0m\u001b[0;34m(\u001b[0m\u001b[0;34m)\u001b[0m\u001b[0;34m)\u001b[0m\u001b[0;34m\u001b[0m\u001b[0;34m\u001b[0m\u001b[0m\n\u001b[1;32m    263\u001b[0m             \u001b[0mdata\u001b[0m \u001b[0;34m=\u001b[0m \u001b[0mself\u001b[0m\u001b[0;34m.\u001b[0m\u001b[0mcreateGraphFromNXwithTarget\u001b[0m\u001b[0;34m(\u001b[0m\u001b[0mg\u001b[0m\u001b[0;34m,\u001b[0m\u001b[0my\u001b[0m\u001b[0;34m,\u001b[0m\u001b[0mxlen\u001b[0m\u001b[0;34m,\u001b[0m\u001b[0mundirected\u001b[0m\u001b[0;34m=\u001b[0m\u001b[0;32mTrue\u001b[0m\u001b[0;34m)\u001b[0m\u001b[0;34m\u001b[0m\u001b[0;34m\u001b[0m\u001b[0m\n",
      "\u001b[0;32m/media/disk/home/pau/Projectes/GNN-MThesis/src/function_renaming/TFM_function_renaming_dataset_creation.py\u001b[0m in \u001b[0;36mreadGraph\u001b[0;34m(folder, filename)\u001b[0m\n\u001b[1;32m     65\u001b[0m \u001b[0;32mdef\u001b[0m \u001b[0mreadGraph\u001b[0m\u001b[0;34m(\u001b[0m\u001b[0mfolder\u001b[0m\u001b[0;34m,\u001b[0m \u001b[0mfilename\u001b[0m\u001b[0;34m)\u001b[0m\u001b[0;34m:\u001b[0m\u001b[0;34m\u001b[0m\u001b[0;34m\u001b[0m\u001b[0m\n\u001b[1;32m     66\u001b[0m     \u001b[0;31m# read nodes, edges and  edge attributes\u001b[0m\u001b[0;34m\u001b[0m\u001b[0;34m\u001b[0m\u001b[0;34m\u001b[0m\u001b[0m\n\u001b[0;32m---> 67\u001b[0;31m     \u001b[0mg\u001b[0m \u001b[0;34m=\u001b[0m \u001b[0mnx\u001b[0m\u001b[0;34m.\u001b[0m\u001b[0mread_edgelist\u001b[0m\u001b[0;34m(\u001b[0m\u001b[0mfolder\u001b[0m\u001b[0;34m+\u001b[0m\u001b[0mfilename\u001b[0m\u001b[0;34m)\u001b[0m\u001b[0;34m\u001b[0m\u001b[0;34m\u001b[0m\u001b[0m\n\u001b[0m\u001b[1;32m     68\u001b[0m     \u001b[0;31m# read node attributes\u001b[0m\u001b[0;34m\u001b[0m\u001b[0;34m\u001b[0m\u001b[0;34m\u001b[0m\u001b[0m\n\u001b[1;32m     69\u001b[0m     \u001b[0;32mwith\u001b[0m \u001b[0mopen\u001b[0m\u001b[0;34m(\u001b[0m\u001b[0mfolder\u001b[0m\u001b[0;34m+\u001b[0m\u001b[0mfilename\u001b[0m\u001b[0;34m.\u001b[0m\u001b[0mreplace\u001b[0m\u001b[0;34m(\u001b[0m\u001b[0;34m'edges'\u001b[0m\u001b[0;34m,\u001b[0m\u001b[0;34m'nodes'\u001b[0m\u001b[0;34m)\u001b[0m\u001b[0;34m,\u001b[0m\u001b[0;34m'r'\u001b[0m\u001b[0;34m)\u001b[0m \u001b[0;32mas\u001b[0m \u001b[0mf\u001b[0m\u001b[0;34m:\u001b[0m\u001b[0;34m\u001b[0m\u001b[0;34m\u001b[0m\u001b[0m\n",
      "\u001b[0;32m</home/pau/.pyenv/versions/3.6.7/envs/gnn-pytorch/lib/python3.6/site-packages/decorator.py:decorator-gen-707>\u001b[0m in \u001b[0;36mread_edgelist\u001b[0;34m(path, comments, delimiter, create_using, nodetype, data, edgetype, encoding)\u001b[0m\n",
      "\u001b[0;32m~/.pyenv/versions/3.6.7/envs/gnn-pytorch/lib/python3.6/site-packages/networkx/utils/decorators.py\u001b[0m in \u001b[0;36m_open_file\u001b[0;34m(func_to_be_decorated, *args, **kwargs)\u001b[0m\n\u001b[1;32m    238\u001b[0m         \u001b[0;31m# Finally, we call the original function, making sure to close the fobj\u001b[0m\u001b[0;34m\u001b[0m\u001b[0;34m\u001b[0m\u001b[0;34m\u001b[0m\u001b[0m\n\u001b[1;32m    239\u001b[0m         \u001b[0;32mtry\u001b[0m\u001b[0;34m:\u001b[0m\u001b[0;34m\u001b[0m\u001b[0;34m\u001b[0m\u001b[0m\n\u001b[0;32m--> 240\u001b[0;31m             \u001b[0mresult\u001b[0m \u001b[0;34m=\u001b[0m \u001b[0mfunc_to_be_decorated\u001b[0m\u001b[0;34m(\u001b[0m\u001b[0;34m*\u001b[0m\u001b[0mnew_args\u001b[0m\u001b[0;34m,\u001b[0m \u001b[0;34m**\u001b[0m\u001b[0mkwargs\u001b[0m\u001b[0;34m)\u001b[0m\u001b[0;34m\u001b[0m\u001b[0;34m\u001b[0m\u001b[0m\n\u001b[0m\u001b[1;32m    241\u001b[0m         \u001b[0;32mfinally\u001b[0m\u001b[0;34m:\u001b[0m\u001b[0;34m\u001b[0m\u001b[0;34m\u001b[0m\u001b[0m\n\u001b[1;32m    242\u001b[0m             \u001b[0;32mif\u001b[0m \u001b[0mclose_fobj\u001b[0m\u001b[0;34m:\u001b[0m\u001b[0;34m\u001b[0m\u001b[0;34m\u001b[0m\u001b[0m\n",
      "\u001b[0;32m~/.pyenv/versions/3.6.7/envs/gnn-pytorch/lib/python3.6/site-packages/networkx/readwrite/edgelist.py\u001b[0m in \u001b[0;36mread_edgelist\u001b[0;34m(path, comments, delimiter, create_using, nodetype, data, edgetype, encoding)\u001b[0m\n\u001b[1;32m    367\u001b[0m     return parse_edgelist(lines, comments=comments, delimiter=delimiter,\n\u001b[1;32m    368\u001b[0m                           \u001b[0mcreate_using\u001b[0m\u001b[0;34m=\u001b[0m\u001b[0mcreate_using\u001b[0m\u001b[0;34m,\u001b[0m \u001b[0mnodetype\u001b[0m\u001b[0;34m=\u001b[0m\u001b[0mnodetype\u001b[0m\u001b[0;34m,\u001b[0m\u001b[0;34m\u001b[0m\u001b[0;34m\u001b[0m\u001b[0m\n\u001b[0;32m--> 369\u001b[0;31m                           data=data)\n\u001b[0m\u001b[1;32m    370\u001b[0m \u001b[0;34m\u001b[0m\u001b[0m\n\u001b[1;32m    371\u001b[0m \u001b[0;34m\u001b[0m\u001b[0m\n",
      "\u001b[0;32m~/.pyenv/versions/3.6.7/envs/gnn-pytorch/lib/python3.6/site-packages/networkx/readwrite/edgelist.py\u001b[0m in \u001b[0;36mparse_edgelist\u001b[0;34m(lines, comments, delimiter, create_using, nodetype, data)\u001b[0m\n\u001b[1;32m    248\u001b[0m     \u001b[0;32mfrom\u001b[0m \u001b[0mast\u001b[0m \u001b[0;32mimport\u001b[0m \u001b[0mliteral_eval\u001b[0m\u001b[0;34m\u001b[0m\u001b[0;34m\u001b[0m\u001b[0m\n\u001b[1;32m    249\u001b[0m     \u001b[0mG\u001b[0m \u001b[0;34m=\u001b[0m \u001b[0mnx\u001b[0m\u001b[0;34m.\u001b[0m\u001b[0mempty_graph\u001b[0m\u001b[0;34m(\u001b[0m\u001b[0;36m0\u001b[0m\u001b[0;34m,\u001b[0m \u001b[0mcreate_using\u001b[0m\u001b[0;34m)\u001b[0m\u001b[0;34m\u001b[0m\u001b[0;34m\u001b[0m\u001b[0m\n\u001b[0;32m--> 250\u001b[0;31m     \u001b[0;32mfor\u001b[0m \u001b[0mline\u001b[0m \u001b[0;32min\u001b[0m \u001b[0mlines\u001b[0m\u001b[0;34m:\u001b[0m\u001b[0;34m\u001b[0m\u001b[0;34m\u001b[0m\u001b[0m\n\u001b[0m\u001b[1;32m    251\u001b[0m         \u001b[0mp\u001b[0m \u001b[0;34m=\u001b[0m \u001b[0mline\u001b[0m\u001b[0;34m.\u001b[0m\u001b[0mfind\u001b[0m\u001b[0;34m(\u001b[0m\u001b[0mcomments\u001b[0m\u001b[0;34m)\u001b[0m\u001b[0;34m\u001b[0m\u001b[0;34m\u001b[0m\u001b[0m\n\u001b[1;32m    252\u001b[0m         \u001b[0;32mif\u001b[0m \u001b[0mp\u001b[0m \u001b[0;34m>=\u001b[0m \u001b[0;36m0\u001b[0m\u001b[0;34m:\u001b[0m\u001b[0;34m\u001b[0m\u001b[0;34m\u001b[0m\u001b[0m\n",
      "\u001b[0;32m~/.pyenv/versions/3.6.7/envs/gnn-pytorch/lib/python3.6/site-packages/networkx/readwrite/edgelist.py\u001b[0m in \u001b[0;36m<genexpr>\u001b[0;34m(.0)\u001b[0m\n\u001b[1;32m    364\u001b[0m     \u001b[0mtypes\u001b[0m \u001b[0;34m(\u001b[0m\u001b[0me\u001b[0m\u001b[0;34m.\u001b[0m\u001b[0mg\u001b[0m\u001b[0;34m.\u001b[0m \u001b[0mint\u001b[0m\u001b[0;34m,\u001b[0m \u001b[0mfloat\u001b[0m\u001b[0;34m,\u001b[0m \u001b[0mstr\u001b[0m\u001b[0;34m,\u001b[0m \u001b[0mfrozenset\u001b[0m \u001b[0;34m-\u001b[0m \u001b[0;32mor\u001b[0m \u001b[0mtuples\u001b[0m \u001b[0mof\u001b[0m \u001b[0mthose\u001b[0m\u001b[0;34m,\u001b[0m \u001b[0metc\u001b[0m\u001b[0;34m.\u001b[0m\u001b[0;34m)\u001b[0m\u001b[0;34m\u001b[0m\u001b[0;34m\u001b[0m\u001b[0m\n\u001b[1;32m    365\u001b[0m     \"\"\"\n\u001b[0;32m--> 366\u001b[0;31m     \u001b[0mlines\u001b[0m \u001b[0;34m=\u001b[0m \u001b[0;34m(\u001b[0m\u001b[0mline\u001b[0m\u001b[0;34m.\u001b[0m\u001b[0mdecode\u001b[0m\u001b[0;34m(\u001b[0m\u001b[0mencoding\u001b[0m\u001b[0;34m)\u001b[0m \u001b[0;32mfor\u001b[0m \u001b[0mline\u001b[0m \u001b[0;32min\u001b[0m \u001b[0mpath\u001b[0m\u001b[0;34m)\u001b[0m\u001b[0;34m\u001b[0m\u001b[0;34m\u001b[0m\u001b[0m\n\u001b[0m\u001b[1;32m    367\u001b[0m     return parse_edgelist(lines, comments=comments, delimiter=delimiter,\n\u001b[1;32m    368\u001b[0m                           \u001b[0mcreate_using\u001b[0m\u001b[0;34m=\u001b[0m\u001b[0mcreate_using\u001b[0m\u001b[0;34m,\u001b[0m \u001b[0mnodetype\u001b[0m\u001b[0;34m=\u001b[0m\u001b[0mnodetype\u001b[0m\u001b[0;34m,\u001b[0m\u001b[0;34m\u001b[0m\u001b[0;34m\u001b[0m\u001b[0m\n",
      "\u001b[0;31mKeyboardInterrupt\u001b[0m: "
     ]
    }
   ],
   "source": [
    "dataset = FunctionsDataset(root='./tmp/noisy_fixed01')\n",
    "print(len(dataset))\n",
    "print(dataset.num_classes)\n",
    "print(dataset.num_features)"
   ]
  },
  {
   "cell_type": "code",
   "execution_count": 109,
   "metadata": {
    "scrolled": true
   },
   "outputs": [
    {
     "name": "stdout",
     "output_type": "stream",
     "text": [
      "Processing...\n",
      " FunctionsDataset: process()\n",
      "self.processed_paths ['tmp/noisy_fixed02/processed/data_0.pt', 'tmp/noisy_fixed02/processed/data_1.pt', 'tmp/noisy_fixed02/processed/data_2.pt', 'tmp/noisy_fixed02/processed/data_3.pt', 'tmp/noisy_fixed02/processed/data_4.pt']\n",
      "self.root tmp/noisy_fixed02\n",
      "self.raw_dir tmp/n\n",
      "self.raw_file_names ['graphs01']\n",
      "self.raw_paths ['tmp/noisy_fixed02/raw/graphs01']\n",
      "\n",
      "\n",
      "tmp/noisy_fixed02/raw/graphs01/Network/ApacheCore_dll/sub_6FF81C50_edges.txt\n"
     ]
    },
    {
     "name": "stderr",
     "output_type": "stream",
     "text": [
      "Traceback (most recent call last):\n",
      "  File \"/home/pau/.pyenv/versions/3.6.7/envs/gnn-pytorch/lib/python3.6/site-packages/networkx/readwrite/edgelist.py\", line 277, in parse_edgelist\n",
      "    edgedata = dict(literal_eval(' '.join(d)))\n",
      "  File \"/home/pau/.pyenv/versions/3.6.7/lib/python3.6/ast.py\", line 48, in literal_eval\n",
      "    node_or_string = parse(node_or_string, mode='eval')\n",
      "  File \"/home/pau/.pyenv/versions/3.6.7/lib/python3.6/ast.py\", line 35, in parse\n",
      "    return compile(source, filename, mode, PyCF_ONLY_AST)\n",
      "  File \"<unknown>\", line 1\n",
      "    \" { \"type\": \"phrase\" }\n",
      "            ^\n",
      "SyntaxError: invalid syntax\n",
      "\n",
      "During handling of the above exception, another exception occurred:\n",
      "\n",
      "Traceback (most recent call last):\n",
      "  File \"/media/disk/home/pau/Projectes/GNN-MThesis/src/function_renaming/TFM_function_renaming_dataset_creation.py\", line 260, in parseGraph\n",
      "    g = readGraph('',filename)\n",
      "  File \"/media/disk/home/pau/Projectes/GNN-MThesis/src/function_renaming/TFM_function_renaming_dataset_creation.py\", line 66, in readGraph\n",
      "    g = nx.read_edgelist(folder+filename)\n",
      "  File \"</home/pau/.pyenv/versions/3.6.7/envs/gnn-pytorch/lib/python3.6/site-packages/decorator.py:decorator-gen-707>\", line 2, in read_edgelist\n",
      "  File \"/home/pau/.pyenv/versions/3.6.7/envs/gnn-pytorch/lib/python3.6/site-packages/networkx/utils/decorators.py\", line 240, in _open_file\n",
      "    result = func_to_be_decorated(*new_args, **kwargs)\n",
      "  File \"/home/pau/.pyenv/versions/3.6.7/envs/gnn-pytorch/lib/python3.6/site-packages/networkx/readwrite/edgelist.py\", line 369, in read_edgelist\n",
      "    data=data)\n",
      "  File \"/home/pau/.pyenv/versions/3.6.7/envs/gnn-pytorch/lib/python3.6/site-packages/networkx/readwrite/edgelist.py\", line 280, in parse_edgelist\n",
      "    \"Failed to convert edge data (%s) to dictionary.\" % (d))\n",
      "TypeError: Failed to convert edge data (['\"', '{', '\"type\":', '\"phrase\"', '}']) to dictionary.\n"
     ]
    },
    {
     "name": "stdout",
     "output_type": "stream",
     "text": [
      "tmp/noisy_fixed02/raw/graphs01/Network/libgnutls-30_dll/sub_6489CA90_edges.txt\n"
     ]
    },
    {
     "name": "stderr",
     "output_type": "stream",
     "text": [
      "Traceback (most recent call last):\n",
      "  File \"/media/disk/home/pau/Projectes/GNN-MThesis/src/function_renaming/TFM_function_renaming_dataset_creation.py\", line 262, in parseGraph\n",
      "    data = self.createGraphFromNXwithTarget(g,y,xlen,undirected=True)\n",
      "  File \"/media/disk/home/pau/Projectes/GNN-MThesis/src/function_renaming/TFM_function_renaming_dataset_creation.py\", line 512, in createGraphFromNXwithTarget\n",
      "    dataset =  self.createGraphFromNX(g,xlen, undirected)\n",
      "  File \"/media/disk/home/pau/Projectes/GNN-MThesis/src/function_renaming/TFM_function_renaming_dataset_creation.py\", line 498, in createGraphFromNX\n",
      "    x = torch.tensor(x, dtype=torch.float)\n",
      "RuntimeError: Precision loss when unpacking double\n"
     ]
    },
    {
     "name": "stdout",
     "output_type": "stream",
     "text": [
      "tmp/noisy_fixed02/raw/graphs01/Network/libgnutls-30_dll/_gnutls_pkcs12_string_to_key_edges.txt\n"
     ]
    },
    {
     "name": "stderr",
     "output_type": "stream",
     "text": [
      "Traceback (most recent call last):\n",
      "  File \"/media/disk/home/pau/Projectes/GNN-MThesis/src/function_renaming/TFM_function_renaming_dataset_creation.py\", line 262, in parseGraph\n",
      "    data = self.createGraphFromNXwithTarget(g,y,xlen,undirected=True)\n",
      "  File \"/media/disk/home/pau/Projectes/GNN-MThesis/src/function_renaming/TFM_function_renaming_dataset_creation.py\", line 512, in createGraphFromNXwithTarget\n",
      "    dataset =  self.createGraphFromNX(g,xlen, undirected)\n",
      "  File \"/media/disk/home/pau/Projectes/GNN-MThesis/src/function_renaming/TFM_function_renaming_dataset_creation.py\", line 498, in createGraphFromNX\n",
      "    x = torch.tensor(x, dtype=torch.float)\n",
      "RuntimeError: Precision loss when unpacking double\n"
     ]
    },
    {
     "name": "stdout",
     "output_type": "stream",
     "text": [
      "tmp/noisy_fixed02/raw/graphs01/Network/libgnutls-30_dll/sub_648979A0_edges.txt\n"
     ]
    },
    {
     "name": "stderr",
     "output_type": "stream",
     "text": [
      "Traceback (most recent call last):\n",
      "  File \"/media/disk/home/pau/Projectes/GNN-MThesis/src/function_renaming/TFM_function_renaming_dataset_creation.py\", line 262, in parseGraph\n",
      "    data = self.createGraphFromNXwithTarget(g,y,xlen,undirected=True)\n",
      "  File \"/media/disk/home/pau/Projectes/GNN-MThesis/src/function_renaming/TFM_function_renaming_dataset_creation.py\", line 512, in createGraphFromNXwithTarget\n",
      "    dataset =  self.createGraphFromNX(g,xlen, undirected)\n",
      "  File \"/media/disk/home/pau/Projectes/GNN-MThesis/src/function_renaming/TFM_function_renaming_dataset_creation.py\", line 498, in createGraphFromNX\n",
      "    x = torch.tensor(x, dtype=torch.float)\n",
      "RuntimeError: Precision loss when unpacking double\n"
     ]
    },
    {
     "name": "stdout",
     "output_type": "stream",
     "text": [
      "tmp/noisy_fixed02/raw/graphs01/Network/libgnutls-30_dll/sub_64925D10_edges.txt\n"
     ]
    },
    {
     "name": "stderr",
     "output_type": "stream",
     "text": [
      "Traceback (most recent call last):\n",
      "  File \"/media/disk/home/pau/Projectes/GNN-MThesis/src/function_renaming/TFM_function_renaming_dataset_creation.py\", line 262, in parseGraph\n",
      "    data = self.createGraphFromNXwithTarget(g,y,xlen,undirected=True)\n",
      "  File \"/media/disk/home/pau/Projectes/GNN-MThesis/src/function_renaming/TFM_function_renaming_dataset_creation.py\", line 512, in createGraphFromNXwithTarget\n",
      "    dataset =  self.createGraphFromNX(g,xlen, undirected)\n",
      "  File \"/media/disk/home/pau/Projectes/GNN-MThesis/src/function_renaming/TFM_function_renaming_dataset_creation.py\", line 498, in createGraphFromNX\n",
      "    x = torch.tensor(x, dtype=torch.float)\n",
      "RuntimeError: Precision loss when unpacking double\n"
     ]
    },
    {
     "name": "stdout",
     "output_type": "stream",
     "text": [
      "tmp/noisy_fixed02/raw/graphs01/Network/libgnutls-30_dll/sub_64898B10_edges.txt\n"
     ]
    },
    {
     "name": "stderr",
     "output_type": "stream",
     "text": [
      "Traceback (most recent call last):\n",
      "  File \"/media/disk/home/pau/Projectes/GNN-MThesis/src/function_renaming/TFM_function_renaming_dataset_creation.py\", line 262, in parseGraph\n",
      "    data = self.createGraphFromNXwithTarget(g,y,xlen,undirected=True)\n",
      "  File \"/media/disk/home/pau/Projectes/GNN-MThesis/src/function_renaming/TFM_function_renaming_dataset_creation.py\", line 512, in createGraphFromNXwithTarget\n",
      "    dataset =  self.createGraphFromNX(g,xlen, undirected)\n",
      "  File \"/media/disk/home/pau/Projectes/GNN-MThesis/src/function_renaming/TFM_function_renaming_dataset_creation.py\", line 498, in createGraphFromNX\n",
      "    x = torch.tensor(x, dtype=torch.float)\n",
      "RuntimeError: Precision loss when unpacking double\n"
     ]
    },
    {
     "name": "stdout",
     "output_type": "stream",
     "text": [
      "{ \"type\":_\"phrase\",_\"content\":_\"[rcx]      ; lpCriticalSection\"}\n",
      "{ \"type\":_\"phrase\",_\"content\":_\"[rdi]      ; Str2\"}\n",
      "{ \"type\":_\"phrase\",_\"content\":_\"[rbx]      ; File\"}\n",
      "{ \"type\":_\"phrase\",_\"content\":_\"[rax]      ; Filename\"}\n",
      "{ \"type\":_\"phrase\",_\"content\":_\"[rbx]      ; Str2\"}\n",
      "tmp/noisy_fixed02/raw/graphs01/Network/libgnutls-30_dll/sub_64897AC0_edges.txt\n"
     ]
    },
    {
     "name": "stderr",
     "output_type": "stream",
     "text": [
      "Traceback (most recent call last):\n",
      "  File \"/media/disk/home/pau/Projectes/GNN-MThesis/src/function_renaming/TFM_function_renaming_dataset_creation.py\", line 262, in parseGraph\n",
      "    data = self.createGraphFromNXwithTarget(g,y,xlen,undirected=True)\n",
      "  File \"/media/disk/home/pau/Projectes/GNN-MThesis/src/function_renaming/TFM_function_renaming_dataset_creation.py\", line 512, in createGraphFromNXwithTarget\n",
      "    dataset =  self.createGraphFromNX(g,xlen, undirected)\n",
      "  File \"/media/disk/home/pau/Projectes/GNN-MThesis/src/function_renaming/TFM_function_renaming_dataset_creation.py\", line 498, in createGraphFromNX\n",
      "    x = torch.tensor(x, dtype=torch.float)\n",
      "RuntimeError: Precision loss when unpacking double\n"
     ]
    },
    {
     "name": "stdout",
     "output_type": "stream",
     "text": [
      "{ \"type\":_\"phrase\",_\"content\":_\"[rax+rbx]  ; flNewProtect\"}\n",
      "{ \"type\":_\"phrase\",_\"content\":_\"[rcx]      ; lpCriticalSection\"}\n",
      "tmp/noisy_fixed02/raw/graphs01/Network/libgnutls-30_dll/sub_6484DE90_edges.txt\n"
     ]
    },
    {
     "name": "stderr",
     "output_type": "stream",
     "text": [
      "Traceback (most recent call last):\n",
      "  File \"/media/disk/home/pau/Projectes/GNN-MThesis/src/function_renaming/TFM_function_renaming_dataset_creation.py\", line 262, in parseGraph\n",
      "    data = self.createGraphFromNXwithTarget(g,y,xlen,undirected=True)\n",
      "  File \"/media/disk/home/pau/Projectes/GNN-MThesis/src/function_renaming/TFM_function_renaming_dataset_creation.py\", line 512, in createGraphFromNXwithTarget\n",
      "    dataset =  self.createGraphFromNX(g,xlen, undirected)\n",
      "  File \"/media/disk/home/pau/Projectes/GNN-MThesis/src/function_renaming/TFM_function_renaming_dataset_creation.py\", line 498, in createGraphFromNX\n",
      "    x = torch.tensor(x, dtype=torch.float)\n",
      "RuntimeError: Precision loss when unpacking double\n"
     ]
    },
    {
     "name": "stdout",
     "output_type": "stream",
     "text": [
      "tmp/noisy_fixed02/raw/graphs01/Network/libgnutls-30_dll/sub_64873F60_edges.txt\n"
     ]
    },
    {
     "name": "stderr",
     "output_type": "stream",
     "text": [
      "Traceback (most recent call last):\n",
      "  File \"/media/disk/home/pau/Projectes/GNN-MThesis/src/function_renaming/TFM_function_renaming_dataset_creation.py\", line 262, in parseGraph\n",
      "    data = self.createGraphFromNXwithTarget(g,y,xlen,undirected=True)\n",
      "  File \"/media/disk/home/pau/Projectes/GNN-MThesis/src/function_renaming/TFM_function_renaming_dataset_creation.py\", line 512, in createGraphFromNXwithTarget\n",
      "    dataset =  self.createGraphFromNX(g,xlen, undirected)\n",
      "  File \"/media/disk/home/pau/Projectes/GNN-MThesis/src/function_renaming/TFM_function_renaming_dataset_creation.py\", line 498, in createGraphFromNX\n",
      "    x = torch.tensor(x, dtype=torch.float)\n",
      "RuntimeError: Precision loss when unpacking double\n"
     ]
    },
    {
     "name": "stdout",
     "output_type": "stream",
     "text": [
      "tmp/noisy_fixed02/raw/graphs01/Network/libgnutls-30_dll/sub_64936A50_edges.txt\n"
     ]
    },
    {
     "name": "stderr",
     "output_type": "stream",
     "text": [
      "Traceback (most recent call last):\n",
      "  File \"/media/disk/home/pau/Projectes/GNN-MThesis/src/function_renaming/TFM_function_renaming_dataset_creation.py\", line 262, in parseGraph\n",
      "    data = self.createGraphFromNXwithTarget(g,y,xlen,undirected=True)\n",
      "  File \"/media/disk/home/pau/Projectes/GNN-MThesis/src/function_renaming/TFM_function_renaming_dataset_creation.py\", line 512, in createGraphFromNXwithTarget\n",
      "    dataset =  self.createGraphFromNX(g,xlen, undirected)\n",
      "  File \"/media/disk/home/pau/Projectes/GNN-MThesis/src/function_renaming/TFM_function_renaming_dataset_creation.py\", line 498, in createGraphFromNX\n",
      "    x = torch.tensor(x, dtype=torch.float)\n",
      "RuntimeError: Precision loss when unpacking double\n"
     ]
    },
    {
     "name": "stdout",
     "output_type": "stream",
     "text": [
      "{ \"type\":_\"phrase\",_\"content\":_\"[rbx]      ; Str2\"}\n",
      "{ \"type\":_\"phrase\",_\"content\":_\"[rcx]      ; File\"}\n",
      "{ \"type\":_\"phrase\",_\"content\":_\"[rdx]      ; File\"}\n",
      "tmp/noisy_fixed02/raw/graphs01/Network/libgnutls-30_dll/sub_64920C40_edges.txt\n"
     ]
    },
    {
     "name": "stderr",
     "output_type": "stream",
     "text": [
      "Traceback (most recent call last):\n",
      "  File \"/media/disk/home/pau/Projectes/GNN-MThesis/src/function_renaming/TFM_function_renaming_dataset_creation.py\", line 262, in parseGraph\n",
      "    data = self.createGraphFromNXwithTarget(g,y,xlen,undirected=True)\n",
      "  File \"/media/disk/home/pau/Projectes/GNN-MThesis/src/function_renaming/TFM_function_renaming_dataset_creation.py\", line 512, in createGraphFromNXwithTarget\n",
      "    dataset =  self.createGraphFromNX(g,xlen, undirected)\n",
      "  File \"/media/disk/home/pau/Projectes/GNN-MThesis/src/function_renaming/TFM_function_renaming_dataset_creation.py\", line 498, in createGraphFromNX\n",
      "    x = torch.tensor(x, dtype=torch.float)\n",
      "RuntimeError: Precision loss when unpacking double\n",
      "Traceback (most recent call last):\n",
      "  File \"/media/disk/home/pau/Projectes/GNN-MThesis/src/function_renaming/TFM_function_renaming_dataset_creation.py\", line 262, in parseGraph\n",
      "    data = self.createGraphFromNXwithTarget(g,y,xlen,undirected=True)\n",
      "  File \"/media/disk/home/pau/Projectes/GNN-MThesis/src/function_renaming/TFM_function_renaming_dataset_creation.py\", line 512, in createGraphFromNXwithTarget\n",
      "    dataset =  self.createGraphFromNX(g,xlen, undirected)\n",
      "  File \"/media/disk/home/pau/Projectes/GNN-MThesis/src/function_renaming/TFM_function_renaming_dataset_creation.py\", line 498, in createGraphFromNX\n",
      "    x = torch.tensor(x, dtype=torch.float)\n",
      "RuntimeError: Precision loss when unpacking double\n"
     ]
    },
    {
     "name": "stdout",
     "output_type": "stream",
     "text": [
      "tmp/noisy_fixed02/raw/graphs01/Network/libgnutls-30_dll/sub_648C2320_edges.txt\n",
      "{ \"type\":_\"phrase\",_\"content\":_\"[rbx]      ; dwTlsIndex\"}\n",
      "{ \"type\":_\"phrase\",_\"content\":_\"[rbx]      ; Str2\"}\n",
      "{ \"type\":_\"phrase\",_\"content\":_\"[rcx]      ; hCertStore\"}\n",
      "{ \"type\":_\"phrase\",_\"content\":_\"[r8]        ; __int64\"}\n",
      "{ \"type\":_\"phrase\",_\"content\":_\"[rcx]      ; lpCriticalSection\"}\n",
      "{ \"type\":_\"phrase\",_\"content\":_\"[ecx]      ; lpCriticalSection\"}\n",
      "{ \"type\":_\"phrase\",_\"content\":_\"[ebx]      ; nIDDlgItem\"}\n",
      "{ \"type\":_\"phrase\",_\"content\":_\"[esi]      ; lpMem\"}\n",
      "{ \"type\":_\"phrase\",_\"content\":_\"[rcx]      ; size_t\"}\n",
      "{ \"type\":_\"phrase\",_\"content\":_\"[rdx]      ; std::ctype_byname<wchar_t>::ctype_byname(std::string const&\"}\n",
      "{ \"type\":_\"phrase\",_\"content\":_\"[rbx+rbx]  ; wchar_t *\"}\n",
      "{ \"type\":_\"phrase\",_\"content\":_\"[rcx+r8]   ; size_t\"}\n",
      "{ \"type\":_\"phrase\",_\"content\":_\"[r9]       ; size_t\"}\n",
      "{ \"type\":_\"phrase\",_\"content\":_\"[rbx]      ; size_t\"}\n",
      "{ \"type\":_\"phrase\",_\"content\":_\"[rdx]      ; size_t\"}\n",
      "{ \"type\":_\"phrase\",_\"content\":_\"[rsi]      ; void *\"}\n",
      "{ \"type\":_\"phrase\",_\"content\":_\"[rcx]      ; int\"}\n",
      "{ \"type\":_\"phrase\",_\"content\":_\"[rbx]      ; void *\"}\n",
      "{ \"type\":_\"phrase\",_\"content\":_\"[rbx]      ; size_t\"}\n",
      "{ \"type\":_\"phrase\",_\"content\":_\"[rcx+r8]   ; void *\"}\n",
      "{ \"type\":_\"phrase\",_\"content\":_\"[rcx]      ; void *\"}\n",
      "{ \"type\":_\"phrase\",_\"content\":_\"[rcx]      ; void *\"}\n",
      "{ \"type\":_\"phrase\",_\"content\":_\"[r9+rbp]   ; void *\"}\n",
      "{ \"type\":_\"phrase\",_\"content\":_\"[rdi]      ; void *\"}\n",
      "{ \"type\":_\"phrase\",_\"content\":_\"[rdx]      ; std::ctype_byname<wchar_t>::ctype_byname(std::__cxx11::basic_string<char\"}\n",
      "{ \"type\":_\"phrase\",_\"content\":_\"[rcx]      ; void *\"}\n",
      "{ \"type\":_\"phrase\",_\"content\":_\"[rdx]      ; size_t\"}\n",
      "{ \"type\":_\"phrase\",_\"content\":_\"[rdx+r9*2] ; size_t\"}\n",
      "{ \"type\":_\"phrase\",_\"content\":_\"[rcx]      ; int\"}\n",
      "{ \"type\":_\"phrase\",_\"content\":_\"[r9+r14]   ; size_t\"}\n",
      "{ \"type\":_\"phrase\",_\"content\":_\"[rdx]      ; size_t\"}\n",
      "{ \"type\":_\"phrase\",_\"content\":_\"[rax]      ; void *\"}\n",
      "{ \"type\":_\"phrase\",_\"content\":_\"[r8]       ; int\"}\n",
      "{ \"type\":_\"phrase\",_\"content\":_\"[r9+rsi]   ; size_t\"}\n",
      "{ \"type\":_\"phrase\",_\"content\":_\"[rbx]      ; void *\"}\n",
      "{ \"type\":_\"phrase\",_\"content\":_\"[r9+rdi]   ; size_t\"}\n",
      "{ \"type\":_\"phrase\",_\"content\":_\"[rcx]      ; void *\"}\n",
      "{ \"type\":_\"phrase\",_\"content\":_\"[rcx]      ; void *\"}\n",
      "{ \"type\":_\"phrase\",_\"content\":_\"[rbx]      ; void *\"}\n",
      "{ \"type\":_\"phrase\",_\"content\":_\"[rdx]      ; std::ctype_byname<char>::ctype_byname(std::__cxx11::basic_string<char\"}\n",
      "{ \"type\":_\"phrase\",_\"content\":_\"[r8]       ; void *\"}\n",
      "{ \"type\":_\"phrase\",_\"content\":_\"[rax+r8]   ; void *\"}\n",
      "{ \"type\":_\"phrase\",_\"content\":_\"[r9+rbp]   ; void *\"}\n",
      "{ \"type\":_\"phrase\",_\"content\":_\"[rax+rsi]  ; size_t\"}\n",
      "{ \"type\":_\"phrase\",_\"content\":_\"[rdx+r9*2] ; size_t\"}\n",
      "{ \"type\":_\"phrase\",_\"content\":_\"[r9]       ; char *\"}\n",
      "{ \"type\":_\"phrase\",_\"content\":_\"[r9]       ; int\"}\n",
      "{ \"type\":_\"phrase\",_\"content\":_\"[rcx]      ; void *\"}\n",
      "{ \"type\":_\"phrase\",_\"content\":_\"[rbx]      ; void *\"}\n",
      "{ \"type\":_\"phrase\",_\"content\":_\"[r9+rdi]   ; size_t\"}\n",
      "{ \"type\":_\"phrase\",_\"content\":_\"[rcx+rbp]  ; size_t\"}\n",
      "{ \"type\":_\"phrase\",_\"content\":_\"[r9+rbp]   ; size_t\"}\n",
      "{ \"type\":_\"phrase\",_\"content\":_\"[r9+r12]   ; size_t\"}\n",
      "{ \"type\":_\"phrase\",_\"content\":_\"[r9]       ; char *\"}\n",
      "{ \"type\":_\"phrase\",_\"content\":_\"[rsi]      ; char **\"}\n",
      "{ \"type\":_\"phrase\",_\"content\":_\"[rdx]      ; std::locale::locale(std::locale const&)\"}\n",
      "tmp/noisy_fixed02/raw/graphs01/Network/libstdc_6_dll/sub_6FC41890_edges.txt\n"
     ]
    },
    {
     "name": "stderr",
     "output_type": "stream",
     "text": [
      "Traceback (most recent call last):\n",
      "  File \"/media/disk/home/pau/Projectes/GNN-MThesis/src/function_renaming/TFM_function_renaming_dataset_creation.py\", line 262, in parseGraph\n",
      "    data = self.createGraphFromNXwithTarget(g,y,xlen,undirected=True)\n",
      "  File \"/media/disk/home/pau/Projectes/GNN-MThesis/src/function_renaming/TFM_function_renaming_dataset_creation.py\", line 512, in createGraphFromNXwithTarget\n",
      "    dataset =  self.createGraphFromNX(g,xlen, undirected)\n",
      "  File \"/media/disk/home/pau/Projectes/GNN-MThesis/src/function_renaming/TFM_function_renaming_dataset_creation.py\", line 498, in createGraphFromNX\n",
      "    x = torch.tensor(x, dtype=torch.float)\n",
      "RuntimeError: Precision loss when unpacking double\n"
     ]
    },
    {
     "name": "stdout",
     "output_type": "stream",
     "text": [
      "{ \"type\":_\"phrase\",_\"content\":_\"[rcx+rbx]  ; size_t\"}\n",
      "{ \"type\":_\"phrase\",_\"content\":_\"[rdx]      ; std::ctype_byname<char>::ctype_byname(std::string const&\"}\n",
      "{ \"type\":_\"phrase\",_\"content\":_\"[rsi]      ; char **\"}\n",
      "{ \"type\":_\"phrase\",_\"content\":_\"[rbx+rbx]  ; void *\"}\n",
      "{ \"type\":_\"phrase\",_\"content\":_\"[rcx]      ; void *\"}\n",
      "{ \"type\":_\"phrase\",_\"content\":_\"[r9+r14*2] ; size_t\"}\n",
      "{ \"type\":_\"phrase\",_\"content\":_\"[r9]       ; __int64\"}\n",
      "tmp/noisy_fixed02/raw/graphs01/Network/libstdc_6_dll/sub_6FC4A920_edges.txt\n"
     ]
    },
    {
     "name": "stderr",
     "output_type": "stream",
     "text": [
      "Traceback (most recent call last):\n",
      "  File \"/media/disk/home/pau/Projectes/GNN-MThesis/src/function_renaming/TFM_function_renaming_dataset_creation.py\", line 262, in parseGraph\n",
      "    data = self.createGraphFromNXwithTarget(g,y,xlen,undirected=True)\n",
      "  File \"/media/disk/home/pau/Projectes/GNN-MThesis/src/function_renaming/TFM_function_renaming_dataset_creation.py\", line 512, in createGraphFromNXwithTarget\n",
      "    dataset =  self.createGraphFromNX(g,xlen, undirected)\n",
      "  File \"/media/disk/home/pau/Projectes/GNN-MThesis/src/function_renaming/TFM_function_renaming_dataset_creation.py\", line 498, in createGraphFromNX\n",
      "    x = torch.tensor(x, dtype=torch.float)\n",
      "RuntimeError: Precision loss when unpacking double\n"
     ]
    },
    {
     "name": "stdout",
     "output_type": "stream",
     "text": [
      "{ \"type\":_\"phrase\",_\"content\":_\"[r9]       ; __int64\"}\n",
      "{ \"type\":_\"phrase\",_\"content\":_\"[rdx]      ; std::__exception_ptr::exception_ptr::exception_ptr(std::__exception_ptr::exception_ptr const&)\"}\n",
      "{ \"type\":_\"phrase\",_\"content\":_\"[rcx+r8*2] ; size_t\"}\n",
      "{ \"type\":_\"phrase\",_\"content\":_\"[rax+rbx]  ; void *\"}\n",
      "{ \"type\":_\"phrase\",_\"content\":_\"[r14+rbx]  ; char *\"}\n",
      "tmp/noisy_fixed02/raw/graphs01/Network/filezilla_exe/sub_77B9E0_edges.txt\n"
     ]
    },
    {
     "name": "stderr",
     "output_type": "stream",
     "text": [
      "Traceback (most recent call last):\n",
      "  File \"/media/disk/home/pau/Projectes/GNN-MThesis/src/function_renaming/TFM_function_renaming_dataset_creation.py\", line 262, in parseGraph\n",
      "    data = self.createGraphFromNXwithTarget(g,y,xlen,undirected=True)\n",
      "  File \"/media/disk/home/pau/Projectes/GNN-MThesis/src/function_renaming/TFM_function_renaming_dataset_creation.py\", line 512, in createGraphFromNXwithTarget\n",
      "    dataset =  self.createGraphFromNX(g,xlen, undirected)\n",
      "  File \"/media/disk/home/pau/Projectes/GNN-MThesis/src/function_renaming/TFM_function_renaming_dataset_creation.py\", line 498, in createGraphFromNX\n",
      "    x = torch.tensor(x, dtype=torch.float)\n",
      "RuntimeError: Precision loss when unpacking double\n"
     ]
    },
    {
     "name": "stdout",
     "output_type": "stream",
     "text": [
      "tmp/noisy_fixed02/raw/graphs01/Network/filezilla_exe/sub_956400_edges.txt\n"
     ]
    },
    {
     "name": "stderr",
     "output_type": "stream",
     "text": [
      "Traceback (most recent call last):\n",
      "  File \"/media/disk/home/pau/Projectes/GNN-MThesis/src/function_renaming/TFM_function_renaming_dataset_creation.py\", line 262, in parseGraph\n",
      "    data = self.createGraphFromNXwithTarget(g,y,xlen,undirected=True)\n",
      "  File \"/media/disk/home/pau/Projectes/GNN-MThesis/src/function_renaming/TFM_function_renaming_dataset_creation.py\", line 512, in createGraphFromNXwithTarget\n",
      "    dataset =  self.createGraphFromNX(g,xlen, undirected)\n",
      "  File \"/media/disk/home/pau/Projectes/GNN-MThesis/src/function_renaming/TFM_function_renaming_dataset_creation.py\", line 498, in createGraphFromNX\n",
      "    x = torch.tensor(x, dtype=torch.float)\n",
      "RuntimeError: Precision loss when unpacking double\n"
     ]
    },
    {
     "name": "stdout",
     "output_type": "stream",
     "text": [
      "tmp/noisy_fixed02/raw/graphs01/Network/filezilla_exe/sub_5F3B30_edges.txt\n"
     ]
    },
    {
     "name": "stderr",
     "output_type": "stream",
     "text": [
      "Traceback (most recent call last):\n",
      "  File \"/media/disk/home/pau/Projectes/GNN-MThesis/src/function_renaming/TFM_function_renaming_dataset_creation.py\", line 262, in parseGraph\n",
      "    data = self.createGraphFromNXwithTarget(g,y,xlen,undirected=True)\n",
      "  File \"/media/disk/home/pau/Projectes/GNN-MThesis/src/function_renaming/TFM_function_renaming_dataset_creation.py\", line 512, in createGraphFromNXwithTarget\n",
      "    dataset =  self.createGraphFromNX(g,xlen, undirected)\n",
      "  File \"/media/disk/home/pau/Projectes/GNN-MThesis/src/function_renaming/TFM_function_renaming_dataset_creation.py\", line 498, in createGraphFromNX\n",
      "    x = torch.tensor(x, dtype=torch.float)\n",
      "RuntimeError: Precision loss when unpacking double\n"
     ]
    },
    {
     "name": "stdout",
     "output_type": "stream",
     "text": [
      "tmp/noisy_fixed02/raw/graphs01/Network/filezilla_exe/sub_8EE7E0_edges.txt\n"
     ]
    },
    {
     "name": "stderr",
     "output_type": "stream",
     "text": [
      "Traceback (most recent call last):\n",
      "  File \"/media/disk/home/pau/Projectes/GNN-MThesis/src/function_renaming/TFM_function_renaming_dataset_creation.py\", line 262, in parseGraph\n",
      "    data = self.createGraphFromNXwithTarget(g,y,xlen,undirected=True)\n",
      "  File \"/media/disk/home/pau/Projectes/GNN-MThesis/src/function_renaming/TFM_function_renaming_dataset_creation.py\", line 512, in createGraphFromNXwithTarget\n",
      "    dataset =  self.createGraphFromNX(g,xlen, undirected)\n",
      "  File \"/media/disk/home/pau/Projectes/GNN-MThesis/src/function_renaming/TFM_function_renaming_dataset_creation.py\", line 498, in createGraphFromNX\n",
      "    x = torch.tensor(x, dtype=torch.float)\n",
      "RuntimeError: Precision loss when unpacking double\n"
     ]
    },
    {
     "name": "stdout",
     "output_type": "stream",
     "text": [
      "tmp/noisy_fixed02/raw/graphs01/Network/filezilla_exe/sub_80B3B0_edges.txt\n"
     ]
    },
    {
     "name": "stderr",
     "output_type": "stream",
     "text": [
      "Traceback (most recent call last):\n",
      "  File \"/media/disk/home/pau/Projectes/GNN-MThesis/src/function_renaming/TFM_function_renaming_dataset_creation.py\", line 262, in parseGraph\n",
      "    data = self.createGraphFromNXwithTarget(g,y,xlen,undirected=True)\n",
      "  File \"/media/disk/home/pau/Projectes/GNN-MThesis/src/function_renaming/TFM_function_renaming_dataset_creation.py\", line 512, in createGraphFromNXwithTarget\n",
      "    dataset =  self.createGraphFromNX(g,xlen, undirected)\n",
      "  File \"/media/disk/home/pau/Projectes/GNN-MThesis/src/function_renaming/TFM_function_renaming_dataset_creation.py\", line 498, in createGraphFromNX\n",
      "    x = torch.tensor(x, dtype=torch.float)\n",
      "RuntimeError: Precision loss when unpacking double\n"
     ]
    },
    {
     "name": "stdout",
     "output_type": "stream",
     "text": [
      "tmp/noisy_fixed02/raw/graphs01/Network/filezilla_exe/sub_771EC0_edges.txt\n"
     ]
    },
    {
     "name": "stderr",
     "output_type": "stream",
     "text": [
      "Traceback (most recent call last):\n",
      "  File \"/media/disk/home/pau/Projectes/GNN-MThesis/src/function_renaming/TFM_function_renaming_dataset_creation.py\", line 262, in parseGraph\n",
      "    data = self.createGraphFromNXwithTarget(g,y,xlen,undirected=True)\n",
      "  File \"/media/disk/home/pau/Projectes/GNN-MThesis/src/function_renaming/TFM_function_renaming_dataset_creation.py\", line 512, in createGraphFromNXwithTarget\n",
      "    dataset =  self.createGraphFromNX(g,xlen, undirected)\n",
      "  File \"/media/disk/home/pau/Projectes/GNN-MThesis/src/function_renaming/TFM_function_renaming_dataset_creation.py\", line 498, in createGraphFromNX\n",
      "    x = torch.tensor(x, dtype=torch.float)\n",
      "RuntimeError: Precision loss when unpacking double\n"
     ]
    },
    {
     "name": "stdout",
     "output_type": "stream",
     "text": [
      "tmp/noisy_fixed02/raw/graphs01/Network/filezilla_exe/sub_932E00_edges.txt\n"
     ]
    },
    {
     "name": "stderr",
     "output_type": "stream",
     "text": [
      "Traceback (most recent call last):\n",
      "  File \"/media/disk/home/pau/Projectes/GNN-MThesis/src/function_renaming/TFM_function_renaming_dataset_creation.py\", line 262, in parseGraph\n",
      "    data = self.createGraphFromNXwithTarget(g,y,xlen,undirected=True)\n",
      "  File \"/media/disk/home/pau/Projectes/GNN-MThesis/src/function_renaming/TFM_function_renaming_dataset_creation.py\", line 512, in createGraphFromNXwithTarget\n",
      "    dataset =  self.createGraphFromNX(g,xlen, undirected)\n",
      "  File \"/media/disk/home/pau/Projectes/GNN-MThesis/src/function_renaming/TFM_function_renaming_dataset_creation.py\", line 498, in createGraphFromNX\n",
      "    x = torch.tensor(x, dtype=torch.float)\n",
      "RuntimeError: Precision loss when unpacking double\n"
     ]
    },
    {
     "name": "stdout",
     "output_type": "stream",
     "text": [
      "tmp/noisy_fixed02/raw/graphs01/Network/filezilla_exe/sub_837AE0_edges.txt\n"
     ]
    },
    {
     "name": "stderr",
     "output_type": "stream",
     "text": [
      "Traceback (most recent call last):\n",
      "  File \"/media/disk/home/pau/Projectes/GNN-MThesis/src/function_renaming/TFM_function_renaming_dataset_creation.py\", line 262, in parseGraph\n",
      "    data = self.createGraphFromNXwithTarget(g,y,xlen,undirected=True)\n",
      "  File \"/media/disk/home/pau/Projectes/GNN-MThesis/src/function_renaming/TFM_function_renaming_dataset_creation.py\", line 512, in createGraphFromNXwithTarget\n",
      "    dataset =  self.createGraphFromNX(g,xlen, undirected)\n",
      "  File \"/media/disk/home/pau/Projectes/GNN-MThesis/src/function_renaming/TFM_function_renaming_dataset_creation.py\", line 498, in createGraphFromNX\n",
      "    x = torch.tensor(x, dtype=torch.float)\n",
      "RuntimeError: Precision loss when unpacking double\n"
     ]
    },
    {
     "name": "stdout",
     "output_type": "stream",
     "text": [
      "tmp/noisy_fixed02/raw/graphs01/Network/filezilla_exe/sub_7A47A0_edges.txt\n"
     ]
    },
    {
     "name": "stderr",
     "output_type": "stream",
     "text": [
      "Traceback (most recent call last):\n",
      "  File \"/media/disk/home/pau/Projectes/GNN-MThesis/src/function_renaming/TFM_function_renaming_dataset_creation.py\", line 262, in parseGraph\n",
      "    data = self.createGraphFromNXwithTarget(g,y,xlen,undirected=True)\n",
      "  File \"/media/disk/home/pau/Projectes/GNN-MThesis/src/function_renaming/TFM_function_renaming_dataset_creation.py\", line 512, in createGraphFromNXwithTarget\n",
      "    dataset =  self.createGraphFromNX(g,xlen, undirected)\n",
      "  File \"/media/disk/home/pau/Projectes/GNN-MThesis/src/function_renaming/TFM_function_renaming_dataset_creation.py\", line 498, in createGraphFromNX\n",
      "    x = torch.tensor(x, dtype=torch.float)\n",
      "RuntimeError: Precision loss when unpacking double\n"
     ]
    },
    {
     "name": "stdout",
     "output_type": "stream",
     "text": [
      "tmp/noisy_fixed02/raw/graphs01/Network/filezilla_exe/sub_763B50_edges.txt\n"
     ]
    },
    {
     "name": "stderr",
     "output_type": "stream",
     "text": [
      "Traceback (most recent call last):\n",
      "  File \"/media/disk/home/pau/Projectes/GNN-MThesis/src/function_renaming/TFM_function_renaming_dataset_creation.py\", line 262, in parseGraph\n",
      "    data = self.createGraphFromNXwithTarget(g,y,xlen,undirected=True)\n",
      "  File \"/media/disk/home/pau/Projectes/GNN-MThesis/src/function_renaming/TFM_function_renaming_dataset_creation.py\", line 512, in createGraphFromNXwithTarget\n",
      "    dataset =  self.createGraphFromNX(g,xlen, undirected)\n",
      "  File \"/media/disk/home/pau/Projectes/GNN-MThesis/src/function_renaming/TFM_function_renaming_dataset_creation.py\", line 498, in createGraphFromNX\n",
      "    x = torch.tensor(x, dtype=torch.float)\n",
      "RuntimeError: Precision loss when unpacking double\n"
     ]
    },
    {
     "name": "stdout",
     "output_type": "stream",
     "text": [
      "tmp/noisy_fixed02/raw/graphs01/Network/filezilla_exe/sub_59F9C0_edges.txt\n"
     ]
    },
    {
     "name": "stderr",
     "output_type": "stream",
     "text": [
      "Traceback (most recent call last):\n",
      "  File \"/media/disk/home/pau/Projectes/GNN-MThesis/src/function_renaming/TFM_function_renaming_dataset_creation.py\", line 262, in parseGraph\n",
      "    data = self.createGraphFromNXwithTarget(g,y,xlen,undirected=True)\n",
      "  File \"/media/disk/home/pau/Projectes/GNN-MThesis/src/function_renaming/TFM_function_renaming_dataset_creation.py\", line 512, in createGraphFromNXwithTarget\n",
      "    dataset =  self.createGraphFromNX(g,xlen, undirected)\n",
      "  File \"/media/disk/home/pau/Projectes/GNN-MThesis/src/function_renaming/TFM_function_renaming_dataset_creation.py\", line 498, in createGraphFromNX\n",
      "    x = torch.tensor(x, dtype=torch.float)\n",
      "RuntimeError: Precision loss when unpacking double\n"
     ]
    },
    {
     "name": "stdout",
     "output_type": "stream",
     "text": [
      "tmp/noisy_fixed02/raw/graphs01/Network/filezilla_exe/sub_939D20_edges.txt\n"
     ]
    },
    {
     "name": "stderr",
     "output_type": "stream",
     "text": [
      "Traceback (most recent call last):\n",
      "  File \"/media/disk/home/pau/Projectes/GNN-MThesis/src/function_renaming/TFM_function_renaming_dataset_creation.py\", line 262, in parseGraph\n",
      "    data = self.createGraphFromNXwithTarget(g,y,xlen,undirected=True)\n",
      "  File \"/media/disk/home/pau/Projectes/GNN-MThesis/src/function_renaming/TFM_function_renaming_dataset_creation.py\", line 512, in createGraphFromNXwithTarget\n",
      "    dataset =  self.createGraphFromNX(g,xlen, undirected)\n",
      "  File \"/media/disk/home/pau/Projectes/GNN-MThesis/src/function_renaming/TFM_function_renaming_dataset_creation.py\", line 498, in createGraphFromNX\n",
      "    x = torch.tensor(x, dtype=torch.float)\n",
      "RuntimeError: Precision loss when unpacking double\n"
     ]
    },
    {
     "name": "stdout",
     "output_type": "stream",
     "text": [
      "tmp/noisy_fixed02/raw/graphs01/Network/filezilla_exe/sub_77C090_edges.txt\n"
     ]
    },
    {
     "name": "stderr",
     "output_type": "stream",
     "text": [
      "Traceback (most recent call last):\n",
      "  File \"/media/disk/home/pau/Projectes/GNN-MThesis/src/function_renaming/TFM_function_renaming_dataset_creation.py\", line 262, in parseGraph\n",
      "    data = self.createGraphFromNXwithTarget(g,y,xlen,undirected=True)\n",
      "  File \"/media/disk/home/pau/Projectes/GNN-MThesis/src/function_renaming/TFM_function_renaming_dataset_creation.py\", line 512, in createGraphFromNXwithTarget\n",
      "    dataset =  self.createGraphFromNX(g,xlen, undirected)\n",
      "  File \"/media/disk/home/pau/Projectes/GNN-MThesis/src/function_renaming/TFM_function_renaming_dataset_creation.py\", line 498, in createGraphFromNX\n",
      "    x = torch.tensor(x, dtype=torch.float)\n",
      "RuntimeError: Precision loss when unpacking double\n"
     ]
    },
    {
     "name": "stdout",
     "output_type": "stream",
     "text": [
      "tmp/noisy_fixed02/raw/graphs01/Network/filezilla_exe/sub_430F60_edges.txt\n"
     ]
    },
    {
     "name": "stderr",
     "output_type": "stream",
     "text": [
      "Traceback (most recent call last):\n",
      "  File \"/media/disk/home/pau/Projectes/GNN-MThesis/src/function_renaming/TFM_function_renaming_dataset_creation.py\", line 262, in parseGraph\n",
      "    data = self.createGraphFromNXwithTarget(g,y,xlen,undirected=True)\n",
      "  File \"/media/disk/home/pau/Projectes/GNN-MThesis/src/function_renaming/TFM_function_renaming_dataset_creation.py\", line 512, in createGraphFromNXwithTarget\n",
      "    dataset =  self.createGraphFromNX(g,xlen, undirected)\n",
      "  File \"/media/disk/home/pau/Projectes/GNN-MThesis/src/function_renaming/TFM_function_renaming_dataset_creation.py\", line 498, in createGraphFromNX\n",
      "    x = torch.tensor(x, dtype=torch.float)\n",
      "RuntimeError: Precision loss when unpacking double\n"
     ]
    },
    {
     "name": "stdout",
     "output_type": "stream",
     "text": [
      "tmp/noisy_fixed02/raw/graphs01/Network/filezilla_exe/sub_47E1E0_edges.txt\n"
     ]
    },
    {
     "name": "stderr",
     "output_type": "stream",
     "text": [
      "Traceback (most recent call last):\n",
      "  File \"/media/disk/home/pau/Projectes/GNN-MThesis/src/function_renaming/TFM_function_renaming_dataset_creation.py\", line 262, in parseGraph\n",
      "    data = self.createGraphFromNXwithTarget(g,y,xlen,undirected=True)\n",
      "  File \"/media/disk/home/pau/Projectes/GNN-MThesis/src/function_renaming/TFM_function_renaming_dataset_creation.py\", line 512, in createGraphFromNXwithTarget\n",
      "    dataset =  self.createGraphFromNX(g,xlen, undirected)\n",
      "  File \"/media/disk/home/pau/Projectes/GNN-MThesis/src/function_renaming/TFM_function_renaming_dataset_creation.py\", line 498, in createGraphFromNX\n",
      "    x = torch.tensor(x, dtype=torch.float)\n",
      "RuntimeError: Precision loss when unpacking double\n"
     ]
    },
    {
     "name": "stdout",
     "output_type": "stream",
     "text": [
      "tmp/noisy_fixed02/raw/graphs01/Network/filezilla_exe/sub_8EBD60_edges.txt\n"
     ]
    },
    {
     "name": "stderr",
     "output_type": "stream",
     "text": [
      "Traceback (most recent call last):\n",
      "  File \"/media/disk/home/pau/Projectes/GNN-MThesis/src/function_renaming/TFM_function_renaming_dataset_creation.py\", line 262, in parseGraph\n",
      "    data = self.createGraphFromNXwithTarget(g,y,xlen,undirected=True)\n",
      "  File \"/media/disk/home/pau/Projectes/GNN-MThesis/src/function_renaming/TFM_function_renaming_dataset_creation.py\", line 512, in createGraphFromNXwithTarget\n",
      "    dataset =  self.createGraphFromNX(g,xlen, undirected)\n",
      "  File \"/media/disk/home/pau/Projectes/GNN-MThesis/src/function_renaming/TFM_function_renaming_dataset_creation.py\", line 498, in createGraphFromNX\n",
      "    x = torch.tensor(x, dtype=torch.float)\n",
      "RuntimeError: Precision loss when unpacking double\n"
     ]
    },
    {
     "name": "stdout",
     "output_type": "stream",
     "text": [
      "tmp/noisy_fixed02/raw/graphs01/Network/filezilla_exe/sub_7EE920_edges.txt\n"
     ]
    },
    {
     "name": "stderr",
     "output_type": "stream",
     "text": [
      "Traceback (most recent call last):\n",
      "  File \"/media/disk/home/pau/Projectes/GNN-MThesis/src/function_renaming/TFM_function_renaming_dataset_creation.py\", line 262, in parseGraph\n",
      "    data = self.createGraphFromNXwithTarget(g,y,xlen,undirected=True)\n",
      "  File \"/media/disk/home/pau/Projectes/GNN-MThesis/src/function_renaming/TFM_function_renaming_dataset_creation.py\", line 512, in createGraphFromNXwithTarget\n",
      "    dataset =  self.createGraphFromNX(g,xlen, undirected)\n",
      "  File \"/media/disk/home/pau/Projectes/GNN-MThesis/src/function_renaming/TFM_function_renaming_dataset_creation.py\", line 498, in createGraphFromNX\n",
      "    x = torch.tensor(x, dtype=torch.float)\n",
      "RuntimeError: Precision loss when unpacking double\n"
     ]
    },
    {
     "name": "stdout",
     "output_type": "stream",
     "text": [
      "tmp/noisy_fixed02/raw/graphs01/Network/filezilla_exe/sub_49CAC0_edges.txt\n"
     ]
    },
    {
     "name": "stderr",
     "output_type": "stream",
     "text": [
      "Traceback (most recent call last):\n",
      "  File \"/media/disk/home/pau/Projectes/GNN-MThesis/src/function_renaming/TFM_function_renaming_dataset_creation.py\", line 262, in parseGraph\n",
      "    data = self.createGraphFromNXwithTarget(g,y,xlen,undirected=True)\n",
      "  File \"/media/disk/home/pau/Projectes/GNN-MThesis/src/function_renaming/TFM_function_renaming_dataset_creation.py\", line 512, in createGraphFromNXwithTarget\n",
      "    dataset =  self.createGraphFromNX(g,xlen, undirected)\n",
      "  File \"/media/disk/home/pau/Projectes/GNN-MThesis/src/function_renaming/TFM_function_renaming_dataset_creation.py\", line 498, in createGraphFromNX\n",
      "    x = torch.tensor(x, dtype=torch.float)\n",
      "RuntimeError: Precision loss when unpacking double\n"
     ]
    },
    {
     "name": "stdout",
     "output_type": "stream",
     "text": [
      "tmp/noisy_fixed02/raw/graphs01/Network/filezilla_exe/sub_430BE0_edges.txt\n"
     ]
    },
    {
     "name": "stderr",
     "output_type": "stream",
     "text": [
      "Traceback (most recent call last):\n",
      "  File \"/media/disk/home/pau/Projectes/GNN-MThesis/src/function_renaming/TFM_function_renaming_dataset_creation.py\", line 262, in parseGraph\n",
      "    data = self.createGraphFromNXwithTarget(g,y,xlen,undirected=True)\n",
      "  File \"/media/disk/home/pau/Projectes/GNN-MThesis/src/function_renaming/TFM_function_renaming_dataset_creation.py\", line 512, in createGraphFromNXwithTarget\n",
      "    dataset =  self.createGraphFromNX(g,xlen, undirected)\n",
      "  File \"/media/disk/home/pau/Projectes/GNN-MThesis/src/function_renaming/TFM_function_renaming_dataset_creation.py\", line 498, in createGraphFromNX\n",
      "    x = torch.tensor(x, dtype=torch.float)\n",
      "RuntimeError: Precision loss when unpacking double\n"
     ]
    },
    {
     "name": "stdout",
     "output_type": "stream",
     "text": [
      "tmp/noisy_fixed02/raw/graphs01/Network/filezilla_exe/sub_5CEF00_edges.txt\n"
     ]
    },
    {
     "name": "stderr",
     "output_type": "stream",
     "text": [
      "Traceback (most recent call last):\n",
      "  File \"/media/disk/home/pau/Projectes/GNN-MThesis/src/function_renaming/TFM_function_renaming_dataset_creation.py\", line 262, in parseGraph\n",
      "    data = self.createGraphFromNXwithTarget(g,y,xlen,undirected=True)\n",
      "  File \"/media/disk/home/pau/Projectes/GNN-MThesis/src/function_renaming/TFM_function_renaming_dataset_creation.py\", line 512, in createGraphFromNXwithTarget\n",
      "    dataset =  self.createGraphFromNX(g,xlen, undirected)\n",
      "  File \"/media/disk/home/pau/Projectes/GNN-MThesis/src/function_renaming/TFM_function_renaming_dataset_creation.py\", line 498, in createGraphFromNX\n",
      "    x = torch.tensor(x, dtype=torch.float)\n",
      "RuntimeError: Precision loss when unpacking double\n"
     ]
    },
    {
     "name": "stdout",
     "output_type": "stream",
     "text": [
      "tmp/noisy_fixed02/raw/graphs01/Network/filezilla_exe/sub_5F6950_edges.txt\n"
     ]
    },
    {
     "name": "stderr",
     "output_type": "stream",
     "text": [
      "Traceback (most recent call last):\n",
      "  File \"/media/disk/home/pau/Projectes/GNN-MThesis/src/function_renaming/TFM_function_renaming_dataset_creation.py\", line 262, in parseGraph\n",
      "    data = self.createGraphFromNXwithTarget(g,y,xlen,undirected=True)\n",
      "  File \"/media/disk/home/pau/Projectes/GNN-MThesis/src/function_renaming/TFM_function_renaming_dataset_creation.py\", line 512, in createGraphFromNXwithTarget\n",
      "    dataset =  self.createGraphFromNX(g,xlen, undirected)\n",
      "  File \"/media/disk/home/pau/Projectes/GNN-MThesis/src/function_renaming/TFM_function_renaming_dataset_creation.py\", line 498, in createGraphFromNX\n",
      "    x = torch.tensor(x, dtype=torch.float)\n",
      "RuntimeError: Precision loss when unpacking double\n"
     ]
    },
    {
     "name": "stdout",
     "output_type": "stream",
     "text": [
      "tmp/noisy_fixed02/raw/graphs01/Network/filezilla_exe/sub_80B9F0_edges.txt\n"
     ]
    },
    {
     "name": "stderr",
     "output_type": "stream",
     "text": [
      "Traceback (most recent call last):\n",
      "  File \"/media/disk/home/pau/Projectes/GNN-MThesis/src/function_renaming/TFM_function_renaming_dataset_creation.py\", line 262, in parseGraph\n",
      "    data = self.createGraphFromNXwithTarget(g,y,xlen,undirected=True)\n",
      "  File \"/media/disk/home/pau/Projectes/GNN-MThesis/src/function_renaming/TFM_function_renaming_dataset_creation.py\", line 512, in createGraphFromNXwithTarget\n",
      "    dataset =  self.createGraphFromNX(g,xlen, undirected)\n",
      "  File \"/media/disk/home/pau/Projectes/GNN-MThesis/src/function_renaming/TFM_function_renaming_dataset_creation.py\", line 498, in createGraphFromNX\n",
      "    x = torch.tensor(x, dtype=torch.float)\n",
      "RuntimeError: Precision loss when unpacking double\n"
     ]
    },
    {
     "name": "stdout",
     "output_type": "stream",
     "text": [
      "tmp/noisy_fixed02/raw/graphs01/Network/filezilla_exe/sub_793F90_edges.txt\n"
     ]
    },
    {
     "name": "stderr",
     "output_type": "stream",
     "text": [
      "Traceback (most recent call last):\n",
      "  File \"/media/disk/home/pau/Projectes/GNN-MThesis/src/function_renaming/TFM_function_renaming_dataset_creation.py\", line 262, in parseGraph\n",
      "    data = self.createGraphFromNXwithTarget(g,y,xlen,undirected=True)\n",
      "  File \"/media/disk/home/pau/Projectes/GNN-MThesis/src/function_renaming/TFM_function_renaming_dataset_creation.py\", line 512, in createGraphFromNXwithTarget\n",
      "    dataset =  self.createGraphFromNX(g,xlen, undirected)\n",
      "  File \"/media/disk/home/pau/Projectes/GNN-MThesis/src/function_renaming/TFM_function_renaming_dataset_creation.py\", line 498, in createGraphFromNX\n",
      "    x = torch.tensor(x, dtype=torch.float)\n",
      "RuntimeError: Precision loss when unpacking double\n"
     ]
    },
    {
     "name": "stdout",
     "output_type": "stream",
     "text": [
      "tmp/noisy_fixed02/raw/graphs01/Network/filezilla_exe/sub_457BD0_edges.txt\n",
      "tmp/noisy_fixed02/raw/graphs01/Network/filezilla_exe/sub_61F3B0_edges.txt\n"
     ]
    },
    {
     "name": "stderr",
     "output_type": "stream",
     "text": [
      "Traceback (most recent call last):\n",
      "  File \"/media/disk/home/pau/Projectes/GNN-MThesis/src/function_renaming/TFM_function_renaming_dataset_creation.py\", line 262, in parseGraph\n",
      "    data = self.createGraphFromNXwithTarget(g,y,xlen,undirected=True)\n",
      "  File \"/media/disk/home/pau/Projectes/GNN-MThesis/src/function_renaming/TFM_function_renaming_dataset_creation.py\", line 512, in createGraphFromNXwithTarget\n",
      "    dataset =  self.createGraphFromNX(g,xlen, undirected)\n",
      "  File \"/media/disk/home/pau/Projectes/GNN-MThesis/src/function_renaming/TFM_function_renaming_dataset_creation.py\", line 498, in createGraphFromNX\n",
      "    x = torch.tensor(x, dtype=torch.float)\n",
      "RuntimeError: Precision loss when unpacking double\n",
      "Traceback (most recent call last):\n",
      "  File \"/media/disk/home/pau/Projectes/GNN-MThesis/src/function_renaming/TFM_function_renaming_dataset_creation.py\", line 262, in parseGraph\n",
      "    data = self.createGraphFromNXwithTarget(g,y,xlen,undirected=True)\n",
      "  File \"/media/disk/home/pau/Projectes/GNN-MThesis/src/function_renaming/TFM_function_renaming_dataset_creation.py\", line 512, in createGraphFromNXwithTarget\n",
      "    dataset =  self.createGraphFromNX(g,xlen, undirected)\n",
      "  File \"/media/disk/home/pau/Projectes/GNN-MThesis/src/function_renaming/TFM_function_renaming_dataset_creation.py\", line 498, in createGraphFromNX\n",
      "    x = torch.tensor(x, dtype=torch.float)\n",
      "RuntimeError: Precision loss when unpacking double\n"
     ]
    },
    {
     "name": "stdout",
     "output_type": "stream",
     "text": [
      "tmp/noisy_fixed02/raw/graphs01/Network/filezilla_exe/sub_56AF70_edges.txt\n"
     ]
    },
    {
     "name": "stderr",
     "output_type": "stream",
     "text": [
      "Traceback (most recent call last):\n",
      "  File \"/media/disk/home/pau/Projectes/GNN-MThesis/src/function_renaming/TFM_function_renaming_dataset_creation.py\", line 262, in parseGraph\n",
      "    data = self.createGraphFromNXwithTarget(g,y,xlen,undirected=True)\n",
      "  File \"/media/disk/home/pau/Projectes/GNN-MThesis/src/function_renaming/TFM_function_renaming_dataset_creation.py\", line 512, in createGraphFromNXwithTarget\n",
      "    dataset =  self.createGraphFromNX(g,xlen, undirected)\n",
      "  File \"/media/disk/home/pau/Projectes/GNN-MThesis/src/function_renaming/TFM_function_renaming_dataset_creation.py\", line 498, in createGraphFromNX\n",
      "    x = torch.tensor(x, dtype=torch.float)\n",
      "RuntimeError: Precision loss when unpacking double\n"
     ]
    },
    {
     "name": "stdout",
     "output_type": "stream",
     "text": [
      "tmp/noisy_fixed02/raw/graphs01/Network/filezilla_exe/sub_75EDF0_edges.txt\n"
     ]
    },
    {
     "name": "stderr",
     "output_type": "stream",
     "text": [
      "Traceback (most recent call last):\n",
      "  File \"/media/disk/home/pau/Projectes/GNN-MThesis/src/function_renaming/TFM_function_renaming_dataset_creation.py\", line 262, in parseGraph\n",
      "    data = self.createGraphFromNXwithTarget(g,y,xlen,undirected=True)\n",
      "  File \"/media/disk/home/pau/Projectes/GNN-MThesis/src/function_renaming/TFM_function_renaming_dataset_creation.py\", line 512, in createGraphFromNXwithTarget\n",
      "    dataset =  self.createGraphFromNX(g,xlen, undirected)\n",
      "  File \"/media/disk/home/pau/Projectes/GNN-MThesis/src/function_renaming/TFM_function_renaming_dataset_creation.py\", line 498, in createGraphFromNX\n",
      "    x = torch.tensor(x, dtype=torch.float)\n",
      "RuntimeError: Precision loss when unpacking double\n"
     ]
    },
    {
     "name": "stdout",
     "output_type": "stream",
     "text": [
      "tmp/noisy_fixed02/raw/graphs01/Network/filezilla_exe/sub_9736B0_edges.txt\n"
     ]
    },
    {
     "name": "stderr",
     "output_type": "stream",
     "text": [
      "Traceback (most recent call last):\n",
      "  File \"/media/disk/home/pau/Projectes/GNN-MThesis/src/function_renaming/TFM_function_renaming_dataset_creation.py\", line 262, in parseGraph\n",
      "    data = self.createGraphFromNXwithTarget(g,y,xlen,undirected=True)\n",
      "  File \"/media/disk/home/pau/Projectes/GNN-MThesis/src/function_renaming/TFM_function_renaming_dataset_creation.py\", line 512, in createGraphFromNXwithTarget\n",
      "    dataset =  self.createGraphFromNX(g,xlen, undirected)\n",
      "  File \"/media/disk/home/pau/Projectes/GNN-MThesis/src/function_renaming/TFM_function_renaming_dataset_creation.py\", line 498, in createGraphFromNX\n",
      "    x = torch.tensor(x, dtype=torch.float)\n",
      "RuntimeError: Precision loss when unpacking double\n"
     ]
    },
    {
     "name": "stdout",
     "output_type": "stream",
     "text": [
      "tmp/noisy_fixed02/raw/graphs01/Network/filezilla_exe/sub_930C10_edges.txt\n"
     ]
    },
    {
     "name": "stderr",
     "output_type": "stream",
     "text": [
      "Traceback (most recent call last):\n",
      "  File \"/media/disk/home/pau/Projectes/GNN-MThesis/src/function_renaming/TFM_function_renaming_dataset_creation.py\", line 262, in parseGraph\n",
      "    data = self.createGraphFromNXwithTarget(g,y,xlen,undirected=True)\n",
      "  File \"/media/disk/home/pau/Projectes/GNN-MThesis/src/function_renaming/TFM_function_renaming_dataset_creation.py\", line 512, in createGraphFromNXwithTarget\n",
      "    dataset =  self.createGraphFromNX(g,xlen, undirected)\n",
      "  File \"/media/disk/home/pau/Projectes/GNN-MThesis/src/function_renaming/TFM_function_renaming_dataset_creation.py\", line 498, in createGraphFromNX\n",
      "    x = torch.tensor(x, dtype=torch.float)\n",
      "RuntimeError: Precision loss when unpacking double\n"
     ]
    },
    {
     "name": "stdout",
     "output_type": "stream",
     "text": [
      "tmp/noisy_fixed02/raw/graphs01/Network/filezilla_exe/sub_864410_edges.txt\n"
     ]
    },
    {
     "name": "stderr",
     "output_type": "stream",
     "text": [
      "Traceback (most recent call last):\n",
      "  File \"/media/disk/home/pau/Projectes/GNN-MThesis/src/function_renaming/TFM_function_renaming_dataset_creation.py\", line 262, in parseGraph\n",
      "    data = self.createGraphFromNXwithTarget(g,y,xlen,undirected=True)\n",
      "  File \"/media/disk/home/pau/Projectes/GNN-MThesis/src/function_renaming/TFM_function_renaming_dataset_creation.py\", line 512, in createGraphFromNXwithTarget\n",
      "    dataset =  self.createGraphFromNX(g,xlen, undirected)\n",
      "  File \"/media/disk/home/pau/Projectes/GNN-MThesis/src/function_renaming/TFM_function_renaming_dataset_creation.py\", line 498, in createGraphFromNX\n",
      "    x = torch.tensor(x, dtype=torch.float)\n",
      "RuntimeError: Precision loss when unpacking double\n"
     ]
    },
    {
     "name": "stdout",
     "output_type": "stream",
     "text": [
      "tmp/noisy_fixed02/raw/graphs01/Network/filezilla_exe/sub_51D060_edges.txt\n"
     ]
    },
    {
     "name": "stderr",
     "output_type": "stream",
     "text": [
      "Traceback (most recent call last):\n",
      "  File \"/media/disk/home/pau/Projectes/GNN-MThesis/src/function_renaming/TFM_function_renaming_dataset_creation.py\", line 262, in parseGraph\n",
      "    data = self.createGraphFromNXwithTarget(g,y,xlen,undirected=True)\n",
      "  File \"/media/disk/home/pau/Projectes/GNN-MThesis/src/function_renaming/TFM_function_renaming_dataset_creation.py\", line 512, in createGraphFromNXwithTarget\n",
      "    dataset =  self.createGraphFromNX(g,xlen, undirected)\n",
      "  File \"/media/disk/home/pau/Projectes/GNN-MThesis/src/function_renaming/TFM_function_renaming_dataset_creation.py\", line 498, in createGraphFromNX\n",
      "    x = torch.tensor(x, dtype=torch.float)\n",
      "RuntimeError: Precision loss when unpacking double\n"
     ]
    },
    {
     "name": "stdout",
     "output_type": "stream",
     "text": [
      "tmp/noisy_fixed02/raw/graphs01/Network/filezilla_exe/sub_5A1C80_edges.txt\n"
     ]
    },
    {
     "name": "stderr",
     "output_type": "stream",
     "text": [
      "Traceback (most recent call last):\n",
      "  File \"/media/disk/home/pau/Projectes/GNN-MThesis/src/function_renaming/TFM_function_renaming_dataset_creation.py\", line 262, in parseGraph\n",
      "    data = self.createGraphFromNXwithTarget(g,y,xlen,undirected=True)\n",
      "  File \"/media/disk/home/pau/Projectes/GNN-MThesis/src/function_renaming/TFM_function_renaming_dataset_creation.py\", line 512, in createGraphFromNXwithTarget\n",
      "    dataset =  self.createGraphFromNX(g,xlen, undirected)\n",
      "  File \"/media/disk/home/pau/Projectes/GNN-MThesis/src/function_renaming/TFM_function_renaming_dataset_creation.py\", line 498, in createGraphFromNX\n",
      "    x = torch.tensor(x, dtype=torch.float)\n",
      "RuntimeError: Precision loss when unpacking double\n"
     ]
    },
    {
     "name": "stdout",
     "output_type": "stream",
     "text": [
      "tmp/noisy_fixed02/raw/graphs01/Network/filezilla_exe/sub_97A140_edges.txt\n"
     ]
    },
    {
     "name": "stderr",
     "output_type": "stream",
     "text": [
      "Traceback (most recent call last):\n",
      "  File \"/media/disk/home/pau/Projectes/GNN-MThesis/src/function_renaming/TFM_function_renaming_dataset_creation.py\", line 262, in parseGraph\n",
      "    data = self.createGraphFromNXwithTarget(g,y,xlen,undirected=True)\n",
      "  File \"/media/disk/home/pau/Projectes/GNN-MThesis/src/function_renaming/TFM_function_renaming_dataset_creation.py\", line 512, in createGraphFromNXwithTarget\n",
      "    dataset =  self.createGraphFromNX(g,xlen, undirected)\n",
      "  File \"/media/disk/home/pau/Projectes/GNN-MThesis/src/function_renaming/TFM_function_renaming_dataset_creation.py\", line 498, in createGraphFromNX\n",
      "    x = torch.tensor(x, dtype=torch.float)\n",
      "RuntimeError: Precision loss when unpacking double\n"
     ]
    },
    {
     "name": "stdout",
     "output_type": "stream",
     "text": [
      "tmp/noisy_fixed02/raw/graphs01/Network/filezilla_exe/sub_933C00_edges.txt\n"
     ]
    },
    {
     "name": "stderr",
     "output_type": "stream",
     "text": [
      "Traceback (most recent call last):\n",
      "  File \"/media/disk/home/pau/Projectes/GNN-MThesis/src/function_renaming/TFM_function_renaming_dataset_creation.py\", line 262, in parseGraph\n",
      "    data = self.createGraphFromNXwithTarget(g,y,xlen,undirected=True)\n",
      "  File \"/media/disk/home/pau/Projectes/GNN-MThesis/src/function_renaming/TFM_function_renaming_dataset_creation.py\", line 512, in createGraphFromNXwithTarget\n",
      "    dataset =  self.createGraphFromNX(g,xlen, undirected)\n",
      "  File \"/media/disk/home/pau/Projectes/GNN-MThesis/src/function_renaming/TFM_function_renaming_dataset_creation.py\", line 498, in createGraphFromNX\n",
      "    x = torch.tensor(x, dtype=torch.float)\n",
      "RuntimeError: Precision loss when unpacking double\n"
     ]
    },
    {
     "name": "stdout",
     "output_type": "stream",
     "text": [
      "tmp/noisy_fixed02/raw/graphs01/Network/filezilla_exe/sub_5F6080_edges.txt\n"
     ]
    },
    {
     "name": "stderr",
     "output_type": "stream",
     "text": [
      "Traceback (most recent call last):\n",
      "  File \"/media/disk/home/pau/Projectes/GNN-MThesis/src/function_renaming/TFM_function_renaming_dataset_creation.py\", line 262, in parseGraph\n",
      "    data = self.createGraphFromNXwithTarget(g,y,xlen,undirected=True)\n",
      "  File \"/media/disk/home/pau/Projectes/GNN-MThesis/src/function_renaming/TFM_function_renaming_dataset_creation.py\", line 512, in createGraphFromNXwithTarget\n",
      "    dataset =  self.createGraphFromNX(g,xlen, undirected)\n",
      "  File \"/media/disk/home/pau/Projectes/GNN-MThesis/src/function_renaming/TFM_function_renaming_dataset_creation.py\", line 498, in createGraphFromNX\n",
      "    x = torch.tensor(x, dtype=torch.float)\n",
      "RuntimeError: Precision loss when unpacking double\n"
     ]
    },
    {
     "name": "stdout",
     "output_type": "stream",
     "text": [
      "tmp/noisy_fixed02/raw/graphs01/Network/filezilla_exe/sub_45FE00_edges.txt\n"
     ]
    },
    {
     "name": "stderr",
     "output_type": "stream",
     "text": [
      "Traceback (most recent call last):\n",
      "  File \"/media/disk/home/pau/Projectes/GNN-MThesis/src/function_renaming/TFM_function_renaming_dataset_creation.py\", line 262, in parseGraph\n",
      "    data = self.createGraphFromNXwithTarget(g,y,xlen,undirected=True)\n",
      "  File \"/media/disk/home/pau/Projectes/GNN-MThesis/src/function_renaming/TFM_function_renaming_dataset_creation.py\", line 512, in createGraphFromNXwithTarget\n",
      "    dataset =  self.createGraphFromNX(g,xlen, undirected)\n",
      "  File \"/media/disk/home/pau/Projectes/GNN-MThesis/src/function_renaming/TFM_function_renaming_dataset_creation.py\", line 498, in createGraphFromNX\n",
      "    x = torch.tensor(x, dtype=torch.float)\n",
      "RuntimeError: Precision loss when unpacking double\n"
     ]
    },
    {
     "name": "stdout",
     "output_type": "stream",
     "text": [
      "tmp/noisy_fixed02/raw/graphs01/Network/filezilla_exe/sub_86DDA0_edges.txt\n"
     ]
    },
    {
     "name": "stderr",
     "output_type": "stream",
     "text": [
      "Traceback (most recent call last):\n",
      "  File \"/media/disk/home/pau/Projectes/GNN-MThesis/src/function_renaming/TFM_function_renaming_dataset_creation.py\", line 262, in parseGraph\n",
      "    data = self.createGraphFromNXwithTarget(g,y,xlen,undirected=True)\n",
      "  File \"/media/disk/home/pau/Projectes/GNN-MThesis/src/function_renaming/TFM_function_renaming_dataset_creation.py\", line 512, in createGraphFromNXwithTarget\n",
      "    dataset =  self.createGraphFromNX(g,xlen, undirected)\n",
      "  File \"/media/disk/home/pau/Projectes/GNN-MThesis/src/function_renaming/TFM_function_renaming_dataset_creation.py\", line 498, in createGraphFromNX\n",
      "    x = torch.tensor(x, dtype=torch.float)\n",
      "RuntimeError: Precision loss when unpacking double\n"
     ]
    },
    {
     "name": "stdout",
     "output_type": "stream",
     "text": [
      "tmp/noisy_fixed02/raw/graphs01/Network/filezilla_exe/sub_91FFA0_edges.txt\n"
     ]
    },
    {
     "name": "stderr",
     "output_type": "stream",
     "text": [
      "Traceback (most recent call last):\n",
      "  File \"/media/disk/home/pau/Projectes/GNN-MThesis/src/function_renaming/TFM_function_renaming_dataset_creation.py\", line 262, in parseGraph\n",
      "    data = self.createGraphFromNXwithTarget(g,y,xlen,undirected=True)\n",
      "  File \"/media/disk/home/pau/Projectes/GNN-MThesis/src/function_renaming/TFM_function_renaming_dataset_creation.py\", line 512, in createGraphFromNXwithTarget\n",
      "    dataset =  self.createGraphFromNX(g,xlen, undirected)\n",
      "  File \"/media/disk/home/pau/Projectes/GNN-MThesis/src/function_renaming/TFM_function_renaming_dataset_creation.py\", line 498, in createGraphFromNX\n",
      "    x = torch.tensor(x, dtype=torch.float)\n",
      "RuntimeError: Precision loss when unpacking double\n"
     ]
    },
    {
     "name": "stdout",
     "output_type": "stream",
     "text": [
      "tmp/noisy_fixed02/raw/graphs01/Network/filezilla_exe/sub_7338E0_edges.txt\n"
     ]
    },
    {
     "name": "stderr",
     "output_type": "stream",
     "text": [
      "Traceback (most recent call last):\n",
      "  File \"/media/disk/home/pau/Projectes/GNN-MThesis/src/function_renaming/TFM_function_renaming_dataset_creation.py\", line 262, in parseGraph\n",
      "    data = self.createGraphFromNXwithTarget(g,y,xlen,undirected=True)\n",
      "  File \"/media/disk/home/pau/Projectes/GNN-MThesis/src/function_renaming/TFM_function_renaming_dataset_creation.py\", line 512, in createGraphFromNXwithTarget\n",
      "    dataset =  self.createGraphFromNX(g,xlen, undirected)\n",
      "  File \"/media/disk/home/pau/Projectes/GNN-MThesis/src/function_renaming/TFM_function_renaming_dataset_creation.py\", line 498, in createGraphFromNX\n",
      "    x = torch.tensor(x, dtype=torch.float)\n",
      "RuntimeError: Precision loss when unpacking double\n"
     ]
    },
    {
     "name": "stdout",
     "output_type": "stream",
     "text": [
      "tmp/noisy_fixed02/raw/graphs01/Network/filezilla_exe/sub_97DFE0_edges.txt\n"
     ]
    },
    {
     "name": "stderr",
     "output_type": "stream",
     "text": [
      "Traceback (most recent call last):\n",
      "  File \"/media/disk/home/pau/Projectes/GNN-MThesis/src/function_renaming/TFM_function_renaming_dataset_creation.py\", line 262, in parseGraph\n",
      "    data = self.createGraphFromNXwithTarget(g,y,xlen,undirected=True)\n",
      "  File \"/media/disk/home/pau/Projectes/GNN-MThesis/src/function_renaming/TFM_function_renaming_dataset_creation.py\", line 512, in createGraphFromNXwithTarget\n",
      "    dataset =  self.createGraphFromNX(g,xlen, undirected)\n",
      "  File \"/media/disk/home/pau/Projectes/GNN-MThesis/src/function_renaming/TFM_function_renaming_dataset_creation.py\", line 498, in createGraphFromNX\n",
      "    x = torch.tensor(x, dtype=torch.float)\n",
      "RuntimeError: Precision loss when unpacking double\n"
     ]
    },
    {
     "name": "stdout",
     "output_type": "stream",
     "text": [
      "tmp/noisy_fixed02/raw/graphs01/Network/filezilla_exe/sub_75FF70_edges.txt\n"
     ]
    },
    {
     "name": "stderr",
     "output_type": "stream",
     "text": [
      "Traceback (most recent call last):\n",
      "  File \"/media/disk/home/pau/Projectes/GNN-MThesis/src/function_renaming/TFM_function_renaming_dataset_creation.py\", line 262, in parseGraph\n",
      "    data = self.createGraphFromNXwithTarget(g,y,xlen,undirected=True)\n",
      "  File \"/media/disk/home/pau/Projectes/GNN-MThesis/src/function_renaming/TFM_function_renaming_dataset_creation.py\", line 512, in createGraphFromNXwithTarget\n",
      "    dataset =  self.createGraphFromNX(g,xlen, undirected)\n",
      "  File \"/media/disk/home/pau/Projectes/GNN-MThesis/src/function_renaming/TFM_function_renaming_dataset_creation.py\", line 498, in createGraphFromNX\n",
      "    x = torch.tensor(x, dtype=torch.float)\n",
      "RuntimeError: Precision loss when unpacking double\n"
     ]
    },
    {
     "name": "stdout",
     "output_type": "stream",
     "text": [
      "tmp/noisy_fixed02/raw/graphs01/Network/filezilla_exe/sub_5CE760_edges.txt\n"
     ]
    },
    {
     "name": "stderr",
     "output_type": "stream",
     "text": [
      "Traceback (most recent call last):\n",
      "  File \"/media/disk/home/pau/Projectes/GNN-MThesis/src/function_renaming/TFM_function_renaming_dataset_creation.py\", line 262, in parseGraph\n",
      "    data = self.createGraphFromNXwithTarget(g,y,xlen,undirected=True)\n",
      "  File \"/media/disk/home/pau/Projectes/GNN-MThesis/src/function_renaming/TFM_function_renaming_dataset_creation.py\", line 512, in createGraphFromNXwithTarget\n",
      "    dataset =  self.createGraphFromNX(g,xlen, undirected)\n",
      "  File \"/media/disk/home/pau/Projectes/GNN-MThesis/src/function_renaming/TFM_function_renaming_dataset_creation.py\", line 498, in createGraphFromNX\n",
      "    x = torch.tensor(x, dtype=torch.float)\n",
      "RuntimeError: Precision loss when unpacking double\n"
     ]
    },
    {
     "name": "stdout",
     "output_type": "stream",
     "text": [
      "tmp/noisy_fixed02/raw/graphs01/Network/filezilla_exe/sub_7EE560_edges.txt\n"
     ]
    },
    {
     "name": "stderr",
     "output_type": "stream",
     "text": [
      "Traceback (most recent call last):\n",
      "  File \"/media/disk/home/pau/Projectes/GNN-MThesis/src/function_renaming/TFM_function_renaming_dataset_creation.py\", line 262, in parseGraph\n",
      "    data = self.createGraphFromNXwithTarget(g,y,xlen,undirected=True)\n",
      "  File \"/media/disk/home/pau/Projectes/GNN-MThesis/src/function_renaming/TFM_function_renaming_dataset_creation.py\", line 512, in createGraphFromNXwithTarget\n",
      "    dataset =  self.createGraphFromNX(g,xlen, undirected)\n",
      "  File \"/media/disk/home/pau/Projectes/GNN-MThesis/src/function_renaming/TFM_function_renaming_dataset_creation.py\", line 498, in createGraphFromNX\n",
      "    x = torch.tensor(x, dtype=torch.float)\n",
      "RuntimeError: Precision loss when unpacking double\n"
     ]
    },
    {
     "name": "stdout",
     "output_type": "stream",
     "text": [
      "tmp/noisy_fixed02/raw/graphs01/Network/filezilla_exe/sub_40A690_edges.txt\n"
     ]
    },
    {
     "name": "stderr",
     "output_type": "stream",
     "text": [
      "Traceback (most recent call last):\n",
      "  File \"/media/disk/home/pau/Projectes/GNN-MThesis/src/function_renaming/TFM_function_renaming_dataset_creation.py\", line 262, in parseGraph\n",
      "    data = self.createGraphFromNXwithTarget(g,y,xlen,undirected=True)\n",
      "  File \"/media/disk/home/pau/Projectes/GNN-MThesis/src/function_renaming/TFM_function_renaming_dataset_creation.py\", line 512, in createGraphFromNXwithTarget\n",
      "    dataset =  self.createGraphFromNX(g,xlen, undirected)\n",
      "  File \"/media/disk/home/pau/Projectes/GNN-MThesis/src/function_renaming/TFM_function_renaming_dataset_creation.py\", line 498, in createGraphFromNX\n",
      "    x = torch.tensor(x, dtype=torch.float)\n",
      "RuntimeError: Precision loss when unpacking double\n"
     ]
    },
    {
     "name": "stdout",
     "output_type": "stream",
     "text": [
      "tmp/noisy_fixed02/raw/graphs01/Network/filezilla_exe/sub_456A40_edges.txt\n"
     ]
    },
    {
     "name": "stderr",
     "output_type": "stream",
     "text": [
      "Traceback (most recent call last):\n",
      "  File \"/media/disk/home/pau/Projectes/GNN-MThesis/src/function_renaming/TFM_function_renaming_dataset_creation.py\", line 262, in parseGraph\n",
      "    data = self.createGraphFromNXwithTarget(g,y,xlen,undirected=True)\n",
      "  File \"/media/disk/home/pau/Projectes/GNN-MThesis/src/function_renaming/TFM_function_renaming_dataset_creation.py\", line 512, in createGraphFromNXwithTarget\n",
      "    dataset =  self.createGraphFromNX(g,xlen, undirected)\n",
      "  File \"/media/disk/home/pau/Projectes/GNN-MThesis/src/function_renaming/TFM_function_renaming_dataset_creation.py\", line 498, in createGraphFromNX\n",
      "    x = torch.tensor(x, dtype=torch.float)\n",
      "RuntimeError: Precision loss when unpacking double\n"
     ]
    },
    {
     "name": "stdout",
     "output_type": "stream",
     "text": [
      "tmp/noisy_fixed02/raw/graphs01/Network/filezilla_exe/sub_5C46C0_edges.txt\n"
     ]
    },
    {
     "name": "stderr",
     "output_type": "stream",
     "text": [
      "Traceback (most recent call last):\n",
      "  File \"/media/disk/home/pau/Projectes/GNN-MThesis/src/function_renaming/TFM_function_renaming_dataset_creation.py\", line 262, in parseGraph\n",
      "    data = self.createGraphFromNXwithTarget(g,y,xlen,undirected=True)\n",
      "  File \"/media/disk/home/pau/Projectes/GNN-MThesis/src/function_renaming/TFM_function_renaming_dataset_creation.py\", line 512, in createGraphFromNXwithTarget\n",
      "    dataset =  self.createGraphFromNX(g,xlen, undirected)\n",
      "  File \"/media/disk/home/pau/Projectes/GNN-MThesis/src/function_renaming/TFM_function_renaming_dataset_creation.py\", line 498, in createGraphFromNX\n",
      "    x = torch.tensor(x, dtype=torch.float)\n",
      "RuntimeError: Precision loss when unpacking double\n"
     ]
    },
    {
     "name": "stdout",
     "output_type": "stream",
     "text": [
      "tmp/noisy_fixed02/raw/graphs01/Network/filezilla_exe/sub_50BF40_edges.txt\n",
      "tmp/noisy_fixed02/raw/graphs01/Network/filezilla_exe/sub_5CEB80_edges.txt\n"
     ]
    },
    {
     "name": "stderr",
     "output_type": "stream",
     "text": [
      "Traceback (most recent call last):\n",
      "  File \"/media/disk/home/pau/Projectes/GNN-MThesis/src/function_renaming/TFM_function_renaming_dataset_creation.py\", line 262, in parseGraph\n",
      "    data = self.createGraphFromNXwithTarget(g,y,xlen,undirected=True)\n",
      "  File \"/media/disk/home/pau/Projectes/GNN-MThesis/src/function_renaming/TFM_function_renaming_dataset_creation.py\", line 512, in createGraphFromNXwithTarget\n",
      "    dataset =  self.createGraphFromNX(g,xlen, undirected)\n",
      "  File \"/media/disk/home/pau/Projectes/GNN-MThesis/src/function_renaming/TFM_function_renaming_dataset_creation.py\", line 498, in createGraphFromNX\n",
      "    x = torch.tensor(x, dtype=torch.float)\n",
      "RuntimeError: Precision loss when unpacking double\n",
      "Traceback (most recent call last):\n",
      "  File \"/media/disk/home/pau/Projectes/GNN-MThesis/src/function_renaming/TFM_function_renaming_dataset_creation.py\", line 262, in parseGraph\n",
      "    data = self.createGraphFromNXwithTarget(g,y,xlen,undirected=True)\n",
      "  File \"/media/disk/home/pau/Projectes/GNN-MThesis/src/function_renaming/TFM_function_renaming_dataset_creation.py\", line 512, in createGraphFromNXwithTarget\n",
      "    dataset =  self.createGraphFromNX(g,xlen, undirected)\n",
      "  File \"/media/disk/home/pau/Projectes/GNN-MThesis/src/function_renaming/TFM_function_renaming_dataset_creation.py\", line 498, in createGraphFromNX\n",
      "    x = torch.tensor(x, dtype=torch.float)\n",
      "RuntimeError: Precision loss when unpacking double\n"
     ]
    },
    {
     "name": "stdout",
     "output_type": "stream",
     "text": [
      "tmp/noisy_fixed02/raw/graphs01/Network/filezilla_exe/sub_838120_edges.txt\n"
     ]
    },
    {
     "name": "stderr",
     "output_type": "stream",
     "text": [
      "Traceback (most recent call last):\n",
      "  File \"/media/disk/home/pau/Projectes/GNN-MThesis/src/function_renaming/TFM_function_renaming_dataset_creation.py\", line 262, in parseGraph\n",
      "    data = self.createGraphFromNXwithTarget(g,y,xlen,undirected=True)\n",
      "  File \"/media/disk/home/pau/Projectes/GNN-MThesis/src/function_renaming/TFM_function_renaming_dataset_creation.py\", line 512, in createGraphFromNXwithTarget\n",
      "    dataset =  self.createGraphFromNX(g,xlen, undirected)\n",
      "  File \"/media/disk/home/pau/Projectes/GNN-MThesis/src/function_renaming/TFM_function_renaming_dataset_creation.py\", line 498, in createGraphFromNX\n",
      "    x = torch.tensor(x, dtype=torch.float)\n",
      "RuntimeError: Precision loss when unpacking double\n"
     ]
    },
    {
     "name": "stdout",
     "output_type": "stream",
     "text": [
      "tmp/noisy_fixed02/raw/graphs01/Network/filezilla_exe/sub_4310B0_edges.txt\n"
     ]
    },
    {
     "name": "stderr",
     "output_type": "stream",
     "text": [
      "Traceback (most recent call last):\n",
      "  File \"/media/disk/home/pau/Projectes/GNN-MThesis/src/function_renaming/TFM_function_renaming_dataset_creation.py\", line 262, in parseGraph\n",
      "    data = self.createGraphFromNXwithTarget(g,y,xlen,undirected=True)\n",
      "  File \"/media/disk/home/pau/Projectes/GNN-MThesis/src/function_renaming/TFM_function_renaming_dataset_creation.py\", line 512, in createGraphFromNXwithTarget\n",
      "    dataset =  self.createGraphFromNX(g,xlen, undirected)\n",
      "  File \"/media/disk/home/pau/Projectes/GNN-MThesis/src/function_renaming/TFM_function_renaming_dataset_creation.py\", line 498, in createGraphFromNX\n",
      "    x = torch.tensor(x, dtype=torch.float)\n",
      "RuntimeError: Precision loss when unpacking double\n"
     ]
    },
    {
     "name": "stdout",
     "output_type": "stream",
     "text": [
      "tmp/noisy_fixed02/raw/graphs01/Network/filezilla_exe/sub_5C3700_edges.txt\n"
     ]
    },
    {
     "name": "stderr",
     "output_type": "stream",
     "text": [
      "Traceback (most recent call last):\n",
      "  File \"/media/disk/home/pau/Projectes/GNN-MThesis/src/function_renaming/TFM_function_renaming_dataset_creation.py\", line 262, in parseGraph\n",
      "    data = self.createGraphFromNXwithTarget(g,y,xlen,undirected=True)\n",
      "  File \"/media/disk/home/pau/Projectes/GNN-MThesis/src/function_renaming/TFM_function_renaming_dataset_creation.py\", line 512, in createGraphFromNXwithTarget\n",
      "    dataset =  self.createGraphFromNX(g,xlen, undirected)\n",
      "  File \"/media/disk/home/pau/Projectes/GNN-MThesis/src/function_renaming/TFM_function_renaming_dataset_creation.py\", line 498, in createGraphFromNX\n",
      "    x = torch.tensor(x, dtype=torch.float)\n",
      "RuntimeError: Precision loss when unpacking double\n"
     ]
    },
    {
     "name": "stdout",
     "output_type": "stream",
     "text": [
      "tmp/noisy_fixed02/raw/graphs01/Network/filezilla_exe/sub_7A24F0_edges.txt\n"
     ]
    },
    {
     "name": "stderr",
     "output_type": "stream",
     "text": [
      "Traceback (most recent call last):\n",
      "  File \"/media/disk/home/pau/Projectes/GNN-MThesis/src/function_renaming/TFM_function_renaming_dataset_creation.py\", line 262, in parseGraph\n",
      "    data = self.createGraphFromNXwithTarget(g,y,xlen,undirected=True)\n",
      "  File \"/media/disk/home/pau/Projectes/GNN-MThesis/src/function_renaming/TFM_function_renaming_dataset_creation.py\", line 512, in createGraphFromNXwithTarget\n",
      "    dataset =  self.createGraphFromNX(g,xlen, undirected)\n",
      "  File \"/media/disk/home/pau/Projectes/GNN-MThesis/src/function_renaming/TFM_function_renaming_dataset_creation.py\", line 498, in createGraphFromNX\n",
      "    x = torch.tensor(x, dtype=torch.float)\n",
      "RuntimeError: Precision loss when unpacking double\n"
     ]
    },
    {
     "name": "stdout",
     "output_type": "stream",
     "text": [
      "tmp/noisy_fixed02/raw/graphs01/Network/filezilla_exe/sub_955AF0_edges.txt\n"
     ]
    },
    {
     "name": "stderr",
     "output_type": "stream",
     "text": [
      "Traceback (most recent call last):\n",
      "  File \"/media/disk/home/pau/Projectes/GNN-MThesis/src/function_renaming/TFM_function_renaming_dataset_creation.py\", line 262, in parseGraph\n",
      "    data = self.createGraphFromNXwithTarget(g,y,xlen,undirected=True)\n",
      "  File \"/media/disk/home/pau/Projectes/GNN-MThesis/src/function_renaming/TFM_function_renaming_dataset_creation.py\", line 512, in createGraphFromNXwithTarget\n",
      "    dataset =  self.createGraphFromNX(g,xlen, undirected)\n",
      "  File \"/media/disk/home/pau/Projectes/GNN-MThesis/src/function_renaming/TFM_function_renaming_dataset_creation.py\", line 498, in createGraphFromNX\n",
      "    x = torch.tensor(x, dtype=torch.float)\n",
      "RuntimeError: Precision loss when unpacking double\n"
     ]
    },
    {
     "name": "stdout",
     "output_type": "stream",
     "text": [
      "tmp/noisy_fixed02/raw/graphs01/Network/filezilla_exe/sub_63C1C0_edges.txt\n"
     ]
    },
    {
     "name": "stderr",
     "output_type": "stream",
     "text": [
      "Traceback (most recent call last):\n",
      "  File \"/media/disk/home/pau/Projectes/GNN-MThesis/src/function_renaming/TFM_function_renaming_dataset_creation.py\", line 262, in parseGraph\n",
      "    data = self.createGraphFromNXwithTarget(g,y,xlen,undirected=True)\n",
      "  File \"/media/disk/home/pau/Projectes/GNN-MThesis/src/function_renaming/TFM_function_renaming_dataset_creation.py\", line 512, in createGraphFromNXwithTarget\n",
      "    dataset =  self.createGraphFromNX(g,xlen, undirected)\n",
      "  File \"/media/disk/home/pau/Projectes/GNN-MThesis/src/function_renaming/TFM_function_renaming_dataset_creation.py\", line 498, in createGraphFromNX\n",
      "    x = torch.tensor(x, dtype=torch.float)\n",
      "RuntimeError: Precision loss when unpacking double\n"
     ]
    },
    {
     "name": "stdout",
     "output_type": "stream",
     "text": [
      "tmp/noisy_fixed02/raw/graphs01/Network/filezilla_exe/sub_5D0CF0_edges.txt\n"
     ]
    },
    {
     "name": "stderr",
     "output_type": "stream",
     "text": [
      "Traceback (most recent call last):\n",
      "  File \"/media/disk/home/pau/Projectes/GNN-MThesis/src/function_renaming/TFM_function_renaming_dataset_creation.py\", line 262, in parseGraph\n",
      "    data = self.createGraphFromNXwithTarget(g,y,xlen,undirected=True)\n",
      "  File \"/media/disk/home/pau/Projectes/GNN-MThesis/src/function_renaming/TFM_function_renaming_dataset_creation.py\", line 512, in createGraphFromNXwithTarget\n",
      "    dataset =  self.createGraphFromNX(g,xlen, undirected)\n",
      "  File \"/media/disk/home/pau/Projectes/GNN-MThesis/src/function_renaming/TFM_function_renaming_dataset_creation.py\", line 498, in createGraphFromNX\n",
      "    x = torch.tensor(x, dtype=torch.float)\n",
      "RuntimeError: Precision loss when unpacking double\n"
     ]
    },
    {
     "name": "stdout",
     "output_type": "stream",
     "text": [
      "{ \"type\":_\"phrase\",_\"content\":_\"[esi]      ; lpMem\"}\n",
      "{ \"type\":_\"phrase\",_\"content\":_\"[esi]      ; lpMem\"}\n",
      "{ \"type\":_\"phrase\",_\"content\":_\"[esi]      ; lpMem\"}\n",
      "{ \"type\":_\"phrase\",_\"content\":_\"[ebx]      ; nIDDlgItem\"}\n",
      "{ \"type\":_\"phrase\",_\"content\":_\"[rbx]      ; Ptr\"}\n",
      "tmp/noisy_fixed02/raw/graphs01/Disk/streams64_exe/sub_140004C00_edges.txt\n"
     ]
    },
    {
     "name": "stderr",
     "output_type": "stream",
     "text": [
      "Traceback (most recent call last):\n",
      "  File \"/media/disk/home/pau/Projectes/GNN-MThesis/src/function_renaming/TFM_function_renaming_dataset_creation.py\", line 262, in parseGraph\n",
      "    data = self.createGraphFromNXwithTarget(g,y,xlen,undirected=True)\n",
      "  File \"/media/disk/home/pau/Projectes/GNN-MThesis/src/function_renaming/TFM_function_renaming_dataset_creation.py\", line 512, in createGraphFromNXwithTarget\n",
      "    dataset =  self.createGraphFromNX(g,xlen, undirected)\n",
      "  File \"/media/disk/home/pau/Projectes/GNN-MThesis/src/function_renaming/TFM_function_renaming_dataset_creation.py\", line 498, in createGraphFromNX\n",
      "    x = torch.tensor(x, dtype=torch.float)\n",
      "RuntimeError: Precision loss when unpacking double\n"
     ]
    },
    {
     "name": "stdout",
     "output_type": "stream",
     "text": [
      "{ \"type\":_\"phrase\",_\"content\":_\"[rsi]      ; hFile\"}\n",
      "{ \"type\":_\"phrase\",_\"content\":_\"[r15+rcx]  ; hFile\"}\n",
      "{ \"type\":_\"phrase\",_\"content\":_\"[rdi]      ; Ptr\"}\n",
      "{ \"type\":_\"phrase\",_\"content\":_\"[rcx]      ; Microsoft VisualC v7/11 64bit runtime\"}\n",
      "{ \"type\":_\"phrase\",_\"content\":_\"[rax+rcx]  ; hFile\"}\n",
      "{ \"type\":_\"phrase\",_\"content\":_\"[rdi]      ; pOwner\"}\n",
      "{ \"type\":_\"phrase\",_\"content\":_\"[rcx]      ; Microsoft VisualC v7/11 64bit runtime\"}\n",
      "{ \"type\":_\"phrase\",_\"content\":_\"[rbx]      ; Ptr\"}\n",
      "{ \"type\":_\"phrase\",_\"content\":_\"[rdi]      ; Ptr\"}\n",
      "tmp/noisy_fixed02/raw/graphs01/Disk/ru64_exe/sub_140004F90_edges.txt\n"
     ]
    },
    {
     "name": "stderr",
     "output_type": "stream",
     "text": [
      "Traceback (most recent call last):\n",
      "  File \"/media/disk/home/pau/Projectes/GNN-MThesis/src/function_renaming/TFM_function_renaming_dataset_creation.py\", line 262, in parseGraph\n",
      "    data = self.createGraphFromNXwithTarget(g,y,xlen,undirected=True)\n",
      "  File \"/media/disk/home/pau/Projectes/GNN-MThesis/src/function_renaming/TFM_function_renaming_dataset_creation.py\", line 512, in createGraphFromNXwithTarget\n",
      "    dataset =  self.createGraphFromNX(g,xlen, undirected)\n",
      "  File \"/media/disk/home/pau/Projectes/GNN-MThesis/src/function_renaming/TFM_function_renaming_dataset_creation.py\", line 498, in createGraphFromNX\n",
      "    x = torch.tensor(x, dtype=torch.float)\n",
      "RuntimeError: Precision loss when unpacking double\n"
     ]
    },
    {
     "name": "stdout",
     "output_type": "stream",
     "text": [
      "{ \"type\":_\"phrase\",_\"content\":_\"[rsi]      ; hFile\"}\n",
      "{ \"type\":_\"phrase\",_\"content\":_\"[rax+rcx]  ; hFile\"}\n",
      "{ \"type\":_\"phrase\",_\"content\":_\"[rbx]      ; String\"}\n",
      "tmp/noisy_fixed02/raw/graphs01/Disk/regshot_x64_exe/memmove_edges.txt\n",
      "{ \"type\":_\"phrase\",_\"content\":_\"[rsi]       ; lpString\"}\n",
      "{ \"type\":_\"phrase\",_\"content\":_\"[rdi]       ; lpMem\"}\n"
     ]
    },
    {
     "name": "stderr",
     "output_type": "stream",
     "text": [
      "Traceback (most recent call last):\n",
      "  File \"/home/pau/.pyenv/versions/3.6.7/envs/gnn-pytorch/lib/python3.6/site-packages/networkx/readwrite/edgelist.py\", line 277, in parse_edgelist\n",
      "    edgedata = dict(literal_eval(' '.join(d)))\n",
      "  File \"/home/pau/.pyenv/versions/3.6.7/lib/python3.6/ast.py\", line 48, in literal_eval\n",
      "    node_or_string = parse(node_or_string, mode='eval')\n",
      "  File \"/home/pau/.pyenv/versions/3.6.7/lib/python3.6/ast.py\", line 35, in parse\n",
      "    return compile(source, filename, mode, PyCF_ONLY_AST)\n",
      "  File \"<unknown>\", line 1\n",
      "    pbyte { \"type\": \"phrase\" }\n",
      "          ^\n",
      "SyntaxError: invalid syntax\n",
      "\n",
      "During handling of the above exception, another exception occurred:\n",
      "\n",
      "Traceback (most recent call last):\n",
      "  File \"/media/disk/home/pau/Projectes/GNN-MThesis/src/function_renaming/TFM_function_renaming_dataset_creation.py\", line 260, in parseGraph\n",
      "    g = readGraph('',filename)\n",
      "  File \"/media/disk/home/pau/Projectes/GNN-MThesis/src/function_renaming/TFM_function_renaming_dataset_creation.py\", line 66, in readGraph\n",
      "    g = nx.read_edgelist(folder+filename)\n",
      "  File \"</home/pau/.pyenv/versions/3.6.7/envs/gnn-pytorch/lib/python3.6/site-packages/decorator.py:decorator-gen-707>\", line 2, in read_edgelist\n",
      "  File \"/home/pau/.pyenv/versions/3.6.7/envs/gnn-pytorch/lib/python3.6/site-packages/networkx/utils/decorators.py\", line 240, in _open_file\n",
      "    result = func_to_be_decorated(*new_args, **kwargs)\n",
      "  File \"/home/pau/.pyenv/versions/3.6.7/envs/gnn-pytorch/lib/python3.6/site-packages/networkx/readwrite/edgelist.py\", line 369, in read_edgelist\n",
      "    data=data)\n",
      "  File \"/home/pau/.pyenv/versions/3.6.7/envs/gnn-pytorch/lib/python3.6/site-packages/networkx/readwrite/edgelist.py\", line 280, in parse_edgelist\n",
      "    \"Failed to convert edge data (%s) to dictionary.\" % (d))\n",
      "TypeError: Failed to convert edge data (['pbyte', '{', '\"type\":', '\"phrase\"', '}']) to dictionary.\n"
     ]
    },
    {
     "name": "stdout",
     "output_type": "stream",
     "text": [
      "{ \"type\":_\"phrase\",_\"content\":_\"[rbx]      ; Ptr\"}\n",
      "{ \"type\":_\"phrase\",_\"content\":_\"[r14]      ; lpBuffer\"}\n",
      "tmp/noisy_fixed02/raw/graphs01/Disk/regshot_x64_exe/memset_edges.txt\n"
     ]
    },
    {
     "name": "stderr",
     "output_type": "stream",
     "text": [
      "Traceback (most recent call last):\n",
      "  File \"/media/disk/home/pau/Projectes/GNN-MThesis/src/function_renaming/TFM_function_renaming_dataset_creation.py\", line 262, in parseGraph\n",
      "    data = self.createGraphFromNXwithTarget(g,y,xlen,undirected=True)\n",
      "  File \"/media/disk/home/pau/Projectes/GNN-MThesis/src/function_renaming/TFM_function_renaming_dataset_creation.py\", line 512, in createGraphFromNXwithTarget\n",
      "    dataset =  self.createGraphFromNX(g,xlen, undirected)\n",
      "  File \"/media/disk/home/pau/Projectes/GNN-MThesis/src/function_renaming/TFM_function_renaming_dataset_creation.py\", line 498, in createGraphFromNX\n",
      "    x = torch.tensor(x, dtype=torch.float)\n",
      "RuntimeError: Precision loss when unpacking double\n"
     ]
    },
    {
     "name": "stdout",
     "output_type": "stream",
     "text": [
      "{ \"type\":_\"phrase\",_\"content\":_\"[rdi]      ; Ptr\"}\n",
      "{ \"type\":_\"phrase\",_\"content\":_\"[r12]      ; hFile\"}\n",
      "{ \"type\":_\"phrase\",_\"content\":_\"[rbx]       ; lpMem\"}\n",
      "{ \"type\":_\"phrase\",_\"content\":_\"[rdx]      ; Str2\"}\n",
      "{ \"type\":_\"phrase\",_\"content\":_\"[r15+rcx]  ; hConsoleHandle\"}\n",
      "{ \"type\":_\"phrase\",_\"content\":_\"[r15+rcx]  ; hFile\"}\n",
      "{ \"type\":_\"phrase\",_\"content\":_\"[rax+rcx]  ; hFile\"}\n",
      "{ \"type\":_\"phrase\",_\"content\":_\"[rcx]      ; Microsoft VisualC v7/11 64bit runtime\"}\n",
      "{ \"type\":_\"phrase\",_\"content\":_\"[rcx]      ; lpMem\"}\n",
      "{ \"type\":_\"phrase\",_\"content\":_\"[rdi]       ; lpMem\"}\n",
      "{ \"type\":_\"phrase\",_\"content\":_\"[rsi]      ; lpBuffer\"}\n",
      "{ \"type\":_\"phrase\",_\"content\":_\"[rbx]      ; lpBuffer\"}\n",
      "{ \"type\":_\"phrase\",_\"content\":_\"[rbx]       ; lpMem\"}\n",
      "{ \"type\":_\"phrase\",_\"content\":_\"[rcx]      ; Microsoft VisualC v7/11 64bit runtime\"}\n",
      "{ \"type\":_\"phrase\",_\"content\":_\"[rbx]      ; Ptr\"}\n",
      "{ \"type\":_\"phrase\",_\"content\":_\"[rsi]      ; hFile\"}\n",
      "{ \"type\":_\"phrase\",_\"content\":_\"[rax+rcx]  ; hFile\"}\n",
      "tmp/noisy_fixed02/raw/graphs01/Disk/sync64_exe/sub_140004C70_edges.txt\n"
     ]
    },
    {
     "name": "stderr",
     "output_type": "stream",
     "text": [
      "Traceback (most recent call last):\n",
      "  File \"/media/disk/home/pau/Projectes/GNN-MThesis/src/function_renaming/TFM_function_renaming_dataset_creation.py\", line 262, in parseGraph\n",
      "    data = self.createGraphFromNXwithTarget(g,y,xlen,undirected=True)\n",
      "  File \"/media/disk/home/pau/Projectes/GNN-MThesis/src/function_renaming/TFM_function_renaming_dataset_creation.py\", line 512, in createGraphFromNXwithTarget\n",
      "    dataset =  self.createGraphFromNX(g,xlen, undirected)\n",
      "  File \"/media/disk/home/pau/Projectes/GNN-MThesis/src/function_renaming/TFM_function_renaming_dataset_creation.py\", line 498, in createGraphFromNX\n",
      "    x = torch.tensor(x, dtype=torch.float)\n",
      "RuntimeError: Precision loss when unpacking double\n"
     ]
    },
    {
     "name": "stdout",
     "output_type": "stream",
     "text": [
      "{ \"type\":_\"phrase\",_\"content\":_\"[r15+rcx]  ; hFile\"}\n",
      "{ \"type\":_\"phrase\",_\"content\":_\"[rdi]      ; Ptr\"}\n",
      "tmp/noisy_fixed02/raw/graphs01/Disk/diskext64_exe/sub_140004000_edges.txt\n",
      "{ \"type\":_\"phrase\",_\"content\":_\"[rbx]      ; Ptr\"}\n"
     ]
    },
    {
     "name": "stderr",
     "output_type": "stream",
     "text": [
      "Traceback (most recent call last):\n",
      "  File \"/media/disk/home/pau/Projectes/GNN-MThesis/src/function_renaming/TFM_function_renaming_dataset_creation.py\", line 262, in parseGraph\n",
      "    data = self.createGraphFromNXwithTarget(g,y,xlen,undirected=True)\n",
      "  File \"/media/disk/home/pau/Projectes/GNN-MThesis/src/function_renaming/TFM_function_renaming_dataset_creation.py\", line 512, in createGraphFromNXwithTarget\n",
      "    dataset =  self.createGraphFromNX(g,xlen, undirected)\n",
      "  File \"/media/disk/home/pau/Projectes/GNN-MThesis/src/function_renaming/TFM_function_renaming_dataset_creation.py\", line 498, in createGraphFromNX\n",
      "    x = torch.tensor(x, dtype=torch.float)\n",
      "RuntimeError: Precision loss when unpacking double\n"
     ]
    },
    {
     "name": "stdout",
     "output_type": "stream",
     "text": [
      "{ \"type\":_\"phrase\",_\"content\":_\"[rsi]      ; hFile\"}\n",
      "{ \"type\":_\"phrase\",_\"content\":_\"[rax+rcx]  ; hFile\"}\n",
      "{ \"type\":_\"phrase\",_\"content\":_\"[r15+rcx]  ; hFile\"}\n",
      "{ \"type\":_\"phrase\",_\"content\":_\"[rcx]      ; Microsoft VisualC v7/11 64bit runtime\"}\n",
      "{ \"type\":_\"phrase\",_\"content\":_\"[rdi]      ; Ptr\"}\n",
      "{ \"type\":_\"phrase\",_\"content\":_\"[rbx]      ; Ptr\"}\n",
      "{ \"type\":_\"phrase\",_\"content\":_\"[rcx]      ; Microsoft VisualC v7/11 64bit runtime\"}\n",
      "{ \"type\":_\"phrase\",_\"content\":_\"[rdx]      ; Count\"}\n",
      "tmp/noisy_fixed02/raw/graphs01/Disk/Volumeid64_exe/sub_140005400_edges.txt\n"
     ]
    },
    {
     "name": "stderr",
     "output_type": "stream",
     "text": [
      "Traceback (most recent call last):\n",
      "  File \"/media/disk/home/pau/Projectes/GNN-MThesis/src/function_renaming/TFM_function_renaming_dataset_creation.py\", line 262, in parseGraph\n",
      "    data = self.createGraphFromNXwithTarget(g,y,xlen,undirected=True)\n",
      "  File \"/media/disk/home/pau/Projectes/GNN-MThesis/src/function_renaming/TFM_function_renaming_dataset_creation.py\", line 512, in createGraphFromNXwithTarget\n",
      "    dataset =  self.createGraphFromNX(g,xlen, undirected)\n",
      "  File \"/media/disk/home/pau/Projectes/GNN-MThesis/src/function_renaming/TFM_function_renaming_dataset_creation.py\", line 498, in createGraphFromNX\n",
      "    x = torch.tensor(x, dtype=torch.float)\n",
      "RuntimeError: Precision loss when unpacking double\n"
     ]
    },
    {
     "name": "stdout",
     "output_type": "stream",
     "text": [
      "{ \"type\":_\"phrase\",_\"content\":_\"[r15+rcx]  ; hFile\"}\n",
      "{ \"type\":_\"phrase\",_\"content\":_\"[rdi]      ; Ptr\"}\n",
      "{ \"type\":_\"phrase\",_\"content\":_\"[rsi]      ; hFile\"}\n",
      "{ \"type\":_\"phrase\",_\"content\":_\"[rax+rcx]  ; hFile\"}\n",
      "{ \"type\":_\"phrase\",_\"content\":_\"[rcx+r14]  ; hConsoleInput\"}\n",
      "{ \"type\":_\"phrase\",_\"content\":_\"[rcx+r14]  ; hFile\"}\n",
      "{ \"type\":_\"phrase\",_\"content\":_\"[rcx+r14]  ; hConsoleHandle\"}\n",
      "{ \"type\":_\"phrase\",_\"content\":_\"[ecx]      ; this\"}\n",
      "{ \"type\":_\"phrase\",_\"content\":_\"[edx]      ; int\"}\n",
      "{ \"type\":_\"phrase\",_\"content\":_\"[ebx+ebx]  ; size_t\"}\n",
      "{ \"type\":_\"phrase\",_\"content\":_\"[ebx]      ; int\"}\n",
      "{ \"type\":_\"phrase\",_\"content\":_\"[rcx]      ; Microsoft VisualC v7/11 64bit runtime\"}\n",
      "{ \"type\":_\"phrase\",_\"content\":_\"[rbx]      ; Ptr\"}\n",
      "{ \"type\":_\"phrase\",_\"content\":_\"[r15+rcx]  ; hFile\"}\n",
      "{ \"type\":_\"phrase\",_\"content\":_\"[rdi]      ; Ptr\"}\n",
      "tmp/noisy_fixed02/raw/graphs01/Disk/ntfsinfo64_exe/sub_140004AA0_edges.txt\n",
      "{ \"type\":_\"phrase\",_\"content\":_\"[rsi]      ; hFile\"}\n"
     ]
    },
    {
     "name": "stderr",
     "output_type": "stream",
     "text": [
      "Traceback (most recent call last):\n",
      "  File \"/media/disk/home/pau/Projectes/GNN-MThesis/src/function_renaming/TFM_function_renaming_dataset_creation.py\", line 262, in parseGraph\n",
      "    data = self.createGraphFromNXwithTarget(g,y,xlen,undirected=True)\n",
      "  File \"/media/disk/home/pau/Projectes/GNN-MThesis/src/function_renaming/TFM_function_renaming_dataset_creation.py\", line 512, in createGraphFromNXwithTarget\n",
      "    dataset =  self.createGraphFromNX(g,xlen, undirected)\n",
      "  File \"/media/disk/home/pau/Projectes/GNN-MThesis/src/function_renaming/TFM_function_renaming_dataset_creation.py\", line 498, in createGraphFromNX\n",
      "    x = torch.tensor(x, dtype=torch.float)\n",
      "RuntimeError: Precision loss when unpacking double\n"
     ]
    },
    {
     "name": "stdout",
     "output_type": "stream",
     "text": [
      "{ \"type\":_\"phrase\",_\"content\":_\"[rax+rcx]  ; hFile\"}\n",
      "tmp/noisy_fixed02/raw/graphs01/Cryptography/gpgsm_exe/sub_4152A0_edges.txt\n"
     ]
    },
    {
     "name": "stderr",
     "output_type": "stream",
     "text": [
      "Traceback (most recent call last):\n",
      "  File \"/home/pau/.pyenv/versions/3.6.7/envs/gnn-pytorch/lib/python3.6/site-packages/networkx/readwrite/edgelist.py\", line 277, in parse_edgelist\n",
      "    edgedata = dict(literal_eval(' '.join(d)))\n",
      "  File \"/home/pau/.pyenv/versions/3.6.7/lib/python3.6/ast.py\", line 48, in literal_eval\n",
      "    node_or_string = parse(node_or_string, mode='eval')\n",
      "  File \"/home/pau/.pyenv/versions/3.6.7/lib/python3.6/ast.py\", line 35, in parse\n",
      "    return compile(source, filename, mode, PyCF_ONLY_AST)\n",
      "  File \"<unknown>\", line 1\n",
      "    {\" { \"type\": \"phrase\" }\n",
      "             ^\n",
      "SyntaxError: invalid syntax\n",
      "\n",
      "During handling of the above exception, another exception occurred:\n",
      "\n",
      "Traceback (most recent call last):\n",
      "  File \"/media/disk/home/pau/Projectes/GNN-MThesis/src/function_renaming/TFM_function_renaming_dataset_creation.py\", line 260, in parseGraph\n",
      "    g = readGraph('',filename)\n",
      "  File \"/media/disk/home/pau/Projectes/GNN-MThesis/src/function_renaming/TFM_function_renaming_dataset_creation.py\", line 66, in readGraph\n",
      "    g = nx.read_edgelist(folder+filename)\n",
      "  File \"</home/pau/.pyenv/versions/3.6.7/envs/gnn-pytorch/lib/python3.6/site-packages/decorator.py:decorator-gen-707>\", line 2, in read_edgelist\n",
      "  File \"/home/pau/.pyenv/versions/3.6.7/envs/gnn-pytorch/lib/python3.6/site-packages/networkx/utils/decorators.py\", line 240, in _open_file\n",
      "    result = func_to_be_decorated(*new_args, **kwargs)\n",
      "  File \"/home/pau/.pyenv/versions/3.6.7/envs/gnn-pytorch/lib/python3.6/site-packages/networkx/readwrite/edgelist.py\", line 369, in read_edgelist\n",
      "    data=data)\n",
      "  File \"/home/pau/.pyenv/versions/3.6.7/envs/gnn-pytorch/lib/python3.6/site-packages/networkx/readwrite/edgelist.py\", line 280, in parse_edgelist\n",
      "    \"Failed to convert edge data (%s) to dictionary.\" % (d))\n",
      "TypeError: Failed to convert edge data (['{\"', '{', '\"type\":', '\"phrase\"', '}']) to dictionary.\n"
     ]
    },
    {
     "name": "stdout",
     "output_type": "stream",
     "text": [
      "\n",
      "\n",
      "\n",
      "\n",
      "\n",
      "\n",
      "\n",
      "\n",
      "{ |}\n",
      "{ |}\"}\n",
      "{ |}\"}\n",
      "\n",
      "tmp/noisy_fixed02/raw/graphs01/Cryptography/srptool_exe/sub_404BE0_edges.txt\n"
     ]
    },
    {
     "name": "stderr",
     "output_type": "stream",
     "text": [
      "Traceback (most recent call last):\n",
      "  File \"/home/pau/.pyenv/versions/3.6.7/envs/gnn-pytorch/lib/python3.6/site-packages/networkx/readwrite/edgelist.py\", line 277, in parse_edgelist\n",
      "    edgedata = dict(literal_eval(' '.join(d)))\n",
      "  File \"/home/pau/.pyenv/versions/3.6.7/lib/python3.6/ast.py\", line 48, in literal_eval\n",
      "    node_or_string = parse(node_or_string, mode='eval')\n",
      "  File \"/home/pau/.pyenv/versions/3.6.7/lib/python3.6/ast.py\", line 35, in parse\n",
      "    return compile(source, filename, mode, PyCF_ONLY_AST)\n",
      "  File \"<unknown>\", line 1\n",
      "    {%1$s_%2$s}\\\" ] \"... { \"type\": \"phrase\" }\n",
      "     ^\n",
      "SyntaxError: invalid syntax\n",
      "\n",
      "During handling of the above exception, another exception occurred:\n",
      "\n",
      "Traceback (most recent call last):\n",
      "  File \"/media/disk/home/pau/Projectes/GNN-MThesis/src/function_renaming/TFM_function_renaming_dataset_creation.py\", line 260, in parseGraph\n",
      "    g = readGraph('',filename)\n",
      "  File \"/media/disk/home/pau/Projectes/GNN-MThesis/src/function_renaming/TFM_function_renaming_dataset_creation.py\", line 66, in readGraph\n",
      "    g = nx.read_edgelist(folder+filename)\n",
      "  File \"</home/pau/.pyenv/versions/3.6.7/envs/gnn-pytorch/lib/python3.6/site-packages/decorator.py:decorator-gen-707>\", line 2, in read_edgelist\n",
      "  File \"/home/pau/.pyenv/versions/3.6.7/envs/gnn-pytorch/lib/python3.6/site-packages/networkx/utils/decorators.py\", line 240, in _open_file\n",
      "    result = func_to_be_decorated(*new_args, **kwargs)\n",
      "  File \"/home/pau/.pyenv/versions/3.6.7/envs/gnn-pytorch/lib/python3.6/site-packages/networkx/readwrite/edgelist.py\", line 369, in read_edgelist\n",
      "    data=data)\n",
      "  File \"/home/pau/.pyenv/versions/3.6.7/envs/gnn-pytorch/lib/python3.6/site-packages/networkx/readwrite/edgelist.py\", line 280, in parse_edgelist\n",
      "    \"Failed to convert edge data (%s) to dictionary.\" % (d))\n",
      "TypeError: Failed to convert edge data (['{%1$s_%2$s}\\\\\"', ']', '\"...', '{', '\"type\":', '\"phrase\"', '}']) to dictionary.\n"
     ]
    },
    {
     "name": "stdout",
     "output_type": "stream",
     "text": [
      "tmp/noisy_fixed02/raw/graphs01/Cryptography/srptool_exe/sub_4049B0_edges.txt\n"
     ]
    },
    {
     "name": "stderr",
     "output_type": "stream",
     "text": [
      "Traceback (most recent call last):\n",
      "  File \"/home/pau/.pyenv/versions/3.6.7/envs/gnn-pytorch/lib/python3.6/site-packages/networkx/readwrite/edgelist.py\", line 277, in parse_edgelist\n",
      "    edgedata = dict(literal_eval(' '.join(d)))\n",
      "  File \"/home/pau/.pyenv/versions/3.6.7/lib/python3.6/ast.py\", line 48, in literal_eval\n",
      "    node_or_string = parse(node_or_string, mode='eval')\n",
      "  File \"/home/pau/.pyenv/versions/3.6.7/lib/python3.6/ast.py\", line 35, in parse\n",
      "    return compile(source, filename, mode, PyCF_ONLY_AST)\n",
      "  File \"<unknown>\", line 1\n",
      "    {OPT_CODE}\\\" in\\n\" { \"type\": \"phrase\" }\n",
      "                                          ^\n",
      "SyntaxError: unexpected character after line continuation character\n",
      "\n",
      "During handling of the above exception, another exception occurred:\n",
      "\n",
      "Traceback (most recent call last):\n",
      "  File \"/media/disk/home/pau/Projectes/GNN-MThesis/src/function_renaming/TFM_function_renaming_dataset_creation.py\", line 260, in parseGraph\n",
      "    g = readGraph('',filename)\n",
      "  File \"/media/disk/home/pau/Projectes/GNN-MThesis/src/function_renaming/TFM_function_renaming_dataset_creation.py\", line 66, in readGraph\n",
      "    g = nx.read_edgelist(folder+filename)\n",
      "  File \"</home/pau/.pyenv/versions/3.6.7/envs/gnn-pytorch/lib/python3.6/site-packages/decorator.py:decorator-gen-707>\", line 2, in read_edgelist\n",
      "  File \"/home/pau/.pyenv/versions/3.6.7/envs/gnn-pytorch/lib/python3.6/site-packages/networkx/utils/decorators.py\", line 240, in _open_file\n",
      "    result = func_to_be_decorated(*new_args, **kwargs)\n",
      "  File \"/home/pau/.pyenv/versions/3.6.7/envs/gnn-pytorch/lib/python3.6/site-packages/networkx/readwrite/edgelist.py\", line 369, in read_edgelist\n",
      "    data=data)\n",
      "  File \"/home/pau/.pyenv/versions/3.6.7/envs/gnn-pytorch/lib/python3.6/site-packages/networkx/readwrite/edgelist.py\", line 280, in parse_edgelist\n",
      "    \"Failed to convert edge data (%s) to dictionary.\" % (d))\n",
      "TypeError: Failed to convert edge data (['{OPT_CODE}\\\\\"', 'in\\\\n\"', '{', '\"type\":', '\"phrase\"', '}']) to dictionary.\n"
     ]
    },
    {
     "name": "stdout",
     "output_type": "stream",
     "text": [
      "tmp/noisy_fixed02/raw/graphs01/Cryptography/srptool_exe/sub_404780_edges.txt\n"
     ]
    },
    {
     "name": "stderr",
     "output_type": "stream",
     "text": [
      "Traceback (most recent call last):\n",
      "  File \"/home/pau/.pyenv/versions/3.6.7/envs/gnn-pytorch/lib/python3.6/site-packages/networkx/readwrite/edgelist.py\", line 277, in parse_edgelist\n",
      "    edgedata = dict(literal_eval(' '.join(d)))\n",
      "  File \"/home/pau/.pyenv/versions/3.6.7/lib/python3.6/ast.py\", line 48, in literal_eval\n",
      "    node_or_string = parse(node_or_string, mode='eval')\n",
      "  File \"/home/pau/.pyenv/versions/3.6.7/lib/python3.6/ast.py\", line 35, in parse\n",
      "    return compile(source, filename, mode, PyCF_ONLY_AST)\n",
      "  File \"<unknown>\", line 1\n",
      "    {OPT_ELEMENT\"... { \"type\": \"phrase\" }\n",
      "                       ^\n",
      "SyntaxError: invalid syntax\n",
      "\n",
      "During handling of the above exception, another exception occurred:\n",
      "\n",
      "Traceback (most recent call last):\n",
      "  File \"/media/disk/home/pau/Projectes/GNN-MThesis/src/function_renaming/TFM_function_renaming_dataset_creation.py\", line 260, in parseGraph\n",
      "    g = readGraph('',filename)\n",
      "  File \"/media/disk/home/pau/Projectes/GNN-MThesis/src/function_renaming/TFM_function_renaming_dataset_creation.py\", line 66, in readGraph\n",
      "    g = nx.read_edgelist(folder+filename)\n",
      "  File \"</home/pau/.pyenv/versions/3.6.7/envs/gnn-pytorch/lib/python3.6/site-packages/decorator.py:decorator-gen-707>\", line 2, in read_edgelist\n",
      "  File \"/home/pau/.pyenv/versions/3.6.7/envs/gnn-pytorch/lib/python3.6/site-packages/networkx/utils/decorators.py\", line 240, in _open_file\n",
      "    result = func_to_be_decorated(*new_args, **kwargs)\n",
      "  File \"/home/pau/.pyenv/versions/3.6.7/envs/gnn-pytorch/lib/python3.6/site-packages/networkx/readwrite/edgelist.py\", line 369, in read_edgelist\n",
      "    data=data)\n",
      "  File \"/home/pau/.pyenv/versions/3.6.7/envs/gnn-pytorch/lib/python3.6/site-packages/networkx/readwrite/edgelist.py\", line 280, in parse_edgelist\n",
      "    \"Failed to convert edge data (%s) to dictionary.\" % (d))\n",
      "TypeError: Failed to convert edge data (['{OPT_ELEMENT\"...', '{', '\"type\":', '\"phrase\"', '}']) to dictionary.\n"
     ]
    },
    {
     "name": "stdout",
     "output_type": "stream",
     "text": [
      "\n",
      "{ |}\n",
      "{ |}\"}\n",
      "{ |}\"}\n",
      "\n",
      "tmp/noisy_fixed02/raw/graphs01/Cryptography/libsqlite3-0_dll/sub_66647336_edges.txt\n"
     ]
    },
    {
     "name": "stderr",
     "output_type": "stream",
     "text": [
      "Traceback (most recent call last):\n",
      "  File \"/home/pau/.pyenv/versions/3.6.7/envs/gnn-pytorch/lib/python3.6/site-packages/networkx/readwrite/edgelist.py\", line 277, in parse_edgelist\n",
      "    edgedata = dict(literal_eval(' '.join(d)))\n",
      "  File \"/home/pau/.pyenv/versions/3.6.7/lib/python3.6/ast.py\", line 48, in literal_eval\n",
      "    node_or_string = parse(node_or_string, mode='eval')\n",
      "  File \"/home/pau/.pyenv/versions/3.6.7/lib/python3.6/ast.py\", line 35, in parse\n",
      "    return compile(source, filename, mode, PyCF_ONLY_AST)\n",
      "  File \"<unknown>\", line 1\n",
      "    {%s}\" { \"type\": \"phrase\" }\n",
      "     ^\n",
      "SyntaxError: invalid syntax\n",
      "\n",
      "During handling of the above exception, another exception occurred:\n",
      "\n",
      "Traceback (most recent call last):\n",
      "  File \"/media/disk/home/pau/Projectes/GNN-MThesis/src/function_renaming/TFM_function_renaming_dataset_creation.py\", line 260, in parseGraph\n",
      "    g = readGraph('',filename)\n",
      "  File \"/media/disk/home/pau/Projectes/GNN-MThesis/src/function_renaming/TFM_function_renaming_dataset_creation.py\", line 66, in readGraph\n",
      "    g = nx.read_edgelist(folder+filename)\n",
      "  File \"</home/pau/.pyenv/versions/3.6.7/envs/gnn-pytorch/lib/python3.6/site-packages/decorator.py:decorator-gen-707>\", line 2, in read_edgelist\n",
      "  File \"/home/pau/.pyenv/versions/3.6.7/envs/gnn-pytorch/lib/python3.6/site-packages/networkx/utils/decorators.py\", line 240, in _open_file\n",
      "    result = func_to_be_decorated(*new_args, **kwargs)\n",
      "  File \"/home/pau/.pyenv/versions/3.6.7/envs/gnn-pytorch/lib/python3.6/site-packages/networkx/readwrite/edgelist.py\", line 369, in read_edgelist\n",
      "    data=data)\n",
      "  File \"/home/pau/.pyenv/versions/3.6.7/envs/gnn-pytorch/lib/python3.6/site-packages/networkx/readwrite/edgelist.py\", line 280, in parse_edgelist\n",
      "    \"Failed to convert edge data (%s) to dictionary.\" % (d))\n",
      "TypeError: Failed to convert edge data (['{%s}\"', '{', '\"type\":', '\"phrase\"', '}']) to dictionary.\n"
     ]
    },
    {
     "name": "stdout",
     "output_type": "stream",
     "text": [
      "\n",
      "\n",
      "{ \"type\": \"phrase\", \"content\": \"offset asc_6667BE73; '\"\\}\n",
      "{ \"type\": \"phrase\", \"content\": \"offset asc_6667BE73; '\"\\}\"}\n",
      "{ \"type\": \"phrase\", \"content\": \"offset asc_6667BE73; '\"\\}\"}\n",
      "\n",
      "\n",
      "\n",
      "\n",
      "tmp/noisy_fixed02/raw/graphs01/Cryptography/libgcc_s_sjlj-1_dll/___sfp_handle_exceptions_edges.txt\n"
     ]
    },
    {
     "name": "stderr",
     "output_type": "stream",
     "text": [
      "Traceback (most recent call last):\n",
      "  File \"/home/pau/.pyenv/versions/3.6.7/envs/gnn-pytorch/lib/python3.6/site-packages/networkx/readwrite/edgelist.py\", line 277, in parse_edgelist\n",
      "    edgedata = dict(literal_eval(' '.join(d)))\n",
      "  File \"/home/pau/.pyenv/versions/3.6.7/lib/python3.6/ast.py\", line 48, in literal_eval\n",
      "    node_or_string = parse(node_or_string, mode='eval')\n",
      "  File \"/home/pau/.pyenv/versions/3.6.7/lib/python3.6/ast.py\", line 35, in parse\n",
      "    return compile(source, filename, mode, PyCF_ONLY_AST)\n",
      "  File \"<unknown>\", line 1\n",
      "    pbyte { \"type\": \"phrase\" }\n",
      "          ^\n",
      "SyntaxError: invalid syntax\n",
      "\n",
      "During handling of the above exception, another exception occurred:\n",
      "\n",
      "Traceback (most recent call last):\n",
      "  File \"/media/disk/home/pau/Projectes/GNN-MThesis/src/function_renaming/TFM_function_renaming_dataset_creation.py\", line 260, in parseGraph\n",
      "    g = readGraph('',filename)\n",
      "  File \"/media/disk/home/pau/Projectes/GNN-MThesis/src/function_renaming/TFM_function_renaming_dataset_creation.py\", line 66, in readGraph\n",
      "    g = nx.read_edgelist(folder+filename)\n",
      "  File \"</home/pau/.pyenv/versions/3.6.7/envs/gnn-pytorch/lib/python3.6/site-packages/decorator.py:decorator-gen-707>\", line 2, in read_edgelist\n",
      "  File \"/home/pau/.pyenv/versions/3.6.7/envs/gnn-pytorch/lib/python3.6/site-packages/networkx/utils/decorators.py\", line 240, in _open_file\n",
      "    result = func_to_be_decorated(*new_args, **kwargs)\n",
      "  File \"/home/pau/.pyenv/versions/3.6.7/envs/gnn-pytorch/lib/python3.6/site-packages/networkx/readwrite/edgelist.py\", line 369, in read_edgelist\n",
      "    data=data)\n",
      "  File \"/home/pau/.pyenv/versions/3.6.7/envs/gnn-pytorch/lib/python3.6/site-packages/networkx/readwrite/edgelist.py\", line 280, in parse_edgelist\n",
      "    \"Failed to convert edge data (%s) to dictionary.\" % (d))\n",
      "TypeError: Failed to convert edge data (['pbyte', '{', '\"type\":', '\"phrase\"', '}']) to dictionary.\n"
     ]
    },
    {
     "name": "stdout",
     "output_type": "stream",
     "text": [
      "tmp/noisy_fixed02/raw/graphs01/Cryptography/systemkey_exe/sub_41DE00_edges.txt\n"
     ]
    },
    {
     "name": "stderr",
     "output_type": "stream",
     "text": [
      "Traceback (most recent call last):\n",
      "  File \"/home/pau/.pyenv/versions/3.6.7/envs/gnn-pytorch/lib/python3.6/site-packages/networkx/readwrite/edgelist.py\", line 277, in parse_edgelist\n",
      "    edgedata = dict(literal_eval(' '.join(d)))\n",
      "  File \"/home/pau/.pyenv/versions/3.6.7/lib/python3.6/ast.py\", line 48, in literal_eval\n",
      "    node_or_string = parse(node_or_string, mode='eval')\n",
      "  File \"/home/pau/.pyenv/versions/3.6.7/lib/python3.6/ast.py\", line 35, in parse\n",
      "    return compile(source, filename, mode, PyCF_ONLY_AST)\n",
      "  File \"<unknown>\", line 1\n",
      "    {OPT_CODE}\\\" in\\n\" { \"type\": \"phrase\" }\n",
      "                                          ^\n",
      "SyntaxError: unexpected character after line continuation character\n",
      "\n",
      "During handling of the above exception, another exception occurred:\n",
      "\n",
      "Traceback (most recent call last):\n",
      "  File \"/media/disk/home/pau/Projectes/GNN-MThesis/src/function_renaming/TFM_function_renaming_dataset_creation.py\", line 260, in parseGraph\n",
      "    g = readGraph('',filename)\n",
      "  File \"/media/disk/home/pau/Projectes/GNN-MThesis/src/function_renaming/TFM_function_renaming_dataset_creation.py\", line 66, in readGraph\n",
      "    g = nx.read_edgelist(folder+filename)\n",
      "  File \"</home/pau/.pyenv/versions/3.6.7/envs/gnn-pytorch/lib/python3.6/site-packages/decorator.py:decorator-gen-707>\", line 2, in read_edgelist\n",
      "  File \"/home/pau/.pyenv/versions/3.6.7/envs/gnn-pytorch/lib/python3.6/site-packages/networkx/utils/decorators.py\", line 240, in _open_file\n",
      "    result = func_to_be_decorated(*new_args, **kwargs)\n",
      "  File \"/home/pau/.pyenv/versions/3.6.7/envs/gnn-pytorch/lib/python3.6/site-packages/networkx/readwrite/edgelist.py\", line 369, in read_edgelist\n",
      "    data=data)\n",
      "  File \"/home/pau/.pyenv/versions/3.6.7/envs/gnn-pytorch/lib/python3.6/site-packages/networkx/readwrite/edgelist.py\", line 280, in parse_edgelist\n",
      "    \"Failed to convert edge data (%s) to dictionary.\" % (d))\n",
      "TypeError: Failed to convert edge data (['{OPT_CODE}\\\\\"', 'in\\\\n\"', '{', '\"type\":', '\"phrase\"', '}']) to dictionary.\n"
     ]
    },
    {
     "name": "stdout",
     "output_type": "stream",
     "text": [
      "tmp/noisy_fixed02/raw/graphs01/Cryptography/systemkey_exe/sub_41E030_edges.txt\n"
     ]
    },
    {
     "name": "stderr",
     "output_type": "stream",
     "text": [
      "Traceback (most recent call last):\n",
      "  File \"/home/pau/.pyenv/versions/3.6.7/envs/gnn-pytorch/lib/python3.6/site-packages/networkx/readwrite/edgelist.py\", line 277, in parse_edgelist\n",
      "    edgedata = dict(literal_eval(' '.join(d)))\n",
      "  File \"/home/pau/.pyenv/versions/3.6.7/lib/python3.6/ast.py\", line 48, in literal_eval\n",
      "    node_or_string = parse(node_or_string, mode='eval')\n",
      "  File \"/home/pau/.pyenv/versions/3.6.7/lib/python3.6/ast.py\", line 35, in parse\n",
      "    return compile(source, filename, mode, PyCF_ONLY_AST)\n",
      "  File \"<unknown>\", line 1\n",
      "    {%1$s_%2$s}\\\" ] \"... { \"type\": \"phrase\" }\n",
      "     ^\n",
      "SyntaxError: invalid syntax\n",
      "\n",
      "During handling of the above exception, another exception occurred:\n",
      "\n",
      "Traceback (most recent call last):\n",
      "  File \"/media/disk/home/pau/Projectes/GNN-MThesis/src/function_renaming/TFM_function_renaming_dataset_creation.py\", line 260, in parseGraph\n",
      "    g = readGraph('',filename)\n",
      "  File \"/media/disk/home/pau/Projectes/GNN-MThesis/src/function_renaming/TFM_function_renaming_dataset_creation.py\", line 66, in readGraph\n",
      "    g = nx.read_edgelist(folder+filename)\n",
      "  File \"</home/pau/.pyenv/versions/3.6.7/envs/gnn-pytorch/lib/python3.6/site-packages/decorator.py:decorator-gen-707>\", line 2, in read_edgelist\n",
      "  File \"/home/pau/.pyenv/versions/3.6.7/envs/gnn-pytorch/lib/python3.6/site-packages/networkx/utils/decorators.py\", line 240, in _open_file\n",
      "    result = func_to_be_decorated(*new_args, **kwargs)\n",
      "  File \"/home/pau/.pyenv/versions/3.6.7/envs/gnn-pytorch/lib/python3.6/site-packages/networkx/readwrite/edgelist.py\", line 369, in read_edgelist\n",
      "    data=data)\n",
      "  File \"/home/pau/.pyenv/versions/3.6.7/envs/gnn-pytorch/lib/python3.6/site-packages/networkx/readwrite/edgelist.py\", line 280, in parse_edgelist\n",
      "    \"Failed to convert edge data (%s) to dictionary.\" % (d))\n",
      "TypeError: Failed to convert edge data (['{%1$s_%2$s}\\\\\"', ']', '\"...', '{', '\"type\":', '\"phrase\"', '}']) to dictionary.\n"
     ]
    },
    {
     "name": "stdout",
     "output_type": "stream",
     "text": [
      "tmp/noisy_fixed02/raw/graphs01/Cryptography/systemkey_exe/sub_41DBD0_edges.txt\n"
     ]
    },
    {
     "name": "stderr",
     "output_type": "stream",
     "text": [
      "Traceback (most recent call last):\n",
      "  File \"/home/pau/.pyenv/versions/3.6.7/envs/gnn-pytorch/lib/python3.6/site-packages/networkx/readwrite/edgelist.py\", line 277, in parse_edgelist\n",
      "    edgedata = dict(literal_eval(' '.join(d)))\n",
      "  File \"/home/pau/.pyenv/versions/3.6.7/lib/python3.6/ast.py\", line 48, in literal_eval\n",
      "    node_or_string = parse(node_or_string, mode='eval')\n",
      "  File \"/home/pau/.pyenv/versions/3.6.7/lib/python3.6/ast.py\", line 35, in parse\n",
      "    return compile(source, filename, mode, PyCF_ONLY_AST)\n",
      "  File \"<unknown>\", line 1\n",
      "    {OPT_ELEMENT\"... { \"type\": \"phrase\" }\n",
      "                       ^\n",
      "SyntaxError: invalid syntax\n",
      "\n",
      "During handling of the above exception, another exception occurred:\n",
      "\n",
      "Traceback (most recent call last):\n",
      "  File \"/media/disk/home/pau/Projectes/GNN-MThesis/src/function_renaming/TFM_function_renaming_dataset_creation.py\", line 260, in parseGraph\n",
      "    g = readGraph('',filename)\n",
      "  File \"/media/disk/home/pau/Projectes/GNN-MThesis/src/function_renaming/TFM_function_renaming_dataset_creation.py\", line 66, in readGraph\n",
      "    g = nx.read_edgelist(folder+filename)\n",
      "  File \"</home/pau/.pyenv/versions/3.6.7/envs/gnn-pytorch/lib/python3.6/site-packages/decorator.py:decorator-gen-707>\", line 2, in read_edgelist\n",
      "  File \"/home/pau/.pyenv/versions/3.6.7/envs/gnn-pytorch/lib/python3.6/site-packages/networkx/utils/decorators.py\", line 240, in _open_file\n",
      "    result = func_to_be_decorated(*new_args, **kwargs)\n",
      "  File \"/home/pau/.pyenv/versions/3.6.7/envs/gnn-pytorch/lib/python3.6/site-packages/networkx/readwrite/edgelist.py\", line 369, in read_edgelist\n",
      "    data=data)\n",
      "  File \"/home/pau/.pyenv/versions/3.6.7/envs/gnn-pytorch/lib/python3.6/site-packages/networkx/readwrite/edgelist.py\", line 280, in parse_edgelist\n",
      "    \"Failed to convert edge data (%s) to dictionary.\" % (d))\n",
      "TypeError: Failed to convert edge data (['{OPT_ELEMENT\"...', '{', '\"type\":', '\"phrase\"', '}']) to dictionary.\n"
     ]
    },
    {
     "name": "stdout",
     "output_type": "stream",
     "text": [
      "tmp/noisy_fixed02/raw/graphs01/Cryptography/psktool_exe/sub_403C90_edges.txt\n"
     ]
    },
    {
     "name": "stderr",
     "output_type": "stream",
     "text": [
      "Traceback (most recent call last):\n",
      "  File \"/home/pau/.pyenv/versions/3.6.7/envs/gnn-pytorch/lib/python3.6/site-packages/networkx/readwrite/edgelist.py\", line 277, in parse_edgelist\n",
      "    edgedata = dict(literal_eval(' '.join(d)))\n",
      "  File \"/home/pau/.pyenv/versions/3.6.7/lib/python3.6/ast.py\", line 48, in literal_eval\n",
      "    node_or_string = parse(node_or_string, mode='eval')\n",
      "  File \"/home/pau/.pyenv/versions/3.6.7/lib/python3.6/ast.py\", line 35, in parse\n",
      "    return compile(source, filename, mode, PyCF_ONLY_AST)\n",
      "  File \"<unknown>\", line 1\n",
      "    {%1$s_%2$s}\\\" ] \"... { \"type\": \"phrase\" }\n",
      "     ^\n",
      "SyntaxError: invalid syntax\n",
      "\n",
      "During handling of the above exception, another exception occurred:\n",
      "\n",
      "Traceback (most recent call last):\n",
      "  File \"/media/disk/home/pau/Projectes/GNN-MThesis/src/function_renaming/TFM_function_renaming_dataset_creation.py\", line 260, in parseGraph\n",
      "    g = readGraph('',filename)\n",
      "  File \"/media/disk/home/pau/Projectes/GNN-MThesis/src/function_renaming/TFM_function_renaming_dataset_creation.py\", line 66, in readGraph\n",
      "    g = nx.read_edgelist(folder+filename)\n",
      "  File \"</home/pau/.pyenv/versions/3.6.7/envs/gnn-pytorch/lib/python3.6/site-packages/decorator.py:decorator-gen-707>\", line 2, in read_edgelist\n",
      "  File \"/home/pau/.pyenv/versions/3.6.7/envs/gnn-pytorch/lib/python3.6/site-packages/networkx/utils/decorators.py\", line 240, in _open_file\n",
      "    result = func_to_be_decorated(*new_args, **kwargs)\n",
      "  File \"/home/pau/.pyenv/versions/3.6.7/envs/gnn-pytorch/lib/python3.6/site-packages/networkx/readwrite/edgelist.py\", line 369, in read_edgelist\n",
      "    data=data)\n",
      "  File \"/home/pau/.pyenv/versions/3.6.7/envs/gnn-pytorch/lib/python3.6/site-packages/networkx/readwrite/edgelist.py\", line 280, in parse_edgelist\n",
      "    \"Failed to convert edge data (%s) to dictionary.\" % (d))\n",
      "TypeError: Failed to convert edge data (['{%1$s_%2$s}\\\\\"', ']', '\"...', '{', '\"type\":', '\"phrase\"', '}']) to dictionary.\n"
     ]
    },
    {
     "name": "stdout",
     "output_type": "stream",
     "text": [
      "tmp/noisy_fixed02/raw/graphs01/Cryptography/psktool_exe/sub_403A60_edges.txt\n"
     ]
    },
    {
     "name": "stderr",
     "output_type": "stream",
     "text": [
      "Traceback (most recent call last):\n",
      "  File \"/home/pau/.pyenv/versions/3.6.7/envs/gnn-pytorch/lib/python3.6/site-packages/networkx/readwrite/edgelist.py\", line 277, in parse_edgelist\n",
      "    edgedata = dict(literal_eval(' '.join(d)))\n",
      "  File \"/home/pau/.pyenv/versions/3.6.7/lib/python3.6/ast.py\", line 48, in literal_eval\n",
      "    node_or_string = parse(node_or_string, mode='eval')\n",
      "  File \"/home/pau/.pyenv/versions/3.6.7/lib/python3.6/ast.py\", line 35, in parse\n",
      "    return compile(source, filename, mode, PyCF_ONLY_AST)\n",
      "  File \"<unknown>\", line 1\n",
      "    {OPT_CODE}\\\" in\\n\" { \"type\": \"phrase\" }\n",
      "                                          ^\n",
      "SyntaxError: unexpected character after line continuation character\n",
      "\n",
      "During handling of the above exception, another exception occurred:\n",
      "\n",
      "Traceback (most recent call last):\n",
      "  File \"/media/disk/home/pau/Projectes/GNN-MThesis/src/function_renaming/TFM_function_renaming_dataset_creation.py\", line 260, in parseGraph\n",
      "    g = readGraph('',filename)\n",
      "  File \"/media/disk/home/pau/Projectes/GNN-MThesis/src/function_renaming/TFM_function_renaming_dataset_creation.py\", line 66, in readGraph\n",
      "    g = nx.read_edgelist(folder+filename)\n",
      "  File \"</home/pau/.pyenv/versions/3.6.7/envs/gnn-pytorch/lib/python3.6/site-packages/decorator.py:decorator-gen-707>\", line 2, in read_edgelist\n",
      "  File \"/home/pau/.pyenv/versions/3.6.7/envs/gnn-pytorch/lib/python3.6/site-packages/networkx/utils/decorators.py\", line 240, in _open_file\n",
      "    result = func_to_be_decorated(*new_args, **kwargs)\n",
      "  File \"/home/pau/.pyenv/versions/3.6.7/envs/gnn-pytorch/lib/python3.6/site-packages/networkx/readwrite/edgelist.py\", line 369, in read_edgelist\n",
      "    data=data)\n",
      "  File \"/home/pau/.pyenv/versions/3.6.7/envs/gnn-pytorch/lib/python3.6/site-packages/networkx/readwrite/edgelist.py\", line 280, in parse_edgelist\n",
      "    \"Failed to convert edge data (%s) to dictionary.\" % (d))\n",
      "TypeError: Failed to convert edge data (['{OPT_CODE}\\\\\"', 'in\\\\n\"', '{', '\"type\":', '\"phrase\"', '}']) to dictionary.\n"
     ]
    },
    {
     "name": "stdout",
     "output_type": "stream",
     "text": [
      "tmp/noisy_fixed02/raw/graphs01/Cryptography/psktool_exe/sub_403830_edges.txt\n"
     ]
    },
    {
     "name": "stderr",
     "output_type": "stream",
     "text": [
      "Traceback (most recent call last):\n",
      "  File \"/home/pau/.pyenv/versions/3.6.7/envs/gnn-pytorch/lib/python3.6/site-packages/networkx/readwrite/edgelist.py\", line 277, in parse_edgelist\n",
      "    edgedata = dict(literal_eval(' '.join(d)))\n",
      "  File \"/home/pau/.pyenv/versions/3.6.7/lib/python3.6/ast.py\", line 48, in literal_eval\n",
      "    node_or_string = parse(node_or_string, mode='eval')\n",
      "  File \"/home/pau/.pyenv/versions/3.6.7/lib/python3.6/ast.py\", line 35, in parse\n",
      "    return compile(source, filename, mode, PyCF_ONLY_AST)\n",
      "  File \"<unknown>\", line 1\n",
      "    {%1$s_%2$s}\\\" ] \"... { \"type\": \"phrase\" }\n",
      "     ^\n",
      "SyntaxError: invalid syntax\n",
      "\n",
      "During handling of the above exception, another exception occurred:\n",
      "\n",
      "Traceback (most recent call last):\n",
      "  File \"/media/disk/home/pau/Projectes/GNN-MThesis/src/function_renaming/TFM_function_renaming_dataset_creation.py\", line 260, in parseGraph\n",
      "    g = readGraph('',filename)\n",
      "  File \"/media/disk/home/pau/Projectes/GNN-MThesis/src/function_renaming/TFM_function_renaming_dataset_creation.py\", line 66, in readGraph\n",
      "    g = nx.read_edgelist(folder+filename)\n",
      "  File \"</home/pau/.pyenv/versions/3.6.7/envs/gnn-pytorch/lib/python3.6/site-packages/decorator.py:decorator-gen-707>\", line 2, in read_edgelist\n",
      "  File \"/home/pau/.pyenv/versions/3.6.7/envs/gnn-pytorch/lib/python3.6/site-packages/networkx/utils/decorators.py\", line 240, in _open_file\n",
      "    result = func_to_be_decorated(*new_args, **kwargs)\n",
      "  File \"/home/pau/.pyenv/versions/3.6.7/envs/gnn-pytorch/lib/python3.6/site-packages/networkx/readwrite/edgelist.py\", line 369, in read_edgelist\n",
      "    data=data)\n",
      "  File \"/home/pau/.pyenv/versions/3.6.7/envs/gnn-pytorch/lib/python3.6/site-packages/networkx/readwrite/edgelist.py\", line 280, in parse_edgelist\n",
      "    \"Failed to convert edge data (%s) to dictionary.\" % (d))\n",
      "TypeError: Failed to convert edge data (['{%1$s_%2$s}\\\\\"', ']', '\"...', '{', '\"type\":', '\"phrase\"', '}']) to dictionary.\n"
     ]
    },
    {
     "name": "stdout",
     "output_type": "stream",
     "text": [
      "\n",
      "{ |}\n",
      "{ |}\"}\n",
      "{ |}\"}\n",
      "tmp/noisy_fixed02/raw/graphs01/Cryptography/scdaemon_exe/sub_4269E0_edges.txt\n"
     ]
    },
    {
     "name": "stderr",
     "output_type": "stream",
     "text": [
      "Traceback (most recent call last):\n",
      "  File \"/home/pau/.pyenv/versions/3.6.7/envs/gnn-pytorch/lib/python3.6/site-packages/networkx/readwrite/edgelist.py\", line 277, in parse_edgelist\n",
      "    edgedata = dict(literal_eval(' '.join(d)))\n",
      "  File \"/home/pau/.pyenv/versions/3.6.7/lib/python3.6/ast.py\", line 48, in literal_eval\n",
      "    node_or_string = parse(node_or_string, mode='eval')\n",
      "  File \"/home/pau/.pyenv/versions/3.6.7/lib/python3.6/ast.py\", line 35, in parse\n",
      "    return compile(source, filename, mode, PyCF_ONLY_AST)\n",
      "  File \"<unknown>\", line 1\n",
      "    {DIR}: %s\\n\" { \"type\": \"phrase\" }\n",
      "         ^\n",
      "SyntaxError: invalid syntax\n",
      "\n",
      "During handling of the above exception, another exception occurred:\n",
      "\n",
      "Traceback (most recent call last):\n",
      "  File \"/media/disk/home/pau/Projectes/GNN-MThesis/src/function_renaming/TFM_function_renaming_dataset_creation.py\", line 260, in parseGraph\n",
      "    g = readGraph('',filename)\n",
      "  File \"/media/disk/home/pau/Projectes/GNN-MThesis/src/function_renaming/TFM_function_renaming_dataset_creation.py\", line 66, in readGraph\n",
      "    g = nx.read_edgelist(folder+filename)\n",
      "  File \"</home/pau/.pyenv/versions/3.6.7/envs/gnn-pytorch/lib/python3.6/site-packages/decorator.py:decorator-gen-707>\", line 2, in read_edgelist\n",
      "  File \"/home/pau/.pyenv/versions/3.6.7/envs/gnn-pytorch/lib/python3.6/site-packages/networkx/utils/decorators.py\", line 240, in _open_file\n",
      "    result = func_to_be_decorated(*new_args, **kwargs)\n",
      "  File \"/home/pau/.pyenv/versions/3.6.7/envs/gnn-pytorch/lib/python3.6/site-packages/networkx/readwrite/edgelist.py\", line 369, in read_edgelist\n",
      "    data=data)\n",
      "  File \"/home/pau/.pyenv/versions/3.6.7/envs/gnn-pytorch/lib/python3.6/site-packages/networkx/readwrite/edgelist.py\", line 280, in parse_edgelist\n",
      "    \"Failed to convert edge data (%s) to dictionary.\" % (d))\n",
      "TypeError: Failed to convert edge data (['{DIR}:', '%s\\\\n\"', '{', '\"type\":', '\"phrase\"', '}']) to dictionary.\n"
     ]
    },
    {
     "name": "stdout",
     "output_type": "stream",
     "text": [
      "tmp/noisy_fixed02/raw/graphs01/Cryptography/p11tool_exe/sub_422460_edges.txt\n"
     ]
    },
    {
     "name": "stderr",
     "output_type": "stream",
     "text": [
      "Traceback (most recent call last):\n",
      "  File \"/home/pau/.pyenv/versions/3.6.7/envs/gnn-pytorch/lib/python3.6/site-packages/networkx/readwrite/edgelist.py\", line 277, in parse_edgelist\n",
      "    edgedata = dict(literal_eval(' '.join(d)))\n",
      "  File \"/home/pau/.pyenv/versions/3.6.7/lib/python3.6/ast.py\", line 48, in literal_eval\n",
      "    node_or_string = parse(node_or_string, mode='eval')\n",
      "  File \"/home/pau/.pyenv/versions/3.6.7/lib/python3.6/ast.py\", line 35, in parse\n",
      "    return compile(source, filename, mode, PyCF_ONLY_AST)\n",
      "  File \"<unknown>\", line 1\n",
      "    {%1$s_%2$s}\\\" ] \"... { \"type\": \"phrase\" }\n",
      "     ^\n",
      "SyntaxError: invalid syntax\n",
      "\n",
      "During handling of the above exception, another exception occurred:\n",
      "\n",
      "Traceback (most recent call last):\n",
      "  File \"/media/disk/home/pau/Projectes/GNN-MThesis/src/function_renaming/TFM_function_renaming_dataset_creation.py\", line 260, in parseGraph\n",
      "    g = readGraph('',filename)\n",
      "  File \"/media/disk/home/pau/Projectes/GNN-MThesis/src/function_renaming/TFM_function_renaming_dataset_creation.py\", line 66, in readGraph\n",
      "    g = nx.read_edgelist(folder+filename)\n",
      "  File \"</home/pau/.pyenv/versions/3.6.7/envs/gnn-pytorch/lib/python3.6/site-packages/decorator.py:decorator-gen-707>\", line 2, in read_edgelist\n",
      "  File \"/home/pau/.pyenv/versions/3.6.7/envs/gnn-pytorch/lib/python3.6/site-packages/networkx/utils/decorators.py\", line 240, in _open_file\n",
      "    result = func_to_be_decorated(*new_args, **kwargs)\n",
      "  File \"/home/pau/.pyenv/versions/3.6.7/envs/gnn-pytorch/lib/python3.6/site-packages/networkx/readwrite/edgelist.py\", line 369, in read_edgelist\n",
      "    data=data)\n",
      "  File \"/home/pau/.pyenv/versions/3.6.7/envs/gnn-pytorch/lib/python3.6/site-packages/networkx/readwrite/edgelist.py\", line 280, in parse_edgelist\n",
      "    \"Failed to convert edge data (%s) to dictionary.\" % (d))\n",
      "TypeError: Failed to convert edge data (['{%1$s_%2$s}\\\\\"', ']', '\"...', '{', '\"type\":', '\"phrase\"', '}']) to dictionary.\n"
     ]
    },
    {
     "name": "stdout",
     "output_type": "stream",
     "text": [
      "tmp/noisy_fixed02/raw/graphs01/Cryptography/p11tool_exe/sub_422230_edges.txt\n"
     ]
    },
    {
     "name": "stderr",
     "output_type": "stream",
     "text": [
      "Traceback (most recent call last):\n",
      "  File \"/home/pau/.pyenv/versions/3.6.7/envs/gnn-pytorch/lib/python3.6/site-packages/networkx/readwrite/edgelist.py\", line 277, in parse_edgelist\n",
      "    edgedata = dict(literal_eval(' '.join(d)))\n",
      "  File \"/home/pau/.pyenv/versions/3.6.7/lib/python3.6/ast.py\", line 48, in literal_eval\n",
      "    node_or_string = parse(node_or_string, mode='eval')\n",
      "  File \"/home/pau/.pyenv/versions/3.6.7/lib/python3.6/ast.py\", line 35, in parse\n",
      "    return compile(source, filename, mode, PyCF_ONLY_AST)\n",
      "  File \"<unknown>\", line 1\n",
      "    {OPT_CODE}\\\" in\\n\" { \"type\": \"phrase\" }\n",
      "                                          ^\n",
      "SyntaxError: unexpected character after line continuation character\n",
      "\n",
      "During handling of the above exception, another exception occurred:\n",
      "\n",
      "Traceback (most recent call last):\n",
      "  File \"/media/disk/home/pau/Projectes/GNN-MThesis/src/function_renaming/TFM_function_renaming_dataset_creation.py\", line 260, in parseGraph\n",
      "    g = readGraph('',filename)\n",
      "  File \"/media/disk/home/pau/Projectes/GNN-MThesis/src/function_renaming/TFM_function_renaming_dataset_creation.py\", line 66, in readGraph\n",
      "    g = nx.read_edgelist(folder+filename)\n",
      "  File \"</home/pau/.pyenv/versions/3.6.7/envs/gnn-pytorch/lib/python3.6/site-packages/decorator.py:decorator-gen-707>\", line 2, in read_edgelist\n",
      "  File \"/home/pau/.pyenv/versions/3.6.7/envs/gnn-pytorch/lib/python3.6/site-packages/networkx/utils/decorators.py\", line 240, in _open_file\n",
      "    result = func_to_be_decorated(*new_args, **kwargs)\n",
      "  File \"/home/pau/.pyenv/versions/3.6.7/envs/gnn-pytorch/lib/python3.6/site-packages/networkx/readwrite/edgelist.py\", line 369, in read_edgelist\n",
      "    data=data)\n",
      "  File \"/home/pau/.pyenv/versions/3.6.7/envs/gnn-pytorch/lib/python3.6/site-packages/networkx/readwrite/edgelist.py\", line 280, in parse_edgelist\n",
      "    \"Failed to convert edge data (%s) to dictionary.\" % (d))\n",
      "TypeError: Failed to convert edge data (['{OPT_CODE}\\\\\"', 'in\\\\n\"', '{', '\"type\":', '\"phrase\"', '}']) to dictionary.\n"
     ]
    },
    {
     "name": "stdout",
     "output_type": "stream",
     "text": [
      "tmp/noisy_fixed02/raw/graphs01/Cryptography/p11tool_exe/sub_422000_edges.txt\n"
     ]
    },
    {
     "name": "stderr",
     "output_type": "stream",
     "text": [
      "Traceback (most recent call last):\n",
      "  File \"/home/pau/.pyenv/versions/3.6.7/envs/gnn-pytorch/lib/python3.6/site-packages/networkx/readwrite/edgelist.py\", line 277, in parse_edgelist\n",
      "    edgedata = dict(literal_eval(' '.join(d)))\n",
      "  File \"/home/pau/.pyenv/versions/3.6.7/lib/python3.6/ast.py\", line 48, in literal_eval\n",
      "    node_or_string = parse(node_or_string, mode='eval')\n",
      "  File \"/home/pau/.pyenv/versions/3.6.7/lib/python3.6/ast.py\", line 35, in parse\n",
      "    return compile(source, filename, mode, PyCF_ONLY_AST)\n",
      "  File \"<unknown>\", line 1\n",
      "    {%1$s_%2$s}\\\" ] \"... { \"type\": \"phrase\" }\n",
      "     ^\n",
      "SyntaxError: invalid syntax\n",
      "\n",
      "During handling of the above exception, another exception occurred:\n",
      "\n",
      "Traceback (most recent call last):\n",
      "  File \"/media/disk/home/pau/Projectes/GNN-MThesis/src/function_renaming/TFM_function_renaming_dataset_creation.py\", line 260, in parseGraph\n",
      "    g = readGraph('',filename)\n",
      "  File \"/media/disk/home/pau/Projectes/GNN-MThesis/src/function_renaming/TFM_function_renaming_dataset_creation.py\", line 66, in readGraph\n",
      "    g = nx.read_edgelist(folder+filename)\n",
      "  File \"</home/pau/.pyenv/versions/3.6.7/envs/gnn-pytorch/lib/python3.6/site-packages/decorator.py:decorator-gen-707>\", line 2, in read_edgelist\n",
      "  File \"/home/pau/.pyenv/versions/3.6.7/envs/gnn-pytorch/lib/python3.6/site-packages/networkx/utils/decorators.py\", line 240, in _open_file\n",
      "    result = func_to_be_decorated(*new_args, **kwargs)\n",
      "  File \"/home/pau/.pyenv/versions/3.6.7/envs/gnn-pytorch/lib/python3.6/site-packages/networkx/readwrite/edgelist.py\", line 369, in read_edgelist\n",
      "    data=data)\n",
      "  File \"/home/pau/.pyenv/versions/3.6.7/envs/gnn-pytorch/lib/python3.6/site-packages/networkx/readwrite/edgelist.py\", line 280, in parse_edgelist\n",
      "    \"Failed to convert edge data (%s) to dictionary.\" % (d))\n",
      "TypeError: Failed to convert edge data (['{%1$s_%2$s}\\\\\"', ']', '\"...', '{', '\"type\":', '\"phrase\"', '}']) to dictionary.\n"
     ]
    },
    {
     "name": "stdout",
     "output_type": "stream",
     "text": [
      "\n",
      "\n",
      "\n",
      "\n",
      "\n",
      "\n",
      "\n",
      "\n",
      "\n",
      "\n",
      "\n",
      "{ |}\n",
      "{ |}\"}\n",
      "{ |}\"}\n",
      "\n",
      "\n",
      "\n",
      "\n",
      "\n",
      "\n",
      "\n",
      "\n",
      "{ |}\n",
      "{ |}\"}\n",
      "{ |}\"}\n",
      "\n",
      "\n",
      "\n",
      "\n",
      "\n",
      "\n",
      "\n",
      "\n",
      "tmp/noisy_fixed02/raw/graphs01/Cryptography/ocsptool_exe/sub_40CD80_edges.txt\n"
     ]
    },
    {
     "name": "stderr",
     "output_type": "stream",
     "text": [
      "Traceback (most recent call last):\n",
      "  File \"/home/pau/.pyenv/versions/3.6.7/envs/gnn-pytorch/lib/python3.6/site-packages/networkx/readwrite/edgelist.py\", line 277, in parse_edgelist\n",
      "    edgedata = dict(literal_eval(' '.join(d)))\n",
      "  File \"/home/pau/.pyenv/versions/3.6.7/lib/python3.6/ast.py\", line 48, in literal_eval\n",
      "    node_or_string = parse(node_or_string, mode='eval')\n",
      "  File \"/home/pau/.pyenv/versions/3.6.7/lib/python3.6/ast.py\", line 35, in parse\n",
      "    return compile(source, filename, mode, PyCF_ONLY_AST)\n",
      "  File \"<unknown>\", line 1\n",
      "    {OPT_CODE}\\\" in\\n\" { \"type\": \"phrase\" }\n",
      "                                          ^\n",
      "SyntaxError: unexpected character after line continuation character\n",
      "\n",
      "During handling of the above exception, another exception occurred:\n",
      "\n",
      "Traceback (most recent call last):\n",
      "  File \"/media/disk/home/pau/Projectes/GNN-MThesis/src/function_renaming/TFM_function_renaming_dataset_creation.py\", line 260, in parseGraph\n",
      "    g = readGraph('',filename)\n",
      "  File \"/media/disk/home/pau/Projectes/GNN-MThesis/src/function_renaming/TFM_function_renaming_dataset_creation.py\", line 66, in readGraph\n",
      "    g = nx.read_edgelist(folder+filename)\n",
      "  File \"</home/pau/.pyenv/versions/3.6.7/envs/gnn-pytorch/lib/python3.6/site-packages/decorator.py:decorator-gen-707>\", line 2, in read_edgelist\n",
      "  File \"/home/pau/.pyenv/versions/3.6.7/envs/gnn-pytorch/lib/python3.6/site-packages/networkx/utils/decorators.py\", line 240, in _open_file\n",
      "    result = func_to_be_decorated(*new_args, **kwargs)\n",
      "  File \"/home/pau/.pyenv/versions/3.6.7/envs/gnn-pytorch/lib/python3.6/site-packages/networkx/readwrite/edgelist.py\", line 369, in read_edgelist\n",
      "    data=data)\n",
      "  File \"/home/pau/.pyenv/versions/3.6.7/envs/gnn-pytorch/lib/python3.6/site-packages/networkx/readwrite/edgelist.py\", line 280, in parse_edgelist\n",
      "    \"Failed to convert edge data (%s) to dictionary.\" % (d))\n",
      "TypeError: Failed to convert edge data (['{OPT_CODE}\\\\\"', 'in\\\\n\"', '{', '\"type\":', '\"phrase\"', '}']) to dictionary.\n"
     ]
    },
    {
     "name": "stdout",
     "output_type": "stream",
     "text": [
      "tmp/noisy_fixed02/raw/graphs01/Cryptography/ocsptool_exe/sub_40CFB0_edges.txt\n"
     ]
    },
    {
     "name": "stderr",
     "output_type": "stream",
     "text": [
      "Traceback (most recent call last):\n",
      "  File \"/home/pau/.pyenv/versions/3.6.7/envs/gnn-pytorch/lib/python3.6/site-packages/networkx/readwrite/edgelist.py\", line 277, in parse_edgelist\n",
      "    edgedata = dict(literal_eval(' '.join(d)))\n",
      "  File \"/home/pau/.pyenv/versions/3.6.7/lib/python3.6/ast.py\", line 48, in literal_eval\n",
      "    node_or_string = parse(node_or_string, mode='eval')\n",
      "  File \"/home/pau/.pyenv/versions/3.6.7/lib/python3.6/ast.py\", line 35, in parse\n",
      "    return compile(source, filename, mode, PyCF_ONLY_AST)\n",
      "  File \"<unknown>\", line 1\n",
      "    {OPT_CODE}\\\" in\\n\" { \"type\": \"phrase\" }\n",
      "                                          ^\n",
      "SyntaxError: unexpected character after line continuation character\n",
      "\n",
      "During handling of the above exception, another exception occurred:\n",
      "\n",
      "Traceback (most recent call last):\n",
      "  File \"/media/disk/home/pau/Projectes/GNN-MThesis/src/function_renaming/TFM_function_renaming_dataset_creation.py\", line 260, in parseGraph\n",
      "    g = readGraph('',filename)\n",
      "  File \"/media/disk/home/pau/Projectes/GNN-MThesis/src/function_renaming/TFM_function_renaming_dataset_creation.py\", line 66, in readGraph\n",
      "    g = nx.read_edgelist(folder+filename)\n",
      "  File \"</home/pau/.pyenv/versions/3.6.7/envs/gnn-pytorch/lib/python3.6/site-packages/decorator.py:decorator-gen-707>\", line 2, in read_edgelist\n",
      "  File \"/home/pau/.pyenv/versions/3.6.7/envs/gnn-pytorch/lib/python3.6/site-packages/networkx/utils/decorators.py\", line 240, in _open_file\n",
      "    result = func_to_be_decorated(*new_args, **kwargs)\n",
      "  File \"/home/pau/.pyenv/versions/3.6.7/envs/gnn-pytorch/lib/python3.6/site-packages/networkx/readwrite/edgelist.py\", line 369, in read_edgelist\n",
      "    data=data)\n",
      "  File \"/home/pau/.pyenv/versions/3.6.7/envs/gnn-pytorch/lib/python3.6/site-packages/networkx/readwrite/edgelist.py\", line 280, in parse_edgelist\n",
      "    \"Failed to convert edge data (%s) to dictionary.\" % (d))\n",
      "TypeError: Failed to convert edge data (['{OPT_CODE}\\\\\"', 'in\\\\n\"', '{', '\"type\":', '\"phrase\"', '}']) to dictionary.\n"
     ]
    },
    {
     "name": "stdout",
     "output_type": "stream",
     "text": [
      "tmp/noisy_fixed02/raw/graphs01/Cryptography/ocsptool_exe/sub_40CB50_edges.txt\n"
     ]
    },
    {
     "name": "stderr",
     "output_type": "stream",
     "text": [
      "Traceback (most recent call last):\n",
      "  File \"/home/pau/.pyenv/versions/3.6.7/envs/gnn-pytorch/lib/python3.6/site-packages/networkx/readwrite/edgelist.py\", line 277, in parse_edgelist\n",
      "    edgedata = dict(literal_eval(' '.join(d)))\n",
      "  File \"/home/pau/.pyenv/versions/3.6.7/lib/python3.6/ast.py\", line 48, in literal_eval\n",
      "    node_or_string = parse(node_or_string, mode='eval')\n",
      "  File \"/home/pau/.pyenv/versions/3.6.7/lib/python3.6/ast.py\", line 35, in parse\n",
      "    return compile(source, filename, mode, PyCF_ONLY_AST)\n",
      "  File \"<unknown>\", line 1\n",
      "    {%1$s_%\"... { \"type\": \"phrase\" }\n",
      "     ^\n",
      "SyntaxError: invalid syntax\n",
      "\n",
      "During handling of the above exception, another exception occurred:\n",
      "\n",
      "Traceback (most recent call last):\n",
      "  File \"/media/disk/home/pau/Projectes/GNN-MThesis/src/function_renaming/TFM_function_renaming_dataset_creation.py\", line 260, in parseGraph\n",
      "    g = readGraph('',filename)\n",
      "  File \"/media/disk/home/pau/Projectes/GNN-MThesis/src/function_renaming/TFM_function_renaming_dataset_creation.py\", line 66, in readGraph\n",
      "    g = nx.read_edgelist(folder+filename)\n",
      "  File \"</home/pau/.pyenv/versions/3.6.7/envs/gnn-pytorch/lib/python3.6/site-packages/decorator.py:decorator-gen-707>\", line 2, in read_edgelist\n",
      "  File \"/home/pau/.pyenv/versions/3.6.7/envs/gnn-pytorch/lib/python3.6/site-packages/networkx/utils/decorators.py\", line 240, in _open_file\n",
      "    result = func_to_be_decorated(*new_args, **kwargs)\n",
      "  File \"/home/pau/.pyenv/versions/3.6.7/envs/gnn-pytorch/lib/python3.6/site-packages/networkx/readwrite/edgelist.py\", line 369, in read_edgelist\n",
      "    data=data)\n",
      "  File \"/home/pau/.pyenv/versions/3.6.7/envs/gnn-pytorch/lib/python3.6/site-packages/networkx/readwrite/edgelist.py\", line 280, in parse_edgelist\n",
      "    \"Failed to convert edge data (%s) to dictionary.\" % (d))\n",
      "TypeError: Failed to convert edge data (['{%1$s_%\"...', '{', '\"type\":', '\"phrase\"', '}']) to dictionary.\n"
     ]
    },
    {
     "name": "stdout",
     "output_type": "stream",
     "text": [
      "{ \"type\":_\"phrase\",_\"content\":_\"[rdi]      ; hKey\"}\n",
      "tmp/noisy_fixed02/raw/graphs01/Cryptography/fzputtygen_exe/sub_402BE0_edges.txt\n"
     ]
    },
    {
     "name": "stderr",
     "output_type": "stream",
     "text": [
      "Traceback (most recent call last):\n",
      "  File \"/media/disk/home/pau/Projectes/GNN-MThesis/src/function_renaming/TFM_function_renaming_dataset_creation.py\", line 262, in parseGraph\n",
      "    data = self.createGraphFromNXwithTarget(g,y,xlen,undirected=True)\n",
      "  File \"/media/disk/home/pau/Projectes/GNN-MThesis/src/function_renaming/TFM_function_renaming_dataset_creation.py\", line 512, in createGraphFromNXwithTarget\n",
      "    dataset =  self.createGraphFromNX(g,xlen, undirected)\n",
      "  File \"/media/disk/home/pau/Projectes/GNN-MThesis/src/function_renaming/TFM_function_renaming_dataset_creation.py\", line 498, in createGraphFromNX\n",
      "    x = torch.tensor(x, dtype=torch.float)\n",
      "RuntimeError: Precision loss when unpacking double\n"
     ]
    },
    {
     "name": "stdout",
     "output_type": "stream",
     "text": [
      "{ \"type\":_\"phrase\",_\"content\":_\"[r8+r8*2]  ; dwShareMode\"}\n",
      "{ \"type\":_\"phrase\",_\"content\":_\"[r15+r12]  ; Dest\"}\n",
      "{ \"type\":_\"phrase\",_\"content\":_\"[rcx]      ; hKey\"}\n",
      "{ \"type\":_\"phrase\",_\"content\":_\"[rbx]      ; dwTlsIndex\"}\n",
      "tmp/noisy_fixed02/raw/graphs01/Cryptography/fzputtygen_exe/sub_41A030_edges.txt\n"
     ]
    },
    {
     "name": "stderr",
     "output_type": "stream",
     "text": [
      "Traceback (most recent call last):\n",
      "  File \"/media/disk/home/pau/Projectes/GNN-MThesis/src/function_renaming/TFM_function_renaming_dataset_creation.py\", line 262, in parseGraph\n",
      "    data = self.createGraphFromNXwithTarget(g,y,xlen,undirected=True)\n",
      "  File \"/media/disk/home/pau/Projectes/GNN-MThesis/src/function_renaming/TFM_function_renaming_dataset_creation.py\", line 512, in createGraphFromNXwithTarget\n",
      "    dataset =  self.createGraphFromNX(g,xlen, undirected)\n",
      "  File \"/media/disk/home/pau/Projectes/GNN-MThesis/src/function_renaming/TFM_function_renaming_dataset_creation.py\", line 498, in createGraphFromNX\n",
      "    x = torch.tensor(x, dtype=torch.float)\n",
      "RuntimeError: Precision loss when unpacking double\n"
     ]
    },
    {
     "name": "stdout",
     "output_type": "stream",
     "text": [
      "{ \"type\":_\"phrase\",_\"content\":_\"[rax+rdi]  ; Dest\"}\n",
      "{ \"type\":_\"phrase\",_\"content\":_\"[rax+rbx]  ; flNewProtect\"}\n",
      "{ \"type\":_\"phrase\",_\"content\":_\"[rdx]      ; Str2\"}\n",
      "tmp/noisy_fixed02/raw/graphs01/Cryptography/dirmngr_exe/sub_410CA0_edges.txt\n"
     ]
    },
    {
     "name": "stderr",
     "output_type": "stream",
     "text": [
      "Traceback (most recent call last):\n",
      "  File \"/home/pau/.pyenv/versions/3.6.7/envs/gnn-pytorch/lib/python3.6/site-packages/networkx/readwrite/edgelist.py\", line 277, in parse_edgelist\n",
      "    edgedata = dict(literal_eval(' '.join(d)))\n",
      "  File \"/home/pau/.pyenv/versions/3.6.7/lib/python3.6/ast.py\", line 48, in literal_eval\n",
      "    node_or_string = parse(node_or_string, mode='eval')\n",
      "  File \"/home/pau/.pyenv/versions/3.6.7/lib/python3.6/ast.py\", line 35, in parse\n",
      "    return compile(source, filename, mode, PyCF_ONLY_AST)\n",
      "  File \"<unknown>\", line 1\n",
      "    {\" { \"type\": \"phrase\" }\n",
      "             ^\n",
      "SyntaxError: invalid syntax\n",
      "\n",
      "During handling of the above exception, another exception occurred:\n",
      "\n",
      "Traceback (most recent call last):\n",
      "  File \"/media/disk/home/pau/Projectes/GNN-MThesis/src/function_renaming/TFM_function_renaming_dataset_creation.py\", line 260, in parseGraph\n",
      "    g = readGraph('',filename)\n",
      "  File \"/media/disk/home/pau/Projectes/GNN-MThesis/src/function_renaming/TFM_function_renaming_dataset_creation.py\", line 66, in readGraph\n",
      "    g = nx.read_edgelist(folder+filename)\n",
      "  File \"</home/pau/.pyenv/versions/3.6.7/envs/gnn-pytorch/lib/python3.6/site-packages/decorator.py:decorator-gen-707>\", line 2, in read_edgelist\n",
      "  File \"/home/pau/.pyenv/versions/3.6.7/envs/gnn-pytorch/lib/python3.6/site-packages/networkx/utils/decorators.py\", line 240, in _open_file\n",
      "    result = func_to_be_decorated(*new_args, **kwargs)\n",
      "  File \"/home/pau/.pyenv/versions/3.6.7/envs/gnn-pytorch/lib/python3.6/site-packages/networkx/readwrite/edgelist.py\", line 369, in read_edgelist\n",
      "    data=data)\n",
      "  File \"/home/pau/.pyenv/versions/3.6.7/envs/gnn-pytorch/lib/python3.6/site-packages/networkx/readwrite/edgelist.py\", line 280, in parse_edgelist\n",
      "    \"Failed to convert edge data (%s) to dictionary.\" % (d))\n",
      "TypeError: Failed to convert edge data (['{\"', '{', '\"type\":', '\"phrase\"', '}']) to dictionary.\n"
     ]
    },
    {
     "name": "stdout",
     "output_type": "stream",
     "text": [
      "\n",
      "{ |}\n",
      "{ |}\"}\n",
      "{ |}\"}\n",
      "tmp/noisy_fixed02/raw/graphs01/Cryptography/dirmngr_exe/sub_415DB0_edges.txt\n"
     ]
    },
    {
     "name": "stderr",
     "output_type": "stream",
     "text": [
      "Traceback (most recent call last):\n",
      "  File \"/home/pau/.pyenv/versions/3.6.7/envs/gnn-pytorch/lib/python3.6/site-packages/networkx/readwrite/edgelist.py\", line 277, in parse_edgelist\n",
      "    edgedata = dict(literal_eval(' '.join(d)))\n",
      "  File \"/home/pau/.pyenv/versions/3.6.7/lib/python3.6/ast.py\", line 48, in literal_eval\n",
      "    node_or_string = parse(node_or_string, mode='eval')\n",
      "  File \"/home/pau/.pyenv/versions/3.6.7/lib/python3.6/ast.py\", line 35, in parse\n",
      "    return compile(source, filename, mode, PyCF_ONLY_AST)\n",
      "  File \"<unknown>\", line 1\n",
      "    {\" { \"type\": \"phrase\" }\n",
      "             ^\n",
      "SyntaxError: invalid syntax\n",
      "\n",
      "During handling of the above exception, another exception occurred:\n",
      "\n",
      "Traceback (most recent call last):\n",
      "  File \"/media/disk/home/pau/Projectes/GNN-MThesis/src/function_renaming/TFM_function_renaming_dataset_creation.py\", line 260, in parseGraph\n",
      "    g = readGraph('',filename)\n",
      "  File \"/media/disk/home/pau/Projectes/GNN-MThesis/src/function_renaming/TFM_function_renaming_dataset_creation.py\", line 66, in readGraph\n",
      "    g = nx.read_edgelist(folder+filename)\n",
      "  File \"</home/pau/.pyenv/versions/3.6.7/envs/gnn-pytorch/lib/python3.6/site-packages/decorator.py:decorator-gen-707>\", line 2, in read_edgelist\n",
      "  File \"/home/pau/.pyenv/versions/3.6.7/envs/gnn-pytorch/lib/python3.6/site-packages/networkx/utils/decorators.py\", line 240, in _open_file\n",
      "    result = func_to_be_decorated(*new_args, **kwargs)\n",
      "  File \"/home/pau/.pyenv/versions/3.6.7/envs/gnn-pytorch/lib/python3.6/site-packages/networkx/readwrite/edgelist.py\", line 369, in read_edgelist\n",
      "    data=data)\n",
      "  File \"/home/pau/.pyenv/versions/3.6.7/envs/gnn-pytorch/lib/python3.6/site-packages/networkx/readwrite/edgelist.py\", line 280, in parse_edgelist\n",
      "    \"Failed to convert edge data (%s) to dictionary.\" % (d))\n",
      "TypeError: Failed to convert edge data (['{\"', '{', '\"type\":', '\"phrase\"', '}']) to dictionary.\n"
     ]
    },
    {
     "name": "stdout",
     "output_type": "stream",
     "text": [
      "tmp/noisy_fixed02/raw/graphs01/Cryptography/dirmngr_exe/sub_40B380_edges.txt\n",
      "{ \"type\":_\"phrase\",_\"content\":_\"offset_aLdapReaperFpDS;_'ldap-reaper:_fp[%d] stream=%p r=%d %c%c'...\"}\n",
      "{ \"type\":_\"phrase\",_\"content\":_\"offset_aLdapReaperFp_0;_'ldap-reaper:_fp[%d] stream=%p want=%dn'\"}\n"
     ]
    },
    {
     "name": "stderr",
     "output_type": "stream",
     "text": [
      "Traceback (most recent call last):\n",
      "  File \"/home/pau/.pyenv/versions/3.6.7/envs/gnn-pytorch/lib/python3.6/site-packages/networkx/readwrite/edgelist.py\", line 277, in parse_edgelist\n",
      "    edgedata = dict(literal_eval(' '.join(d)))\n",
      "  File \"/home/pau/.pyenv/versions/3.6.7/lib/python3.6/ast.py\", line 48, in literal_eval\n",
      "    node_or_string = parse(node_or_string, mode='eval')\n",
      "  File \"/home/pau/.pyenv/versions/3.6.7/lib/python3.6/ast.py\", line 35, in parse\n",
      "    return compile(source, filename, mode, PyCF_ONLY_AST)\n",
      "  File \"<unknown>\", line 1\n",
      "    {\" { \"type\": \"phrase\" }\n",
      "             ^\n",
      "SyntaxError: invalid syntax\n",
      "\n",
      "During handling of the above exception, another exception occurred:\n",
      "\n",
      "Traceback (most recent call last):\n",
      "  File \"/media/disk/home/pau/Projectes/GNN-MThesis/src/function_renaming/TFM_function_renaming_dataset_creation.py\", line 260, in parseGraph\n",
      "    g = readGraph('',filename)\n",
      "  File \"/media/disk/home/pau/Projectes/GNN-MThesis/src/function_renaming/TFM_function_renaming_dataset_creation.py\", line 66, in readGraph\n",
      "    g = nx.read_edgelist(folder+filename)\n",
      "  File \"</home/pau/.pyenv/versions/3.6.7/envs/gnn-pytorch/lib/python3.6/site-packages/decorator.py:decorator-gen-707>\", line 2, in read_edgelist\n",
      "  File \"/home/pau/.pyenv/versions/3.6.7/envs/gnn-pytorch/lib/python3.6/site-packages/networkx/utils/decorators.py\", line 240, in _open_file\n",
      "    result = func_to_be_decorated(*new_args, **kwargs)\n",
      "  File \"/home/pau/.pyenv/versions/3.6.7/envs/gnn-pytorch/lib/python3.6/site-packages/networkx/readwrite/edgelist.py\", line 369, in read_edgelist\n",
      "    data=data)\n",
      "  File \"/home/pau/.pyenv/versions/3.6.7/envs/gnn-pytorch/lib/python3.6/site-packages/networkx/readwrite/edgelist.py\", line 280, in parse_edgelist\n",
      "    \"Failed to convert edge data (%s) to dictionary.\" % (d))\n",
      "TypeError: Failed to convert edge data (['{\"', '{', '\"type\":', '\"phrase\"', '}']) to dictionary.\n"
     ]
    },
    {
     "name": "stdout",
     "output_type": "stream",
     "text": [
      "{ \"type\":_\"phrase\",_\"content\":_\"offset_aSFp0StreamPWan;_'%s:_fp[0] stream=%p want=%dn'\"}\n",
      "{ \"type\":_\"phrase\",_\"content\":_\"offset_aSFp0StreamPRDC;_'%s:_fp[0] stream=%p r=%d %c%c%c%c%c%c%c'...\"}\n",
      "\n",
      "Finished reading-processing dataset,\n"
     ]
    },
    {
     "ename": "NameError",
     "evalue": "name 'problematic_files' is not defined",
     "output_type": "error",
     "traceback": [
      "\u001b[0;31m---------------------------------------------------------------------------\u001b[0m",
      "\u001b[0;31mNameError\u001b[0m                                 Traceback (most recent call last)",
      "\u001b[0;32m<ipython-input-109-3cfdf4621947>\u001b[0m in \u001b[0;36m<module>\u001b[0;34m\u001b[0m\n\u001b[0;32m----> 1\u001b[0;31m \u001b[0mdataset\u001b[0m \u001b[0;34m=\u001b[0m \u001b[0mFunctionsDataset\u001b[0m\u001b[0;34m(\u001b[0m\u001b[0mroot\u001b[0m\u001b[0;34m=\u001b[0m\u001b[0;34m'./tmp/noisy_fixed02'\u001b[0m\u001b[0;34m)\u001b[0m\u001b[0;34m\u001b[0m\u001b[0;34m\u001b[0m\u001b[0m\n\u001b[0m\u001b[1;32m      2\u001b[0m \u001b[0mprint\u001b[0m\u001b[0;34m(\u001b[0m\u001b[0mlen\u001b[0m\u001b[0;34m(\u001b[0m\u001b[0mdataset\u001b[0m\u001b[0;34m)\u001b[0m\u001b[0;34m)\u001b[0m\u001b[0;34m\u001b[0m\u001b[0;34m\u001b[0m\u001b[0m\n\u001b[1;32m      3\u001b[0m \u001b[0mprint\u001b[0m\u001b[0;34m(\u001b[0m\u001b[0mdataset\u001b[0m\u001b[0;34m.\u001b[0m\u001b[0mnum_classes\u001b[0m\u001b[0;34m)\u001b[0m\u001b[0;34m\u001b[0m\u001b[0;34m\u001b[0m\u001b[0m\n\u001b[1;32m      4\u001b[0m \u001b[0mprint\u001b[0m\u001b[0;34m(\u001b[0m\u001b[0mdataset\u001b[0m\u001b[0;34m.\u001b[0m\u001b[0mnum_features\u001b[0m\u001b[0;34m)\u001b[0m\u001b[0;34m\u001b[0m\u001b[0;34m\u001b[0m\u001b[0m\n",
      "\u001b[0;32m/media/disk/home/pau/Projectes/GNN-MThesis/src/function_renaming/TFM_function_renaming_dataset_creation.py\u001b[0m in \u001b[0;36m__init__\u001b[0;34m(self, root, transform, pre_transform)\u001b[0m\n\u001b[1;32m    171\u001b[0m \u001b[0;34m\u001b[0m\u001b[0m\n\u001b[1;32m    172\u001b[0m     \u001b[0;32mdef\u001b[0m \u001b[0m__init__\u001b[0m\u001b[0;34m(\u001b[0m\u001b[0mself\u001b[0m\u001b[0;34m,\u001b[0m \u001b[0mroot\u001b[0m\u001b[0;34m,\u001b[0m \u001b[0mtransform\u001b[0m\u001b[0;34m=\u001b[0m\u001b[0;32mNone\u001b[0m\u001b[0;34m,\u001b[0m \u001b[0mpre_transform\u001b[0m\u001b[0;34m=\u001b[0m\u001b[0;32mNone\u001b[0m\u001b[0;34m)\u001b[0m\u001b[0;34m:\u001b[0m\u001b[0;34m\u001b[0m\u001b[0;34m\u001b[0m\u001b[0m\n\u001b[0;32m--> 173\u001b[0;31m         \u001b[0msuper\u001b[0m\u001b[0;34m(\u001b[0m\u001b[0mFunctionsDataset\u001b[0m\u001b[0;34m,\u001b[0m \u001b[0mself\u001b[0m\u001b[0;34m)\u001b[0m\u001b[0;34m.\u001b[0m\u001b[0m__init__\u001b[0m\u001b[0;34m(\u001b[0m\u001b[0mroot\u001b[0m\u001b[0;34m,\u001b[0m \u001b[0mtransform\u001b[0m\u001b[0;34m,\u001b[0m \u001b[0mpre_transform\u001b[0m\u001b[0;34m)\u001b[0m\u001b[0;34m\u001b[0m\u001b[0;34m\u001b[0m\u001b[0m\n\u001b[0m\u001b[1;32m    174\u001b[0m         \u001b[0mprint\u001b[0m\u001b[0;34m(\u001b[0m\u001b[0;34m\" end of __init__()\"\u001b[0m\u001b[0;34m)\u001b[0m\u001b[0;34m\u001b[0m\u001b[0;34m\u001b[0m\u001b[0m\n\u001b[1;32m    175\u001b[0m \u001b[0;34m\u001b[0m\u001b[0m\n",
      "\u001b[0;32m~/.pyenv/versions/3.6.7/envs/gnn-pytorch/lib/python3.6/site-packages/torch_geometric/data/dataset.py\u001b[0m in \u001b[0;36m__init__\u001b[0;34m(self, root, transform, pre_transform, pre_filter)\u001b[0m\n\u001b[1;32m     83\u001b[0m \u001b[0;34m\u001b[0m\u001b[0m\n\u001b[1;32m     84\u001b[0m         \u001b[0mself\u001b[0m\u001b[0;34m.\u001b[0m\u001b[0m_download\u001b[0m\u001b[0;34m(\u001b[0m\u001b[0;34m)\u001b[0m\u001b[0;34m\u001b[0m\u001b[0;34m\u001b[0m\u001b[0m\n\u001b[0;32m---> 85\u001b[0;31m         \u001b[0mself\u001b[0m\u001b[0;34m.\u001b[0m\u001b[0m_process\u001b[0m\u001b[0;34m(\u001b[0m\u001b[0;34m)\u001b[0m\u001b[0;34m\u001b[0m\u001b[0;34m\u001b[0m\u001b[0m\n\u001b[0m\u001b[1;32m     86\u001b[0m \u001b[0;34m\u001b[0m\u001b[0m\n\u001b[1;32m     87\u001b[0m     \u001b[0;34m@\u001b[0m\u001b[0mproperty\u001b[0m\u001b[0;34m\u001b[0m\u001b[0;34m\u001b[0m\u001b[0m\n",
      "\u001b[0;32m~/.pyenv/versions/3.6.7/envs/gnn-pytorch/lib/python3.6/site-packages/torch_geometric/data/dataset.py\u001b[0m in \u001b[0;36m_process\u001b[0;34m(self)\u001b[0m\n\u001b[1;32m    117\u001b[0m \u001b[0;34m\u001b[0m\u001b[0m\n\u001b[1;32m    118\u001b[0m         \u001b[0mmakedirs\u001b[0m\u001b[0;34m(\u001b[0m\u001b[0mself\u001b[0m\u001b[0;34m.\u001b[0m\u001b[0mprocessed_dir\u001b[0m\u001b[0;34m)\u001b[0m\u001b[0;34m\u001b[0m\u001b[0;34m\u001b[0m\u001b[0m\n\u001b[0;32m--> 119\u001b[0;31m         \u001b[0mself\u001b[0m\u001b[0;34m.\u001b[0m\u001b[0mprocess\u001b[0m\u001b[0;34m(\u001b[0m\u001b[0;34m)\u001b[0m\u001b[0;34m\u001b[0m\u001b[0;34m\u001b[0m\u001b[0m\n\u001b[0m\u001b[1;32m    120\u001b[0m \u001b[0;34m\u001b[0m\u001b[0m\n\u001b[1;32m    121\u001b[0m         \u001b[0mprint\u001b[0m\u001b[0;34m(\u001b[0m\u001b[0;34m'Done!'\u001b[0m\u001b[0;34m)\u001b[0m\u001b[0;34m\u001b[0m\u001b[0;34m\u001b[0m\u001b[0m\n",
      "\u001b[0;32m/media/disk/home/pau/Projectes/GNN-MThesis/src/function_renaming/TFM_function_renaming_dataset_creation.py\u001b[0m in \u001b[0;36mprocess\u001b[0;34m(self)\u001b[0m\n\u001b[1;32m    247\u001b[0m         \u001b[0mprint\u001b[0m\u001b[0;34m(\u001b[0m\u001b[0;34m\"Finished reading-processing dataset,\"\u001b[0m\u001b[0;34m)\u001b[0m\u001b[0;34m\u001b[0m\u001b[0;34m\u001b[0m\u001b[0m\n\u001b[1;32m    248\u001b[0m         print(\"processed: {} total files, {} created graph files, {} problematic files\".format(\n\u001b[0;32m--> 249\u001b[0;31m             i+len(self.problematic_files),i,len(problematic_files)))\n\u001b[0m\u001b[1;32m    250\u001b[0m         \u001b[0mprint\u001b[0m\u001b[0;34m(\u001b[0m\u001b[0;34m)\u001b[0m\u001b[0;34m\u001b[0m\u001b[0;34m\u001b[0m\u001b[0m\n\u001b[1;32m    251\u001b[0m \u001b[0;34m\u001b[0m\u001b[0m\n",
      "\u001b[0;31mNameError\u001b[0m: name 'problematic_files' is not defined"
     ]
    }
   ],
   "source": [
    "dataset = FunctionsDataset(root='./tmp/noisy_fixed02')\n",
    "print(len(dataset))\n",
    "print(dataset.num_classes)\n",
    "print(dataset.num_features)"
   ]
  },
  {
   "cell_type": "code",
   "execution_count": 5,
   "metadata": {
    "scrolled": true
   },
   "outputs": [
    {
     "name": "stdout",
     "output_type": "stream",
     "text": [
      "Processing...\n",
      " FunctionsDataset: process()\n",
      "self.processed_paths ['tmp/test03/processed/data_0.pt']\n",
      "self.root tmp/test03\n",
      "self.raw_dir tmp/t\n",
      "self.raw_file_names ['graphs01']\n",
      "self.raw_paths ['tmp/test03/raw/graphs01']\n",
      "\n",
      "\n",
      "\n",
      "\n",
      "\n",
      "\n",
      "\n",
      "\n",
      "\n",
      "\n",
      "\n",
      "\n",
      "\n",
      "\n",
      "\n",
      "\n",
      "\n",
      "\n",
      "\n",
      "\n",
      "\n",
      "\n",
      "\n",
      "\n",
      "\n",
      "\n",
      "\n",
      "\n",
      "\n",
      "\n",
      "\n",
      "\n",
      "\n",
      "\n",
      "\n",
      "\n",
      "\n",
      "\n",
      "\n",
      "\n",
      "\n",
      "\n",
      "\n",
      "\n",
      "\n",
      "\n",
      "Finished reading-processing dataset,\n",
      "processed: 34793 total files, 34793 created graph files, 0 problematic files\n",
      "\n",
      "Done!\n",
      " end of __init__()\n",
      "1\n",
      "4\n",
      "4\n"
     ]
    }
   ],
   "source": [
    "dataset = FunctionsDataset(root='./tmp/test03')\n",
    "print(len(dataset))\n",
    "print(dataset.num_classes)\n",
    "print(dataset.num_features)"
   ]
  },
  {
   "cell_type": "code",
   "execution_count": 6,
   "metadata": {
    "scrolled": true
   },
   "outputs": [
    {
     "name": "stdout",
     "output_type": "stream",
     "text": [
      " end of __init__()\n",
      "1\n",
      "4\n",
      "4\n"
     ]
    }
   ],
   "source": [
    "# Reimport (for when closing and reopening the notebook)\n",
    "dataset = FunctionsDataset(root='./tmp/test03')\n",
    "print(len(dataset))\n",
    "print(dataset.num_classes)\n",
    "print(dataset.num_features)"
   ]
  },
  {
   "cell_type": "code",
   "execution_count": 8,
   "metadata": {},
   "outputs": [
    {
     "name": "stdout",
     "output_type": "stream",
     "text": [
      "[]\n"
     ]
    }
   ],
   "source": [
    "print(dataset.problematic_files)"
   ]
  },
  {
   "cell_type": "code",
   "execution_count": 120,
   "metadata": {},
   "outputs": [
    {
     "name": "stdout",
     "output_type": "stream",
     "text": [
      "Data(edge_index=[2, 102], x=[35, 4], y=[1])\n"
     ]
    }
   ],
   "source": [
    "print(dataset[3000])"
   ]
  },
  {
   "cell_type": "code",
   "execution_count": 7,
   "metadata": {},
   "outputs": [
    {
     "name": "stdout",
     "output_type": "stream",
     "text": [
      "Data(edge_index=[2, 702], x=[198, 4], y=[1])\n",
      "Data(edge_index=[2, 224], x=[78, 4], y=[1])\n",
      "Data(edge_index=[2, 32], x=[17, 4], y=[1])\n",
      "Data(edge_index=[2, 52], x=[23, 4], y=[1])\n",
      "Data(edge_index=[2, 444], x=[133, 4], y=[1])\n",
      "Data(edge_index=[2, 152], x=[52, 4], y=[1])\n",
      "Data(edge_index=[2, 86], x=[31, 4], y=[1])\n",
      "Data(edge_index=[2, 138], x=[53, 4], y=[1])\n",
      "Data(edge_index=[2, 172], x=[60, 4], y=[1])\n",
      "Data(edge_index=[2, 18], x=[9, 4], y=[1])\n"
     ]
    }
   ],
   "source": [
    "for i in range(10):\n",
    "    print(dataset[i])"
   ]
  },
  {
   "cell_type": "markdown",
   "metadata": {},
   "source": [
    "\n",
    "##  Training a toy model"
   ]
  },
  {
   "cell_type": "code",
   "execution_count": 15,
   "metadata": {},
   "outputs": [
    {
     "data": {
      "text/plain": [
       "device(type='cuda')"
      ]
     },
     "execution_count": 15,
     "metadata": {},
     "output_type": "execute_result"
    }
   ],
   "source": [
    "\n",
    "import os,sys,inspect\n",
    "currentdir = os.path.dirname(os.path.abspath(inspect.getfile(inspect.currentframe())))\n",
    "parentdir = os.path.dirname(currentdir)\n",
    "sys.path.insert(0,parentdir+'/graph_classification') \n",
    "\n",
    "from TFM_graph_classification import *\n",
    "from TFM_graph_classification_models import *\n",
    "\n",
    "global device\n",
    "device = torch.device('cuda' if torch.cuda.is_available() else 'cpu')\n",
    "device\n"
   ]
  },
  {
   "cell_type": "code",
   "execution_count": 16,
   "metadata": {},
   "outputs": [
    {
     "ename": "AttributeError",
     "evalue": "'FunctionsDataset' object has no attribute 'shuffle'",
     "output_type": "error",
     "traceback": [
      "\u001b[0;31m---------------------------------------------------------------------------\u001b[0m",
      "\u001b[0;31mAttributeError\u001b[0m                            Traceback (most recent call last)",
      "\u001b[0;32m<ipython-input-16-4c7a76847ddb>\u001b[0m in \u001b[0;36m<module>\u001b[0;34m\u001b[0m\n\u001b[1;32m      1\u001b[0m \u001b[0mk\u001b[0m\u001b[0;34m=\u001b[0m\u001b[0;36m3\u001b[0m\u001b[0;34m\u001b[0m\u001b[0;34m\u001b[0m\u001b[0m\n\u001b[1;32m      2\u001b[0m train_dataset, test_dataset = prepare_dataset(dataset, nfolds=k, prop=0.8, \n\u001b[0;32m----> 3\u001b[0;31m                                               dataset_type=\"random\", print_debug=True)\n\u001b[0m\u001b[1;32m      4\u001b[0m \u001b[0;34m\u001b[0m\u001b[0m\n\u001b[1;32m      5\u001b[0m \u001b[0;34m\u001b[0m\u001b[0m\n",
      "\u001b[0;32m/media/disk/home/pau/Projectes/GNN-MThesis/src/graph_classification/TFM_graph_classification.py\u001b[0m in \u001b[0;36mprepare_dataset\u001b[0;34m(dataset, nfolds, prop, dataset_type, print_debug)\u001b[0m\n\u001b[1;32m    507\u001b[0m \u001b[0;34m\u001b[0m\u001b[0m\n\u001b[1;32m    508\u001b[0m \u001b[0;32mdef\u001b[0m \u001b[0mprepare_dataset\u001b[0m\u001b[0;34m(\u001b[0m\u001b[0mdataset\u001b[0m\u001b[0;34m,\u001b[0m \u001b[0mnfolds\u001b[0m\u001b[0;34m=\u001b[0m\u001b[0;36m3\u001b[0m\u001b[0;34m,\u001b[0m \u001b[0mprop\u001b[0m\u001b[0;34m=\u001b[0m\u001b[0;36m0.8\u001b[0m\u001b[0;34m,\u001b[0m \u001b[0mdataset_type\u001b[0m\u001b[0;34m=\u001b[0m\u001b[0;34m\"balanced\"\u001b[0m\u001b[0;34m,\u001b[0m \u001b[0mprint_debug\u001b[0m\u001b[0;34m=\u001b[0m\u001b[0;32mFalse\u001b[0m\u001b[0;34m)\u001b[0m\u001b[0;34m:\u001b[0m\u001b[0;34m\u001b[0m\u001b[0;34m\u001b[0m\u001b[0m\n\u001b[0;32m--> 509\u001b[0;31m     \u001b[0mdataset\u001b[0m \u001b[0;34m=\u001b[0m \u001b[0mdataset\u001b[0m\u001b[0;34m.\u001b[0m\u001b[0mshuffle\u001b[0m\u001b[0;34m(\u001b[0m\u001b[0;34m)\u001b[0m\u001b[0;34m\u001b[0m\u001b[0;34m\u001b[0m\u001b[0m\n\u001b[0m\u001b[1;32m    510\u001b[0m     \u001b[0mk\u001b[0m \u001b[0;34m=\u001b[0m \u001b[0mnfolds\u001b[0m\u001b[0;34m\u001b[0m\u001b[0;34m\u001b[0m\u001b[0m\n\u001b[1;32m    511\u001b[0m     \u001b[0mn\u001b[0m \u001b[0;34m=\u001b[0m \u001b[0mlen\u001b[0m\u001b[0;34m(\u001b[0m\u001b[0mdataset\u001b[0m\u001b[0;34m)\u001b[0m\u001b[0;34m\u001b[0m\u001b[0;34m\u001b[0m\u001b[0m\n",
      "\u001b[0;31mAttributeError\u001b[0m: 'FunctionsDataset' object has no attribute 'shuffle'"
     ]
    }
   ],
   "source": [
    "k=3\n",
    "train_dataset, test_dataset = prepare_dataset(dataset, nfolds=k, prop=0.8, \n",
    "                                              dataset_type=\"random\", print_debug=True)\n",
    "\n",
    "\n",
    "resultsdict = {'best_models_list':[], 'models':{} , 'best_models':{}, 'autoincrement': 0 }\n",
    "\n",
    "model_list21 = hpsearch(None, {\n",
    "    'd1': [25],\n",
    "    'd2': [20],\n",
    "    'epochs': [10],\n",
    "    'model': [GGNN1],\n",
    "    'learning_rate': [0.01],\n",
    "    'weight_decay':[5e-4],\n",
    "    'num_layers':[2],\n",
    "    'aggr_type': ['mean'],\n",
    "    'batch_size': [32]\n",
    "})\n",
    "modelsdict1 = modelSelection(model_list21,k, train_dataset, balanced=False)\n",
    "reportModelSelectionResult(modelsdict1,resultsdict)"
   ]
  },
  {
   "cell_type": "markdown",
   "metadata": {},
   "source": [
    "# Bug fixes\n",
    "\n",
    "- error3:\n",
    " \t\t\tsome format of json is not correct\n",
    "\n",
    " \t\t\t['ptr', '[rax+rax+00000000h]', '{', '\"type\":', '\"displacement\"', '}']) to dictionary.\n",
    " \t\t\toff_46D838 { \"type\": \"phrase\" }\n",
    "\n",
    " \t\t\tko-> too costly to rerun IDApython plugin -> correct a posteriori with a script\n",
    " \t\t\t\tok-> try with \"pbyte ptr [esi+eax]\" (adding the double quotes)\n",
    " \t\t\t\t\t- before \\{\n",
    " \t\t\t\t\t- starting word\n",
    " \t\t\t\t\t\tpbyte, ddword, dbyte\n",
    " \t\t\t\t\t- then takes 2 more \"words\" or until \\]\n",
    " \t\t\t\t\t-> all this must be doublequoted in _nodes.txt and in _edges.txt\n",
    " \t\t\t\t-> try with adding underline slash pbyte_ptr_\n",
    "\n",
    " \t\t\t\tbut other errors appear -> modify in idapython plugin...\n",
    " \t\t\t\t-> count how many\n",
    "\n",
    "- error4:\n",
    " \t\t\tpoffset aSocketReadErro; \"socket read error: ec=%d\\n\" {\"type\": \"phrase\", \"content\": \"offset aSocketReadErro; \"socket read error: ec=%d\\n\"\"}\n",
    "\n",
    " \t\t\tpoffset aSocketReadErro; \"socket read error: ec=%d\\n\" {\"type\": \"phrase\", \"content\": \"offset aSocketReadErro; \"socket read error: ec=%d\\n\"\"}\n",
    "\n",
    " \t\t\tpoffset aSDDWarningGarb; \"%s:%d:%d: warning: garbage after sectio\"... {\"type\": \"phrase\", \"content\": \"offset aSDDWarningGarb; \"%s:%d:%d: warning: garbage after sectio\"...\"}\n",
    "\n",
    " \t\t\tfrom ; to \" {\n",
    " \t\t\tfrom ; to \"... {}\n",
    "\n",
    "- error5\n",
    " \t\t\tconrtol double quotes inside \"content\": \"...HERE...\"\n",
    "            \n",
    "\n",
    "- error6\n",
    " \t\t\tptr [eax]\"\"\" { \"type\": \"phrase\" }\n",
    "\n",
    "- error7\n",
    " \t\t\tstill not getting the nodie inside \"\"\n",
    "\t\t\t- add underscores\n",
    "\n",
    "- error8\n",
    " \t\t\t; jumptable 1006892B case 0 { \"type\": \"phrase\" }\n",
    "            \n",
    "- error 9 (PENDING)\n",
    "        -> done on loading time, but preferrable in the noisy_fixed dataset on disk\n",
    "            { \"type\": \"phrase\", \"content\": \"offset aEcdheEcdsaAe_0; \\'ECDHE-ECDSA-AES128-GCM-SHA256\\'\"}\n",
    "            { \"type\": \"phrase\", \"content\": \"offset asc_6FFA7A60; \\'-f\\'\"}\n",
    "\n",
    "            { \"type\": \"phrase\", \"content\": \"offset aD_2; \\'-d\\'\"}\n",
    "\n",
    "            { \"type\": \"instr\", \"content\": \"mov offset aLiAHref_0; '<li><a href=\\'' 1878681420\"}\n",
    "\n",
    "\n",
    "- error 10 (PENDING)\n",
    "        nodes\n",
    "            ptr [...] { \"type\": \"phrase\" }\n",
    "\n",
    "- error 11 (PENDING)\n",
    "        edges\n",
    "            {language \" { \"type\": \"phrase\" }\n",
    "            1878531953 \"poffset_aLanguage;_\\\"\" {language \" { \"type\": \"phrase\" }\n",
    "\n",
    "- error 12 (PENDING)\n",
    "        edges\n",
    "            , { \"type\": \"instr\" }\n",
    "            268562345 268562352 , { \"type\": \"instr\" }\n",
    "        \n",
    "        \n",
    "### Fixed errors in the IDA python plugin\n"
   ]
  },
  {
   "cell_type": "code",
   "execution_count": 6,
   "metadata": {},
   "outputs": [
    {
     "name": "stdout",
     "output_type": "stream",
     "text": [
      " Total 9724 modifications \n"
     ]
    }
   ],
   "source": [
    "\"\"\"\n",
    "    FIRST MODIFIED DATAET NOISY_FIXED01\n",
    "    WORKAROUND ON ERROS OF THE IDA python plugin\n",
    "\n",
    "\"\"\"\n",
    "import os\n",
    "import sys\n",
    "import re\n",
    "from tempfile import mkstemp\n",
    "from shutil import move\n",
    "\n",
    "\n",
    "mywords = [\"ddword\", \"ddbyte\", \n",
    "           \"dword\", \"dbyte\",\n",
    "           \"pddbyte\", \"pddword\",  \n",
    "           \"pdbyte\", \"pdword\",  \n",
    "           \"pqbyte\", \"pqword\",\n",
    "           \"pqqbyte\", \"pqqword\",\n",
    "           \"pbyte\", \"pword\",  \n",
    "           \"word\", \"byte\", \"ptr\",\"p[\"]\n",
    "offsetwords = [\"poffset\"]\n",
    "jumptablewords = [\";jumptable\", \"jumptable\", \n",
    "                  \"; jumptable\",\"; Str1 {\",\n",
    "                  \"; Memory {\",\n",
    "                  \"; NewSize {\",\n",
    "                  \"; ControlPc {\",\n",
    "                  \"; lpMultiByteStr {\",\n",
    "                  \"; Size {\",\n",
    "                  \"; Src {\",\n",
    "                  \"; Str {\",\n",
    "                  \"; Dst {\",\n",
    "                  \"; Dst1 {\",\n",
    "                  \"; Dst2 {\",\n",
    "                  \"; DstBuf {\",\n",
    "                  \"; SrcBuf {\",\n",
    "                  \"; Buf2 {\",\n",
    "                  \"; Buf1 {\",\n",
    "                  \"; Buf {\", \n",
    "                  \"; lpCriticalSection {\"\n",
    "                  \"language {\",\n",
    "                  \"language \\\" {\",]\n",
    "\n",
    "def findFirstWordOfSet(line, word_list):\n",
    "    for word in word_list:\n",
    "        k = line.find(word)\n",
    "        if k>-1:\n",
    "            return k\n",
    "    return -1\n",
    "\n",
    "\n",
    "def find2(line, word_list):\n",
    "    \n",
    "    k3=-1\n",
    "    for word in word_list:\n",
    "        k3 = line.find(word)\n",
    "        if k3>-1:\n",
    "            return k3\n",
    "        \n",
    "    if k3==-1:\n",
    "        findall = re.findall('\\; [^\\{]+ \\{\"type\": \"phrase\" ', line)\n",
    "        for elem in findall:\n",
    "            k3 = line.find(elem)\n",
    "            if k3>-1:\n",
    "                break\n",
    "    if k3==-1:\n",
    "        findall = re.findall('\\; [^\\{]+ \\{ \"type\": \"phrase\" ', line)\n",
    "        for elem in findall:\n",
    "            k3 = line.find(elem)\n",
    "            if k3>-1:\n",
    "                break\n",
    "            \n",
    "    return k3\n",
    "\n",
    "modifications = 0\n",
    "\n",
    "#for root, dirs, files in os.walk(\"tmp/noisy_fixed01/raw/graphs01/Cryptography\", topdown=False):\n",
    "#for root, dirs, files in os.walk(\"tmp/noisy_fixed01/raw/graphs01\", topdown=False):\n",
    "#for root, dirs, files in os.walk(\"tmp/noisy_fixed01/raw/graphs01/Network/libeayxx_dll\", topdown=False):\n",
    "for root, dirs, files in os.walk(\"tmp/noisy_fixed01/raw/graphs01/Network/libeayxx_dll\", topdown=False):\n",
    "    for name in files:\n",
    "        filename = os.path.join(root, name)\n",
    "        \n",
    "        fh, abs_path = mkstemp()\n",
    "        with open(fh,'w') as new_file:\n",
    "            \n",
    "            with open(filename, 'r') as f:\n",
    "                for line in f.readlines():\n",
    "                    modified_line = line\n",
    "                        \n",
    "                    #ptr [eax]\"\"\" {\n",
    "                    line = line.replace('\"\"\"','')\n",
    "                        \n",
    "                    # now verify if somth must be replaced\n",
    "                    # before {\n",
    "                    j= line.find('{')\n",
    "                    subline = line[:j]\n",
    "                    \n",
    "                    \n",
    "                    \n",
    "                    k= findFirstWordOfSet(subline, mywords)\n",
    "                    k2= findFirstWordOfSet(subline, offsetwords)\n",
    "                    k3= find2(line, jumptablewords)\n",
    "                    \n",
    "                    if k2>-1: # poffset method; \"...\"... \n",
    "                        #modify nodeid string \n",
    "                        #l = findFirstWordOfSet(subline, [' {']) # IT'S NOT HERE!-> IN line!\n",
    "                        subline = subline.replace('\"', '\\'')\n",
    "                        \n",
    "                        modified_line = subline[:k2] + \"\\\"\" + subline[k2:-1].replace(' ', '_') + \"\\\" \" + line[j:]\n",
    "                        #print(k2,line,\" || \\n\",modified_line)\n",
    "                        \n",
    "                        #modify \" for \\\" inside content\n",
    "                        k= findFirstWordOfSet(modified_line,['\"content\": \"'])\n",
    "                        if k>-1:\n",
    "                            l= findFirstWordOfSet(modified_line,['\"}'])\n",
    "                            #print(modified_line[k+12:l].replace('\"','\\\\\\\"'))\n",
    "                            modified_line = modified_line[:k+12] + modified_line[k+12:l].replace('\"','\\'') + modified_line[l:]\n",
    "                            #print(k,modified_line)\n",
    "                            \n",
    "                        #print()\n",
    "                        modifications +=1\n",
    "                    elif k3>-1: # pXXX; jumptable\n",
    "                        if line.find('phrase')>-1:  # jumptable can appear inside instr...\n",
    "                            A = \"\"\"\n",
    "                            4588050 p1Bh; jumptable 0045FFB4 case 592 { \"type\": \"phrase\" }\n",
    "\n",
    "                            p0; jumptable 00401EB1 case 5 {\"type\": \"phrase\", \"content\": \"0; jumptable 00401EB1 case 5\"}\n",
    "\n",
    "                            \"\"\"\n",
    "                            #l1 = findFirstWordOfset(line, [' p',])\n",
    "                            #if l1== -1 and line[0]=='p':\n",
    "                            #    l1=0\n",
    "                            l2 = findFirstWordOfSet(line, ['; '])\n",
    "\n",
    "                            modified_line = line[:l2] + \" \" + line[j:]\n",
    "                            #print(k3,line,\" || \\n\",modified_line)\n",
    "                            modifications +=1\n",
    "                    \n",
    "                    elif k>-1:    # dword ptr, word ptr, etc         \n",
    "                        l = findFirstWordOfSet(subline, [']'])\n",
    "                        modified_line = subline[:k] + \"\\\"\" + subline[k:l+1].replace(' ', '_') + \"\\\"\" + subline[l+1:] + line[j:]\n",
    "                        #if line.find(\"p[\")>-1:\n",
    "                        #    print(k,line,\" || \\n\",modified_line)\n",
    "                        #print()\n",
    "                        modifications +=1\n",
    "                    \n",
    "                        \n",
    "                    new_file.write(modified_line)\n",
    "        \n",
    "        #Remove original file\n",
    "        os.remove(filename)\n",
    "        #Move new file\n",
    "        move(abs_path, filename)\n",
    "        \n",
    "print(\" Total {} modifications \".format(modifications))"
   ]
  },
  {
   "cell_type": "code",
   "execution_count": 108,
   "metadata": {},
   "outputs": [
    {
     "name": "stdout",
     "output_type": "stream",
     "text": [
      " Total 216978 modifications \n"
     ]
    }
   ],
   "source": [
    "\"\"\"\n",
    "    \n",
    "    EXECUTE THIS AFTER THE PREVIOUS WORKAROUND THAT GENEREATE THE noisy_fixed01 dataset\n",
    "\n",
    "\"\"\"\n",
    "\n",
    "import os\n",
    "import sys\n",
    "import re\n",
    "from tempfile import mkstemp\n",
    "from shutil import move\n",
    "\n",
    "\n",
    "def fix_error9(line, modifications):\n",
    "    \"\"\"\n",
    "        avbc  efg  { \"type\": someth, \"content\": \"PROBLEMATIC CONTENT\" }\n",
    "        sanitize the Problematic content\n",
    "    \n",
    "    \"\"\"\n",
    "    modified = False\n",
    "    i1 = line.find('{\"type\"')\n",
    "    j1 = line.rfind('}')\n",
    "    if i1 == -1 :\n",
    "        # problematic line??\n",
    "        return line, modifications\n",
    "    \n",
    "    subline = line[i1+1:j1]\n",
    "    \n",
    "    i2 = subline.find('\"content\":')\n",
    "    if i2==-1:\n",
    "        # no content\n",
    "        return line, modifications\n",
    "    \n",
    "    \n",
    "    subline2 = subline[i2+9:]\n",
    "    i = subline2.find('\"')\n",
    "    j = subline2.rfind('\"')\n",
    "    \n",
    "    \n",
    "    if i==-1 :\n",
    "        # no quotes\n",
    "        return line, modifications\n",
    "        \n",
    "    if j==-1 or j==i:\n",
    "        # NO ENDING DDOUBLE QUOTE\n",
    "        subline2 = subline2 + '\"'\n",
    "        modified = True\n",
    "\n",
    "    subline3 = subline2[i+1:j]\n",
    "    # sanitization upon this point\n",
    "    modified = modified or subline3.find('\"')>-1\n",
    "    subline3 = subline3.replace('\"','')\n",
    "    modified = modified or subline3.find('\\'')>-1\n",
    "    subline3 = subline3.replace('\\'','')\n",
    "    modified = modified or subline3.find('\\\\')>-1\n",
    "    subline3 = subline3.replace('\\\\','')\n",
    "    modified = modified or subline3.find('}')>-1\n",
    "    subline3 = subline3.replace('}','')\n",
    "    modified = modified or subline3.find('{')>-1\n",
    "    subline3 = subline3.replace('{','')\n",
    "    \n",
    "    if modified:\n",
    "        modifications += 1\n",
    "    \n",
    "    resultline = line[:i1+1]   + subline[:i2+9] + subline2[:i+1]   + subline3 + subline2[j:]  + line[j1:]\n",
    "    \n",
    "    return resultline, modifications\n",
    " \n",
    "    \n",
    "def fix_error10(line, modifications):\n",
    "    \"\"\"\n",
    "        Error in nodes file\n",
    "            ptr [...] { \"type\": \"phrase\" } \n",
    "        \n",
    "        make sure only applied to nodes.txt\n",
    "        \n",
    "        find ptr [ ] on subline before  {}\n",
    "        apply replace(' ','_')\n",
    "    \"\"\"\n",
    "    \n",
    "    findall = re.findall('ptr \\[[^\\[\\]]+\\] \\{',line)\n",
    "    for elem in findall:\n",
    "        print(line)\n",
    "        i = line.find(' { \"type')\n",
    "        if i==-1:\n",
    "            i = line.find(' {\"type')\n",
    "        subline = line[:i]\n",
    "        j = subline.find('ptr')\n",
    "        k = subline.find('] ')\n",
    "        node = subline[j:k]\n",
    "        node = node.replace(' ','_')\n",
    "        modifications +=1\n",
    "        print(\"modified: \",subline[:j]+node+subline[k:]+line[i:], modifications)\n",
    "        return subline[:j]+node+subline[k:]+line[i:], modifications\n",
    "    return line  , modifications\n",
    "\n",
    "    \n",
    "\n",
    "mywords = [\"ddword\", \"ddbyte\", \n",
    "           \"dword\", \"dbyte\",\n",
    "           \"pddbyte\", \"pddword\",  \n",
    "           \"pdbyte\", \"pdword\",  \n",
    "           \"pqbyte\", \"pqword\",\n",
    "           \"pqqbyte\", \"pqqword\",\n",
    "           \"pbyte\", \"pword\",  \n",
    "           \"word\", \"byte\", \"ptr\",\"p[\"]\n",
    "\n",
    "def fix_error10b(line, wordlist, modifications):\n",
    "    \"\"\"\n",
    "        Error in nodes file\n",
    "            ptr [...] { \"type\": \"phrase\" } \n",
    "        \n",
    "        make sure only applied to nodes.txt\n",
    "        \n",
    "        find ptr [ ] on subline before  {}\n",
    "        apply replace(' ','_')\n",
    "    \"\"\"\n",
    "    \n",
    "    l=-1\n",
    "    k=-1\n",
    "    for word in wordlist:\n",
    "        j = line.find(word)\n",
    "        if j > -1:\n",
    "            k = line[j:].find('] ')\n",
    "            if k>-1:\n",
    "                k=k+j\n",
    "                node = line[j:k]\n",
    "                node = node.replace(' ','_')\n",
    "                modifications +=1\n",
    "                #print(\"modified: \",line[:j]+node+line[k:], modifications)\n",
    "                return line[:j]+node+line[k:], modifications\n",
    "        \n",
    "    return line  , modifications\n",
    "\n",
    "\n",
    "def fix_error11(line,modifications):\n",
    "    \"\"\"\n",
    "    Error to fix:\n",
    "        1878531953 \"poffset_aLanguage;_\\\"\" {language \" { \"type\": \"phrase\" }\n",
    "        REMOVE THE \\\" and \" and { and whitespace before '{ \"'\n",
    "    \"\"\"\n",
    "    \n",
    "    i = line.find('{language \" {')\n",
    "    if i==-1:\n",
    "        #print(\"language not found\")\n",
    "        return line, modifications\n",
    "    \n",
    "    #print(line)\n",
    "    i = line.find('{ \"type')\n",
    "    if i==-1:\n",
    "        i = line.find('{\"type')\n",
    "        if i==-1:\n",
    "            #print(\" type not found\")\n",
    "            return line, modifications \n",
    "    \n",
    "    subline = line[:i]\n",
    "    j= subline.find('\"')\n",
    "    k=subline.rfind('\"')\n",
    "    if j==-1 or k==-1:\n",
    "        #print(\"internal quotes not found\")\n",
    "        return line, modifications\n",
    "    \n",
    "    node2 = subline[j+1:k]\n",
    "    node2 = node2.replace('\"','')\n",
    "    node2 = node2.replace('{','')\n",
    "    node2 = node2.replace(' ','_')\n",
    "    \n",
    "    modifications +=1\n",
    "    #print(\"modified\", subline[:j+1] + node2 + subline[k:] + line[i:])\n",
    "    return subline[:j+1] + node2 + subline[k:] + line[i:], modifications\n",
    "\n",
    "def fix_error12(line, modifications):\n",
    "    \"\"\"\n",
    "    Error to fix:\n",
    "        268562345 268562352 , { \"type\": \"instr\" }\n",
    "        REMOVE THE COMA\n",
    "    \"\"\"\n",
    "    findall = re.findall('[0-9ABCDEFabcdef]+ [0-9ABCDEFabcdef]+ , \\{',line)\n",
    "    for elem in findall:\n",
    "        # return first element found\n",
    "        comai =  line.find(',')\n",
    "        modifications +=1\n",
    "        #print(\"modified: \", line[:comai] + line[comai+1:])\n",
    "        return line[:comai] + line[comai+1:], modifications\n",
    "    return line, modifications\n",
    "\n",
    "def fix_error12b(line, modifications): \n",
    "    \"\"\"\n",
    "        Error\n",
    "         {type \" { \"type\": \"phrase\" }\n",
    "    \"\"\"\n",
    "    findall = re.findall('[^ ]+ \" \\{\\s{0,1}\"type',line)\n",
    "    for elem in findall:\n",
    "        # return first element found\n",
    "        i =  line.find('{type \"')\n",
    "        modifications +=1\n",
    "        #print(\"modified: \", line[:comai] + line[comai+1:])\n",
    "        return line[:i] + line[i+6:], modifications\n",
    "    return line, modifications\n",
    "\n",
    "modifications = 0\n",
    "\n",
    "#for root, dirs, files in os.walk(\"tmp/noisy_fixed02/raw/graphs01/Cryptography\", topdown=False):\n",
    "#for root, dirs, files in os.walk(\"tmp/noisy_fixed02/raw/graphs01\", topdown=False):\n",
    "\n",
    "#for root, dirs, files in os.walk(\"tmp/noisy_fixed02/raw/graphs01/Network/ApacheCore_dll\", topdown=False):\n",
    "#for root, dirs, files in os.walk(\"tmp/noisy_fixed02/raw/graphs01/Network/libgnutls-30_dll\", topdown=False):\n",
    "#for root, dirs, files in os.walk(\"tmp/noisy_fixed02/raw/graphs01/Network/libeayxx_dll\", topdown=False):\n",
    "#for root, dirs, files in os.walk(\"tmp/noisy_fixed02/raw/graphs01\", topdown=False):\n",
    "#for root, dirs, files in os.walk(\"tmp/noisy_fixed02/raw/graphs01/Network/nginx_exe/\", topdown=False):\n",
    "for root, dirs, files in os.walk(\"tmp/noisy_fixed02/raw/graphs01\", topdown=False):\n",
    "    for name in files:\n",
    "        filename = os.path.join(root, name)\n",
    "        \n",
    "        #if filename != 'tmp/noisy_fixed02/raw/graphs01/Network/nginx_exe/sub_4D8A40_edges.txt':\n",
    "        #    continue\n",
    "            \n",
    "        #print(filename)\n",
    "        \n",
    "        fh, abs_path = mkstemp()\n",
    "        with open(fh,'w') as new_file:\n",
    "            \n",
    "            with open(filename, 'r') as f:\n",
    "                for line in f.readlines():\n",
    "                    modified_line = line\n",
    "                        \n",
    "                    \n",
    "                    #if name.find('_nodes.txt')>-1:\n",
    "                    #    #if name == 'sub_64921320_nodes.txt':\n",
    "                    #    #    print(name)\n",
    "                    #    #    print(modified_line)\n",
    "                    \n",
    "                    modified_line, modifications = fix_error10b(modified_line, mywords, modifications)\n",
    "                        \n",
    "                    modified_line, modifications = fix_error11(modified_line, modifications)\n",
    "                    modified_line,  modifications = fix_error12(modified_line, modifications)\n",
    "                    modified_line,  modifications = fix_error12b(modified_line, modifications)\n",
    "                     \n",
    "                    new_file.write(modified_line)\n",
    "        \n",
    "        #Remove original file\n",
    "        os.remove(filename)\n",
    "        #Move new file\n",
    "        move(abs_path, filename)\n",
    "        \n",
    "print(\" Total {} modifications \".format(modifications))"
   ]
  },
  {
   "cell_type": "code",
   "execution_count": 66,
   "metadata": {},
   "outputs": [
    {
     "name": "stdout",
     "output_type": "stream",
     "text": [
      "ptr [esi] {\n"
     ]
    }
   ],
   "source": [
    "line= 'ptr [esi] { \"type\": \"phrase\" }'\n",
    "findall = re.findall('ptr \\[[^\\[\\]]+\\] \\{',line)\n",
    "for elem in findall:\n",
    "    print(elem)"
   ]
  },
  {
   "cell_type": "code",
   "execution_count": null,
   "metadata": {},
   "outputs": [],
   "source": [
    "#for root, dirs, files in os.walk(\"tmp/noisy_fixed02/raw/graphs01/Cryptography\", topdown=False):\n",
    "#for root, dirs, files in os.walk(\"tmp/noisy_fixed02/raw/graphs01\", topdown=False):\n",
    "\n",
    "#for root, dirs, files in os.walk(\"tmp/noisy_fixed02/raw/graphs01/Network/ApacheCore_dll\", topdown=False):\n",
    "#for root, dirs, files in os.walk(\"tmp/noisy_fixed02/raw/graphs01/Network/libgnutls-30_dll\", topdown=False):\n",
    "#for root, dirs, files in os.walk(\"tmp/noisy_fixed02/raw/graphs01/Network/libeayxx_dll\", topdown=False):\n",
    "#for root, dirs, files in os.walk(\"tmp/noisy_fixed02/raw/graphs01\", topdown=False):\n",
    "for root, dirs, files in os.walk(\"tmp/noisy_fixed02/raw/graphs01\", topdown=False):\n",
    "    for name in files:\n",
    "        filename = os.path.join(root, name)\n",
    "        \n",
    "        fh, abs_path = mkstemp()\n",
    "        with open(fh,'w') as new_file:\n",
    "            \n",
    "            with open(filename, 'r') as f:\n",
    "                for line in f.readlines():\n",
    "                    modified_line = line\n",
    "                        \n",
    "                    modified_line, modifications = fix_error9(modified_line, modifications)\n",
    "                    \n",
    "                    new_file.write(modified_line)\n",
    "        \n",
    "        #Remove original file\n",
    "        os.remove(filename)\n",
    "        #Move new file\n",
    "        move(abs_path, filename)\n",
    "        \n",
    "print(\" Total {} modifications \".format(modifications))"
   ]
  },
  {
   "cell_type": "markdown",
   "metadata": {},
   "source": [
    "loader = DataLoader(dataset, batch_size=2, shuffle=True)\n",
    "for graph in loader:\n",
    "    print(graph)\n",
    "    print(graph.edge_index.max().item(),graph.edge_index.min().item()  )\n",
    "    print(graph.edge_index[0][:10])\n",
    "    print(graph.x[:10])\n",
    "    print(graph.x.size())\n",
    "    print()"
   ]
  },
  {
   "cell_type": "code",
   "execution_count": null,
   "metadata": {},
   "outputs": [],
   "source": []
  }
 ],
 "metadata": {
  "kernelspec": {
   "display_name": "gnn-pytorch",
   "language": "python",
   "name": "gnn-pytorch"
  },
  "language_info": {
   "codemirror_mode": {
    "name": "ipython",
    "version": 3
   },
   "file_extension": ".py",
   "mimetype": "text/x-python",
   "name": "python",
   "nbconvert_exporter": "python",
   "pygments_lexer": "ipython3",
   "version": "3.6.7"
  }
 },
 "nbformat": 4,
 "nbformat_minor": 2
}
