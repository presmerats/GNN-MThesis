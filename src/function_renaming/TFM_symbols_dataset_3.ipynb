{
 "cells": [
  {
   "cell_type": "markdown",
   "metadata": {},
   "source": [
    "# Symbols dataset version 3\n",
    "\n",
    "The version 3 of the symbols dataset has been created in the same conditions than version 1 and 2. \n",
    "Now the labelling from version 2 has been factorized, by grouping the most similar topic-task labels into 24 main groups.\n",
    "This refactorization has been done partially by scripting rules and by human supervision."
   ]
  },
  {
   "cell_type": "markdown",
   "metadata": {},
   "source": [
    "The dataset is copied from dataset version 2"
   ]
  },
  {
   "cell_type": "code",
   "execution_count": 1,
   "metadata": {},
   "outputs": [],
   "source": [
    "#!cp tmp/symbols_dataset_2/processed/* tmp/symbols_dataset_3/processed\n"
   ]
  },
  {
   "cell_type": "code",
   "execution_count": 1,
   "metadata": {},
   "outputs": [
    {
     "name": "stdout",
     "output_type": "stream",
     "text": [
      "processed_path tmp/symbols_dataset_3/processed\n",
      "30885\n",
      "1\n",
      "4\n",
      "[]\n",
      "total unmatched  0\n",
      "\n",
      "verifying labels dict:\n",
      "filezilla_i64 ___chkstk_ms memory_config\n",
      "filezilla_i64 ___lc_codepage_func_0 memory_config\n",
      "filezilla_i64 ___w64_mingwthr_add_key_dtor memory_config\n",
      "filezilla_i64 ___w64_mingwthr_remove_key_dtor memory_config\n",
      "filezilla_i64 __any_on_d2a memory_config\n",
      "filezilla_i64 __b2d_d2a memory_config\n",
      "filezilla_i64 __balloc_d2a memory_config\n",
      "filezilla_i64 __bfree_d2a memory_config\n",
      "filezilla_i64 __c_specific_handler memory_config\n",
      "filezilla_i64 __cmp_d2a memory_config\n",
      "filezilla_i64 __copybits_d2a memory_config\n",
      "fzputtygen_i64 ___chkstk_ms network_config\n",
      "httpd_i64 ___ctype_b_loc memory\n",
      "libfilezilla-0_i64 ___chkstk_ms process\n",
      "libfzshellext-0_64_i64 ___chkstk_ms process_config\n",
      "libfzshellext-0_i64 ____w64_mingwthr_add_key_dtor process_config\n",
      "libgcc_s_seh-1_i64 ___chkstk process_config\n",
      "libgmp-10_i64 ___chkstk_ms process_config\n",
      "libgnutls-30_i64 ___chkstk_ms process_config\n",
      "libhogweed-4_i64 ___chkstk_ms process_config\n",
      "libnettle-6_i64 ___chkstk_ms process_config\n",
      "libsqlite3-0_i64 ___chkstk_ms process_config\n",
      "libstdcpp_6_i64 ___chkstk_ms process_config\n",
      "nginx_i64 ___errno_location process_config\n",
      "openssl_i64 ___assert_fail process_config\n",
      "\n",
      "how many unique labels:  24\n",
      "how many unique labels:  24\n",
      "Last id of unique labels:  24\n",
      "num errors  0\n"
     ]
    }
   ],
   "source": [
    "%load_ext autoreload\n",
    "%autoreload 2\n",
    "from TFM_Dataset_part_VIII_Symbols_Dataset_labelling_set_label import *\n",
    "\n",
    "\n",
    "dataset = FunctionsDataset(root='./tmp/symbols_dataset_3')\n",
    "print(len(dataset))\n",
    "print(dataset.num_classes)\n",
    "print(dataset.num_features)\n",
    "\n",
    "csv_file ='./labels-mod3-verified-20000-recovered2.csv'\n",
    "labels = iterative_read_labels_from_csv(csv_file, version=2)\n",
    "\n",
    "set_labels_on_dataset(dataset, labels, file_on_disk='labels_id_v3')\n"
   ]
  },
  {
   "cell_type": "code",
   "execution_count": null,
   "metadata": {},
   "outputs": [],
   "source": []
  }
 ],
 "metadata": {
  "kernelspec": {
   "display_name": "gnn-pytorch",
   "language": "python",
   "name": "gnn-pytorch"
  },
  "language_info": {
   "codemirror_mode": {
    "name": "ipython",
    "version": 3
   },
   "file_extension": ".py",
   "mimetype": "text/x-python",
   "name": "python",
   "nbconvert_exporter": "python",
   "pygments_lexer": "ipython3",
   "version": "3.6.7"
  }
 },
 "nbformat": 4,
 "nbformat_minor": 2
}
