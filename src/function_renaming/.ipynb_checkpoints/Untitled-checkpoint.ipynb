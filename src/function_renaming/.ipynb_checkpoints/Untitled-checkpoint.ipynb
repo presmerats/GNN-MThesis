{
 "cells": [
  {
   "cell_type": "markdown",
   "metadata": {},
   "source": [
    "# Function renaming\n",
    "\n",
    "This Graph ML task aims at renaming functions in compiled programs, a task that will help the reverse engineering process performed in malware analysis. This work is partially derived from a paper (code2vec) that aims at renaming functions from source code. The current approach will consist on performing graph classification on compiled code function to assign them generic function names that could inform about the purpose of the function.\n",
    "This task is already performed with the help of function signatures, which consist of hash functions (or deep hash functions) of method within libc or any other well known programing library or DLL. However, detection of function signatures is easy to defeat with some degree of polymorphism. In the current approach, we aim at detection functions that that have the same purpose, even thought their code is organized differently"
   ]
  },
  {
   "cell_type": "markdown",
   "metadata": {},
   "source": [
    "Research tasks:\n",
    "1. extract code from compiled binaries into PyTorch Geometric Dataset\n",
    "    - previous IDA to neo4j experiment\n",
    "    - baseline PyTorch Geometric DataLoader Class\n",
    "2. choose adequate representation:\n",
    "    - read about word2vec, code2vec\n",
    "    - mem addresses/registers: one-hot encoding, node, into word2vec?\n",
    "    - instruction as a word2vec embedding (simple one)\n",
    "    - generalise a bit the function names (idea from code2vec)\n",
    "    - prepare 2 different representations\n",
    "3. gather data for dataset\n",
    "    - libC, Windows DLLs, \n",
    "    - compiled code with symbols\n",
    "    - reverse engineered code\n",
    "4. Dataset preparation\n",
    "    - transform compiled code into graphs \n",
    "    - use the 2 representation versions\n",
    "5. Prepare the model for training\n",
    "    - MPNN, GAM,  GGNN, DCNN, PATCHY-SAN\n",
    "6. Perform the trainings and testings\n",
    "    - decide about hyperparameter search with validation"
   ]
  }
 ],
 "metadata": {
  "kernelspec": {
   "display_name": "gnn-pytorch",
   "language": "python",
   "name": "gnn-pytorch"
  },
  "language_info": {
   "codemirror_mode": {
    "name": "ipython",
    "version": 3
   },
   "file_extension": ".py",
   "mimetype": "text/x-python",
   "name": "python",
   "nbconvert_exporter": "python",
   "pygments_lexer": "ipython3",
   "version": "3.6.7"
  }
 },
 "nbformat": 4,
 "nbformat_minor": 2
}
