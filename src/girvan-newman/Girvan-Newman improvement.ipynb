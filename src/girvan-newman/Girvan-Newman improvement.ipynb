{
 "cells": [
  {
   "cell_type": "markdown",
   "metadata": {},
   "source": [
    "# MPNN for edge betweenness\n",
    "\n",
    "The notebook will train a model to compute edge betweenness of edges of a graph, in an inductive setting allowing for generalization to unseen graphs.\n",
    "This model will be used to predict edge betweenness inside the Girvan-Newman algorithm by networkx library.\n",
    "Steps:\n",
    "1. get a dataset to detect community in\n",
    "2. train an edge classifier (not node) for edge betweenness\n",
    "3. save this model to disk\n",
    "4. load this model and predict edge betweenness on unseen graphs\n",
    "5. use networkx Girvan-Newman algorithm with a replacement for best edge selection routine, a replacmenet that loads the model and predict edge betweenness"
   ]
  },
  {
   "cell_type": "markdown",
   "metadata": {},
   "source": [
    "# 1 Dataset\n",
    "\n",
    "## 1.1 datasets available:\n",
    "multiple graphs in wihch we can compute edge betweenness\n",
    "Choice: MUTAG, ENZYMES, PROTEINS...\n",
    "\n",
    "## 1.2 target:\n",
    "we need the edge betweenness of each edge,  which we can compute with networkx for example\n",
    "\n",
    "## 1.3 dataset creation\n",
    "1. get the graphs from MUTAG\n",
    "2. transform to networkx\n",
    "3. compute the edge betweenness\n",
    "4. save to networkx graph format\n",
    "5. transform to PyTorch_Geometric dataset\n",
    "6. pass this dataset to model training task"
   ]
  },
  {
   "cell_type": "markdown",
   "metadata": {},
   "source": [
    "# 2 Model \n",
    "\n",
    "## 2.1 Choice of the graph neural network\n",
    "Choose or create a GNN that \n",
    "1. considers and __predicts__ edge features!\n",
    "2. works in an inductive setting (predicts on unseen graphs)\n",
    "\n",
    "Ideas:\n",
    "- Link prediction algorithm\n",
    "- Link prediction algorithm modified?\n",
    "- MPNN\n",
    "- GraphSAGE modified?\n",
    "- Graph Network (DeepMind)\n",
    "\n",
    "models allowing edge features:\n",
    "- GNN\n",
    "- MPNN\n",
    "- DCNN\n",
    "- PATCHY-SAN\n",
    "- DGCNN [Deep Graph Convolutional Neural Network](https://www.groundai.com/project/link-prediction-based-on-graph-neural-networks/)\n",
    "- EGNNA\n",
    "\n",
    "model modif -> predict values edges\n",
    "    betweenness associated to shortedst path -> features nodes not needed for example\n",
    "maybe node features are also useful...\n",
    "additional node in each edge\n",
    "transform nodes to edges\n",
    "min betweens in both vertex=edge betweenness\n",
    "   \n",
    "\n",
    "## 2.2 Implementation\n",
    "Available implementation or build. PyTorchGeometric seems a good tool to implement models..\n",
    "\n",
    "\n",
    "## 2.3 Hyperparameter search\n",
    "Which hyperparams to search for optimal performance?"
   ]
  },
  {
   "cell_type": "markdown",
   "metadata": {},
   "source": [
    "# 3 Modify Girvan-Newman\n",
    "\n",
    "Modify the Girvan-Newman algorithm by calling a new function that:\n",
    "    1. loads the GNN model from disk\n",
    "    2. predicts the edge betweenness of all edges of a graph\n",
    "    3. ranks the edges according to that edge betweenness\n",
    "The rest is already taken car by networkx.\n",
    "\n",
    "Time the improvement: time original and new Girvan-Newman execution and see difference in times"
   ]
  },
  {
   "cell_type": "code",
   "execution_count": 1,
   "metadata": {
    "scrolled": false
   },
   "outputs": [
    {
     "ename": "NameError",
     "evalue": "name 'nx' is not defined",
     "output_type": "error",
     "traceback": [
      "\u001b[0;31m---------------------------------------------------------------------------\u001b[0m",
      "\u001b[0;31mNameError\u001b[0m                                 Traceback (most recent call last)",
      "\u001b[0;32m<ipython-input-1-55f286ca2230>\u001b[0m in \u001b[0;36m<module>\u001b[0;34m\u001b[0m\n\u001b[1;32m     23\u001b[0m     \u001b[0;32mreturn\u001b[0m \u001b[0mmax\u001b[0m\u001b[0;34m(\u001b[0m\u001b[0mcentrality\u001b[0m\u001b[0;34m.\u001b[0m\u001b[0mvalues\u001b[0m\u001b[0;34m(\u001b[0m\u001b[0;34m)\u001b[0m\u001b[0;34m)\u001b[0m\u001b[0;34m\u001b[0m\u001b[0;34m\u001b[0m\u001b[0m\n\u001b[1;32m     24\u001b[0m \u001b[0;34m\u001b[0m\u001b[0m\n\u001b[0;32m---> 25\u001b[0;31m \u001b[0mG\u001b[0m \u001b[0;34m=\u001b[0m \u001b[0mnx\u001b[0m\u001b[0;34m.\u001b[0m\u001b[0mread_gml\u001b[0m\u001b[0;34m(\u001b[0m\u001b[0;34m'football.gml'\u001b[0m\u001b[0;34m)\u001b[0m\u001b[0;34m\u001b[0m\u001b[0;34m\u001b[0m\u001b[0m\n\u001b[0m\u001b[1;32m     26\u001b[0m \u001b[0mnx\u001b[0m\u001b[0;34m.\u001b[0m\u001b[0mset_edge_attributes\u001b[0m\u001b[0;34m(\u001b[0m\u001b[0mG\u001b[0m\u001b[0;34m,\u001b[0m \u001b[0;34m{\u001b[0m\u001b[0;34m(\u001b[0m\u001b[0mu\u001b[0m\u001b[0;34m,\u001b[0m\u001b[0mv\u001b[0m\u001b[0;34m)\u001b[0m\u001b[0;34m:\u001b[0m \u001b[0;36m1\u001b[0m \u001b[0;32mfor\u001b[0m \u001b[0mu\u001b[0m\u001b[0;34m,\u001b[0m \u001b[0mv\u001b[0m \u001b[0;32min\u001b[0m \u001b[0mG\u001b[0m\u001b[0;34m.\u001b[0m\u001b[0medges\u001b[0m\u001b[0;34m(\u001b[0m\u001b[0;34m)\u001b[0m\u001b[0;34m}\u001b[0m\u001b[0;34m,\u001b[0m\u001b[0;34m'weight'\u001b[0m\u001b[0;34m)\u001b[0m\u001b[0;34m\u001b[0m\u001b[0;34m\u001b[0m\u001b[0m\n\u001b[1;32m     27\u001b[0m \u001b[0mcomp\u001b[0m \u001b[0;34m=\u001b[0m \u001b[0mgirvan_newman\u001b[0m\u001b[0;34m(\u001b[0m\u001b[0mG\u001b[0m\u001b[0;34m,\u001b[0m \u001b[0mmost_valuable_edge\u001b[0m\u001b[0;34m=\u001b[0m\u001b[0mmost_central_edge\u001b[0m\u001b[0;34m)\u001b[0m\u001b[0;34m\u001b[0m\u001b[0;34m\u001b[0m\u001b[0m\n",
      "\u001b[0;31mNameError\u001b[0m: name 'nx' is not defined"
     ]
    }
   ],
   "source": [
    "# modifying edge_betweenness\n",
    "from networkx import edge_betweenness_centrality as betweenness\n",
    "\n",
    "\n",
    "def predict_all_betweennesses(G):\n",
    "    centrality = {}\n",
    "    \n",
    "    # transform networkx graph to PyTorch Geometric Dataset\n",
    "    \n",
    "    \n",
    "    # load model from disk\n",
    "    \n",
    "    \n",
    "    # predict all betweennesses of edges of G\n",
    "    \n",
    "    # save into centrality dict \n",
    "    # { (n1,n2): 0.0938, (n3,n4): 0.1230, ..}\n",
    "    return centrality\n",
    "    \n",
    "\n",
    "def most_central_edge(G):\n",
    "    centrality = betweenness(G)\n",
    "    return max(centrality.values())\n",
    "\n",
    "G = nx.read_gml('football.gml')\n",
    "nx.set_edge_attributes(G, {(u,v): 1 for u, v in G.edges()},'weight')\n",
    "comp = girvan_newman(G, most_valuable_edge=most_central_edge)\n",
    "tuple(sorted(c) for c in next(comp))"
   ]
  }
 ],
 "metadata": {
  "kernelspec": {
   "display_name": "gnn-pytorch",
   "language": "python",
   "name": "gnn-pytorch"
  },
  "language_info": {
   "codemirror_mode": {
    "name": "ipython",
    "version": 3
   },
   "file_extension": ".py",
   "mimetype": "text/x-python",
   "name": "python",
   "nbconvert_exporter": "python",
   "pygments_lexer": "ipython3",
   "version": "3.6.7"
  }
 },
 "nbformat": 4,
 "nbformat_minor": 2
}
